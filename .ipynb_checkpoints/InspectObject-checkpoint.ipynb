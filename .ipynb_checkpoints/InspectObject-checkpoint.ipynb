{
 "cells": [
  {
   "cell_type": "code",
   "execution_count": 94,
   "id": "48a8d267-3a47-464b-9b59-4944c5c0696e",
   "metadata": {},
   "outputs": [
    {
     "data": {
      "text/plain": [
       "'aaaeeekkkknnpr'"
      ]
     },
     "execution_count": 94,
     "metadata": {},
     "output_type": "execute_result"
    }
   ],
   "source": [
    "\n",
    "def freq(text):\n",
    "    return ''.join([k*v  for k,v  in {k: text.count(k) for k in sorted(text)}.items()])\n",
    "\n",
    "freq(\"kakepannekaker\")"
   ]
  },
  {
   "cell_type": "markdown",
   "id": "1b7ed6a4-6176-4de2-a844-cc2766b37bb7",
   "metadata": {},
   "source": [
    "# Notes for Adam\n",
    "\n",
    "In the slider example in https://dash.plotly.com/dash-core-components/slider, Dash is missing in the imports\n",
    "\n",
    "Weird behaviour for `animate = True` in `dcc.Graph` components, at least for versions < 2.6.0\n",
    "\n",
    "=> demonstrate with `https://github.com/apdcode/plotly_curriculum/blob/main/DemoCircleRef_AnimationDemo_Spot1.py`, with `conda activate spot1`\n"
   ]
  },
  {
   "cell_type": "markdown",
   "id": "d62f4c17-6fbf-47db-a3b0-e84e244eedf5",
   "metadata": {},
   "source": [
    "# Demo for Adam"
   ]
  },
  {
   "cell_type": "markdown",
   "id": "9061cc45-e70c-4c23-9953-66bf03b22171",
   "metadata": {},
   "source": [
    "# Cell below:\n",
    "# 1. Figure import\n",
    "# 2. Figure data import\n",
    "# 3. Data source (dataframe) import"
   ]
  },
  {
   "cell_type": "code",
   "execution_count": 1,
   "id": "897baa6e-fa89-4a70-9d11-203002e1f3fe",
   "metadata": {},
   "outputs": [
    {
     "ename": "KeyError",
     "evalue": "b'ctx_inputs_list'",
     "output_type": "error",
     "traceback": [
      "\u001b[1;31m---------------------------------------------------------------------------\u001b[0m",
      "\u001b[1;31mKeyError\u001b[0m                                  Traceback (most recent call last)",
      "\u001b[1;32m~\\miniconda3\\envs\\spot1\\lib\\shelve.py\u001b[0m in \u001b[0;36m__getitem__\u001b[1;34m(self, key)\u001b[0m\n\u001b[0;32m    110\u001b[0m         \u001b[1;32mtry\u001b[0m\u001b[1;33m:\u001b[0m\u001b[1;33m\u001b[0m\u001b[1;33m\u001b[0m\u001b[0m\n\u001b[1;32m--> 111\u001b[1;33m             \u001b[0mvalue\u001b[0m \u001b[1;33m=\u001b[0m \u001b[0mself\u001b[0m\u001b[1;33m.\u001b[0m\u001b[0mcache\u001b[0m\u001b[1;33m[\u001b[0m\u001b[0mkey\u001b[0m\u001b[1;33m]\u001b[0m\u001b[1;33m\u001b[0m\u001b[1;33m\u001b[0m\u001b[0m\n\u001b[0m\u001b[0;32m    112\u001b[0m         \u001b[1;32mexcept\u001b[0m \u001b[0mKeyError\u001b[0m\u001b[1;33m:\u001b[0m\u001b[1;33m\u001b[0m\u001b[1;33m\u001b[0m\u001b[0m\n",
      "\u001b[1;31mKeyError\u001b[0m: 'ctx_inputs_list'",
      "\nDuring handling of the above exception, another exception occurred:\n",
      "\u001b[1;31mKeyError\u001b[0m                                  Traceback (most recent call last)",
      "\u001b[1;32m~\\AppData\\Local\\Temp\\ipykernel_25000\\546774692.py\u001b[0m in \u001b[0;36m<module>\u001b[1;34m\u001b[0m\n\u001b[0;32m     20\u001b[0m     \u001b[1;31m# df = pd.read_pickle(shelf_in['dfout'])\u001b[0m\u001b[1;33m\u001b[0m\u001b[1;33m\u001b[0m\u001b[0m\n\u001b[0;32m     21\u001b[0m     \u001b[0mdff\u001b[0m \u001b[1;33m=\u001b[0m \u001b[0mshelf_in\u001b[0m\u001b[1;33m[\u001b[0m\u001b[1;34m'dfout'\u001b[0m\u001b[1;33m]\u001b[0m\u001b[1;33m\u001b[0m\u001b[1;33m\u001b[0m\u001b[0m\n\u001b[1;32m---> 22\u001b[1;33m     \u001b[0mctx_inputs_list\u001b[0m \u001b[1;33m=\u001b[0m \u001b[0mshelf_in\u001b[0m\u001b[1;33m[\u001b[0m\u001b[1;34m'ctx_inputs_list'\u001b[0m\u001b[1;33m]\u001b[0m\u001b[1;33m\u001b[0m\u001b[1;33m\u001b[0m\u001b[0m\n\u001b[0m\u001b[0;32m     23\u001b[0m     \u001b[1;31m# ctx_outputs_list = shelf_in['ctx_outputs_list']\u001b[0m\u001b[1;33m\u001b[0m\u001b[1;33m\u001b[0m\u001b[0m\n\u001b[0;32m     24\u001b[0m     \u001b[1;31m# ctx_triggered_id = shelf_in['ctx_triggered_id']\u001b[0m\u001b[1;33m\u001b[0m\u001b[1;33m\u001b[0m\u001b[0m\n",
      "\u001b[1;32m~\\miniconda3\\envs\\spot1\\lib\\shelve.py\u001b[0m in \u001b[0;36m__getitem__\u001b[1;34m(self, key)\u001b[0m\n\u001b[0;32m    111\u001b[0m             \u001b[0mvalue\u001b[0m \u001b[1;33m=\u001b[0m \u001b[0mself\u001b[0m\u001b[1;33m.\u001b[0m\u001b[0mcache\u001b[0m\u001b[1;33m[\u001b[0m\u001b[0mkey\u001b[0m\u001b[1;33m]\u001b[0m\u001b[1;33m\u001b[0m\u001b[1;33m\u001b[0m\u001b[0m\n\u001b[0;32m    112\u001b[0m         \u001b[1;32mexcept\u001b[0m \u001b[0mKeyError\u001b[0m\u001b[1;33m:\u001b[0m\u001b[1;33m\u001b[0m\u001b[1;33m\u001b[0m\u001b[0m\n\u001b[1;32m--> 113\u001b[1;33m             \u001b[0mf\u001b[0m \u001b[1;33m=\u001b[0m \u001b[0mBytesIO\u001b[0m\u001b[1;33m(\u001b[0m\u001b[0mself\u001b[0m\u001b[1;33m.\u001b[0m\u001b[0mdict\u001b[0m\u001b[1;33m[\u001b[0m\u001b[0mkey\u001b[0m\u001b[1;33m.\u001b[0m\u001b[0mencode\u001b[0m\u001b[1;33m(\u001b[0m\u001b[0mself\u001b[0m\u001b[1;33m.\u001b[0m\u001b[0mkeyencoding\u001b[0m\u001b[1;33m)\u001b[0m\u001b[1;33m]\u001b[0m\u001b[1;33m)\u001b[0m\u001b[1;33m\u001b[0m\u001b[1;33m\u001b[0m\u001b[0m\n\u001b[0m\u001b[0;32m    114\u001b[0m             \u001b[0mvalue\u001b[0m \u001b[1;33m=\u001b[0m \u001b[0mUnpickler\u001b[0m\u001b[1;33m(\u001b[0m\u001b[0mf\u001b[0m\u001b[1;33m)\u001b[0m\u001b[1;33m.\u001b[0m\u001b[0mload\u001b[0m\u001b[1;33m(\u001b[0m\u001b[1;33m)\u001b[0m\u001b[1;33m\u001b[0m\u001b[1;33m\u001b[0m\u001b[0m\n\u001b[0;32m    115\u001b[0m             \u001b[1;32mif\u001b[0m \u001b[0mself\u001b[0m\u001b[1;33m.\u001b[0m\u001b[0mwriteback\u001b[0m\u001b[1;33m:\u001b[0m\u001b[1;33m\u001b[0m\u001b[1;33m\u001b[0m\u001b[0m\n",
      "\u001b[1;32m~\\miniconda3\\envs\\spot1\\lib\\dbm\\dumb.py\u001b[0m in \u001b[0;36m__getitem__\u001b[1;34m(self, key)\u001b[0m\n\u001b[0;32m    145\u001b[0m             \u001b[0mkey\u001b[0m \u001b[1;33m=\u001b[0m \u001b[0mkey\u001b[0m\u001b[1;33m.\u001b[0m\u001b[0mencode\u001b[0m\u001b[1;33m(\u001b[0m\u001b[1;34m'utf-8'\u001b[0m\u001b[1;33m)\u001b[0m\u001b[1;33m\u001b[0m\u001b[1;33m\u001b[0m\u001b[0m\n\u001b[0;32m    146\u001b[0m         \u001b[0mself\u001b[0m\u001b[1;33m.\u001b[0m\u001b[0m_verify_open\u001b[0m\u001b[1;33m(\u001b[0m\u001b[1;33m)\u001b[0m\u001b[1;33m\u001b[0m\u001b[1;33m\u001b[0m\u001b[0m\n\u001b[1;32m--> 147\u001b[1;33m         \u001b[0mpos\u001b[0m\u001b[1;33m,\u001b[0m \u001b[0msiz\u001b[0m \u001b[1;33m=\u001b[0m \u001b[0mself\u001b[0m\u001b[1;33m.\u001b[0m\u001b[0m_index\u001b[0m\u001b[1;33m[\u001b[0m\u001b[0mkey\u001b[0m\u001b[1;33m]\u001b[0m     \u001b[1;31m# may raise KeyError\u001b[0m\u001b[1;33m\u001b[0m\u001b[1;33m\u001b[0m\u001b[0m\n\u001b[0m\u001b[0;32m    148\u001b[0m         \u001b[1;32mwith\u001b[0m \u001b[0m_io\u001b[0m\u001b[1;33m.\u001b[0m\u001b[0mopen\u001b[0m\u001b[1;33m(\u001b[0m\u001b[0mself\u001b[0m\u001b[1;33m.\u001b[0m\u001b[0m_datfile\u001b[0m\u001b[1;33m,\u001b[0m \u001b[1;34m'rb'\u001b[0m\u001b[1;33m)\u001b[0m \u001b[1;32mas\u001b[0m \u001b[0mf\u001b[0m\u001b[1;33m:\u001b[0m\u001b[1;33m\u001b[0m\u001b[1;33m\u001b[0m\u001b[0m\n\u001b[0;32m    149\u001b[0m             \u001b[0mf\u001b[0m\u001b[1;33m.\u001b[0m\u001b[0mseek\u001b[0m\u001b[1;33m(\u001b[0m\u001b[0mpos\u001b[0m\u001b[1;33m)\u001b[0m\u001b[1;33m\u001b[0m\u001b[1;33m\u001b[0m\u001b[0m\n",
      "\u001b[1;31mKeyError\u001b[0m: b'ctx_inputs_list'"
     ]
    }
   ],
   "source": [
    "import plotly.graph_objects as go\n",
    "import plotly.express as px\n",
    "import pandas as pd\n",
    "import dbm.dumb\n",
    "import shelve\n",
    "from dash import Dash, html, dcc\n",
    "import statsmodels.api as sm\n",
    "import numpy as np\n",
    "import dash_daq as daq\n",
    "import dash_bootstrap_components as dbc\n",
    "\n",
    "with shelve.open('C:\\\\repos\\shelve\\dash2\\\\figure_structure', 'r') as shelf_in:\n",
    "    # for key in shelf_in.keys():\n",
    "        # print(repr(key), repr(shelf_in[key]))\n",
    "        # print(repr(key))\n",
    "    # fig = go.Figure(shelf_in['figout'])\n",
    "    fig = shelf_in['figout']\n",
    "    figdata = shelf_in['figdata']\n",
    "    dfi = shelf_in['dfi']\n",
    "    # df = pd.read_pickle(shelf_in['dfout'])\n",
    "    dff = shelf_in['dfout']\n",
    "    ctx_inputs_list = shelf_in['ctx_inputs_list']\n",
    "    # ctx_outputs_list = shelf_in['ctx_outputs_list']\n",
    "    # ctx_triggered_id = shelf_in['ctx_triggered_id']\n",
    "    # comp_H4 = shelf_in['component']\n",
    "\n",
    "f = fig.full_figure_for_development(warn=False)\n",
    "fig.show()\n"
   ]
  },
  {
   "cell_type": "code",
   "execution_count": 19,
   "id": "a0cbdaae-3349-4a16-bc4f-28094382240c",
   "metadata": {},
   "outputs": [],
   "source": [
    "f = fig.full_figure_for_development(warn=False)"
   ]
  },
  {
   "cell_type": "markdown",
   "id": "255712c3-7ac1-4e7d-9872-0715cf5ae187",
   "metadata": {},
   "source": [
    "# Cell below:\n",
    "# 1. Callback context import\n",
    "\n",
    "# dir(ctx) returns:\n",
    "['args_grouping', 'inputs', 'inputs_list', 'outputs_grouping', 'outputs_list', 'record_timing', 'response', 'states', 'states_list', 'triggered', 'triggered_id', 'triggered_prop_ids', 'using_args_grouping', 'using_outputs_grouping']\n"
   ]
  },
  {
   "cell_type": "code",
   "execution_count": null,
   "id": "338d5050-08cb-4b73-beae-f4245bf4f779",
   "metadata": {},
   "outputs": [],
   "source": [
    "with shelve.open('C:\\\\repos\\shelve\\dash2\\\\callback_context', 'r') as shelf_in:\n",
    "    # for key in shelf_in.keys():\n",
    "        # print(repr(key), repr(shelf_in[key]))\n",
    "        # print(repr(key))\n",
    "    # fig = go.Figure(shelf_in['figout'])\n",
    "    # ctx_inputs = shelf_in['ctx_inputs']\n",
    "    ctx_inputs_list = shelf_in['ctx_inputs_list']\n",
    "    ctx_outputs_list = shelf_in['ctx_outputs_list']\n",
    "    ctx_triggered_id = shelf_in['ctx_triggered_id']\n",
    "    # figdata = shelf_in['figdata']\n",
    "    # df = pd.read_pickle(shelf_in['dfout'])\n",
    "    # dff = shelf_in['dfout']\n",
    "\n",
    "# print(\"ctx_inputs_list:\")\n",
    "# print(\"================\")\n",
    "# print(ctx_inputs_list)\n",
    "# print(\"ctc_outputs_list:\")\n",
    "print(\"ctx_inputs_list\")\n",
    "print(\"=================\")\n",
    "print(ctx_inputs_list)\n",
    "# print(\"ctx_triggered_id:\")     \n",
    "# print(\"=======================\")\n",
    "# print(ctx_inputs_list)"
   ]
  },
  {
   "cell_type": "code",
   "execution_count": 13,
   "id": "cec0519c-7b5c-4c10-9c91-2cf7ea4c2210",
   "metadata": {},
   "outputs": [
    {
     "data": {
      "text/plain": [
       "'#3283FE'"
      ]
     },
     "execution_count": 13,
     "metadata": {},
     "output_type": "execute_result"
    }
   ],
   "source": [
    "from itertools import cycle\n",
    "col_cycle = cycle(px.colors.qualitative.Alphabet)\n",
    "df = dfi.copy()\n",
    "\n",
    "coldict = {c: next(col_cycle) for c in df['Country Name'].unique()}\n",
    "coldict['Caribbean small states']"
   ]
  },
  {
   "cell_type": "code",
   "execution_count": null,
   "id": "386192f8-5e19-4d8f-ace6-efcfbaa3b59e",
   "metadata": {},
   "outputs": [
    {
     "data": {
      "text/plain": [
       "<list_iterator at 0x1f3c3703400>"
      ]
     },
     "execution_count": 51,
     "metadata": {},
     "output_type": "execute_result"
    }
   ],
   "source": [
    "col_cycle.__reduce__()[1][0]"
   ]
  },
  {
   "cell_type": "code",
   "execution_count": 81,
   "id": "a0ac0bc9-908a-4b3d-a0bf-8c8103eba84c",
   "metadata": {},
   "outputs": [
    {
     "name": "stdout",
     "output_type": "stream",
     "text": [
      "is = 0\n",
      "triggered first =  0\n",
      "triggered second =  1\n",
      "is = 2\n",
      "is = 2\n",
      "is = 2\n",
      "--\n",
      "is = 2\n",
      "triggered first =  2\n",
      "triggered second =  3\n",
      "is = 4\n",
      "is = 4\n",
      "is = 4\n",
      "--\n",
      "is = 4\n",
      "triggered first =  4\n",
      "triggered second =  5\n",
      "is = 6\n",
      "is = 6\n",
      "is = 6\n",
      "--\n",
      "is = 6\n",
      "triggered first =  6\n",
      "triggered second =  7\n",
      "is = 8\n",
      "is = 8\n",
      "is = 8\n",
      "--\n"
     ]
    }
   ],
   "source": [
    "from itertools import count\n",
    "counter = count(start = 0, step = 1)\n",
    "\n",
    "for i in range(4):\n",
    "    # print(next(counter))\n",
    "    \n",
    "    # print(next(counter))\n",
    "    print('is =', counter.__reduce__()[1][0])#, next(counter))\n",
    "    print('triggered first = ', next(counter),)\n",
    "    print('triggered second = ', next(counter),)\n",
    "    print('is =', counter.__reduce__()[1][0])#, next(counter))\n",
    "    print('is =', counter.__reduce__()[1][0])#, next(counter))\n",
    "    print('is =', counter.__reduce__()[1][0])#, next(counter))\n",
    "    # print(next(counter))\n",
    "    # print(next(counter))\n",
    "    \n",
    "    print(\"--\")"
   ]
  },
  {
   "cell_type": "code",
   "execution_count": null,
   "id": "8ef90917-1049-43fa-9bdd-367b53324348",
   "metadata": {},
   "outputs": [],
   "source": [
    "import dash_bootstrap_components as dbc"
   ]
  },
  {
   "cell_type": "code",
   "execution_count": null,
   "id": "e2d002f4-15b1-42af-a72e-4a391d947854",
   "metadata": {},
   "outputs": [],
   "source": [
    "dcc.Checklist(id=\"x-variable\",\n",
    "                            #options=[{\"label\": i, \"value\": col} for i, col in enumerate(modeller_alle)],\n",
    "\n",
    "                options=[{\"label\": col + ' ', \"value\": col} for col in df.columns],\n",
    "                #options=[{\"label\": col, \"value\": col} for col in df.columns],\n",
    "                value=[df.columns[1]],\n",
    "                labelStyle={'display': 'inline-block', 'width': '12em', 'line-height':'0.5em'},\n",
    "                style={'width':'100%'}\n",
    "                            #clearable=False,\n",
    "                            #multi = True\n",
    "                        )"
   ]
  },
  {
   "cell_type": "markdown",
   "id": "8e873f68-973d-4ab2-8515-ffb11750cb28",
   "metadata": {},
   "source": [
    "# Cell below:\n",
    "# 1. Callback context import\n",
    "\n",
    "# dir(ctx) returns:\n",
    "['args_grouping', 'inputs', 'inputs_list', 'outputs_grouping', 'outputs_list', 'record_timing', 'response', 'states', 'states_list', 'triggered', 'triggered_id', 'triggered_prop_ids', 'using_args_grouping', 'using_outputs_grouping']\n"
   ]
  },
  {
   "cell_type": "code",
   "execution_count": 2,
   "id": "a0200435-e728-4259-955b-b1d2e6c44748",
   "metadata": {},
   "outputs": [
    {
     "name": "stdout",
     "output_type": "stream",
     "text": [
      "ctx_inputs_list\n",
      "=================\n",
      "[{'id': 'crossfilter-indicator-scatter', 'property': 'clickData'}, {'id': 'dd1_fokus_land', 'property': 'value', 'value': None}]\n"
     ]
    }
   ],
   "source": [
    "import plotly.graph_objects as go\n",
    "import plotly.express as px\n",
    "import pandas as pd\n",
    "import dbm.dumb\n",
    "import shelve\n",
    "from dash import Dash, html, dcc\n",
    "\n",
    "with shelve.open('C:\\\\repos\\shelve\\dash2\\\\callback_context', 'r') as shelf_in:\n",
    "    # for key in shelf_in.keys():\n",
    "        # print(repr(key), repr(shelf_in[key]))\n",
    "        # print(repr(key))\n",
    "    # fig = go.Figure(shelf_in['figout'])\n",
    "    # ctx_inputs = shelf_in['ctx_inputs']\n",
    "    ctx_inputs_list = shelf_in['ctx_inputs_list']\n",
    "    ctx_outputs_list = shelf_in['ctx_outputs_list']\n",
    "    ctx_triggered_id = shelf_in['ctx_triggered_id']\n",
    "    # figdata = shelf_in['figdata']\n",
    "    # df = pd.read_pickle(shelf_in['dfout'])\n",
    "    # dff = shelf_in['dfout']\n",
    "\n",
    "# print(\"ctx_inputs_list:\")\n",
    "# print(\"================\")\n",
    "# print(ctx_inputs_list)\n",
    "# print(\"ctc_outputs_list:\")\n",
    "print(\"ctx_inputs_list\")\n",
    "print(\"=================\")\n",
    "print(ctx_inputs_list)\n",
    "# print(\"ctx_triggered_id:\")     \n",
    "# print(\"=======================\")\n",
    "# print(ctx_inputs_list)"
   ]
  },
  {
   "cell_type": "code",
   "execution_count": 52,
   "id": "f517709f-9faa-464b-94d6-2770601b5944",
   "metadata": {},
   "outputs": [
    {
     "data": {
      "text/plain": [
       "[{'id': 'crossfilter-indicator-scatter', 'property': 'clickData', 'value': {}},\n",
       " {'id': 'dd1_fokus_land',\n",
       "  'property': 'value',\n",
       "  'value': ['Late-demographic dividend']}]"
      ]
     },
     "execution_count": 52,
     "metadata": {},
     "output_type": "execute_result"
    }
   ],
   "source": [
    "ctx_inputs_list"
   ]
  },
  {
   "cell_type": "code",
   "execution_count": 41,
   "id": "dbeec625-e80f-4f27-8a86-4bde3eba522f",
   "metadata": {},
   "outputs": [
    {
     "data": {
      "text/plain": [
       "{'id': 'dd1_fokus_land',\n",
       " 'property': 'value',\n",
       " 'value': ['Caribbean small states',\n",
       "  'Nepal',\n",
       "  'Middle East & North Africa',\n",
       "  'Israel']}"
      ]
     },
     "execution_count": 41,
     "metadata": {},
     "output_type": "execute_result"
    }
   ],
   "source": [
    "ctx_inputs_list[1]"
   ]
  }
 ],
 "metadata": {
  "kernelspec": {
   "display_name": "Python 3 (ipykernel)",
   "language": "python",
   "name": "python3"
  },
  "language_info": {
   "codemirror_mode": {
    "name": "ipython",
    "version": 3
   },
   "file_extension": ".py",
   "mimetype": "text/x-python",
   "name": "python",
   "nbconvert_exporter": "python",
   "pygments_lexer": "ipython3",
   "version": "3.10.4"
  }
 },
 "nbformat": 4,
 "nbformat_minor": 5
}
