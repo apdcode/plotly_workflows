{
 "cells": [
  {
   "cell_type": "markdown",
   "id": "1b7ed6a4-6176-4de2-a844-cc2766b37bb7",
   "metadata": {},
   "source": [
    "# Notes for Adam\n",
    "\n",
    "In the slider example in https://dash.plotly.com/dash-core-components/slider, Dash is missing in the imports\n",
    "\n",
    "Weird behaviour for `animate = True` in `dcc.Graph` components, at least for versions < 2.6.0\n",
    "\n",
    "=> demonstrate with `https://github.com/apdcode/plotly_curriculum/blob/main/DemoCircleRef_AnimationDemo_Spot1.py`, with `conda activate spot1`\n"
   ]
  },
  {
   "cell_type": "markdown",
   "id": "d62f4c17-6fbf-47db-a3b0-e84e244eedf5",
   "metadata": {},
   "source": [
    "# Demo for Adam"
   ]
  },
  {
   "cell_type": "markdown",
   "id": "9061cc45-e70c-4c23-9953-66bf03b22171",
   "metadata": {},
   "source": [
    "# Cell below:\n",
    "# 1. Figure import\n",
    "# 2. Figure data import\n",
    "# 3. Data source (dataframe) import"
   ]
  },
  {
   "cell_type": "markdown",
   "id": "ccbcc9e8-0a1c-4f9e-9fb3-30c950723d52",
   "metadata": {},
   "source": [
    "- fantastic debugging discusion the last time\n",
    "- watch expressions was new to me\n",
    "- debugging and inspecting dataframes, figures and callback contect still feel... inefficient\n",
    "- I feel it's better to use pickle() and inspect objects in JupyterLab\n",
    "- But that too feels inefficient\n",
    "- Typical workflow:\n",
    "    - run without debugging\n",
    "    - get an error message in the app\n",
    "    - correct the error message and run again with ctrl+s\n",
    "    - OR shut down app\n",
    "    - run again with Start Debugging\n",
    "    - Anyway: A LOT of restarting going on\n",
    "- are there better ways that are unknow to me/us?\n",
    "    - perhaps with PyCharm?\n",
    "    - Or in VSCode Call Stack?\n",
    "    - => I'd like to dive into this:\n",
    "    - AND weird or even productive ways to set up attributes in app.run_server() like:\n",
    "        - debug = True\n",
    "        - dev_tools_props_check \n",
    "        - dev_tools_ui\n",
    "- Community efforts were mentioned last time around\n",
    "    - a possibility for a medium article?\n",
    "    - if not, then SO or CF\n"
   ]
  },
  {
   "cell_type": "code",
   "execution_count": 62,
   "id": "897baa6e-fa89-4a70-9d11-203002e1f3fe",
   "metadata": {},
   "outputs": [
    {
     "data": {
      "application/vnd.plotly.v1+json": {
       "config": {
        "plotlyServerURL": "https://plot.ly"
       },
       "data": [
        {
         "customdata": [
          "Arab World",
          "Caribbean small states",
          "Central Europe and the Baltics",
          "Early-demographic dividend",
          "East Asia & Pacific",
          "East Asia & Pacific (excluding high income)",
          "East Asia & Pacific (IDA & IBRD countries)",
          "Euro area",
          "Europe & Central Asia",
          "Europe & Central Asia (excluding high income)",
          "Europe & Central Asia (IDA & IBRD countries)",
          "European Union",
          "Fragile and conflict affected situations",
          "Heavily indebted poor countries (HIPC)",
          "High income",
          "IBRD only",
          "IDA & IBRD total",
          "IDA blend",
          "IDA only",
          "IDA total",
          "Late-demographic dividend",
          "Latin America & Caribbean",
          "Latin America & Caribbean (excluding high income)",
          "Latin America & the Caribbean (IDA & IBRD countries)",
          "Least developed countries: UN classification",
          "Low & middle income",
          "Low income",
          "Lower middle income",
          "Middle East & North Africa",
          "Middle East & North Africa (excluding high income)",
          "Middle East & North Africa (IDA & IBRD countries)",
          "Middle income",
          "North America",
          "Not classified",
          "OECD members",
          "Other small states",
          "Pacific island small states",
          "Post-demographic dividend",
          "Pre-demographic dividend",
          "Small states",
          "South Asia",
          "South Asia (IDA & IBRD)",
          "Sub-Saharan Africa",
          "Sub-Saharan Africa (excluding high income)",
          "Sub-Saharan Africa (IDA & IBRD countries)",
          "Upper middle income",
          "World",
          "Afghanistan",
          "Albania",
          "Algeria",
          "American Samoa",
          "Andorra",
          "Angola",
          "Antigua and Barbuda",
          "Argentina",
          "Armenia",
          "Aruba",
          "Australia",
          "Austria",
          "Azerbaijan",
          "Bahamas, The",
          "Bahrain",
          "Bangladesh",
          "Barbados",
          "Belarus",
          "Belgium",
          "Belize",
          "Benin",
          "Bermuda",
          "Bhutan",
          "Bolivia",
          "Bosnia and Herzegovina",
          "Botswana",
          "Brazil",
          "British Virgin Islands",
          "Brunei Darussalam",
          "Bulgaria",
          "Burkina Faso",
          "Burundi",
          "Cabo Verde",
          "Cambodia",
          "Cameroon",
          "Canada",
          "Cayman Islands",
          "Central African Republic",
          "Chad",
          "Channel Islands",
          "Chile",
          "China",
          "Colombia",
          "Comoros",
          "Congo, Dem. Rep.",
          "Congo, Rep.",
          "Costa Rica",
          "Cote d'Ivoire",
          "Croatia",
          "Cuba",
          "Curacao",
          "Cyprus",
          "Czech Republic",
          "Denmark",
          "Djibouti",
          "Dominica",
          "Dominican Republic",
          "Ecuador",
          "Egypt, Arab Rep.",
          "El Salvador",
          "Equatorial Guinea",
          "Eritrea",
          "Estonia",
          "Ethiopia",
          "Faroe Islands",
          "Fiji",
          "Finland",
          "France",
          "French Polynesia",
          "Gabon",
          "Gambia, The",
          "Georgia",
          "Germany",
          "Ghana",
          "Gibraltar",
          "Greece",
          "Greenland",
          "Grenada",
          "Guam",
          "Guatemala",
          "Guinea",
          "Guinea-Bissau",
          "Guyana",
          "Haiti",
          "Honduras",
          "Hong Kong SAR, China",
          "Hungary",
          "Iceland",
          "India",
          "Indonesia",
          "Iran, Islamic Rep.",
          "Iraq",
          "Ireland",
          "Isle of Man",
          "Israel",
          "Italy",
          "Jamaica",
          "Japan",
          "Jordan",
          "Kazakhstan",
          "Kenya",
          "Kiribati",
          "Korea, Dem. People�s Rep.",
          "Korea, Rep.",
          "Kosovo",
          "Kuwait",
          "Kyrgyz Republic",
          "Lao PDR",
          "Latvia",
          "Lebanon",
          "Lesotho",
          "Liberia",
          "Libya",
          "Liechtenstein",
          "Lithuania",
          "Luxembourg",
          "Macao SAR, China",
          "Macedonia, FYR",
          "Madagascar",
          "Malawi",
          "Malaysia",
          "Maldives",
          "Mali",
          "Malta",
          "Marshall Islands",
          "Mauritania",
          "Mauritius",
          "Mexico",
          "Micronesia, Fed. Sts.",
          "Moldova",
          "Monaco",
          "Mongolia",
          "Montenegro",
          "Morocco",
          "Mozambique",
          "Myanmar",
          "Namibia",
          "Nauru",
          "Nepal",
          "Netherlands",
          "New Caledonia",
          "New Zealand",
          "Nicaragua",
          "Niger",
          "Nigeria",
          "Northern Mariana Islands",
          "Norway",
          "Oman",
          "Pakistan",
          "Palau",
          "Panama",
          "Papua New Guinea",
          "Paraguay",
          "Peru",
          "Philippines",
          "Poland",
          "Portugal",
          "Puerto Rico",
          "Qatar",
          "Romania",
          "Russian Federation",
          "Rwanda",
          "Samoa",
          "San Marino",
          "Sao Tome and Principe",
          "Saudi Arabia",
          "Senegal",
          "Serbia",
          "Seychelles",
          "Sierra Leone",
          "Singapore",
          "Sint Maarten (Dutch part)",
          "Slovak Republic",
          "Slovenia",
          "Solomon Islands",
          "Somalia",
          "South Africa",
          "South Sudan",
          "Spain",
          "Sri Lanka",
          "St. Kitts and Nevis",
          "St. Lucia",
          "St. Martin (French part)",
          "St. Vincent and the Grenadines",
          "Sudan",
          "Suriname",
          "Swaziland",
          "Sweden",
          "Switzerland",
          "Syrian Arab Republic",
          "Tajikistan",
          "Tanzania",
          "Thailand",
          "Timor-Leste",
          "Togo",
          "Tonga",
          "Trinidad and Tobago",
          "Tunisia",
          "Turkey",
          "Turkmenistan",
          "Turks and Caicos Islands",
          "Tuvalu",
          "Uganda",
          "Ukraine",
          "United Arab Emirates",
          "United Kingdom",
          "United States",
          "Uruguay",
          "Uzbekistan",
          "Vanuatu",
          "Venezuela, RB",
          "Vietnam",
          "Virgin Islands",
          "West Bank and Gaza",
          "Yemen, Rep.",
          "Zambia",
          "Zimbabwe"
         ],
         "hovertemplate": "<b>%{hovertext}</b><br><br>x=%{x}<br>y=%{y}<extra></extra>",
         "hovertext": [
          "Arab World",
          "Caribbean small states",
          "Central Europe and the Baltics",
          "Early-demographic dividend",
          "East Asia & Pacific",
          "East Asia & Pacific (excluding high income)",
          "East Asia & Pacific (IDA & IBRD countries)",
          "Euro area",
          "Europe & Central Asia",
          "Europe & Central Asia (excluding high income)",
          "Europe & Central Asia (IDA & IBRD countries)",
          "European Union",
          "Fragile and conflict affected situations",
          "Heavily indebted poor countries (HIPC)",
          "High income",
          "IBRD only",
          "IDA & IBRD total",
          "IDA blend",
          "IDA only",
          "IDA total",
          "Late-demographic dividend",
          "Latin America & Caribbean",
          "Latin America & Caribbean (excluding high income)",
          "Latin America & the Caribbean (IDA & IBRD countries)",
          "Least developed countries: UN classification",
          "Low & middle income",
          "Low income",
          "Lower middle income",
          "Middle East & North Africa",
          "Middle East & North Africa (excluding high income)",
          "Middle East & North Africa (IDA & IBRD countries)",
          "Middle income",
          "North America",
          "Not classified",
          "OECD members",
          "Other small states",
          "Pacific island small states",
          "Post-demographic dividend",
          "Pre-demographic dividend",
          "Small states",
          "South Asia",
          "South Asia (IDA & IBRD)",
          "Sub-Saharan Africa",
          "Sub-Saharan Africa (excluding high income)",
          "Sub-Saharan Africa (IDA & IBRD countries)",
          "Upper middle income",
          "World",
          "Afghanistan",
          "Albania",
          "Algeria",
          "American Samoa",
          "Andorra",
          "Angola",
          "Antigua and Barbuda",
          "Argentina",
          "Armenia",
          "Aruba",
          "Australia",
          "Austria",
          "Azerbaijan",
          "Bahamas, The",
          "Bahrain",
          "Bangladesh",
          "Barbados",
          "Belarus",
          "Belgium",
          "Belize",
          "Benin",
          "Bermuda",
          "Bhutan",
          "Bolivia",
          "Bosnia and Herzegovina",
          "Botswana",
          "Brazil",
          "British Virgin Islands",
          "Brunei Darussalam",
          "Bulgaria",
          "Burkina Faso",
          "Burundi",
          "Cabo Verde",
          "Cambodia",
          "Cameroon",
          "Canada",
          "Cayman Islands",
          "Central African Republic",
          "Chad",
          "Channel Islands",
          "Chile",
          "China",
          "Colombia",
          "Comoros",
          "Congo, Dem. Rep.",
          "Congo, Rep.",
          "Costa Rica",
          "Cote d'Ivoire",
          "Croatia",
          "Cuba",
          "Curacao",
          "Cyprus",
          "Czech Republic",
          "Denmark",
          "Djibouti",
          "Dominica",
          "Dominican Republic",
          "Ecuador",
          "Egypt, Arab Rep.",
          "El Salvador",
          "Equatorial Guinea",
          "Eritrea",
          "Estonia",
          "Ethiopia",
          "Faroe Islands",
          "Fiji",
          "Finland",
          "France",
          "French Polynesia",
          "Gabon",
          "Gambia, The",
          "Georgia",
          "Germany",
          "Ghana",
          "Gibraltar",
          "Greece",
          "Greenland",
          "Grenada",
          "Guam",
          "Guatemala",
          "Guinea",
          "Guinea-Bissau",
          "Guyana",
          "Haiti",
          "Honduras",
          "Hong Kong SAR, China",
          "Hungary",
          "Iceland",
          "India",
          "Indonesia",
          "Iran, Islamic Rep.",
          "Iraq",
          "Ireland",
          "Isle of Man",
          "Israel",
          "Italy",
          "Jamaica",
          "Japan",
          "Jordan",
          "Kazakhstan",
          "Kenya",
          "Kiribati",
          "Korea, Dem. People�s Rep.",
          "Korea, Rep.",
          "Kosovo",
          "Kuwait",
          "Kyrgyz Republic",
          "Lao PDR",
          "Latvia",
          "Lebanon",
          "Lesotho",
          "Liberia",
          "Libya",
          "Liechtenstein",
          "Lithuania",
          "Luxembourg",
          "Macao SAR, China",
          "Macedonia, FYR",
          "Madagascar",
          "Malawi",
          "Malaysia",
          "Maldives",
          "Mali",
          "Malta",
          "Marshall Islands",
          "Mauritania",
          "Mauritius",
          "Mexico",
          "Micronesia, Fed. Sts.",
          "Moldova",
          "Monaco",
          "Mongolia",
          "Montenegro",
          "Morocco",
          "Mozambique",
          "Myanmar",
          "Namibia",
          "Nauru",
          "Nepal",
          "Netherlands",
          "New Caledonia",
          "New Zealand",
          "Nicaragua",
          "Niger",
          "Nigeria",
          "Northern Mariana Islands",
          "Norway",
          "Oman",
          "Pakistan",
          "Palau",
          "Panama",
          "Papua New Guinea",
          "Paraguay",
          "Peru",
          "Philippines",
          "Poland",
          "Portugal",
          "Puerto Rico",
          "Qatar",
          "Romania",
          "Russian Federation",
          "Rwanda",
          "Samoa",
          "San Marino",
          "Sao Tome and Principe",
          "Saudi Arabia",
          "Senegal",
          "Serbia",
          "Seychelles",
          "Sierra Leone",
          "Singapore",
          "Sint Maarten (Dutch part)",
          "Slovak Republic",
          "Slovenia",
          "Solomon Islands",
          "Somalia",
          "South Africa",
          "South Sudan",
          "Spain",
          "Sri Lanka",
          "St. Kitts and Nevis",
          "St. Lucia",
          "St. Martin (French part)",
          "St. Vincent and the Grenadines",
          "Sudan",
          "Suriname",
          "Swaziland",
          "Sweden",
          "Switzerland",
          "Syrian Arab Republic",
          "Tajikistan",
          "Tanzania",
          "Thailand",
          "Timor-Leste",
          "Togo",
          "Tonga",
          "Trinidad and Tobago",
          "Tunisia",
          "Turkey",
          "Turkmenistan",
          "Turks and Caicos Islands",
          "Tuvalu",
          "Uganda",
          "Ukraine",
          "United Arab Emirates",
          "United Kingdom",
          "United States",
          "Uruguay",
          "Uzbekistan",
          "Vanuatu",
          "Venezuela, RB",
          "Vietnam",
          "Virgin Islands",
          "West Bank and Gaza",
          "Yemen, Rep.",
          "Zambia",
          "Zimbabwe"
         ],
         "legendgroup": "",
         "marker": {
          "color": "#636efa",
          "symbol": "circle"
         },
         "mode": "markers",
         "name": "",
         "orientation": "v",
         "showlegend": false,
         "type": "scatter",
         "x": [
          5.628216376319999,
          3.15583460179,
          2.09685375516,
          4.54517777436,
          2.79048744872,
          2.93269249637,
          2.93956831602,
          1.55892730107,
          2.0894092657,
          2.6227783903,
          2.56817335548,
          1.69976128655,
          6.12316791896,
          6.765216279040001,
          1.81452779128,
          3.3722265472500004,
          3.86740306271,
          5.48960387306,
          6.1629301528,
          5.907480978709999,
          2.75266565713,
          3.48405603943,
          3.5364965347800004,
          3.54290079352,
          6.20883933906,
          3.87810797906,
          6.46485102416,
          4.56406498374,
          5.490254901,
          5.513601960580001,
          5.513601960580001,
          3.68779257289,
          1.85251937762,
          null,
          1.96627528321,
          4.57803537065,
          4.50454646185,
          1.7194996226900003,
          6.73095394127,
          4.20852975376,
          4.5783939024,
          4.5783939024,
          6.53518901158,
          6.53573520868,
          6.53518901158,
          2.96300915662,
          3.46831387919,
          7.461,
          3.164,
          5.412000000000001,
          null,
          null,
          7.256,
          2.07,
          3.056,
          2.549,
          2.307,
          1.845,
          1.43,
          2.9026,
          2.728,
          4.128,
          5.092,
          1.7819999999999998,
          2.03,
          1.54,
          4.771,
          6.904,
          null,
          6.127000000000001,
          5.132000000000001,
          1.931,
          5.214,
          3.17,
          null,
          3.715,
          1.96,
          7.0920000000000005,
          7.565,
          5.68,
          6.097,
          6.627000000000001,
          1.68,
          null,
          5.902,
          7.199,
          1.446,
          2.593,
          2.676,
          3.227,
          6.749,
          6.952999999999999,
          5.59,
          3.3280000000000003,
          6.892,
          1.64,
          1.826,
          null,
          2.45,
          1.91,
          1.5,
          6.193,
          3,
          3.694,
          4.034,
          5.182,
          4.221,
          5.881,
          6.5520000000000005,
          2.27,
          7.387,
          2.4,
          3.512,
          1.59,
          1.83,
          3.645,
          5.609,
          6.164,
          2.26,
          1.43,
          5.935,
          null,
          1.5,
          2.083,
          4.146,
          3.097,
          5.591,
          6.6370000000000005,
          6.7170000000000005,
          3.796,
          5.799,
          5.439,
          1.311,
          1.82,
          2.06,
          4.311,
          3.472,
          5.757999999999999,
          6.105,
          2.32,
          null,
          3.01,
          1.33,
          3.142,
          1.69,
          6.157,
          3.19,
          6.602,
          4.829,
          2.438,
          1.53,
          4.43,
          3.349,
          4.039,
          6.313,
          2.15,
          3.279,
          5.169,
          6.752000000000001,
          5.787999999999999,
          null,
          2.11,
          1.4,
          1.966,
          2.301,
          6.225,
          7.335,
          3.604,
          6.776,
          7.156000000000001,
          1.97,
          5.9,
          6.103,
          2.05,
          3.786,
          5.299,
          2.625,
          null,
          4.906000000000001,
          2.12,
          4.567,
          6.345,
          3.901,
          5.625,
          null,
          5.371,
          1.56,
          3.25,
          2.03,
          5.104,
          7.672999999999999,
          6.625,
          null,
          1.74,
          7.933,
          6.31,
          null,
          3.262,
          5.018,
          4.8180000000000005,
          4.142,
          4.553999999999999,
          2.15,
          1.62,
          2.279,
          4.521,
          2.38,
          2.22,
          8.013,
          5.404,
          null,
          5.988,
          6.337999999999999,
          6.925,
          null,
          3,
          6.64,
          1.621,
          null,
          2.14,
          1.65,
          6.138999999999999,
          7.237,
          4.052,
          6.816,
          1.5,
          2.7030000000000003,
          2.8,
          3.683,
          2.13,
          3.144,
          6.337999999999999,
          3.432,
          6.18,
          1.84,
          1.52,
          5.962999999999999,
          5.408,
          6.379,
          2.346,
          5.271,
          6.672000000000001,
          4.864,
          2.827,
          4.077,
          3.426,
          4.572,
          null,
          null,
          7.102,
          2.05,
          4.86,
          1.81,
          1.872,
          2.524,
          4.5,
          5.078,
          3.665,
          3.929,
          2.997,
          null,
          8.838,
          6.7010000000000005,
          5.784
         ],
         "xaxis": "x",
         "y": [
          63.009285069700006,
          69.3794903249,
          70.611765316,
          59.3349278884,
          68.3481855328,
          67.2886019603,
          67.2766583121,
          75.3458676897,
          71.8938167613,
          68.3723310539,
          68.6396514155,
          74.3868887215,
          54.1385118568,
          49.276857416800006,
          74.8793607218,
          64.4405591772,
          62.37540374899999,
          58.3800603237,
          52.486869754,
          54.7059093637,
          68.38914941899999,
          66.7389088825,
          66.4787283972,
          66.4677436632,
          50.902994720600006,
          62.3073202684,
          49.426245798,
          58.57767380560001,
          63.5099753262,
          62.7587669038,
          62.7587669038,
          63.331740053500006,
          74.96076821390001,
          null,
          74.07107637029999,
          61.7802728566,
          63.2121125869,
          74.98707688180001,
          49.1852723373,
          63.7614801897,
          56.877194422200006,
          56.877194422200006,
          49.8095285225,
          49.80661427810001,
          49.8095285225,
          67.6729393899,
          64.7668539595,
          47.296341463400005,
          71.8619512195,
          65.4871463415,
          null,
          null,
          40.9738780488,
          70.4326341463,
          70.9677560976,
          68.5675609756,
          73.2427073171,
          76.1517073171,
          74.7682926829,
          65.5259268293,
          70.0427804878,
          71.89595121949999,
          56.6685853659,
          70.4517804878,
          70.9902439024,
          75.3658536585,
          71.4305853659,
          51.3690243902,
          null,
          50.1337560976,
          53.50797560979999,
          71.46392682930001,
          62.8898292683,
          64.2458292683,
          null,
          72.2926341463,
          71.5268292683,
          49.47226829270001,
          48.8244634146,
          64.4030487805,
          52.47,
          53.2382195122,
          76.7395121951,
          null,
          49.7243902439,
          46.4909512195,
          74.7818292683,
          71.3107560976,
          68.55943902439999,
          67.929195122,
          55.0093658537,
          48.17014634149999,
          56.1267073171,
          75.0353902439,
          52.9041707317,
          71.4702439024,
          74.6077073171,
          null,
          76.02512195119999,
          71.4456097561,
          74.6912195122,
          56.0166585366,
          71.9634146341,
          66.33892682930001,
          67.3340487805,
          63.0898292683,
          61.074,
          47.1167317073,
          46.1518536585,
          70.643902439,
          45.6784146341,
          75.46585365850001,
          64.8732926829,
          74.5919512195,
          75.8,
          68.0499512195,
          60.3348536585,
          51.1184634146,
          69.9926341463,
          74.5596097561,
          55.1373170732,
          null,
          75.6026341463,
          64.6541463415,
          67.9007317073,
          71.3200731707,
          60.63309756100001,
          47.405195122,
          48.0301219512,
          63.2104878049,
          53.4546341463,
          65.0301463415,
          76.8829268293,
          69.6512195122,
          77.33902439020001,
          56.6184390244,
          62.2214390244,
          59.0503170732,
          63.7006341463,
          74.0633170732,
          null,
          75.2585365854,
          76.21951219510001,
          72.1153658537,
          78.4836585366,
          69.0497073171,
          69.2902439024,
          59.5984146341,
          58.9026097561,
          68.218804878,
          69.80926829270001,
          67.1975609756,
          71.727804878,
          65.611195122,
          52.0284390244,
          70.6929268293,
          69.3905121951,
          57.4076585366,
          47.282902439,
          67.5243902439,
          null,
          71.9346341463,
          74.1937560976,
          74.4906341463,
          70.4129512195,
          49.9432682927,
          44.5645853659,
          70.0253902439,
          58.9744390244,
          44.8531707317,
          74.5244634146,
          72.1414634146,
          57.5724634146,
          68.6555121951,
          69.6074146341,
          65.8585853659,
          66.97121951220001,
          null,
          59.2575853659,
          74.0068780488,
          62.8266829268,
          42.2098780488,
          57.6061707317,
          60.541512195100005,
          null,
          51.6782195122,
          76.7051219512,
          69.4268292683,
          74.1780487805,
          61.9100731707,
          42.526195122,
          46.2636585366,
          null,
          76.0817073171,
          65.3705609756,
          59.2273414634,
          null,
          72.331,
          55.0516097561,
          67.53985365850001,
          64.0192195122,
          64.48792682930001,
          70.8975609756,
          73.6658536585,
          74.4304634146,
          74.55373170729999,
          69.2268292683,
          69.44,
          46.305097561,
          63.4809756098,
          null,
          61.260097561,
          67.7481707317,
          55.597024390200005,
          null,
          69.7319512195,
          39.3306585366,
          74.5487804878,
          null,
          71.0887804878,
          72.00243902439999,
          56.4109756098,
          46.1315609756,
          60.9580243902,
          41.5080243902,
          76.7280487805,
          69.32173170729999,
          65.9512195122,
          70.70873170729999,
          73.67073170729999,
          69.4650731707,
          55.0393658537,
          67.2393902439,
          58.3978780488,
          77.09219512199999,
          77.1975609756,
          69.1153170732,
          63.3734146341,
          50.7883414634,
          69.249902439,
          45.8391219512,
          55.29639024390001,
          69.15192682930001,
          67.7429268293,
          67.0230731707,
          62.7875121951,
          62.57443902439999,
          null,
          null,
          46.6467804878,
          70.4951219512,
          70.77812195119999,
          75.28048780489999,
          74.7658536585,
          71.99756097560001,
          67.0025121951,
          61.9146341463,
          69.4382195122,
          69.50958536590001,
          73.7759512195,
          null,
          56.35673170729999,
          46.9363658537,
          61.753804878
         ],
         "yaxis": "y"
        },
        {
         "hoverinfo": "skip",
         "marker": {
          "color": "#EF553B",
          "line": {
           "width": 4
          },
          "size": 14,
          "symbol": "circle-open"
         },
         "mode": "markers",
         "name": "Marshall Islands",
         "type": "scatter",
         "x": [
          5.9
         ],
         "y": [
          72.1414634146
         ]
        },
        {
         "hoverinfo": "skip",
         "marker": {
          "color": "#AB63FA",
          "line": {
           "width": 4
          },
          "size": 14,
          "symbol": "circle-open"
         },
         "mode": "markers",
         "name": "Norway",
         "type": "scatter",
         "x": [
          1.74
         ],
         "y": [
          76.0817073171
         ]
        }
       ],
       "layout": {
        "autosize": true,
        "hovermode": "closest",
        "legend": {
         "orientation": "v",
         "tracegroupgap": 0
        },
        "margin": {
         "b": 20,
         "l": 20,
         "r": 275,
         "t": 20
        },
        "template": {
         "data": {
          "bar": [
           {
            "error_x": {
             "color": "#2a3f5f"
            },
            "error_y": {
             "color": "#2a3f5f"
            },
            "marker": {
             "line": {
              "color": "#E5ECF6",
              "width": 0.5
             },
             "pattern": {
              "fillmode": "overlay",
              "size": 10,
              "solidity": 0.2
             }
            },
            "type": "bar"
           }
          ],
          "barpolar": [
           {
            "marker": {
             "line": {
              "color": "#E5ECF6",
              "width": 0.5
             },
             "pattern": {
              "fillmode": "overlay",
              "size": 10,
              "solidity": 0.2
             }
            },
            "type": "barpolar"
           }
          ],
          "carpet": [
           {
            "aaxis": {
             "endlinecolor": "#2a3f5f",
             "gridcolor": "white",
             "linecolor": "white",
             "minorgridcolor": "white",
             "startlinecolor": "#2a3f5f"
            },
            "baxis": {
             "endlinecolor": "#2a3f5f",
             "gridcolor": "white",
             "linecolor": "white",
             "minorgridcolor": "white",
             "startlinecolor": "#2a3f5f"
            },
            "type": "carpet"
           }
          ],
          "choropleth": [
           {
            "colorbar": {
             "outlinewidth": 0,
             "ticks": ""
            },
            "type": "choropleth"
           }
          ],
          "contour": [
           {
            "colorbar": {
             "outlinewidth": 0,
             "ticks": ""
            },
            "colorscale": [
             [
              0,
              "#0d0887"
             ],
             [
              0.1111111111111111,
              "#46039f"
             ],
             [
              0.2222222222222222,
              "#7201a8"
             ],
             [
              0.3333333333333333,
              "#9c179e"
             ],
             [
              0.4444444444444444,
              "#bd3786"
             ],
             [
              0.5555555555555556,
              "#d8576b"
             ],
             [
              0.6666666666666666,
              "#ed7953"
             ],
             [
              0.7777777777777778,
              "#fb9f3a"
             ],
             [
              0.8888888888888888,
              "#fdca26"
             ],
             [
              1,
              "#f0f921"
             ]
            ],
            "type": "contour"
           }
          ],
          "contourcarpet": [
           {
            "colorbar": {
             "outlinewidth": 0,
             "ticks": ""
            },
            "type": "contourcarpet"
           }
          ],
          "heatmap": [
           {
            "colorbar": {
             "outlinewidth": 0,
             "ticks": ""
            },
            "colorscale": [
             [
              0,
              "#0d0887"
             ],
             [
              0.1111111111111111,
              "#46039f"
             ],
             [
              0.2222222222222222,
              "#7201a8"
             ],
             [
              0.3333333333333333,
              "#9c179e"
             ],
             [
              0.4444444444444444,
              "#bd3786"
             ],
             [
              0.5555555555555556,
              "#d8576b"
             ],
             [
              0.6666666666666666,
              "#ed7953"
             ],
             [
              0.7777777777777778,
              "#fb9f3a"
             ],
             [
              0.8888888888888888,
              "#fdca26"
             ],
             [
              1,
              "#f0f921"
             ]
            ],
            "type": "heatmap"
           }
          ],
          "heatmapgl": [
           {
            "colorbar": {
             "outlinewidth": 0,
             "ticks": ""
            },
            "colorscale": [
             [
              0,
              "#0d0887"
             ],
             [
              0.1111111111111111,
              "#46039f"
             ],
             [
              0.2222222222222222,
              "#7201a8"
             ],
             [
              0.3333333333333333,
              "#9c179e"
             ],
             [
              0.4444444444444444,
              "#bd3786"
             ],
             [
              0.5555555555555556,
              "#d8576b"
             ],
             [
              0.6666666666666666,
              "#ed7953"
             ],
             [
              0.7777777777777778,
              "#fb9f3a"
             ],
             [
              0.8888888888888888,
              "#fdca26"
             ],
             [
              1,
              "#f0f921"
             ]
            ],
            "type": "heatmapgl"
           }
          ],
          "histogram": [
           {
            "marker": {
             "pattern": {
              "fillmode": "overlay",
              "size": 10,
              "solidity": 0.2
             }
            },
            "type": "histogram"
           }
          ],
          "histogram2d": [
           {
            "colorbar": {
             "outlinewidth": 0,
             "ticks": ""
            },
            "colorscale": [
             [
              0,
              "#0d0887"
             ],
             [
              0.1111111111111111,
              "#46039f"
             ],
             [
              0.2222222222222222,
              "#7201a8"
             ],
             [
              0.3333333333333333,
              "#9c179e"
             ],
             [
              0.4444444444444444,
              "#bd3786"
             ],
             [
              0.5555555555555556,
              "#d8576b"
             ],
             [
              0.6666666666666666,
              "#ed7953"
             ],
             [
              0.7777777777777778,
              "#fb9f3a"
             ],
             [
              0.8888888888888888,
              "#fdca26"
             ],
             [
              1,
              "#f0f921"
             ]
            ],
            "type": "histogram2d"
           }
          ],
          "histogram2dcontour": [
           {
            "colorbar": {
             "outlinewidth": 0,
             "ticks": ""
            },
            "colorscale": [
             [
              0,
              "#0d0887"
             ],
             [
              0.1111111111111111,
              "#46039f"
             ],
             [
              0.2222222222222222,
              "#7201a8"
             ],
             [
              0.3333333333333333,
              "#9c179e"
             ],
             [
              0.4444444444444444,
              "#bd3786"
             ],
             [
              0.5555555555555556,
              "#d8576b"
             ],
             [
              0.6666666666666666,
              "#ed7953"
             ],
             [
              0.7777777777777778,
              "#fb9f3a"
             ],
             [
              0.8888888888888888,
              "#fdca26"
             ],
             [
              1,
              "#f0f921"
             ]
            ],
            "type": "histogram2dcontour"
           }
          ],
          "mesh3d": [
           {
            "colorbar": {
             "outlinewidth": 0,
             "ticks": ""
            },
            "type": "mesh3d"
           }
          ],
          "parcoords": [
           {
            "line": {
             "colorbar": {
              "outlinewidth": 0,
              "ticks": ""
             }
            },
            "type": "parcoords"
           }
          ],
          "pie": [
           {
            "automargin": true,
            "type": "pie"
           }
          ],
          "scatter": [
           {
            "fillpattern": {
             "fillmode": "overlay",
             "size": 10,
             "solidity": 0.2
            },
            "type": "scatter"
           }
          ],
          "scatter3d": [
           {
            "line": {
             "colorbar": {
              "outlinewidth": 0,
              "ticks": ""
             }
            },
            "marker": {
             "colorbar": {
              "outlinewidth": 0,
              "ticks": ""
             }
            },
            "type": "scatter3d"
           }
          ],
          "scattercarpet": [
           {
            "marker": {
             "colorbar": {
              "outlinewidth": 0,
              "ticks": ""
             }
            },
            "type": "scattercarpet"
           }
          ],
          "scattergeo": [
           {
            "marker": {
             "colorbar": {
              "outlinewidth": 0,
              "ticks": ""
             }
            },
            "type": "scattergeo"
           }
          ],
          "scattergl": [
           {
            "marker": {
             "colorbar": {
              "outlinewidth": 0,
              "ticks": ""
             }
            },
            "type": "scattergl"
           }
          ],
          "scattermapbox": [
           {
            "marker": {
             "colorbar": {
              "outlinewidth": 0,
              "ticks": ""
             }
            },
            "type": "scattermapbox"
           }
          ],
          "scatterpolar": [
           {
            "marker": {
             "colorbar": {
              "outlinewidth": 0,
              "ticks": ""
             }
            },
            "type": "scatterpolar"
           }
          ],
          "scatterpolargl": [
           {
            "marker": {
             "colorbar": {
              "outlinewidth": 0,
              "ticks": ""
             }
            },
            "type": "scatterpolargl"
           }
          ],
          "scatterternary": [
           {
            "marker": {
             "colorbar": {
              "outlinewidth": 0,
              "ticks": ""
             }
            },
            "type": "scatterternary"
           }
          ],
          "surface": [
           {
            "colorbar": {
             "outlinewidth": 0,
             "ticks": ""
            },
            "colorscale": [
             [
              0,
              "#0d0887"
             ],
             [
              0.1111111111111111,
              "#46039f"
             ],
             [
              0.2222222222222222,
              "#7201a8"
             ],
             [
              0.3333333333333333,
              "#9c179e"
             ],
             [
              0.4444444444444444,
              "#bd3786"
             ],
             [
              0.5555555555555556,
              "#d8576b"
             ],
             [
              0.6666666666666666,
              "#ed7953"
             ],
             [
              0.7777777777777778,
              "#fb9f3a"
             ],
             [
              0.8888888888888888,
              "#fdca26"
             ],
             [
              1,
              "#f0f921"
             ]
            ],
            "type": "surface"
           }
          ],
          "table": [
           {
            "cells": {
             "fill": {
              "color": "#EBF0F8"
             },
             "line": {
              "color": "white"
             }
            },
            "header": {
             "fill": {
              "color": "#C8D4E3"
             },
             "line": {
              "color": "white"
             }
            },
            "type": "table"
           }
          ]
         },
         "layout": {
          "annotationdefaults": {
           "arrowcolor": "#2a3f5f",
           "arrowhead": 0,
           "arrowwidth": 1
          },
          "autotypenumbers": "strict",
          "coloraxis": {
           "colorbar": {
            "outlinewidth": 0,
            "ticks": ""
           }
          },
          "colorscale": {
           "diverging": [
            [
             0,
             "#8e0152"
            ],
            [
             0.1,
             "#c51b7d"
            ],
            [
             0.2,
             "#de77ae"
            ],
            [
             0.3,
             "#f1b6da"
            ],
            [
             0.4,
             "#fde0ef"
            ],
            [
             0.5,
             "#f7f7f7"
            ],
            [
             0.6,
             "#e6f5d0"
            ],
            [
             0.7,
             "#b8e186"
            ],
            [
             0.8,
             "#7fbc41"
            ],
            [
             0.9,
             "#4d9221"
            ],
            [
             1,
             "#276419"
            ]
           ],
           "sequential": [
            [
             0,
             "#0d0887"
            ],
            [
             0.1111111111111111,
             "#46039f"
            ],
            [
             0.2222222222222222,
             "#7201a8"
            ],
            [
             0.3333333333333333,
             "#9c179e"
            ],
            [
             0.4444444444444444,
             "#bd3786"
            ],
            [
             0.5555555555555556,
             "#d8576b"
            ],
            [
             0.6666666666666666,
             "#ed7953"
            ],
            [
             0.7777777777777778,
             "#fb9f3a"
            ],
            [
             0.8888888888888888,
             "#fdca26"
            ],
            [
             1,
             "#f0f921"
            ]
           ],
           "sequentialminus": [
            [
             0,
             "#0d0887"
            ],
            [
             0.1111111111111111,
             "#46039f"
            ],
            [
             0.2222222222222222,
             "#7201a8"
            ],
            [
             0.3333333333333333,
             "#9c179e"
            ],
            [
             0.4444444444444444,
             "#bd3786"
            ],
            [
             0.5555555555555556,
             "#d8576b"
            ],
            [
             0.6666666666666666,
             "#ed7953"
            ],
            [
             0.7777777777777778,
             "#fb9f3a"
            ],
            [
             0.8888888888888888,
             "#fdca26"
            ],
            [
             1,
             "#f0f921"
            ]
           ]
          },
          "colorway": [
           "#636efa",
           "#EF553B",
           "#00cc96",
           "#ab63fa",
           "#FFA15A",
           "#19d3f3",
           "#FF6692",
           "#B6E880",
           "#FF97FF",
           "#FECB52"
          ],
          "font": {
           "color": "#2a3f5f"
          },
          "geo": {
           "bgcolor": "white",
           "lakecolor": "white",
           "landcolor": "#E5ECF6",
           "showlakes": true,
           "showland": true,
           "subunitcolor": "white"
          },
          "hoverlabel": {
           "align": "left"
          },
          "hovermode": "closest",
          "mapbox": {
           "style": "light"
          },
          "paper_bgcolor": "white",
          "plot_bgcolor": "#E5ECF6",
          "polar": {
           "angularaxis": {
            "gridcolor": "white",
            "linecolor": "white",
            "ticks": ""
           },
           "bgcolor": "#E5ECF6",
           "radialaxis": {
            "gridcolor": "white",
            "linecolor": "white",
            "ticks": ""
           }
          },
          "scene": {
           "xaxis": {
            "backgroundcolor": "#E5ECF6",
            "gridcolor": "white",
            "gridwidth": 2,
            "linecolor": "white",
            "showbackground": true,
            "ticks": "",
            "zerolinecolor": "white"
           },
           "yaxis": {
            "backgroundcolor": "#E5ECF6",
            "gridcolor": "white",
            "gridwidth": 2,
            "linecolor": "white",
            "showbackground": true,
            "ticks": "",
            "zerolinecolor": "white"
           },
           "zaxis": {
            "backgroundcolor": "#E5ECF6",
            "gridcolor": "white",
            "gridwidth": 2,
            "linecolor": "white",
            "showbackground": true,
            "ticks": "",
            "zerolinecolor": "white"
           }
          },
          "shapedefaults": {
           "line": {
            "color": "#2a3f5f"
           }
          },
          "ternary": {
           "aaxis": {
            "gridcolor": "white",
            "linecolor": "white",
            "ticks": ""
           },
           "baxis": {
            "gridcolor": "white",
            "linecolor": "white",
            "ticks": ""
           },
           "bgcolor": "#E5ECF6",
           "caxis": {
            "gridcolor": "white",
            "linecolor": "white",
            "ticks": ""
           }
          },
          "title": {
           "x": 0.05
          },
          "xaxis": {
           "automargin": true,
           "gridcolor": "white",
           "linecolor": "white",
           "ticks": "",
           "title": {
            "standoff": 15
           },
           "zerolinecolor": "white",
           "zerolinewidth": 2
          },
          "yaxis": {
           "automargin": true,
           "gridcolor": "white",
           "linecolor": "white",
           "ticks": "",
           "title": {
            "standoff": 15
           },
           "zerolinecolor": "white",
           "zerolinewidth": 2
          }
         }
        },
        "title": {
         "text": "Gapminder from 1962 to 1987"
        },
        "uirevision": "constant",
        "xaxis": {
         "anchor": "y",
         "autorange": true,
         "domain": [
          0,
          1
         ],
         "range": [
          0.8629129937034916,
          9.286087006296508
         ],
         "title": {
          "text": "Fertility rate, total (births per woman)"
         },
         "type": "linear"
        },
        "yaxis": {
         "anchor": "x",
         "autorange": true,
         "domain": [
          0,
          1
         ],
         "range": [
          36.837298969601754,
          80.97701810359825
         ],
         "title": {
          "text": "Life expectancy at birth, total (years)"
         },
         "type": "linear"
        }
       }
      },
      "image/png": "[encoded data removed]",
      "text/html": [
       "<div>                            <div id=\"4da54621-cb0a-414c-b865-2bb6ecbe8e77\" class=\"plotly-graph-div\" style=\"height:650px; width:100%;\"></div>            <script type=\"text/javascript\">                require([\"plotly\"], function(Plotly) {                    window.PLOTLYENV=window.PLOTLYENV || {};                                    if (document.getElementById(\"4da54621-cb0a-414c-b865-2bb6ecbe8e77\")) {                    Plotly.newPlot(                        \"4da54621-cb0a-414c-b865-2bb6ecbe8e77\",                        [{\"customdata\":[\"Arab World\",\"Caribbean small states\",\"Central Europe and the Baltics\",\"Early-demographic dividend\",\"East Asia & Pacific\",\"East Asia & Pacific (excluding high income)\",\"East Asia & Pacific (IDA & IBRD countries)\",\"Euro area\",\"Europe & Central Asia\",\"Europe & Central Asia (excluding high income)\",\"Europe & Central Asia (IDA & IBRD countries)\",\"European Union\",\"Fragile and conflict affected situations\",\"Heavily indebted poor countries (HIPC)\",\"High income\",\"IBRD only\",\"IDA & IBRD total\",\"IDA blend\",\"IDA only\",\"IDA total\",\"Late-demographic dividend\",\"Latin America & Caribbean\",\"Latin America & Caribbean (excluding high income)\",\"Latin America & the Caribbean (IDA & IBRD countries)\",\"Least developed countries: UN classification\",\"Low & middle income\",\"Low income\",\"Lower middle income\",\"Middle East & North Africa\",\"Middle East & North Africa (excluding high income)\",\"Middle East & North Africa (IDA & IBRD countries)\",\"Middle income\",\"North America\",\"Not classified\",\"OECD members\",\"Other small states\",\"Pacific island small states\",\"Post-demographic dividend\",\"Pre-demographic dividend\",\"Small states\",\"South Asia\",\"South Asia (IDA & IBRD)\",\"Sub-Saharan Africa\",\"Sub-Saharan Africa (excluding high income)\",\"Sub-Saharan Africa (IDA & IBRD countries)\",\"Upper middle income\",\"World\",\"Afghanistan\",\"Albania\",\"Algeria\",\"American Samoa\",\"Andorra\",\"Angola\",\"Antigua and Barbuda\",\"Argentina\",\"Armenia\",\"Aruba\",\"Australia\",\"Austria\",\"Azerbaijan\",\"Bahamas, The\",\"Bahrain\",\"Bangladesh\",\"Barbados\",\"Belarus\",\"Belgium\",\"Belize\",\"Benin\",\"Bermuda\",\"Bhutan\",\"Bolivia\",\"Bosnia and Herzegovina\",\"Botswana\",\"Brazil\",\"British Virgin Islands\",\"Brunei Darussalam\",\"Bulgaria\",\"Burkina Faso\",\"Burundi\",\"Cabo Verde\",\"Cambodia\",\"Cameroon\",\"Canada\",\"Cayman Islands\",\"Central African Republic\",\"Chad\",\"Channel Islands\",\"Chile\",\"China\",\"Colombia\",\"Comoros\",\"Congo, Dem. Rep.\",\"Congo, Rep.\",\"Costa Rica\",\"Cote d'Ivoire\",\"Croatia\",\"Cuba\",\"Curacao\",\"Cyprus\",\"Czech Republic\",\"Denmark\",\"Djibouti\",\"Dominica\",\"Dominican Republic\",\"Ecuador\",\"Egypt, Arab Rep.\",\"El Salvador\",\"Equatorial Guinea\",\"Eritrea\",\"Estonia\",\"Ethiopia\",\"Faroe Islands\",\"Fiji\",\"Finland\",\"France\",\"French Polynesia\",\"Gabon\",\"Gambia, The\",\"Georgia\",\"Germany\",\"Ghana\",\"Gibraltar\",\"Greece\",\"Greenland\",\"Grenada\",\"Guam\",\"Guatemala\",\"Guinea\",\"Guinea-Bissau\",\"Guyana\",\"Haiti\",\"Honduras\",\"Hong Kong SAR, China\",\"Hungary\",\"Iceland\",\"India\",\"Indonesia\",\"Iran, Islamic Rep.\",\"Iraq\",\"Ireland\",\"Isle of Man\",\"Israel\",\"Italy\",\"Jamaica\",\"Japan\",\"Jordan\",\"Kazakhstan\",\"Kenya\",\"Kiribati\",\"Korea, Dem. People\\ufffds Rep.\",\"Korea, Rep.\",\"Kosovo\",\"Kuwait\",\"Kyrgyz Republic\",\"Lao PDR\",\"Latvia\",\"Lebanon\",\"Lesotho\",\"Liberia\",\"Libya\",\"Liechtenstein\",\"Lithuania\",\"Luxembourg\",\"Macao SAR, China\",\"Macedonia, FYR\",\"Madagascar\",\"Malawi\",\"Malaysia\",\"Maldives\",\"Mali\",\"Malta\",\"Marshall Islands\",\"Mauritania\",\"Mauritius\",\"Mexico\",\"Micronesia, Fed. Sts.\",\"Moldova\",\"Monaco\",\"Mongolia\",\"Montenegro\",\"Morocco\",\"Mozambique\",\"Myanmar\",\"Namibia\",\"Nauru\",\"Nepal\",\"Netherlands\",\"New Caledonia\",\"New Zealand\",\"Nicaragua\",\"Niger\",\"Nigeria\",\"Northern Mariana Islands\",\"Norway\",\"Oman\",\"Pakistan\",\"Palau\",\"Panama\",\"Papua New Guinea\",\"Paraguay\",\"Peru\",\"Philippines\",\"Poland\",\"Portugal\",\"Puerto Rico\",\"Qatar\",\"Romania\",\"Russian Federation\",\"Rwanda\",\"Samoa\",\"San Marino\",\"Sao Tome and Principe\",\"Saudi Arabia\",\"Senegal\",\"Serbia\",\"Seychelles\",\"Sierra Leone\",\"Singapore\",\"Sint Maarten (Dutch part)\",\"Slovak Republic\",\"Slovenia\",\"Solomon Islands\",\"Somalia\",\"South Africa\",\"South Sudan\",\"Spain\",\"Sri Lanka\",\"St. Kitts and Nevis\",\"St. Lucia\",\"St. Martin (French part)\",\"St. Vincent and the Grenadines\",\"Sudan\",\"Suriname\",\"Swaziland\",\"Sweden\",\"Switzerland\",\"Syrian Arab Republic\",\"Tajikistan\",\"Tanzania\",\"Thailand\",\"Timor-Leste\",\"Togo\",\"Tonga\",\"Trinidad and Tobago\",\"Tunisia\",\"Turkey\",\"Turkmenistan\",\"Turks and Caicos Islands\",\"Tuvalu\",\"Uganda\",\"Ukraine\",\"United Arab Emirates\",\"United Kingdom\",\"United States\",\"Uruguay\",\"Uzbekistan\",\"Vanuatu\",\"Venezuela, RB\",\"Vietnam\",\"Virgin Islands\",\"West Bank and Gaza\",\"Yemen, Rep.\",\"Zambia\",\"Zimbabwe\"],\"hovertemplate\":\"<b>%{hovertext}</b><br><br>x=%{x}<br>y=%{y}<extra></extra>\",\"hovertext\":[\"Arab World\",\"Caribbean small states\",\"Central Europe and the Baltics\",\"Early-demographic dividend\",\"East Asia & Pacific\",\"East Asia & Pacific (excluding high income)\",\"East Asia & Pacific (IDA & IBRD countries)\",\"Euro area\",\"Europe & Central Asia\",\"Europe & Central Asia (excluding high income)\",\"Europe & Central Asia (IDA & IBRD countries)\",\"European Union\",\"Fragile and conflict affected situations\",\"Heavily indebted poor countries (HIPC)\",\"High income\",\"IBRD only\",\"IDA & IBRD total\",\"IDA blend\",\"IDA only\",\"IDA total\",\"Late-demographic dividend\",\"Latin America & Caribbean\",\"Latin America & Caribbean (excluding high income)\",\"Latin America & the Caribbean (IDA & IBRD countries)\",\"Least developed countries: UN classification\",\"Low & middle income\",\"Low income\",\"Lower middle income\",\"Middle East & North Africa\",\"Middle East & North Africa (excluding high income)\",\"Middle East & North Africa (IDA & IBRD countries)\",\"Middle income\",\"North America\",\"Not classified\",\"OECD members\",\"Other small states\",\"Pacific island small states\",\"Post-demographic dividend\",\"Pre-demographic dividend\",\"Small states\",\"South Asia\",\"South Asia (IDA & IBRD)\",\"Sub-Saharan Africa\",\"Sub-Saharan Africa (excluding high income)\",\"Sub-Saharan Africa (IDA & IBRD countries)\",\"Upper middle income\",\"World\",\"Afghanistan\",\"Albania\",\"Algeria\",\"American Samoa\",\"Andorra\",\"Angola\",\"Antigua and Barbuda\",\"Argentina\",\"Armenia\",\"Aruba\",\"Australia\",\"Austria\",\"Azerbaijan\",\"Bahamas, The\",\"Bahrain\",\"Bangladesh\",\"Barbados\",\"Belarus\",\"Belgium\",\"Belize\",\"Benin\",\"Bermuda\",\"Bhutan\",\"Bolivia\",\"Bosnia and Herzegovina\",\"Botswana\",\"Brazil\",\"British Virgin Islands\",\"Brunei Darussalam\",\"Bulgaria\",\"Burkina Faso\",\"Burundi\",\"Cabo Verde\",\"Cambodia\",\"Cameroon\",\"Canada\",\"Cayman Islands\",\"Central African Republic\",\"Chad\",\"Channel Islands\",\"Chile\",\"China\",\"Colombia\",\"Comoros\",\"Congo, Dem. Rep.\",\"Congo, Rep.\",\"Costa Rica\",\"Cote d'Ivoire\",\"Croatia\",\"Cuba\",\"Curacao\",\"Cyprus\",\"Czech Republic\",\"Denmark\",\"Djibouti\",\"Dominica\",\"Dominican Republic\",\"Ecuador\",\"Egypt, Arab Rep.\",\"El Salvador\",\"Equatorial Guinea\",\"Eritrea\",\"Estonia\",\"Ethiopia\",\"Faroe Islands\",\"Fiji\",\"Finland\",\"France\",\"French Polynesia\",\"Gabon\",\"Gambia, The\",\"Georgia\",\"Germany\",\"Ghana\",\"Gibraltar\",\"Greece\",\"Greenland\",\"Grenada\",\"Guam\",\"Guatemala\",\"Guinea\",\"Guinea-Bissau\",\"Guyana\",\"Haiti\",\"Honduras\",\"Hong Kong SAR, China\",\"Hungary\",\"Iceland\",\"India\",\"Indonesia\",\"Iran, Islamic Rep.\",\"Iraq\",\"Ireland\",\"Isle of Man\",\"Israel\",\"Italy\",\"Jamaica\",\"Japan\",\"Jordan\",\"Kazakhstan\",\"Kenya\",\"Kiribati\",\"Korea, Dem. People\\ufffds Rep.\",\"Korea, Rep.\",\"Kosovo\",\"Kuwait\",\"Kyrgyz Republic\",\"Lao PDR\",\"Latvia\",\"Lebanon\",\"Lesotho\",\"Liberia\",\"Libya\",\"Liechtenstein\",\"Lithuania\",\"Luxembourg\",\"Macao SAR, China\",\"Macedonia, FYR\",\"Madagascar\",\"Malawi\",\"Malaysia\",\"Maldives\",\"Mali\",\"Malta\",\"Marshall Islands\",\"Mauritania\",\"Mauritius\",\"Mexico\",\"Micronesia, Fed. Sts.\",\"Moldova\",\"Monaco\",\"Mongolia\",\"Montenegro\",\"Morocco\",\"Mozambique\",\"Myanmar\",\"Namibia\",\"Nauru\",\"Nepal\",\"Netherlands\",\"New Caledonia\",\"New Zealand\",\"Nicaragua\",\"Niger\",\"Nigeria\",\"Northern Mariana Islands\",\"Norway\",\"Oman\",\"Pakistan\",\"Palau\",\"Panama\",\"Papua New Guinea\",\"Paraguay\",\"Peru\",\"Philippines\",\"Poland\",\"Portugal\",\"Puerto Rico\",\"Qatar\",\"Romania\",\"Russian Federation\",\"Rwanda\",\"Samoa\",\"San Marino\",\"Sao Tome and Principe\",\"Saudi Arabia\",\"Senegal\",\"Serbia\",\"Seychelles\",\"Sierra Leone\",\"Singapore\",\"Sint Maarten (Dutch part)\",\"Slovak Republic\",\"Slovenia\",\"Solomon Islands\",\"Somalia\",\"South Africa\",\"South Sudan\",\"Spain\",\"Sri Lanka\",\"St. Kitts and Nevis\",\"St. Lucia\",\"St. Martin (French part)\",\"St. Vincent and the Grenadines\",\"Sudan\",\"Suriname\",\"Swaziland\",\"Sweden\",\"Switzerland\",\"Syrian Arab Republic\",\"Tajikistan\",\"Tanzania\",\"Thailand\",\"Timor-Leste\",\"Togo\",\"Tonga\",\"Trinidad and Tobago\",\"Tunisia\",\"Turkey\",\"Turkmenistan\",\"Turks and Caicos Islands\",\"Tuvalu\",\"Uganda\",\"Ukraine\",\"United Arab Emirates\",\"United Kingdom\",\"United States\",\"Uruguay\",\"Uzbekistan\",\"Vanuatu\",\"Venezuela, RB\",\"Vietnam\",\"Virgin Islands\",\"West Bank and Gaza\",\"Yemen, Rep.\",\"Zambia\",\"Zimbabwe\"],\"legendgroup\":\"\",\"marker\":{\"color\":\"#636efa\",\"symbol\":\"circle\"},\"mode\":\"markers\",\"name\":\"\",\"orientation\":\"v\",\"showlegend\":false,\"x\":[5.628216376319999,3.15583460179,2.09685375516,4.54517777436,2.79048744872,2.93269249637,2.93956831602,1.55892730107,2.0894092657,2.6227783903,2.56817335548,1.69976128655,6.12316791896,6.765216279040001,1.81452779128,3.3722265472500004,3.86740306271,5.48960387306,6.1629301528,5.907480978709999,2.75266565713,3.48405603943,3.5364965347800004,3.54290079352,6.20883933906,3.87810797906,6.46485102416,4.56406498374,5.490254901,5.513601960580001,5.513601960580001,3.68779257289,1.85251937762,null,1.96627528321,4.57803537065,4.50454646185,1.7194996226900003,6.73095394127,4.20852975376,4.5783939024,4.5783939024,6.53518901158,6.53573520868,6.53518901158,2.96300915662,3.46831387919,7.461,3.164,5.412000000000001,null,null,7.256,2.07,3.056,2.549,2.307,1.845,1.43,2.9026,2.728,4.128,5.092,1.7819999999999998,2.03,1.54,4.771,6.904,null,6.127000000000001,5.132000000000001,1.931,5.214,3.17,null,3.715,1.96,7.0920000000000005,7.565,5.68,6.097,6.627000000000001,1.68,null,5.902,7.199,1.446,2.593,2.676,3.227,6.749,6.952999999999999,5.59,3.3280000000000003,6.892,1.64,1.826,null,2.45,1.91,1.5,6.193,3.0,3.694,4.034,5.182,4.221,5.881,6.5520000000000005,2.27,7.387,2.4,3.512,1.59,1.83,3.645,5.609,6.164,2.26,1.43,5.935,null,1.5,2.083,4.146,3.097,5.591,6.6370000000000005,6.7170000000000005,3.796,5.799,5.439,1.311,1.82,2.06,4.311,3.472,5.757999999999999,6.105,2.32,null,3.01,1.33,3.142,1.69,6.157,3.19,6.602,4.829,2.438,1.53,4.43,3.349,4.039,6.313,2.15,3.279,5.169,6.752000000000001,5.787999999999999,null,2.11,1.4,1.966,2.301,6.225,7.335,3.604,6.776,7.156000000000001,1.97,5.9,6.103,2.05,3.786,5.299,2.625,null,4.906000000000001,2.12,4.567,6.345,3.901,5.625,null,5.371,1.56,3.25,2.03,5.104,7.672999999999999,6.625,null,1.74,7.933,6.31,null,3.262,5.018,4.8180000000000005,4.142,4.553999999999999,2.15,1.62,2.279,4.521,2.38,2.22,8.013,5.404,null,5.988,6.337999999999999,6.925,null,3.0,6.64,1.621,null,2.14,1.65,6.138999999999999,7.237,4.052,6.816,1.5,2.7030000000000003,2.8,3.683,2.13,3.144,6.337999999999999,3.432,6.18,1.84,1.52,5.962999999999999,5.408,6.379,2.346,5.271,6.672000000000001,4.864,2.827,4.077,3.426,4.572,null,null,7.102,2.05,4.86,1.81,1.872,2.524,4.5,5.078,3.665,3.929,2.997,null,8.838,6.7010000000000005,5.784],\"xaxis\":\"x\",\"y\":[63.009285069700006,69.3794903249,70.611765316,59.3349278884,68.3481855328,67.2886019603,67.2766583121,75.3458676897,71.8938167613,68.3723310539,68.6396514155,74.3868887215,54.1385118568,49.276857416800006,74.8793607218,64.4405591772,62.37540374899999,58.3800603237,52.486869754,54.7059093637,68.38914941899999,66.7389088825,66.4787283972,66.4677436632,50.902994720600006,62.3073202684,49.426245798,58.57767380560001,63.5099753262,62.7587669038,62.7587669038,63.331740053500006,74.96076821390001,null,74.07107637029999,61.7802728566,63.2121125869,74.98707688180001,49.1852723373,63.7614801897,56.877194422200006,56.877194422200006,49.8095285225,49.80661427810001,49.8095285225,67.6729393899,64.7668539595,47.296341463400005,71.8619512195,65.4871463415,null,null,40.9738780488,70.4326341463,70.9677560976,68.5675609756,73.2427073171,76.1517073171,74.7682926829,65.5259268293,70.0427804878,71.89595121949999,56.6685853659,70.4517804878,70.9902439024,75.3658536585,71.4305853659,51.3690243902,null,50.1337560976,53.50797560979999,71.46392682930001,62.8898292683,64.2458292683,null,72.2926341463,71.5268292683,49.47226829270001,48.8244634146,64.4030487805,52.47,53.2382195122,76.7395121951,null,49.7243902439,46.4909512195,74.7818292683,71.3107560976,68.55943902439999,67.929195122,55.0093658537,48.17014634149999,56.1267073171,75.0353902439,52.9041707317,71.4702439024,74.6077073171,null,76.02512195119999,71.4456097561,74.6912195122,56.0166585366,71.9634146341,66.33892682930001,67.3340487805,63.0898292683,61.074,47.1167317073,46.1518536585,70.643902439,45.6784146341,75.46585365850001,64.8732926829,74.5919512195,75.8,68.0499512195,60.3348536585,51.1184634146,69.9926341463,74.5596097561,55.1373170732,null,75.6026341463,64.6541463415,67.9007317073,71.3200731707,60.63309756100001,47.405195122,48.0301219512,63.2104878049,53.4546341463,65.0301463415,76.8829268293,69.6512195122,77.33902439020001,56.6184390244,62.2214390244,59.0503170732,63.7006341463,74.0633170732,null,75.2585365854,76.21951219510001,72.1153658537,78.4836585366,69.0497073171,69.2902439024,59.5984146341,58.9026097561,68.218804878,69.80926829270001,67.1975609756,71.727804878,65.611195122,52.0284390244,70.6929268293,69.3905121951,57.4076585366,47.282902439,67.5243902439,null,71.9346341463,74.1937560976,74.4906341463,70.4129512195,49.9432682927,44.5645853659,70.0253902439,58.9744390244,44.8531707317,74.5244634146,72.1414634146,57.5724634146,68.6555121951,69.6074146341,65.8585853659,66.97121951220001,null,59.2575853659,74.0068780488,62.8266829268,42.2098780488,57.6061707317,60.541512195100005,null,51.6782195122,76.7051219512,69.4268292683,74.1780487805,61.9100731707,42.526195122,46.2636585366,null,76.0817073171,65.3705609756,59.2273414634,null,72.331,55.0516097561,67.53985365850001,64.0192195122,64.48792682930001,70.8975609756,73.6658536585,74.4304634146,74.55373170729999,69.2268292683,69.44,46.305097561,63.4809756098,null,61.260097561,67.7481707317,55.597024390200005,null,69.7319512195,39.3306585366,74.5487804878,null,71.0887804878,72.00243902439999,56.4109756098,46.1315609756,60.9580243902,41.5080243902,76.7280487805,69.32173170729999,65.9512195122,70.70873170729999,73.67073170729999,69.4650731707,55.0393658537,67.2393902439,58.3978780488,77.09219512199999,77.1975609756,69.1153170732,63.3734146341,50.7883414634,69.249902439,45.8391219512,55.29639024390001,69.15192682930001,67.7429268293,67.0230731707,62.7875121951,62.57443902439999,null,null,46.6467804878,70.4951219512,70.77812195119999,75.28048780489999,74.7658536585,71.99756097560001,67.0025121951,61.9146341463,69.4382195122,69.50958536590001,73.7759512195,null,56.35673170729999,46.9363658537,61.753804878],\"yaxis\":\"y\",\"type\":\"scatter\"},{\"hoverinfo\":\"skip\",\"marker\":{\"color\":\"#EF553B\",\"line\":{\"width\":4},\"size\":14,\"symbol\":\"circle-open\"},\"mode\":\"markers\",\"name\":\"Marshall Islands\",\"x\":[5.9],\"y\":[72.1414634146],\"type\":\"scatter\"},{\"hoverinfo\":\"skip\",\"marker\":{\"color\":\"#AB63FA\",\"line\":{\"width\":4},\"size\":14,\"symbol\":\"circle-open\"},\"mode\":\"markers\",\"name\":\"Norway\",\"x\":[1.74],\"y\":[76.0817073171],\"type\":\"scatter\"}],                        {\"height\":650,\"hovermode\":\"closest\",\"legend\":{\"orientation\":\"v\",\"tracegroupgap\":0},\"margin\":{\"b\":20,\"l\":20,\"r\":275,\"t\":20},\"template\":{\"data\":{\"barpolar\":[{\"marker\":{\"line\":{\"color\":\"#E5ECF6\",\"width\":0.5},\"pattern\":{\"fillmode\":\"overlay\",\"size\":10,\"solidity\":0.2}},\"type\":\"barpolar\"}],\"bar\":[{\"error_x\":{\"color\":\"#2a3f5f\"},\"error_y\":{\"color\":\"#2a3f5f\"},\"marker\":{\"line\":{\"color\":\"#E5ECF6\",\"width\":0.5},\"pattern\":{\"fillmode\":\"overlay\",\"size\":10,\"solidity\":0.2}},\"type\":\"bar\"}],\"carpet\":[{\"aaxis\":{\"endlinecolor\":\"#2a3f5f\",\"gridcolor\":\"white\",\"linecolor\":\"white\",\"minorgridcolor\":\"white\",\"startlinecolor\":\"#2a3f5f\"},\"baxis\":{\"endlinecolor\":\"#2a3f5f\",\"gridcolor\":\"white\",\"linecolor\":\"white\",\"minorgridcolor\":\"white\",\"startlinecolor\":\"#2a3f5f\"},\"type\":\"carpet\"}],\"choropleth\":[{\"colorbar\":{\"outlinewidth\":0,\"ticks\":\"\"},\"type\":\"choropleth\"}],\"contourcarpet\":[{\"colorbar\":{\"outlinewidth\":0,\"ticks\":\"\"},\"type\":\"contourcarpet\"}],\"contour\":[{\"colorbar\":{\"outlinewidth\":0,\"ticks\":\"\"},\"colorscale\":[[0.0,\"#0d0887\"],[0.1111111111111111,\"#46039f\"],[0.2222222222222222,\"#7201a8\"],[0.3333333333333333,\"#9c179e\"],[0.4444444444444444,\"#bd3786\"],[0.5555555555555556,\"#d8576b\"],[0.6666666666666666,\"#ed7953\"],[0.7777777777777778,\"#fb9f3a\"],[0.8888888888888888,\"#fdca26\"],[1.0,\"#f0f921\"]],\"type\":\"contour\"}],\"heatmapgl\":[{\"colorbar\":{\"outlinewidth\":0,\"ticks\":\"\"},\"colorscale\":[[0.0,\"#0d0887\"],[0.1111111111111111,\"#46039f\"],[0.2222222222222222,\"#7201a8\"],[0.3333333333333333,\"#9c179e\"],[0.4444444444444444,\"#bd3786\"],[0.5555555555555556,\"#d8576b\"],[0.6666666666666666,\"#ed7953\"],[0.7777777777777778,\"#fb9f3a\"],[0.8888888888888888,\"#fdca26\"],[1.0,\"#f0f921\"]],\"type\":\"heatmapgl\"}],\"heatmap\":[{\"colorbar\":{\"outlinewidth\":0,\"ticks\":\"\"},\"colorscale\":[[0.0,\"#0d0887\"],[0.1111111111111111,\"#46039f\"],[0.2222222222222222,\"#7201a8\"],[0.3333333333333333,\"#9c179e\"],[0.4444444444444444,\"#bd3786\"],[0.5555555555555556,\"#d8576b\"],[0.6666666666666666,\"#ed7953\"],[0.7777777777777778,\"#fb9f3a\"],[0.8888888888888888,\"#fdca26\"],[1.0,\"#f0f921\"]],\"type\":\"heatmap\"}],\"histogram2dcontour\":[{\"colorbar\":{\"outlinewidth\":0,\"ticks\":\"\"},\"colorscale\":[[0.0,\"#0d0887\"],[0.1111111111111111,\"#46039f\"],[0.2222222222222222,\"#7201a8\"],[0.3333333333333333,\"#9c179e\"],[0.4444444444444444,\"#bd3786\"],[0.5555555555555556,\"#d8576b\"],[0.6666666666666666,\"#ed7953\"],[0.7777777777777778,\"#fb9f3a\"],[0.8888888888888888,\"#fdca26\"],[1.0,\"#f0f921\"]],\"type\":\"histogram2dcontour\"}],\"histogram2d\":[{\"colorbar\":{\"outlinewidth\":0,\"ticks\":\"\"},\"colorscale\":[[0.0,\"#0d0887\"],[0.1111111111111111,\"#46039f\"],[0.2222222222222222,\"#7201a8\"],[0.3333333333333333,\"#9c179e\"],[0.4444444444444444,\"#bd3786\"],[0.5555555555555556,\"#d8576b\"],[0.6666666666666666,\"#ed7953\"],[0.7777777777777778,\"#fb9f3a\"],[0.8888888888888888,\"#fdca26\"],[1.0,\"#f0f921\"]],\"type\":\"histogram2d\"}],\"histogram\":[{\"marker\":{\"pattern\":{\"fillmode\":\"overlay\",\"size\":10,\"solidity\":0.2}},\"type\":\"histogram\"}],\"mesh3d\":[{\"colorbar\":{\"outlinewidth\":0,\"ticks\":\"\"},\"type\":\"mesh3d\"}],\"parcoords\":[{\"line\":{\"colorbar\":{\"outlinewidth\":0,\"ticks\":\"\"}},\"type\":\"parcoords\"}],\"pie\":[{\"automargin\":true,\"type\":\"pie\"}],\"scatter3d\":[{\"line\":{\"colorbar\":{\"outlinewidth\":0,\"ticks\":\"\"}},\"marker\":{\"colorbar\":{\"outlinewidth\":0,\"ticks\":\"\"}},\"type\":\"scatter3d\"}],\"scattercarpet\":[{\"marker\":{\"colorbar\":{\"outlinewidth\":0,\"ticks\":\"\"}},\"type\":\"scattercarpet\"}],\"scattergeo\":[{\"marker\":{\"colorbar\":{\"outlinewidth\":0,\"ticks\":\"\"}},\"type\":\"scattergeo\"}],\"scattergl\":[{\"marker\":{\"colorbar\":{\"outlinewidth\":0,\"ticks\":\"\"}},\"type\":\"scattergl\"}],\"scattermapbox\":[{\"marker\":{\"colorbar\":{\"outlinewidth\":0,\"ticks\":\"\"}},\"type\":\"scattermapbox\"}],\"scatterpolargl\":[{\"marker\":{\"colorbar\":{\"outlinewidth\":0,\"ticks\":\"\"}},\"type\":\"scatterpolargl\"}],\"scatterpolar\":[{\"marker\":{\"colorbar\":{\"outlinewidth\":0,\"ticks\":\"\"}},\"type\":\"scatterpolar\"}],\"scatter\":[{\"fillpattern\":{\"fillmode\":\"overlay\",\"size\":10,\"solidity\":0.2},\"type\":\"scatter\"}],\"scatterternary\":[{\"marker\":{\"colorbar\":{\"outlinewidth\":0,\"ticks\":\"\"}},\"type\":\"scatterternary\"}],\"surface\":[{\"colorbar\":{\"outlinewidth\":0,\"ticks\":\"\"},\"colorscale\":[[0.0,\"#0d0887\"],[0.1111111111111111,\"#46039f\"],[0.2222222222222222,\"#7201a8\"],[0.3333333333333333,\"#9c179e\"],[0.4444444444444444,\"#bd3786\"],[0.5555555555555556,\"#d8576b\"],[0.6666666666666666,\"#ed7953\"],[0.7777777777777778,\"#fb9f3a\"],[0.8888888888888888,\"#fdca26\"],[1.0,\"#f0f921\"]],\"type\":\"surface\"}],\"table\":[{\"cells\":{\"fill\":{\"color\":\"#EBF0F8\"},\"line\":{\"color\":\"white\"}},\"header\":{\"fill\":{\"color\":\"#C8D4E3\"},\"line\":{\"color\":\"white\"}},\"type\":\"table\"}]},\"layout\":{\"annotationdefaults\":{\"arrowcolor\":\"#2a3f5f\",\"arrowhead\":0,\"arrowwidth\":1},\"autotypenumbers\":\"strict\",\"coloraxis\":{\"colorbar\":{\"outlinewidth\":0,\"ticks\":\"\"}},\"colorscale\":{\"diverging\":[[0,\"#8e0152\"],[0.1,\"#c51b7d\"],[0.2,\"#de77ae\"],[0.3,\"#f1b6da\"],[0.4,\"#fde0ef\"],[0.5,\"#f7f7f7\"],[0.6,\"#e6f5d0\"],[0.7,\"#b8e186\"],[0.8,\"#7fbc41\"],[0.9,\"#4d9221\"],[1,\"#276419\"]],\"sequential\":[[0.0,\"#0d0887\"],[0.1111111111111111,\"#46039f\"],[0.2222222222222222,\"#7201a8\"],[0.3333333333333333,\"#9c179e\"],[0.4444444444444444,\"#bd3786\"],[0.5555555555555556,\"#d8576b\"],[0.6666666666666666,\"#ed7953\"],[0.7777777777777778,\"#fb9f3a\"],[0.8888888888888888,\"#fdca26\"],[1.0,\"#f0f921\"]],\"sequentialminus\":[[0.0,\"#0d0887\"],[0.1111111111111111,\"#46039f\"],[0.2222222222222222,\"#7201a8\"],[0.3333333333333333,\"#9c179e\"],[0.4444444444444444,\"#bd3786\"],[0.5555555555555556,\"#d8576b\"],[0.6666666666666666,\"#ed7953\"],[0.7777777777777778,\"#fb9f3a\"],[0.8888888888888888,\"#fdca26\"],[1.0,\"#f0f921\"]]},\"colorway\":[\"#636efa\",\"#EF553B\",\"#00cc96\",\"#ab63fa\",\"#FFA15A\",\"#19d3f3\",\"#FF6692\",\"#B6E880\",\"#FF97FF\",\"#FECB52\"],\"font\":{\"color\":\"#2a3f5f\"},\"geo\":{\"bgcolor\":\"white\",\"lakecolor\":\"white\",\"landcolor\":\"#E5ECF6\",\"showlakes\":true,\"showland\":true,\"subunitcolor\":\"white\"},\"hoverlabel\":{\"align\":\"left\"},\"hovermode\":\"closest\",\"mapbox\":{\"style\":\"light\"},\"paper_bgcolor\":\"white\",\"plot_bgcolor\":\"#E5ECF6\",\"polar\":{\"angularaxis\":{\"gridcolor\":\"white\",\"linecolor\":\"white\",\"ticks\":\"\"},\"bgcolor\":\"#E5ECF6\",\"radialaxis\":{\"gridcolor\":\"white\",\"linecolor\":\"white\",\"ticks\":\"\"}},\"scene\":{\"xaxis\":{\"backgroundcolor\":\"#E5ECF6\",\"gridcolor\":\"white\",\"gridwidth\":2,\"linecolor\":\"white\",\"showbackground\":true,\"ticks\":\"\",\"zerolinecolor\":\"white\"},\"yaxis\":{\"backgroundcolor\":\"#E5ECF6\",\"gridcolor\":\"white\",\"gridwidth\":2,\"linecolor\":\"white\",\"showbackground\":true,\"ticks\":\"\",\"zerolinecolor\":\"white\"},\"zaxis\":{\"backgroundcolor\":\"#E5ECF6\",\"gridcolor\":\"white\",\"gridwidth\":2,\"linecolor\":\"white\",\"showbackground\":true,\"ticks\":\"\",\"zerolinecolor\":\"white\"}},\"shapedefaults\":{\"line\":{\"color\":\"#2a3f5f\"}},\"ternary\":{\"aaxis\":{\"gridcolor\":\"white\",\"linecolor\":\"white\",\"ticks\":\"\"},\"baxis\":{\"gridcolor\":\"white\",\"linecolor\":\"white\",\"ticks\":\"\"},\"bgcolor\":\"#E5ECF6\",\"caxis\":{\"gridcolor\":\"white\",\"linecolor\":\"white\",\"ticks\":\"\"}},\"title\":{\"x\":0.05},\"xaxis\":{\"automargin\":true,\"gridcolor\":\"white\",\"linecolor\":\"white\",\"ticks\":\"\",\"title\":{\"standoff\":15},\"zerolinecolor\":\"white\",\"zerolinewidth\":2},\"yaxis\":{\"automargin\":true,\"gridcolor\":\"white\",\"linecolor\":\"white\",\"ticks\":\"\",\"title\":{\"standoff\":15},\"zerolinecolor\":\"white\",\"zerolinewidth\":2}}},\"title\":{\"text\":\"Gapminder from 1962 to 1987\"},\"uirevision\":\"constant\",\"xaxis\":{\"anchor\":\"y\",\"domain\":[0.0,1.0],\"title\":{\"text\":\"Fertility rate, total (births per woman)\"},\"type\":\"linear\"},\"yaxis\":{\"anchor\":\"x\",\"domain\":[0.0,1.0],\"title\":{\"text\":\"Life expectancy at birth, total (years)\"},\"type\":\"linear\"}},                        {\"responsive\": true}                    ).then(function(){\n",
       "                            \n",
       "var gd = document.getElementById('4da54621-cb0a-414c-b865-2bb6ecbe8e77');\n",
       "var x = new MutationObserver(function (mutations, observer) {{\n",
       "        var display = window.getComputedStyle(gd).display;\n",
       "        if (!display || display === 'none') {{\n",
       "            console.log([gd, 'removed!']);\n",
       "            Plotly.purge(gd);\n",
       "            observer.disconnect();\n",
       "        }}\n",
       "}});\n",
       "\n",
       "// Listen for the removal of the full notebook cells\n",
       "var notebookContainer = gd.closest('#notebook-container');\n",
       "if (notebookContainer) {{\n",
       "    x.observe(notebookContainer, {childList: true});\n",
       "}}\n",
       "\n",
       "// Listen for the clearing of the current output cell\n",
       "var outputEl = gd.closest('.output');\n",
       "if (outputEl) {{\n",
       "    x.observe(outputEl, {childList: true});\n",
       "}}\n",
       "\n",
       "                        })                };                });            </script>        </div>"
      ]
     },
     "metadata": {},
     "output_type": "display_data"
    }
   ],
   "source": [
    "with shelve.open('C:\\\\repos\\shelve\\dash2\\\\figure_structure', 'r') as shelf_in:\n",
    "    fig = shelf_in['figout']\n",
    "    figdata = shelf_in['figdata']\n",
    "    dfi = shelf_in['dfi']\n",
    "\n",
    "    dff = shelf_in['dfout']\n",
    "    ctx_inputs_list = shelf_in['ctx_inputs_list']\n",
    "    ctx_outputs_list = shelf_in['ctx_outputs_list']\n",
    "\n",
    "f = fig.full_figure_for_development(warn=False)\n",
    "fig.show()\n"
   ]
  },
  {
   "cell_type": "code",
   "execution_count": 47,
   "id": "ada5946a-10e5-4e89-8cc5-446978fffe28",
   "metadata": {},
   "outputs": [
    {
     "data": {
      "text/plain": [
       "Country Name          0\n",
       "Indicator Name        0\n",
       "Year                  0\n",
       "Value             11144\n",
       "dtype: int64"
      ]
     },
     "execution_count": 47,
     "metadata": {},
     "output_type": "execute_result"
    }
   ],
   "source": [
    "# inspect input dataframe\n",
    "# dfi.info()\n",
    "# dfi.shape\n",
    "# dfi.dtypes\n",
    "dfi.isnull().sum()"
   ]
  },
  {
   "cell_type": "code",
   "execution_count": 50,
   "id": "852cc34e-2f0a-411f-b5bd-315af194535e",
   "metadata": {},
   "outputs": [
    {
     "data": {
      "text/plain": [
       "Country Name         0\n",
       "Indicator Name       0\n",
       "Year                 0\n",
       "Value             1354\n",
       "dtype: int64"
      ]
     },
     "execution_count": 50,
     "metadata": {},
     "output_type": "execute_result"
    }
   ],
   "source": [
    "# inspect output dataframe\n",
    "# dff.info()\n",
    "# dff.shape\n",
    "# dfi.dtypes\n",
    "# dfi.describe()\n",
    "dff.isnull().sum()"
   ]
  },
  {
   "cell_type": "code",
   "execution_count": 24,
   "id": "0a92bc62-1ad6-48d4-aa04-4dfb991bcfc3",
   "metadata": {},
   "outputs": [
    {
     "data": {
      "application/vnd.plotly.v1+json": {
       "config": {
        "plotlyServerURL": "https://plot.ly"
       },
       "data": [
        {
         "customdata": [
          "Arab World",
          "Caribbean small states",
          "Central Europe and the Baltics",
          "Early-demographic dividend",
          "East Asia & Pacific",
          "East Asia & Pacific (excluding high income)",
          "East Asia & Pacific (IDA & IBRD countries)",
          "Euro area",
          "Europe & Central Asia",
          "Europe & Central Asia (excluding high income)",
          "Europe & Central Asia (IDA & IBRD countries)",
          "European Union",
          "Fragile and conflict affected situations",
          "Heavily indebted poor countries (HIPC)",
          "High income",
          "IBRD only",
          "IDA & IBRD total",
          "IDA blend",
          "IDA only",
          "IDA total",
          "Late-demographic dividend",
          "Latin America & Caribbean",
          "Latin America & Caribbean (excluding high income)",
          "Latin America & the Caribbean (IDA & IBRD countries)",
          "Least developed countries: UN classification",
          "Low & middle income",
          "Low income",
          "Lower middle income",
          "Middle East & North Africa",
          "Middle East & North Africa (excluding high income)",
          "Middle East & North Africa (IDA & IBRD countries)",
          "Middle income",
          "North America",
          "Not classified",
          "OECD members",
          "Other small states",
          "Pacific island small states",
          "Post-demographic dividend",
          "Pre-demographic dividend",
          "Small states",
          "South Asia",
          "South Asia (IDA & IBRD)",
          "Sub-Saharan Africa",
          "Sub-Saharan Africa (excluding high income)",
          "Sub-Saharan Africa (IDA & IBRD countries)",
          "Upper middle income",
          "World",
          "Afghanistan",
          "Albania",
          "Algeria",
          "American Samoa",
          "Andorra",
          "Angola",
          "Antigua and Barbuda",
          "Argentina",
          "Armenia",
          "Aruba",
          "Australia",
          "Austria",
          "Azerbaijan",
          "Bahamas, The",
          "Bahrain",
          "Bangladesh",
          "Barbados",
          "Belarus",
          "Belgium",
          "Belize",
          "Benin",
          "Bermuda",
          "Bhutan",
          "Bolivia",
          "Bosnia and Herzegovina",
          "Botswana",
          "Brazil",
          "British Virgin Islands",
          "Brunei Darussalam",
          "Bulgaria",
          "Burkina Faso",
          "Burundi",
          "Cabo Verde",
          "Cambodia",
          "Cameroon",
          "Canada",
          "Cayman Islands",
          "Central African Republic",
          "Chad",
          "Channel Islands",
          "Chile",
          "China",
          "Colombia",
          "Comoros",
          "Congo, Dem. Rep.",
          "Congo, Rep.",
          "Costa Rica",
          "Cote d'Ivoire",
          "Croatia",
          "Cuba",
          "Curacao",
          "Cyprus",
          "Czech Republic",
          "Denmark",
          "Djibouti",
          "Dominica",
          "Dominican Republic",
          "Ecuador",
          "Egypt, Arab Rep.",
          "El Salvador",
          "Equatorial Guinea",
          "Eritrea",
          "Estonia",
          "Ethiopia",
          "Faroe Islands",
          "Fiji",
          "Finland",
          "France",
          "French Polynesia",
          "Gabon",
          "Gambia, The",
          "Georgia",
          "Germany",
          "Ghana",
          "Gibraltar",
          "Greece",
          "Greenland",
          "Grenada",
          "Guam",
          "Guatemala",
          "Guinea",
          "Guinea-Bissau",
          "Guyana",
          "Haiti",
          "Honduras",
          "Hong Kong SAR, China",
          "Hungary",
          "Iceland",
          "India",
          "Indonesia",
          "Iran, Islamic Rep.",
          "Iraq",
          "Ireland",
          "Isle of Man",
          "Israel",
          "Italy",
          "Jamaica",
          "Japan",
          "Jordan",
          "Kazakhstan",
          "Kenya",
          "Kiribati",
          "Korea, Dem. People�s Rep.",
          "Korea, Rep.",
          "Kosovo",
          "Kuwait",
          "Kyrgyz Republic",
          "Lao PDR",
          "Latvia",
          "Lebanon",
          "Lesotho",
          "Liberia",
          "Libya",
          "Liechtenstein",
          "Lithuania",
          "Luxembourg",
          "Macao SAR, China",
          "Macedonia, FYR",
          "Madagascar",
          "Malawi",
          "Malaysia",
          "Maldives",
          "Mali",
          "Malta",
          "Marshall Islands",
          "Mauritania",
          "Mauritius",
          "Mexico",
          "Micronesia, Fed. Sts.",
          "Moldova",
          "Monaco",
          "Mongolia",
          "Montenegro",
          "Morocco",
          "Mozambique",
          "Myanmar",
          "Namibia",
          "Nauru",
          "Nepal",
          "Netherlands",
          "New Caledonia",
          "New Zealand",
          "Nicaragua",
          "Niger",
          "Nigeria",
          "Northern Mariana Islands",
          "Norway",
          "Oman",
          "Pakistan",
          "Palau",
          "Panama",
          "Papua New Guinea",
          "Paraguay",
          "Peru",
          "Philippines",
          "Poland",
          "Portugal",
          "Puerto Rico",
          "Qatar",
          "Romania",
          "Russian Federation",
          "Rwanda",
          "Samoa",
          "San Marino",
          "Sao Tome and Principe",
          "Saudi Arabia",
          "Senegal",
          "Serbia",
          "Seychelles",
          "Sierra Leone",
          "Singapore",
          "Sint Maarten (Dutch part)",
          "Slovak Republic",
          "Slovenia",
          "Solomon Islands",
          "Somalia",
          "South Africa",
          "South Sudan",
          "Spain",
          "Sri Lanka",
          "St. Kitts and Nevis",
          "St. Lucia",
          "St. Martin (French part)",
          "St. Vincent and the Grenadines",
          "Sudan",
          "Suriname",
          "Swaziland",
          "Sweden",
          "Switzerland",
          "Syrian Arab Republic",
          "Tajikistan",
          "Tanzania",
          "Thailand",
          "Timor-Leste",
          "Togo",
          "Tonga",
          "Trinidad and Tobago",
          "Tunisia",
          "Turkey",
          "Turkmenistan",
          "Turks and Caicos Islands",
          "Tuvalu",
          "Uganda",
          "Ukraine",
          "United Arab Emirates",
          "United Kingdom",
          "United States",
          "Uruguay",
          "Uzbekistan",
          "Vanuatu",
          "Venezuela, RB",
          "Vietnam",
          "Virgin Islands",
          "West Bank and Gaza",
          "Yemen, Rep.",
          "Zambia",
          "Zimbabwe"
         ],
         "hovertemplate": "<b>%{hovertext}</b><br><br>x=%{x}<br>y=%{y}<extra></extra>",
         "hovertext": [
          "Arab World",
          "Caribbean small states",
          "Central Europe and the Baltics",
          "Early-demographic dividend",
          "East Asia & Pacific",
          "East Asia & Pacific (excluding high income)",
          "East Asia & Pacific (IDA & IBRD countries)",
          "Euro area",
          "Europe & Central Asia",
          "Europe & Central Asia (excluding high income)",
          "Europe & Central Asia (IDA & IBRD countries)",
          "European Union",
          "Fragile and conflict affected situations",
          "Heavily indebted poor countries (HIPC)",
          "High income",
          "IBRD only",
          "IDA & IBRD total",
          "IDA blend",
          "IDA only",
          "IDA total",
          "Late-demographic dividend",
          "Latin America & Caribbean",
          "Latin America & Caribbean (excluding high income)",
          "Latin America & the Caribbean (IDA & IBRD countries)",
          "Least developed countries: UN classification",
          "Low & middle income",
          "Low income",
          "Lower middle income",
          "Middle East & North Africa",
          "Middle East & North Africa (excluding high income)",
          "Middle East & North Africa (IDA & IBRD countries)",
          "Middle income",
          "North America",
          "Not classified",
          "OECD members",
          "Other small states",
          "Pacific island small states",
          "Post-demographic dividend",
          "Pre-demographic dividend",
          "Small states",
          "South Asia",
          "South Asia (IDA & IBRD)",
          "Sub-Saharan Africa",
          "Sub-Saharan Africa (excluding high income)",
          "Sub-Saharan Africa (IDA & IBRD countries)",
          "Upper middle income",
          "World",
          "Afghanistan",
          "Albania",
          "Algeria",
          "American Samoa",
          "Andorra",
          "Angola",
          "Antigua and Barbuda",
          "Argentina",
          "Armenia",
          "Aruba",
          "Australia",
          "Austria",
          "Azerbaijan",
          "Bahamas, The",
          "Bahrain",
          "Bangladesh",
          "Barbados",
          "Belarus",
          "Belgium",
          "Belize",
          "Benin",
          "Bermuda",
          "Bhutan",
          "Bolivia",
          "Bosnia and Herzegovina",
          "Botswana",
          "Brazil",
          "British Virgin Islands",
          "Brunei Darussalam",
          "Bulgaria",
          "Burkina Faso",
          "Burundi",
          "Cabo Verde",
          "Cambodia",
          "Cameroon",
          "Canada",
          "Cayman Islands",
          "Central African Republic",
          "Chad",
          "Channel Islands",
          "Chile",
          "China",
          "Colombia",
          "Comoros",
          "Congo, Dem. Rep.",
          "Congo, Rep.",
          "Costa Rica",
          "Cote d'Ivoire",
          "Croatia",
          "Cuba",
          "Curacao",
          "Cyprus",
          "Czech Republic",
          "Denmark",
          "Djibouti",
          "Dominica",
          "Dominican Republic",
          "Ecuador",
          "Egypt, Arab Rep.",
          "El Salvador",
          "Equatorial Guinea",
          "Eritrea",
          "Estonia",
          "Ethiopia",
          "Faroe Islands",
          "Fiji",
          "Finland",
          "France",
          "French Polynesia",
          "Gabon",
          "Gambia, The",
          "Georgia",
          "Germany",
          "Ghana",
          "Gibraltar",
          "Greece",
          "Greenland",
          "Grenada",
          "Guam",
          "Guatemala",
          "Guinea",
          "Guinea-Bissau",
          "Guyana",
          "Haiti",
          "Honduras",
          "Hong Kong SAR, China",
          "Hungary",
          "Iceland",
          "India",
          "Indonesia",
          "Iran, Islamic Rep.",
          "Iraq",
          "Ireland",
          "Isle of Man",
          "Israel",
          "Italy",
          "Jamaica",
          "Japan",
          "Jordan",
          "Kazakhstan",
          "Kenya",
          "Kiribati",
          "Korea, Dem. People�s Rep.",
          "Korea, Rep.",
          "Kosovo",
          "Kuwait",
          "Kyrgyz Republic",
          "Lao PDR",
          "Latvia",
          "Lebanon",
          "Lesotho",
          "Liberia",
          "Libya",
          "Liechtenstein",
          "Lithuania",
          "Luxembourg",
          "Macao SAR, China",
          "Macedonia, FYR",
          "Madagascar",
          "Malawi",
          "Malaysia",
          "Maldives",
          "Mali",
          "Malta",
          "Marshall Islands",
          "Mauritania",
          "Mauritius",
          "Mexico",
          "Micronesia, Fed. Sts.",
          "Moldova",
          "Monaco",
          "Mongolia",
          "Montenegro",
          "Morocco",
          "Mozambique",
          "Myanmar",
          "Namibia",
          "Nauru",
          "Nepal",
          "Netherlands",
          "New Caledonia",
          "New Zealand",
          "Nicaragua",
          "Niger",
          "Nigeria",
          "Northern Mariana Islands",
          "Norway",
          "Oman",
          "Pakistan",
          "Palau",
          "Panama",
          "Papua New Guinea",
          "Paraguay",
          "Peru",
          "Philippines",
          "Poland",
          "Portugal",
          "Puerto Rico",
          "Qatar",
          "Romania",
          "Russian Federation",
          "Rwanda",
          "Samoa",
          "San Marino",
          "Sao Tome and Principe",
          "Saudi Arabia",
          "Senegal",
          "Serbia",
          "Seychelles",
          "Sierra Leone",
          "Singapore",
          "Sint Maarten (Dutch part)",
          "Slovak Republic",
          "Slovenia",
          "Solomon Islands",
          "Somalia",
          "South Africa",
          "South Sudan",
          "Spain",
          "Sri Lanka",
          "St. Kitts and Nevis",
          "St. Lucia",
          "St. Martin (French part)",
          "St. Vincent and the Grenadines",
          "Sudan",
          "Suriname",
          "Swaziland",
          "Sweden",
          "Switzerland",
          "Syrian Arab Republic",
          "Tajikistan",
          "Tanzania",
          "Thailand",
          "Timor-Leste",
          "Togo",
          "Tonga",
          "Trinidad and Tobago",
          "Tunisia",
          "Turkey",
          "Turkmenistan",
          "Turks and Caicos Islands",
          "Tuvalu",
          "Uganda",
          "Ukraine",
          "United Arab Emirates",
          "United Kingdom",
          "United States",
          "Uruguay",
          "Uzbekistan",
          "Vanuatu",
          "Venezuela, RB",
          "Vietnam",
          "Virgin Islands",
          "West Bank and Gaza",
          "Yemen, Rep.",
          "Zambia",
          "Zimbabwe"
         ],
         "legendgroup": "",
         "marker": {
          "color": "#636efa",
          "symbol": "circle"
         },
         "mode": "markers",
         "name": "",
         "orientation": "v",
         "showlegend": false,
         "type": "scatter",
         "x": [
          1578.8806925,
          3923.68240346,
          2686.14645564,
          801.16768704,
          1656.81942763,
          1324.77868382,
          1332.00755178,
          3741.37335193,
          3365.33106783,
          3027.07763509,
          2974.0377457,
          3528.05981434,
          532.883619481,
          387.341964064,
          5108.38676563,
          1310.57268613,
          1127.26647411,
          663.53443801,
          357.549749306,
          483.836090366,
          1753.15448787,
          1253.78231118,
          1201.13916199,
          1256.33427601,
          320.260756311,
          1108.84716387,
          null,
          583.870034788,
          1939.64769644,
          1300.11982313,
          1300.11982313,
          1154.45114025,
          7794.82310703,
          null,
          4558.67150857,
          2568.05590493,
          395.026704715,
          5045.04189347,
          524.982272178,
          2714.99708585,
          457.87244741,
          457.87244741,
          670.1719565530001,
          669.94100511,
          670.1719565530001,
          1757.55685207,
          1803.91817798,
          null,
          679.861765101,
          1075.19412704,
          null,
          null,
          561.5501055130001,
          1729.91930993,
          1846.93675639,
          954.730353597,
          null,
          5868.34709712,
          4029.62695258,
          1411.5573398,
          2071.53062447,
          11291.126355,
          173.580998621,
          1452.08832753,
          2918.19790795,
          5389.28164733,
          596.508748236,
          368.216084341,
          null,
          358.04898521,
          561.052703379,
          1381.12205494,
          1028.07041536,
          1221.36231051,
          null,
          8618.396139499999,
          2666.11144524,
          null,
          null,
          214.01352233,
          253.343288148,
          332.30332161,
          8130.58019344,
          null,
          null,
          null,
          null,
          1860.10017433,
          1550.53027085,
          637.510761494,
          63.1348128438,
          299.806124773,
          338.481267822,
          1031.80869969,
          539.7271851830001,
          2102.14585212,
          904.662628457,
          16338.3822958,
          2293.67568483,
          4468.96035161,
          3622.59683256,
          178.904528787,
          607.3875273680001,
          763.408932512,
          833.203582927,
          896.348494221,
          748.1199930380001,
          2641.94245101,
          162.700034655,
          4243.64799952,
          442.86665148300006,
          null,
          627.7486465669999,
          6967.21323874,
          4120.3058212,
          null,
          1281.68189093,
          86.5646462175,
          818.550955414,
          3985.80810152,
          278.760989471,
          5268.8948606,
          2734.92011068,
          null,
          781.9514031680001,
          null,
          616.892076168,
          null,
          62.1995597581,
          670.5666824919999,
          384.513775199,
          657.398639731,
          2107.97304917,
          2658.03637311,
          14746.0313385,
          486.292374786,
          788.5836582439999,
          2662.25450535,
          892.39580238,
          3416.03094562,
          null,
          2898.15336834,
          3062.36054739,
          1578.42891649,
          4024.99795314,
          1251.68193903,
          4267.99306028,
          462.22025237800005,
          114.214515627,
          759.208682667,
          4573.06486741,
          1179.56864066,
          10395.1176066,
          560.6182142590001,
          null,
          2179.81389113,
          1034.92218437,
          9.71541007212,
          null,
          2725.88792504,
          null,
          2927.24122287,
          8773.89670266,
          null,
          1474.7115057,
          null,
          null,
          2742.50027319,
          856.733524355,
          null,
          2156.55579705,
          613.779346325,
          null,
          1007.57484088,
          1551.28978352,
          null,
          938.596721751,
          null,
          1376.98860218,
          1927.97889182,
          487.448713086,
          407.278749651,
          307.913041122,
          659.366428344,
          null,
          357.131793555,
          4843.79608802,
          null,
          4054.4950045,
          521.961949752,
          128.026173022,
          747.1012487439999,
          null,
          5864.97593092,
          6881.62081928,
          523.2672101530001,
          null,
          879.523836391,
          null,
          708.7828687130001,
          506.633143848,
          434.402352876,
          2526.9949602,
          2402.47799385,
          null,
          18775.9643074,
          1904.09688616,
          4709.84574443,
          null,
          318.265125824,
          null,
          274.890043982,
          5379.69097885,
          252.409846662,
          2248.15503566,
          2410.82873708,
          null,
          4677.20430572,
          null,
          3320.45472221,
          3627.52350948,
          130.061474369,
          null,
          2805.48565552,
          null,
          3180.03341956,
          470.83709579,
          1644.70425047,
          752.295087748,
          null,
          641.913268347,
          366.495542,
          1425.28340982,
          372.735499664,
          5472.13539173,
          3410.15494794,
          1165.51429539,
          363.263610574,
          442.62215764,
          1585.96595222,
          60.2056466975,
          417.118049767,
          567.686871752,
          14608.0098682,
          883.981281357,
          1438.53526923,
          4606.19031397,
          null,
          null,
          null,
          2996.21074042,
          8343.10876691,
          3441.68876583,
          7758.16570028,
          947.838610674,
          1777.9147684999998,
          159.122733638,
          2096.72462083,
          540.08195349,
          null,
          null,
          318.012608114,
          588.018958956,
          725.6810488469999
         ],
         "xaxis": "x",
         "y": [
          69.2070082278,
          71.53580442229999,
          74.2523833325,
          66.7168411826,
          73.5846595367,
          72.6378120561,
          72.6919270432,
          80.0997517287,
          74.92140241220001,
          69.42256412520001,
          69.9944489801,
          78.9682102701,
          59.20782178140001,
          56.5766165423,
          79.2386203249,
          70.1729440238,
          67.75917164170001,
          61.2853204195,
          60.089105590200006,
          60.51656342770001,
          73.472904211,
          73.3790228456,
          73.1580129361,
          73.2400064382,
          59.6277315593,
          67.68854263829999,
          56.8013307781,
          65.05949547590001,
          71.4108904527,
          70.8562142383,
          70.8462057183,
          68.7989256332,
          78.2484460493,
          null,
          78.7760227899,
          63.2139229694,
          68.513095791,
          79.0261899061,
          54.4851307308,
          65.22258787310001,
          65.5485167218,
          65.5485167218,
          54.1785518165,
          54.1765429979,
          54.1785518165,
          72.7812540165,
          69.6418542733,
          57.8338292683,
          76.4702926829,
          72.8983658537,
          null,
          null,
          49.43573170729999,
          74.8032195122,
          75.0090487805,
          73.7646585366,
          74.5267560976,
          81.2926829268,
          80.1804878049,
          69.7565121951,
          74.0594634146,
          75.7077560976,
          68.85997560979999,
          74.3564146341,
          70.2034146341,
          79.78292682930001,
          69.452,
          57.867390243900005,
          78.9341463415,
          66.29309756100001,
          64.6941219512,
          75.3714878049,
          59.0745609756,
          72.4148292683,
          null,
          76.6755609756,
          72.6634146341,
          55.188804878,
          53.4560731707,
          72.0993658537,
          64.5523414634,
          52.4791463415,
          80.6343902439,
          null,
          45.687390243900005,
          48.5592195122,
          79.41080487800001,
          79.3135365854,
          74.3404390244,
          72.7055121951,
          60.7123414634,
          55.0644146341,
          55.8013170732,
          78.33031707319999,
          48.7788292683,
          75.7056097561,
          78.44919512199999,
          75.3634146341,
          78.8685121951,
          76.7243902439,
          78.1951219512,
          58.8293414634,
          null,
          72.1313170732,
          74.4950243902,
          69.78229268289999,
          70.7804634146,
          54.5163170732,
          59.6694146341,
          72.8146341463,
          58.408,
          79.8365853659,
          68.8434146341,
          79.2634146341,
          81.112195122,
          74.8919756098,
          60.3927804878,
          58.5694390244,
          73.4210243902,
          79.53414634149999,
          59.6358536585,
          null,
          79.4390243902,
          69.98268292680001,
          71.8447560976,
          77.3074146341,
          70.1107804878,
          53.9994878049,
          52.8554634146,
          65.7797560976,
          59.9773902439,
          71.8587317073,
          82.3268292683,
          73.1512195122,
          81.4536585366,
          65.30043902439999,
          67.5677317073,
          72.674195122,
          68.19902439020001,
          79.6414634146,
          null,
          80.5048780488,
          81.4341463415,
          74.0092926829,
          82.5070731707,
          72.9611707317,
          66.5048780488,
          55.6992926829,
          64.98075609760001,
          68.376195122,
          79.3495121951,
          69.1975609756,
          73.81,
          67.8951219512,
          62.827268292700005,
          71.0195121951,
          77.615902439,
          44.8822195122,
          57.191195122,
          71.7386341463,
          81.2951219512,
          70.9,
          79.3829268293,
          79.0562439024,
          74.3229512195,
          62.053,
          51.5124878049,
          73.81826829270001,
          75.3997073171,
          54.2619268293,
          79.7926829268,
          null,
          61.1397317073,
          72.5707317073,
          75.5879268293,
          68.2204878049,
          68.20990243899999,
          null,
          66.06817073170001,
          74.04063414630001,
          71.2776341463,
          51.622097561,
          64.0936829268,
          58.780804878000005,
          null,
          66.5519268293,
          80.0975609756,
          75.9463414634,
          80.1512195122,
          72.5716585366,
          55.4550243902,
          49.8081463415,
          null,
          80.3951219512,
          75.1236097561,
          64.3387317073,
          null,
          76.3144634146,
          61.3114146341,
          71.6948292683,
          72.9969512195,
          67.47902439020001,
          75.243902439,
          78.3219512195,
          78.4258536585,
          77.28685365850001,
          72.5658536585,
          67.49756097560001,
          57.946000000000005,
          71.5607804878,
          82.506097561,
          65.188,
          73.34507317069999,
          61.7841707317,
          73.6317073171,
          73.1926829268,
          45.4883658537,
          80.4414634146,
          74.543902439,
          74.2073170732,
          78.5609756098,
          66.266804878,
          53.0186585366,
          51.9965121951,
          52.0878536585,
          80.8731707317,
          74.1941219512,
          null,
          73.7118536585,
          78.2219512195,
          71.6994146341,
          60.7008780488,
          69.47907317069999,
          46.772390243900006,
          80.9,
          81.7414634146,
          74.2460731707,
          67.2074878049,
          58.0777804878,
          72.87443902439999,
          65.82419512199999,
          55.4334390244,
          71.737,
          69.2596585366,
          74.2024390244,
          73.1770731707,
          64.6388292683,
          null,
          null,
          53.6541463415,
          68.222195122,
          76.1111707317,
          79.4487804878,
          77.987804878,
          75.9510243902,
          67.5312195122,
          69.9487317073,
          73.38890243899999,
          74.48385365850001,
          78.8243902439,
          71.74704878050001,
          61.954804878,
          52.4771463415,
          44.1777560976
         ],
         "yaxis": "y"
        },
        {
         "hoverinfo": "skip",
         "marker": {
          "color": "#EF553B",
          "line": {
           "width": 4
          },
          "size": 14,
          "symbol": "circle-open"
         },
         "mode": "markers",
         "name": "Caribbean small states",
         "type": "scatter",
         "x": [
          3923.68240346
         ],
         "y": [
          71.53580442229999
         ]
        }
       ],
       "layout": {
        "autosize": true,
        "hovermode": "closest",
        "legend": {
         "orientation": "v",
         "tracegroupgap": 0
        },
        "margin": {
         "b": 20,
         "l": 20,
         "r": 275,
         "t": 40
        },
        "template": {
         "data": {
          "bar": [
           {
            "error_x": {
             "color": "#2a3f5f"
            },
            "error_y": {
             "color": "#2a3f5f"
            },
            "marker": {
             "line": {
              "color": "#E5ECF6",
              "width": 0.5
             },
             "pattern": {
              "fillmode": "overlay",
              "size": 10,
              "solidity": 0.2
             }
            },
            "type": "bar"
           }
          ],
          "barpolar": [
           {
            "marker": {
             "line": {
              "color": "#E5ECF6",
              "width": 0.5
             },
             "pattern": {
              "fillmode": "overlay",
              "size": 10,
              "solidity": 0.2
             }
            },
            "type": "barpolar"
           }
          ],
          "carpet": [
           {
            "aaxis": {
             "endlinecolor": "#2a3f5f",
             "gridcolor": "white",
             "linecolor": "white",
             "minorgridcolor": "white",
             "startlinecolor": "#2a3f5f"
            },
            "baxis": {
             "endlinecolor": "#2a3f5f",
             "gridcolor": "white",
             "linecolor": "white",
             "minorgridcolor": "white",
             "startlinecolor": "#2a3f5f"
            },
            "type": "carpet"
           }
          ],
          "choropleth": [
           {
            "colorbar": {
             "outlinewidth": 0,
             "ticks": ""
            },
            "type": "choropleth"
           }
          ],
          "contour": [
           {
            "colorbar": {
             "outlinewidth": 0,
             "ticks": ""
            },
            "colorscale": [
             [
              0,
              "#0d0887"
             ],
             [
              0.1111111111111111,
              "#46039f"
             ],
             [
              0.2222222222222222,
              "#7201a8"
             ],
             [
              0.3333333333333333,
              "#9c179e"
             ],
             [
              0.4444444444444444,
              "#bd3786"
             ],
             [
              0.5555555555555556,
              "#d8576b"
             ],
             [
              0.6666666666666666,
              "#ed7953"
             ],
             [
              0.7777777777777778,
              "#fb9f3a"
             ],
             [
              0.8888888888888888,
              "#fdca26"
             ],
             [
              1,
              "#f0f921"
             ]
            ],
            "type": "contour"
           }
          ],
          "contourcarpet": [
           {
            "colorbar": {
             "outlinewidth": 0,
             "ticks": ""
            },
            "type": "contourcarpet"
           }
          ],
          "heatmap": [
           {
            "colorbar": {
             "outlinewidth": 0,
             "ticks": ""
            },
            "colorscale": [
             [
              0,
              "#0d0887"
             ],
             [
              0.1111111111111111,
              "#46039f"
             ],
             [
              0.2222222222222222,
              "#7201a8"
             ],
             [
              0.3333333333333333,
              "#9c179e"
             ],
             [
              0.4444444444444444,
              "#bd3786"
             ],
             [
              0.5555555555555556,
              "#d8576b"
             ],
             [
              0.6666666666666666,
              "#ed7953"
             ],
             [
              0.7777777777777778,
              "#fb9f3a"
             ],
             [
              0.8888888888888888,
              "#fdca26"
             ],
             [
              1,
              "#f0f921"
             ]
            ],
            "type": "heatmap"
           }
          ],
          "heatmapgl": [
           {
            "colorbar": {
             "outlinewidth": 0,
             "ticks": ""
            },
            "colorscale": [
             [
              0,
              "#0d0887"
             ],
             [
              0.1111111111111111,
              "#46039f"
             ],
             [
              0.2222222222222222,
              "#7201a8"
             ],
             [
              0.3333333333333333,
              "#9c179e"
             ],
             [
              0.4444444444444444,
              "#bd3786"
             ],
             [
              0.5555555555555556,
              "#d8576b"
             ],
             [
              0.6666666666666666,
              "#ed7953"
             ],
             [
              0.7777777777777778,
              "#fb9f3a"
             ],
             [
              0.8888888888888888,
              "#fdca26"
             ],
             [
              1,
              "#f0f921"
             ]
            ],
            "type": "heatmapgl"
           }
          ],
          "histogram": [
           {
            "marker": {
             "pattern": {
              "fillmode": "overlay",
              "size": 10,
              "solidity": 0.2
             }
            },
            "type": "histogram"
           }
          ],
          "histogram2d": [
           {
            "colorbar": {
             "outlinewidth": 0,
             "ticks": ""
            },
            "colorscale": [
             [
              0,
              "#0d0887"
             ],
             [
              0.1111111111111111,
              "#46039f"
             ],
             [
              0.2222222222222222,
              "#7201a8"
             ],
             [
              0.3333333333333333,
              "#9c179e"
             ],
             [
              0.4444444444444444,
              "#bd3786"
             ],
             [
              0.5555555555555556,
              "#d8576b"
             ],
             [
              0.6666666666666666,
              "#ed7953"
             ],
             [
              0.7777777777777778,
              "#fb9f3a"
             ],
             [
              0.8888888888888888,
              "#fdca26"
             ],
             [
              1,
              "#f0f921"
             ]
            ],
            "type": "histogram2d"
           }
          ],
          "histogram2dcontour": [
           {
            "colorbar": {
             "outlinewidth": 0,
             "ticks": ""
            },
            "colorscale": [
             [
              0,
              "#0d0887"
             ],
             [
              0.1111111111111111,
              "#46039f"
             ],
             [
              0.2222222222222222,
              "#7201a8"
             ],
             [
              0.3333333333333333,
              "#9c179e"
             ],
             [
              0.4444444444444444,
              "#bd3786"
             ],
             [
              0.5555555555555556,
              "#d8576b"
             ],
             [
              0.6666666666666666,
              "#ed7953"
             ],
             [
              0.7777777777777778,
              "#fb9f3a"
             ],
             [
              0.8888888888888888,
              "#fdca26"
             ],
             [
              1,
              "#f0f921"
             ]
            ],
            "type": "histogram2dcontour"
           }
          ],
          "mesh3d": [
           {
            "colorbar": {
             "outlinewidth": 0,
             "ticks": ""
            },
            "type": "mesh3d"
           }
          ],
          "parcoords": [
           {
            "line": {
             "colorbar": {
              "outlinewidth": 0,
              "ticks": ""
             }
            },
            "type": "parcoords"
           }
          ],
          "pie": [
           {
            "automargin": true,
            "type": "pie"
           }
          ],
          "scatter": [
           {
            "fillpattern": {
             "fillmode": "overlay",
             "size": 10,
             "solidity": 0.2
            },
            "type": "scatter"
           }
          ],
          "scatter3d": [
           {
            "line": {
             "colorbar": {
              "outlinewidth": 0,
              "ticks": ""
             }
            },
            "marker": {
             "colorbar": {
              "outlinewidth": 0,
              "ticks": ""
             }
            },
            "type": "scatter3d"
           }
          ],
          "scattercarpet": [
           {
            "marker": {
             "colorbar": {
              "outlinewidth": 0,
              "ticks": ""
             }
            },
            "type": "scattercarpet"
           }
          ],
          "scattergeo": [
           {
            "marker": {
             "colorbar": {
              "outlinewidth": 0,
              "ticks": ""
             }
            },
            "type": "scattergeo"
           }
          ],
          "scattergl": [
           {
            "marker": {
             "colorbar": {
              "outlinewidth": 0,
              "ticks": ""
             }
            },
            "type": "scattergl"
           }
          ],
          "scattermapbox": [
           {
            "marker": {
             "colorbar": {
              "outlinewidth": 0,
              "ticks": ""
             }
            },
            "type": "scattermapbox"
           }
          ],
          "scatterpolar": [
           {
            "marker": {
             "colorbar": {
              "outlinewidth": 0,
              "ticks": ""
             }
            },
            "type": "scatterpolar"
           }
          ],
          "scatterpolargl": [
           {
            "marker": {
             "colorbar": {
              "outlinewidth": 0,
              "ticks": ""
             }
            },
            "type": "scatterpolargl"
           }
          ],
          "scatterternary": [
           {
            "marker": {
             "colorbar": {
              "outlinewidth": 0,
              "ticks": ""
             }
            },
            "type": "scatterternary"
           }
          ],
          "surface": [
           {
            "colorbar": {
             "outlinewidth": 0,
             "ticks": ""
            },
            "colorscale": [
             [
              0,
              "#0d0887"
             ],
             [
              0.1111111111111111,
              "#46039f"
             ],
             [
              0.2222222222222222,
              "#7201a8"
             ],
             [
              0.3333333333333333,
              "#9c179e"
             ],
             [
              0.4444444444444444,
              "#bd3786"
             ],
             [
              0.5555555555555556,
              "#d8576b"
             ],
             [
              0.6666666666666666,
              "#ed7953"
             ],
             [
              0.7777777777777778,
              "#fb9f3a"
             ],
             [
              0.8888888888888888,
              "#fdca26"
             ],
             [
              1,
              "#f0f921"
             ]
            ],
            "type": "surface"
           }
          ],
          "table": [
           {
            "cells": {
             "fill": {
              "color": "#EBF0F8"
             },
             "line": {
              "color": "white"
             }
            },
            "header": {
             "fill": {
              "color": "#C8D4E3"
             },
             "line": {
              "color": "white"
             }
            },
            "type": "table"
           }
          ]
         },
         "layout": {
          "annotationdefaults": {
           "arrowcolor": "#2a3f5f",
           "arrowhead": 0,
           "arrowwidth": 1
          },
          "autotypenumbers": "strict",
          "coloraxis": {
           "colorbar": {
            "outlinewidth": 0,
            "ticks": ""
           }
          },
          "colorscale": {
           "diverging": [
            [
             0,
             "#8e0152"
            ],
            [
             0.1,
             "#c51b7d"
            ],
            [
             0.2,
             "#de77ae"
            ],
            [
             0.3,
             "#f1b6da"
            ],
            [
             0.4,
             "#fde0ef"
            ],
            [
             0.5,
             "#f7f7f7"
            ],
            [
             0.6,
             "#e6f5d0"
            ],
            [
             0.7,
             "#b8e186"
            ],
            [
             0.8,
             "#7fbc41"
            ],
            [
             0.9,
             "#4d9221"
            ],
            [
             1,
             "#276419"
            ]
           ],
           "sequential": [
            [
             0,
             "#0d0887"
            ],
            [
             0.1111111111111111,
             "#46039f"
            ],
            [
             0.2222222222222222,
             "#7201a8"
            ],
            [
             0.3333333333333333,
             "#9c179e"
            ],
            [
             0.4444444444444444,
             "#bd3786"
            ],
            [
             0.5555555555555556,
             "#d8576b"
            ],
            [
             0.6666666666666666,
             "#ed7953"
            ],
            [
             0.7777777777777778,
             "#fb9f3a"
            ],
            [
             0.8888888888888888,
             "#fdca26"
            ],
            [
             1,
             "#f0f921"
            ]
           ],
           "sequentialminus": [
            [
             0,
             "#0d0887"
            ],
            [
             0.1111111111111111,
             "#46039f"
            ],
            [
             0.2222222222222222,
             "#7201a8"
            ],
            [
             0.3333333333333333,
             "#9c179e"
            ],
            [
             0.4444444444444444,
             "#bd3786"
            ],
            [
             0.5555555555555556,
             "#d8576b"
            ],
            [
             0.6666666666666666,
             "#ed7953"
            ],
            [
             0.7777777777777778,
             "#fb9f3a"
            ],
            [
             0.8888888888888888,
             "#fdca26"
            ],
            [
             1,
             "#f0f921"
            ]
           ]
          },
          "colorway": [
           "#636efa",
           "#EF553B",
           "#00cc96",
           "#ab63fa",
           "#FFA15A",
           "#19d3f3",
           "#FF6692",
           "#B6E880",
           "#FF97FF",
           "#FECB52"
          ],
          "font": {
           "color": "#2a3f5f"
          },
          "geo": {
           "bgcolor": "white",
           "lakecolor": "white",
           "landcolor": "#E5ECF6",
           "showlakes": true,
           "showland": true,
           "subunitcolor": "white"
          },
          "hoverlabel": {
           "align": "left"
          },
          "hovermode": "closest",
          "mapbox": {
           "style": "light"
          },
          "paper_bgcolor": "white",
          "plot_bgcolor": "#E5ECF6",
          "polar": {
           "angularaxis": {
            "gridcolor": "white",
            "linecolor": "white",
            "ticks": ""
           },
           "bgcolor": "#E5ECF6",
           "radialaxis": {
            "gridcolor": "white",
            "linecolor": "white",
            "ticks": ""
           }
          },
          "scene": {
           "xaxis": {
            "backgroundcolor": "#E5ECF6",
            "gridcolor": "white",
            "gridwidth": 2,
            "linecolor": "white",
            "showbackground": true,
            "ticks": "",
            "zerolinecolor": "white"
           },
           "yaxis": {
            "backgroundcolor": "#E5ECF6",
            "gridcolor": "white",
            "gridwidth": 2,
            "linecolor": "white",
            "showbackground": true,
            "ticks": "",
            "zerolinecolor": "white"
           },
           "zaxis": {
            "backgroundcolor": "#E5ECF6",
            "gridcolor": "white",
            "gridwidth": 2,
            "linecolor": "white",
            "showbackground": true,
            "ticks": "",
            "zerolinecolor": "white"
           }
          },
          "shapedefaults": {
           "line": {
            "color": "#2a3f5f"
           }
          },
          "ternary": {
           "aaxis": {
            "gridcolor": "white",
            "linecolor": "white",
            "ticks": ""
           },
           "baxis": {
            "gridcolor": "white",
            "linecolor": "white",
            "ticks": ""
           },
           "bgcolor": "#E5ECF6",
           "caxis": {
            "gridcolor": "white",
            "linecolor": "white",
            "ticks": ""
           }
          },
          "title": {
           "x": 0.05
          },
          "xaxis": {
           "automargin": true,
           "gridcolor": "white",
           "linecolor": "white",
           "ticks": "",
           "title": {
            "standoff": 15
           },
           "zerolinecolor": "white",
           "zerolinewidth": 2
          },
          "yaxis": {
           "automargin": true,
           "gridcolor": "white",
           "linecolor": "white",
           "ticks": "",
           "title": {
            "standoff": 15
           },
           "zerolinecolor": "white",
           "zerolinewidth": 2
          }
         }
        },
        "title": {
         "text": "Gapminder from 1962 to 2007"
        },
        "uirevision": "constant",
        "xaxis": {
         "anchor": "y",
         "autorange": true,
         "domain": [
          0,
          1
         ],
         "range": [
          -1107.4510955501469,
          19893.130813022268
         ],
         "title": {
          "text": "Energy use (kg of oil equivalent per capita)"
         },
         "type": "linear"
        },
        "yaxis": {
         "anchor": "x",
         "autorange": true,
         "domain": [
          0,
          1
         ],
         "range": [
          41.72551658807178,
          84.95931268022822
         ],
         "title": {
          "text": "Life expectancy at birth, total (years)"
         },
         "type": "linear"
        }
       }
      },
      "image/png": "[encoded data removed]",
      "text/html": [
       "<div>                            <div id=\"e163b2eb-0ead-4d60-9970-293830833289\" class=\"plotly-graph-div\" style=\"height:650px; width:100%;\"></div>            <script type=\"text/javascript\">                require([\"plotly\"], function(Plotly) {                    window.PLOTLYENV=window.PLOTLYENV || {};                                    if (document.getElementById(\"e163b2eb-0ead-4d60-9970-293830833289\")) {                    Plotly.newPlot(                        \"e163b2eb-0ead-4d60-9970-293830833289\",                        [{\"customdata\":[\"Arab World\",\"Caribbean small states\",\"Central Europe and the Baltics\",\"Early-demographic dividend\",\"East Asia & Pacific\",\"East Asia & Pacific (excluding high income)\",\"East Asia & Pacific (IDA & IBRD countries)\",\"Euro area\",\"Europe & Central Asia\",\"Europe & Central Asia (excluding high income)\",\"Europe & Central Asia (IDA & IBRD countries)\",\"European Union\",\"Fragile and conflict affected situations\",\"Heavily indebted poor countries (HIPC)\",\"High income\",\"IBRD only\",\"IDA & IBRD total\",\"IDA blend\",\"IDA only\",\"IDA total\",\"Late-demographic dividend\",\"Latin America & Caribbean\",\"Latin America & Caribbean (excluding high income)\",\"Latin America & the Caribbean (IDA & IBRD countries)\",\"Least developed countries: UN classification\",\"Low & middle income\",\"Low income\",\"Lower middle income\",\"Middle East & North Africa\",\"Middle East & North Africa (excluding high income)\",\"Middle East & North Africa (IDA & IBRD countries)\",\"Middle income\",\"North America\",\"Not classified\",\"OECD members\",\"Other small states\",\"Pacific island small states\",\"Post-demographic dividend\",\"Pre-demographic dividend\",\"Small states\",\"South Asia\",\"South Asia (IDA & IBRD)\",\"Sub-Saharan Africa\",\"Sub-Saharan Africa (excluding high income)\",\"Sub-Saharan Africa (IDA & IBRD countries)\",\"Upper middle income\",\"World\",\"Afghanistan\",\"Albania\",\"Algeria\",\"American Samoa\",\"Andorra\",\"Angola\",\"Antigua and Barbuda\",\"Argentina\",\"Armenia\",\"Aruba\",\"Australia\",\"Austria\",\"Azerbaijan\",\"Bahamas, The\",\"Bahrain\",\"Bangladesh\",\"Barbados\",\"Belarus\",\"Belgium\",\"Belize\",\"Benin\",\"Bermuda\",\"Bhutan\",\"Bolivia\",\"Bosnia and Herzegovina\",\"Botswana\",\"Brazil\",\"British Virgin Islands\",\"Brunei Darussalam\",\"Bulgaria\",\"Burkina Faso\",\"Burundi\",\"Cabo Verde\",\"Cambodia\",\"Cameroon\",\"Canada\",\"Cayman Islands\",\"Central African Republic\",\"Chad\",\"Channel Islands\",\"Chile\",\"China\",\"Colombia\",\"Comoros\",\"Congo, Dem. Rep.\",\"Congo, Rep.\",\"Costa Rica\",\"Cote d'Ivoire\",\"Croatia\",\"Cuba\",\"Curacao\",\"Cyprus\",\"Czech Republic\",\"Denmark\",\"Djibouti\",\"Dominica\",\"Dominican Republic\",\"Ecuador\",\"Egypt, Arab Rep.\",\"El Salvador\",\"Equatorial Guinea\",\"Eritrea\",\"Estonia\",\"Ethiopia\",\"Faroe Islands\",\"Fiji\",\"Finland\",\"France\",\"French Polynesia\",\"Gabon\",\"Gambia, The\",\"Georgia\",\"Germany\",\"Ghana\",\"Gibraltar\",\"Greece\",\"Greenland\",\"Grenada\",\"Guam\",\"Guatemala\",\"Guinea\",\"Guinea-Bissau\",\"Guyana\",\"Haiti\",\"Honduras\",\"Hong Kong SAR, China\",\"Hungary\",\"Iceland\",\"India\",\"Indonesia\",\"Iran, Islamic Rep.\",\"Iraq\",\"Ireland\",\"Isle of Man\",\"Israel\",\"Italy\",\"Jamaica\",\"Japan\",\"Jordan\",\"Kazakhstan\",\"Kenya\",\"Kiribati\",\"Korea, Dem. People\\ufffds Rep.\",\"Korea, Rep.\",\"Kosovo\",\"Kuwait\",\"Kyrgyz Republic\",\"Lao PDR\",\"Latvia\",\"Lebanon\",\"Lesotho\",\"Liberia\",\"Libya\",\"Liechtenstein\",\"Lithuania\",\"Luxembourg\",\"Macao SAR, China\",\"Macedonia, FYR\",\"Madagascar\",\"Malawi\",\"Malaysia\",\"Maldives\",\"Mali\",\"Malta\",\"Marshall Islands\",\"Mauritania\",\"Mauritius\",\"Mexico\",\"Micronesia, Fed. Sts.\",\"Moldova\",\"Monaco\",\"Mongolia\",\"Montenegro\",\"Morocco\",\"Mozambique\",\"Myanmar\",\"Namibia\",\"Nauru\",\"Nepal\",\"Netherlands\",\"New Caledonia\",\"New Zealand\",\"Nicaragua\",\"Niger\",\"Nigeria\",\"Northern Mariana Islands\",\"Norway\",\"Oman\",\"Pakistan\",\"Palau\",\"Panama\",\"Papua New Guinea\",\"Paraguay\",\"Peru\",\"Philippines\",\"Poland\",\"Portugal\",\"Puerto Rico\",\"Qatar\",\"Romania\",\"Russian Federation\",\"Rwanda\",\"Samoa\",\"San Marino\",\"Sao Tome and Principe\",\"Saudi Arabia\",\"Senegal\",\"Serbia\",\"Seychelles\",\"Sierra Leone\",\"Singapore\",\"Sint Maarten (Dutch part)\",\"Slovak Republic\",\"Slovenia\",\"Solomon Islands\",\"Somalia\",\"South Africa\",\"South Sudan\",\"Spain\",\"Sri Lanka\",\"St. Kitts and Nevis\",\"St. Lucia\",\"St. Martin (French part)\",\"St. Vincent and the Grenadines\",\"Sudan\",\"Suriname\",\"Swaziland\",\"Sweden\",\"Switzerland\",\"Syrian Arab Republic\",\"Tajikistan\",\"Tanzania\",\"Thailand\",\"Timor-Leste\",\"Togo\",\"Tonga\",\"Trinidad and Tobago\",\"Tunisia\",\"Turkey\",\"Turkmenistan\",\"Turks and Caicos Islands\",\"Tuvalu\",\"Uganda\",\"Ukraine\",\"United Arab Emirates\",\"United Kingdom\",\"United States\",\"Uruguay\",\"Uzbekistan\",\"Vanuatu\",\"Venezuela, RB\",\"Vietnam\",\"Virgin Islands\",\"West Bank and Gaza\",\"Yemen, Rep.\",\"Zambia\",\"Zimbabwe\"],\"hovertemplate\":\"<b>%{hovertext}</b><br><br>x=%{x}<br>y=%{y}<extra></extra>\",\"hovertext\":[\"Arab World\",\"Caribbean small states\",\"Central Europe and the Baltics\",\"Early-demographic dividend\",\"East Asia & Pacific\",\"East Asia & Pacific (excluding high income)\",\"East Asia & Pacific (IDA & IBRD countries)\",\"Euro area\",\"Europe & Central Asia\",\"Europe & Central Asia (excluding high income)\",\"Europe & Central Asia (IDA & IBRD countries)\",\"European Union\",\"Fragile and conflict affected situations\",\"Heavily indebted poor countries (HIPC)\",\"High income\",\"IBRD only\",\"IDA & IBRD total\",\"IDA blend\",\"IDA only\",\"IDA total\",\"Late-demographic dividend\",\"Latin America & Caribbean\",\"Latin America & Caribbean (excluding high income)\",\"Latin America & the Caribbean (IDA & IBRD countries)\",\"Least developed countries: UN classification\",\"Low & middle income\",\"Low income\",\"Lower middle income\",\"Middle East & North Africa\",\"Middle East & North Africa (excluding high income)\",\"Middle East & North Africa (IDA & IBRD countries)\",\"Middle income\",\"North America\",\"Not classified\",\"OECD members\",\"Other small states\",\"Pacific island small states\",\"Post-demographic dividend\",\"Pre-demographic dividend\",\"Small states\",\"South Asia\",\"South Asia (IDA & IBRD)\",\"Sub-Saharan Africa\",\"Sub-Saharan Africa (excluding high income)\",\"Sub-Saharan Africa (IDA & IBRD countries)\",\"Upper middle income\",\"World\",\"Afghanistan\",\"Albania\",\"Algeria\",\"American Samoa\",\"Andorra\",\"Angola\",\"Antigua and Barbuda\",\"Argentina\",\"Armenia\",\"Aruba\",\"Australia\",\"Austria\",\"Azerbaijan\",\"Bahamas, The\",\"Bahrain\",\"Bangladesh\",\"Barbados\",\"Belarus\",\"Belgium\",\"Belize\",\"Benin\",\"Bermuda\",\"Bhutan\",\"Bolivia\",\"Bosnia and Herzegovina\",\"Botswana\",\"Brazil\",\"British Virgin Islands\",\"Brunei Darussalam\",\"Bulgaria\",\"Burkina Faso\",\"Burundi\",\"Cabo Verde\",\"Cambodia\",\"Cameroon\",\"Canada\",\"Cayman Islands\",\"Central African Republic\",\"Chad\",\"Channel Islands\",\"Chile\",\"China\",\"Colombia\",\"Comoros\",\"Congo, Dem. Rep.\",\"Congo, Rep.\",\"Costa Rica\",\"Cote d'Ivoire\",\"Croatia\",\"Cuba\",\"Curacao\",\"Cyprus\",\"Czech Republic\",\"Denmark\",\"Djibouti\",\"Dominica\",\"Dominican Republic\",\"Ecuador\",\"Egypt, Arab Rep.\",\"El Salvador\",\"Equatorial Guinea\",\"Eritrea\",\"Estonia\",\"Ethiopia\",\"Faroe Islands\",\"Fiji\",\"Finland\",\"France\",\"French Polynesia\",\"Gabon\",\"Gambia, The\",\"Georgia\",\"Germany\",\"Ghana\",\"Gibraltar\",\"Greece\",\"Greenland\",\"Grenada\",\"Guam\",\"Guatemala\",\"Guinea\",\"Guinea-Bissau\",\"Guyana\",\"Haiti\",\"Honduras\",\"Hong Kong SAR, China\",\"Hungary\",\"Iceland\",\"India\",\"Indonesia\",\"Iran, Islamic Rep.\",\"Iraq\",\"Ireland\",\"Isle of Man\",\"Israel\",\"Italy\",\"Jamaica\",\"Japan\",\"Jordan\",\"Kazakhstan\",\"Kenya\",\"Kiribati\",\"Korea, Dem. People\\ufffds Rep.\",\"Korea, Rep.\",\"Kosovo\",\"Kuwait\",\"Kyrgyz Republic\",\"Lao PDR\",\"Latvia\",\"Lebanon\",\"Lesotho\",\"Liberia\",\"Libya\",\"Liechtenstein\",\"Lithuania\",\"Luxembourg\",\"Macao SAR, China\",\"Macedonia, FYR\",\"Madagascar\",\"Malawi\",\"Malaysia\",\"Maldives\",\"Mali\",\"Malta\",\"Marshall Islands\",\"Mauritania\",\"Mauritius\",\"Mexico\",\"Micronesia, Fed. Sts.\",\"Moldova\",\"Monaco\",\"Mongolia\",\"Montenegro\",\"Morocco\",\"Mozambique\",\"Myanmar\",\"Namibia\",\"Nauru\",\"Nepal\",\"Netherlands\",\"New Caledonia\",\"New Zealand\",\"Nicaragua\",\"Niger\",\"Nigeria\",\"Northern Mariana Islands\",\"Norway\",\"Oman\",\"Pakistan\",\"Palau\",\"Panama\",\"Papua New Guinea\",\"Paraguay\",\"Peru\",\"Philippines\",\"Poland\",\"Portugal\",\"Puerto Rico\",\"Qatar\",\"Romania\",\"Russian Federation\",\"Rwanda\",\"Samoa\",\"San Marino\",\"Sao Tome and Principe\",\"Saudi Arabia\",\"Senegal\",\"Serbia\",\"Seychelles\",\"Sierra Leone\",\"Singapore\",\"Sint Maarten (Dutch part)\",\"Slovak Republic\",\"Slovenia\",\"Solomon Islands\",\"Somalia\",\"South Africa\",\"South Sudan\",\"Spain\",\"Sri Lanka\",\"St. Kitts and Nevis\",\"St. Lucia\",\"St. Martin (French part)\",\"St. Vincent and the Grenadines\",\"Sudan\",\"Suriname\",\"Swaziland\",\"Sweden\",\"Switzerland\",\"Syrian Arab Republic\",\"Tajikistan\",\"Tanzania\",\"Thailand\",\"Timor-Leste\",\"Togo\",\"Tonga\",\"Trinidad and Tobago\",\"Tunisia\",\"Turkey\",\"Turkmenistan\",\"Turks and Caicos Islands\",\"Tuvalu\",\"Uganda\",\"Ukraine\",\"United Arab Emirates\",\"United Kingdom\",\"United States\",\"Uruguay\",\"Uzbekistan\",\"Vanuatu\",\"Venezuela, RB\",\"Vietnam\",\"Virgin Islands\",\"West Bank and Gaza\",\"Yemen, Rep.\",\"Zambia\",\"Zimbabwe\"],\"legendgroup\":\"\",\"marker\":{\"color\":\"#636efa\",\"symbol\":\"circle\"},\"mode\":\"markers\",\"name\":\"\",\"orientation\":\"v\",\"showlegend\":false,\"x\":[1578.8806925,3923.68240346,2686.14645564,801.16768704,1656.81942763,1324.77868382,1332.00755178,3741.37335193,3365.33106783,3027.07763509,2974.0377457,3528.05981434,532.883619481,387.341964064,5108.38676563,1310.57268613,1127.26647411,663.53443801,357.549749306,483.836090366,1753.15448787,1253.78231118,1201.13916199,1256.33427601,320.260756311,1108.84716387,null,583.870034788,1939.64769644,1300.11982313,1300.11982313,1154.45114025,7794.82310703,null,4558.67150857,2568.05590493,395.026704715,5045.04189347,524.982272178,2714.99708585,457.87244741,457.87244741,670.1719565530001,669.94100511,670.1719565530001,1757.55685207,1803.91817798,null,679.861765101,1075.19412704,null,null,561.5501055130001,1729.91930993,1846.93675639,954.730353597,null,5868.34709712,4029.62695258,1411.5573398,2071.53062447,11291.126355,173.580998621,1452.08832753,2918.19790795,5389.28164733,596.508748236,368.216084341,null,358.04898521,561.052703379,1381.12205494,1028.07041536,1221.36231051,null,8618.396139499999,2666.11144524,null,null,214.01352233,253.343288148,332.30332161,8130.58019344,null,null,null,null,1860.10017433,1550.53027085,637.510761494,63.1348128438,299.806124773,338.481267822,1031.80869969,539.7271851830001,2102.14585212,904.662628457,16338.3822958,2293.67568483,4468.96035161,3622.59683256,178.904528787,607.3875273680001,763.408932512,833.203582927,896.348494221,748.1199930380001,2641.94245101,162.700034655,4243.64799952,442.86665148300006,null,627.7486465669999,6967.21323874,4120.3058212,null,1281.68189093,86.5646462175,818.550955414,3985.80810152,278.760989471,5268.8948606,2734.92011068,null,781.9514031680001,null,616.892076168,null,62.1995597581,670.5666824919999,384.513775199,657.398639731,2107.97304917,2658.03637311,14746.0313385,486.292374786,788.5836582439999,2662.25450535,892.39580238,3416.03094562,null,2898.15336834,3062.36054739,1578.42891649,4024.99795314,1251.68193903,4267.99306028,462.22025237800005,114.214515627,759.208682667,4573.06486741,1179.56864066,10395.1176066,560.6182142590001,null,2179.81389113,1034.92218437,9.71541007212,null,2725.88792504,null,2927.24122287,8773.89670266,null,1474.7115057,null,null,2742.50027319,856.733524355,null,2156.55579705,613.779346325,null,1007.57484088,1551.28978352,null,938.596721751,null,1376.98860218,1927.97889182,487.448713086,407.278749651,307.913041122,659.366428344,null,357.131793555,4843.79608802,null,4054.4950045,521.961949752,128.026173022,747.1012487439999,null,5864.97593092,6881.62081928,523.2672101530001,null,879.523836391,null,708.7828687130001,506.633143848,434.402352876,2526.9949602,2402.47799385,null,18775.9643074,1904.09688616,4709.84574443,null,318.265125824,null,274.890043982,5379.69097885,252.409846662,2248.15503566,2410.82873708,null,4677.20430572,null,3320.45472221,3627.52350948,130.061474369,null,2805.48565552,null,3180.03341956,470.83709579,1644.70425047,752.295087748,null,641.913268347,366.495542,1425.28340982,372.735499664,5472.13539173,3410.15494794,1165.51429539,363.263610574,442.62215764,1585.96595222,60.2056466975,417.118049767,567.686871752,14608.0098682,883.981281357,1438.53526923,4606.19031397,null,null,null,2996.21074042,8343.10876691,3441.68876583,7758.16570028,947.838610674,1777.9147684999998,159.122733638,2096.72462083,540.08195349,null,null,318.012608114,588.018958956,725.6810488469999],\"xaxis\":\"x\",\"y\":[69.2070082278,71.53580442229999,74.2523833325,66.7168411826,73.5846595367,72.6378120561,72.6919270432,80.0997517287,74.92140241220001,69.42256412520001,69.9944489801,78.9682102701,59.20782178140001,56.5766165423,79.2386203249,70.1729440238,67.75917164170001,61.2853204195,60.089105590200006,60.51656342770001,73.472904211,73.3790228456,73.1580129361,73.2400064382,59.6277315593,67.68854263829999,56.8013307781,65.05949547590001,71.4108904527,70.8562142383,70.8462057183,68.7989256332,78.2484460493,null,78.7760227899,63.2139229694,68.513095791,79.0261899061,54.4851307308,65.22258787310001,65.5485167218,65.5485167218,54.1785518165,54.1765429979,54.1785518165,72.7812540165,69.6418542733,57.8338292683,76.4702926829,72.8983658537,null,null,49.43573170729999,74.8032195122,75.0090487805,73.7646585366,74.5267560976,81.2926829268,80.1804878049,69.7565121951,74.0594634146,75.7077560976,68.85997560979999,74.3564146341,70.2034146341,79.78292682930001,69.452,57.867390243900005,78.9341463415,66.29309756100001,64.6941219512,75.3714878049,59.0745609756,72.4148292683,null,76.6755609756,72.6634146341,55.188804878,53.4560731707,72.0993658537,64.5523414634,52.4791463415,80.6343902439,null,45.687390243900005,48.5592195122,79.41080487800001,79.3135365854,74.3404390244,72.7055121951,60.7123414634,55.0644146341,55.8013170732,78.33031707319999,48.7788292683,75.7056097561,78.44919512199999,75.3634146341,78.8685121951,76.7243902439,78.1951219512,58.8293414634,null,72.1313170732,74.4950243902,69.78229268289999,70.7804634146,54.5163170732,59.6694146341,72.8146341463,58.408,79.8365853659,68.8434146341,79.2634146341,81.112195122,74.8919756098,60.3927804878,58.5694390244,73.4210243902,79.53414634149999,59.6358536585,null,79.4390243902,69.98268292680001,71.8447560976,77.3074146341,70.1107804878,53.9994878049,52.8554634146,65.7797560976,59.9773902439,71.8587317073,82.3268292683,73.1512195122,81.4536585366,65.30043902439999,67.5677317073,72.674195122,68.19902439020001,79.6414634146,null,80.5048780488,81.4341463415,74.0092926829,82.5070731707,72.9611707317,66.5048780488,55.6992926829,64.98075609760001,68.376195122,79.3495121951,69.1975609756,73.81,67.8951219512,62.827268292700005,71.0195121951,77.615902439,44.8822195122,57.191195122,71.7386341463,81.2951219512,70.9,79.3829268293,79.0562439024,74.3229512195,62.053,51.5124878049,73.81826829270001,75.3997073171,54.2619268293,79.7926829268,null,61.1397317073,72.5707317073,75.5879268293,68.2204878049,68.20990243899999,null,66.06817073170001,74.04063414630001,71.2776341463,51.622097561,64.0936829268,58.780804878000005,null,66.5519268293,80.0975609756,75.9463414634,80.1512195122,72.5716585366,55.4550243902,49.8081463415,null,80.3951219512,75.1236097561,64.3387317073,null,76.3144634146,61.3114146341,71.6948292683,72.9969512195,67.47902439020001,75.243902439,78.3219512195,78.4258536585,77.28685365850001,72.5658536585,67.49756097560001,57.946000000000005,71.5607804878,82.506097561,65.188,73.34507317069999,61.7841707317,73.6317073171,73.1926829268,45.4883658537,80.4414634146,74.543902439,74.2073170732,78.5609756098,66.266804878,53.0186585366,51.9965121951,52.0878536585,80.8731707317,74.1941219512,null,73.7118536585,78.2219512195,71.6994146341,60.7008780488,69.47907317069999,46.772390243900006,80.9,81.7414634146,74.2460731707,67.2074878049,58.0777804878,72.87443902439999,65.82419512199999,55.4334390244,71.737,69.2596585366,74.2024390244,73.1770731707,64.6388292683,null,null,53.6541463415,68.222195122,76.1111707317,79.4487804878,77.987804878,75.9510243902,67.5312195122,69.9487317073,73.38890243899999,74.48385365850001,78.8243902439,71.74704878050001,61.954804878,52.4771463415,44.1777560976],\"yaxis\":\"y\",\"type\":\"scatter\"},{\"hoverinfo\":\"skip\",\"marker\":{\"color\":\"#EF553B\",\"line\":{\"width\":4},\"size\":14,\"symbol\":\"circle-open\"},\"mode\":\"markers\",\"name\":\"Caribbean small states\",\"x\":[3923.68240346],\"y\":[71.53580442229999],\"type\":\"scatter\"}],                        {\"height\":650,\"hovermode\":\"closest\",\"legend\":{\"orientation\":\"v\",\"tracegroupgap\":0},\"margin\":{\"b\":20,\"l\":20,\"r\":275,\"t\":40},\"template\":{\"data\":{\"barpolar\":[{\"marker\":{\"line\":{\"color\":\"#E5ECF6\",\"width\":0.5},\"pattern\":{\"fillmode\":\"overlay\",\"size\":10,\"solidity\":0.2}},\"type\":\"barpolar\"}],\"bar\":[{\"error_x\":{\"color\":\"#2a3f5f\"},\"error_y\":{\"color\":\"#2a3f5f\"},\"marker\":{\"line\":{\"color\":\"#E5ECF6\",\"width\":0.5},\"pattern\":{\"fillmode\":\"overlay\",\"size\":10,\"solidity\":0.2}},\"type\":\"bar\"}],\"carpet\":[{\"aaxis\":{\"endlinecolor\":\"#2a3f5f\",\"gridcolor\":\"white\",\"linecolor\":\"white\",\"minorgridcolor\":\"white\",\"startlinecolor\":\"#2a3f5f\"},\"baxis\":{\"endlinecolor\":\"#2a3f5f\",\"gridcolor\":\"white\",\"linecolor\":\"white\",\"minorgridcolor\":\"white\",\"startlinecolor\":\"#2a3f5f\"},\"type\":\"carpet\"}],\"choropleth\":[{\"colorbar\":{\"outlinewidth\":0,\"ticks\":\"\"},\"type\":\"choropleth\"}],\"contourcarpet\":[{\"colorbar\":{\"outlinewidth\":0,\"ticks\":\"\"},\"type\":\"contourcarpet\"}],\"contour\":[{\"colorbar\":{\"outlinewidth\":0,\"ticks\":\"\"},\"colorscale\":[[0.0,\"#0d0887\"],[0.1111111111111111,\"#46039f\"],[0.2222222222222222,\"#7201a8\"],[0.3333333333333333,\"#9c179e\"],[0.4444444444444444,\"#bd3786\"],[0.5555555555555556,\"#d8576b\"],[0.6666666666666666,\"#ed7953\"],[0.7777777777777778,\"#fb9f3a\"],[0.8888888888888888,\"#fdca26\"],[1.0,\"#f0f921\"]],\"type\":\"contour\"}],\"heatmapgl\":[{\"colorbar\":{\"outlinewidth\":0,\"ticks\":\"\"},\"colorscale\":[[0.0,\"#0d0887\"],[0.1111111111111111,\"#46039f\"],[0.2222222222222222,\"#7201a8\"],[0.3333333333333333,\"#9c179e\"],[0.4444444444444444,\"#bd3786\"],[0.5555555555555556,\"#d8576b\"],[0.6666666666666666,\"#ed7953\"],[0.7777777777777778,\"#fb9f3a\"],[0.8888888888888888,\"#fdca26\"],[1.0,\"#f0f921\"]],\"type\":\"heatmapgl\"}],\"heatmap\":[{\"colorbar\":{\"outlinewidth\":0,\"ticks\":\"\"},\"colorscale\":[[0.0,\"#0d0887\"],[0.1111111111111111,\"#46039f\"],[0.2222222222222222,\"#7201a8\"],[0.3333333333333333,\"#9c179e\"],[0.4444444444444444,\"#bd3786\"],[0.5555555555555556,\"#d8576b\"],[0.6666666666666666,\"#ed7953\"],[0.7777777777777778,\"#fb9f3a\"],[0.8888888888888888,\"#fdca26\"],[1.0,\"#f0f921\"]],\"type\":\"heatmap\"}],\"histogram2dcontour\":[{\"colorbar\":{\"outlinewidth\":0,\"ticks\":\"\"},\"colorscale\":[[0.0,\"#0d0887\"],[0.1111111111111111,\"#46039f\"],[0.2222222222222222,\"#7201a8\"],[0.3333333333333333,\"#9c179e\"],[0.4444444444444444,\"#bd3786\"],[0.5555555555555556,\"#d8576b\"],[0.6666666666666666,\"#ed7953\"],[0.7777777777777778,\"#fb9f3a\"],[0.8888888888888888,\"#fdca26\"],[1.0,\"#f0f921\"]],\"type\":\"histogram2dcontour\"}],\"histogram2d\":[{\"colorbar\":{\"outlinewidth\":0,\"ticks\":\"\"},\"colorscale\":[[0.0,\"#0d0887\"],[0.1111111111111111,\"#46039f\"],[0.2222222222222222,\"#7201a8\"],[0.3333333333333333,\"#9c179e\"],[0.4444444444444444,\"#bd3786\"],[0.5555555555555556,\"#d8576b\"],[0.6666666666666666,\"#ed7953\"],[0.7777777777777778,\"#fb9f3a\"],[0.8888888888888888,\"#fdca26\"],[1.0,\"#f0f921\"]],\"type\":\"histogram2d\"}],\"histogram\":[{\"marker\":{\"pattern\":{\"fillmode\":\"overlay\",\"size\":10,\"solidity\":0.2}},\"type\":\"histogram\"}],\"mesh3d\":[{\"colorbar\":{\"outlinewidth\":0,\"ticks\":\"\"},\"type\":\"mesh3d\"}],\"parcoords\":[{\"line\":{\"colorbar\":{\"outlinewidth\":0,\"ticks\":\"\"}},\"type\":\"parcoords\"}],\"pie\":[{\"automargin\":true,\"type\":\"pie\"}],\"scatter3d\":[{\"line\":{\"colorbar\":{\"outlinewidth\":0,\"ticks\":\"\"}},\"marker\":{\"colorbar\":{\"outlinewidth\":0,\"ticks\":\"\"}},\"type\":\"scatter3d\"}],\"scattercarpet\":[{\"marker\":{\"colorbar\":{\"outlinewidth\":0,\"ticks\":\"\"}},\"type\":\"scattercarpet\"}],\"scattergeo\":[{\"marker\":{\"colorbar\":{\"outlinewidth\":0,\"ticks\":\"\"}},\"type\":\"scattergeo\"}],\"scattergl\":[{\"marker\":{\"colorbar\":{\"outlinewidth\":0,\"ticks\":\"\"}},\"type\":\"scattergl\"}],\"scattermapbox\":[{\"marker\":{\"colorbar\":{\"outlinewidth\":0,\"ticks\":\"\"}},\"type\":\"scattermapbox\"}],\"scatterpolargl\":[{\"marker\":{\"colorbar\":{\"outlinewidth\":0,\"ticks\":\"\"}},\"type\":\"scatterpolargl\"}],\"scatterpolar\":[{\"marker\":{\"colorbar\":{\"outlinewidth\":0,\"ticks\":\"\"}},\"type\":\"scatterpolar\"}],\"scatter\":[{\"fillpattern\":{\"fillmode\":\"overlay\",\"size\":10,\"solidity\":0.2},\"type\":\"scatter\"}],\"scatterternary\":[{\"marker\":{\"colorbar\":{\"outlinewidth\":0,\"ticks\":\"\"}},\"type\":\"scatterternary\"}],\"surface\":[{\"colorbar\":{\"outlinewidth\":0,\"ticks\":\"\"},\"colorscale\":[[0.0,\"#0d0887\"],[0.1111111111111111,\"#46039f\"],[0.2222222222222222,\"#7201a8\"],[0.3333333333333333,\"#9c179e\"],[0.4444444444444444,\"#bd3786\"],[0.5555555555555556,\"#d8576b\"],[0.6666666666666666,\"#ed7953\"],[0.7777777777777778,\"#fb9f3a\"],[0.8888888888888888,\"#fdca26\"],[1.0,\"#f0f921\"]],\"type\":\"surface\"}],\"table\":[{\"cells\":{\"fill\":{\"color\":\"#EBF0F8\"},\"line\":{\"color\":\"white\"}},\"header\":{\"fill\":{\"color\":\"#C8D4E3\"},\"line\":{\"color\":\"white\"}},\"type\":\"table\"}]},\"layout\":{\"annotationdefaults\":{\"arrowcolor\":\"#2a3f5f\",\"arrowhead\":0,\"arrowwidth\":1},\"autotypenumbers\":\"strict\",\"coloraxis\":{\"colorbar\":{\"outlinewidth\":0,\"ticks\":\"\"}},\"colorscale\":{\"diverging\":[[0,\"#8e0152\"],[0.1,\"#c51b7d\"],[0.2,\"#de77ae\"],[0.3,\"#f1b6da\"],[0.4,\"#fde0ef\"],[0.5,\"#f7f7f7\"],[0.6,\"#e6f5d0\"],[0.7,\"#b8e186\"],[0.8,\"#7fbc41\"],[0.9,\"#4d9221\"],[1,\"#276419\"]],\"sequential\":[[0.0,\"#0d0887\"],[0.1111111111111111,\"#46039f\"],[0.2222222222222222,\"#7201a8\"],[0.3333333333333333,\"#9c179e\"],[0.4444444444444444,\"#bd3786\"],[0.5555555555555556,\"#d8576b\"],[0.6666666666666666,\"#ed7953\"],[0.7777777777777778,\"#fb9f3a\"],[0.8888888888888888,\"#fdca26\"],[1.0,\"#f0f921\"]],\"sequentialminus\":[[0.0,\"#0d0887\"],[0.1111111111111111,\"#46039f\"],[0.2222222222222222,\"#7201a8\"],[0.3333333333333333,\"#9c179e\"],[0.4444444444444444,\"#bd3786\"],[0.5555555555555556,\"#d8576b\"],[0.6666666666666666,\"#ed7953\"],[0.7777777777777778,\"#fb9f3a\"],[0.8888888888888888,\"#fdca26\"],[1.0,\"#f0f921\"]]},\"colorway\":[\"#636efa\",\"#EF553B\",\"#00cc96\",\"#ab63fa\",\"#FFA15A\",\"#19d3f3\",\"#FF6692\",\"#B6E880\",\"#FF97FF\",\"#FECB52\"],\"font\":{\"color\":\"#2a3f5f\"},\"geo\":{\"bgcolor\":\"white\",\"lakecolor\":\"white\",\"landcolor\":\"#E5ECF6\",\"showlakes\":true,\"showland\":true,\"subunitcolor\":\"white\"},\"hoverlabel\":{\"align\":\"left\"},\"hovermode\":\"closest\",\"mapbox\":{\"style\":\"light\"},\"paper_bgcolor\":\"white\",\"plot_bgcolor\":\"#E5ECF6\",\"polar\":{\"angularaxis\":{\"gridcolor\":\"white\",\"linecolor\":\"white\",\"ticks\":\"\"},\"bgcolor\":\"#E5ECF6\",\"radialaxis\":{\"gridcolor\":\"white\",\"linecolor\":\"white\",\"ticks\":\"\"}},\"scene\":{\"xaxis\":{\"backgroundcolor\":\"#E5ECF6\",\"gridcolor\":\"white\",\"gridwidth\":2,\"linecolor\":\"white\",\"showbackground\":true,\"ticks\":\"\",\"zerolinecolor\":\"white\"},\"yaxis\":{\"backgroundcolor\":\"#E5ECF6\",\"gridcolor\":\"white\",\"gridwidth\":2,\"linecolor\":\"white\",\"showbackground\":true,\"ticks\":\"\",\"zerolinecolor\":\"white\"},\"zaxis\":{\"backgroundcolor\":\"#E5ECF6\",\"gridcolor\":\"white\",\"gridwidth\":2,\"linecolor\":\"white\",\"showbackground\":true,\"ticks\":\"\",\"zerolinecolor\":\"white\"}},\"shapedefaults\":{\"line\":{\"color\":\"#2a3f5f\"}},\"ternary\":{\"aaxis\":{\"gridcolor\":\"white\",\"linecolor\":\"white\",\"ticks\":\"\"},\"baxis\":{\"gridcolor\":\"white\",\"linecolor\":\"white\",\"ticks\":\"\"},\"bgcolor\":\"#E5ECF6\",\"caxis\":{\"gridcolor\":\"white\",\"linecolor\":\"white\",\"ticks\":\"\"}},\"title\":{\"x\":0.05},\"xaxis\":{\"automargin\":true,\"gridcolor\":\"white\",\"linecolor\":\"white\",\"ticks\":\"\",\"title\":{\"standoff\":15},\"zerolinecolor\":\"white\",\"zerolinewidth\":2},\"yaxis\":{\"automargin\":true,\"gridcolor\":\"white\",\"linecolor\":\"white\",\"ticks\":\"\",\"title\":{\"standoff\":15},\"zerolinecolor\":\"white\",\"zerolinewidth\":2}}},\"title\":{\"text\":\"Gapminder from 1962 to 2007\"},\"uirevision\":\"constant\",\"xaxis\":{\"anchor\":\"y\",\"domain\":[0.0,1.0],\"title\":{\"text\":\"Energy use (kg of oil equivalent per capita)\"},\"type\":\"linear\"},\"yaxis\":{\"anchor\":\"x\",\"domain\":[0.0,1.0],\"title\":{\"text\":\"Life expectancy at birth, total (years)\"},\"type\":\"linear\"}},                        {\"responsive\": true}                    ).then(function(){\n",
       "                            \n",
       "var gd = document.getElementById('e163b2eb-0ead-4d60-9970-293830833289');\n",
       "var x = new MutationObserver(function (mutations, observer) {{\n",
       "        var display = window.getComputedStyle(gd).display;\n",
       "        if (!display || display === 'none') {{\n",
       "            console.log([gd, 'removed!']);\n",
       "            Plotly.purge(gd);\n",
       "            observer.disconnect();\n",
       "        }}\n",
       "}});\n",
       "\n",
       "// Listen for the removal of the full notebook cells\n",
       "var notebookContainer = gd.closest('#notebook-container');\n",
       "if (notebookContainer) {{\n",
       "    x.observe(notebookContainer, {childList: true});\n",
       "}}\n",
       "\n",
       "// Listen for the clearing of the current output cell\n",
       "var outputEl = gd.closest('.output');\n",
       "if (outputEl) {{\n",
       "    x.observe(outputEl, {childList: true});\n",
       "}}\n",
       "\n",
       "                        })                };                });            </script>        </div>"
      ]
     },
     "metadata": {},
     "output_type": "display_data"
    }
   ],
   "source": [
    "# fig.layout.annotations\n",
    "# fig.layout.annotations = tuple()\n",
    "fig.update_layout(title='Gapminder from 1962 to ' + str(ctx_inputs_list[-2]['value']))\n",
    "\n",
    "fig.update_layout(margin=dict(t=40))#,paper_bgcolor=\"LightSteelBlue\")\n",
    "\n",
    "# fig.data[0].marker.color = 'red'\n",
    "fig.show()"
   ]
  },
  {
   "cell_type": "code",
   "execution_count": 60,
   "id": "1282db4f-b1e5-4ec8-b0ee-6a8e091a1e16",
   "metadata": {},
   "outputs": [
    {
     "ename": "AttributeError",
     "evalue": "'function' object has no attribute 'show'",
     "output_type": "error",
     "traceback": [
      "\u001b[1;31m---------------------------------------------------------------------------\u001b[0m",
      "\u001b[1;31mAttributeError\u001b[0m                            Traceback (most recent call last)",
      "\u001b[1;32m~\\AppData\\Local\\Temp\\ipykernel_18644\\2666641781.py\u001b[0m in \u001b[0;36m<module>\u001b[1;34m\u001b[0m\n\u001b[0;32m      1\u001b[0m \u001b[0mf\u001b[0m \u001b[1;33m=\u001b[0m \u001b[0mfig\u001b[0m\u001b[1;33m.\u001b[0m\u001b[0mfull_figure_for_development\u001b[0m\u001b[1;33m\u001b[0m\u001b[1;33m\u001b[0m\u001b[0m\n\u001b[1;32m----> 2\u001b[1;33m \u001b[0mf\u001b[0m\u001b[1;33m.\u001b[0m\u001b[0mshow\u001b[0m\u001b[1;33m\u001b[0m\u001b[1;33m\u001b[0m\u001b[0m\n\u001b[0m",
      "\u001b[1;31mAttributeError\u001b[0m: 'function' object has no attribute 'show'"
     ]
    }
   ],
   "source": [
    "f = fig.full_figure_for_development\n",
    "f"
   ]
  },
  {
   "cell_type": "code",
   "execution_count": 54,
   "id": "f09547a0-4b1c-4829-be48-70d22f915815",
   "metadata": {},
   "outputs": [
    {
     "data": {
      "application/vnd.plotly.v1+json": {
       "config": {
        "plotlyServerURL": "https://plot.ly"
       },
       "data": [
        {
         "customdata": [
          "Arab World",
          "Caribbean small states",
          "Central Europe and the Baltics",
          "Early-demographic dividend",
          "East Asia & Pacific",
          "East Asia & Pacific (excluding high income)",
          "East Asia & Pacific (IDA & IBRD countries)",
          "Euro area",
          "Europe & Central Asia",
          "Europe & Central Asia (excluding high income)",
          "Europe & Central Asia (IDA & IBRD countries)",
          "European Union",
          "Fragile and conflict affected situations",
          "Heavily indebted poor countries (HIPC)",
          "High income",
          "IBRD only",
          "IDA & IBRD total",
          "IDA blend",
          "IDA only",
          "IDA total",
          "Late-demographic dividend",
          "Latin America & Caribbean",
          "Latin America & Caribbean (excluding high income)",
          "Latin America & the Caribbean (IDA & IBRD countries)",
          "Least developed countries: UN classification",
          "Low & middle income",
          "Low income",
          "Lower middle income",
          "Middle East & North Africa",
          "Middle East & North Africa (excluding high income)",
          "Middle East & North Africa (IDA & IBRD countries)",
          "Middle income",
          "North America",
          "Not classified",
          "OECD members",
          "Other small states",
          "Pacific island small states",
          "Post-demographic dividend",
          "Pre-demographic dividend",
          "Small states",
          "South Asia",
          "South Asia (IDA & IBRD)",
          "Sub-Saharan Africa",
          "Sub-Saharan Africa (excluding high income)",
          "Sub-Saharan Africa (IDA & IBRD countries)",
          "Upper middle income",
          "World",
          "Afghanistan",
          "Albania",
          "Algeria",
          "American Samoa",
          "Andorra",
          "Angola",
          "Antigua and Barbuda",
          "Argentina",
          "Armenia",
          "Aruba",
          "Australia",
          "Austria",
          "Azerbaijan",
          "Bahamas, The",
          "Bahrain",
          "Bangladesh",
          "Barbados",
          "Belarus",
          "Belgium",
          "Belize",
          "Benin",
          "Bermuda",
          "Bhutan",
          "Bolivia",
          "Bosnia and Herzegovina",
          "Botswana",
          "Brazil",
          "British Virgin Islands",
          "Brunei Darussalam",
          "Bulgaria",
          "Burkina Faso",
          "Burundi",
          "Cabo Verde",
          "Cambodia",
          "Cameroon",
          "Canada",
          "Cayman Islands",
          "Central African Republic",
          "Chad",
          "Channel Islands",
          "Chile",
          "China",
          "Colombia",
          "Comoros",
          "Congo, Dem. Rep.",
          "Congo, Rep.",
          "Costa Rica",
          "Cote d'Ivoire",
          "Croatia",
          "Cuba",
          "Curacao",
          "Cyprus",
          "Czech Republic",
          "Denmark",
          "Djibouti",
          "Dominica",
          "Dominican Republic",
          "Ecuador",
          "Egypt, Arab Rep.",
          "El Salvador",
          "Equatorial Guinea",
          "Eritrea",
          "Estonia",
          "Ethiopia",
          "Faroe Islands",
          "Fiji",
          "Finland",
          "France",
          "French Polynesia",
          "Gabon",
          "Gambia, The",
          "Georgia",
          "Germany",
          "Ghana",
          "Gibraltar",
          "Greece",
          "Greenland",
          "Grenada",
          "Guam",
          "Guatemala",
          "Guinea",
          "Guinea-Bissau",
          "Guyana",
          "Haiti",
          "Honduras",
          "Hong Kong SAR, China",
          "Hungary",
          "Iceland",
          "India",
          "Indonesia",
          "Iran, Islamic Rep.",
          "Iraq",
          "Ireland",
          "Isle of Man",
          "Israel",
          "Italy",
          "Jamaica",
          "Japan",
          "Jordan",
          "Kazakhstan",
          "Kenya",
          "Kiribati",
          "Korea, Dem. People�s Rep.",
          "Korea, Rep.",
          "Kosovo",
          "Kuwait",
          "Kyrgyz Republic",
          "Lao PDR",
          "Latvia",
          "Lebanon",
          "Lesotho",
          "Liberia",
          "Libya",
          "Liechtenstein",
          "Lithuania",
          "Luxembourg",
          "Macao SAR, China",
          "Macedonia, FYR",
          "Madagascar",
          "Malawi",
          "Malaysia",
          "Maldives",
          "Mali",
          "Malta",
          "Marshall Islands",
          "Mauritania",
          "Mauritius",
          "Mexico",
          "Micronesia, Fed. Sts.",
          "Moldova",
          "Monaco",
          "Mongolia",
          "Montenegro",
          "Morocco",
          "Mozambique",
          "Myanmar",
          "Namibia",
          "Nauru",
          "Nepal",
          "Netherlands",
          "New Caledonia",
          "New Zealand",
          "Nicaragua",
          "Niger",
          "Nigeria",
          "Northern Mariana Islands",
          "Norway",
          "Oman",
          "Pakistan",
          "Palau",
          "Panama",
          "Papua New Guinea",
          "Paraguay",
          "Peru",
          "Philippines",
          "Poland",
          "Portugal",
          "Puerto Rico",
          "Qatar",
          "Romania",
          "Russian Federation",
          "Rwanda",
          "Samoa",
          "San Marino",
          "Sao Tome and Principe",
          "Saudi Arabia",
          "Senegal",
          "Serbia",
          "Seychelles",
          "Sierra Leone",
          "Singapore",
          "Sint Maarten (Dutch part)",
          "Slovak Republic",
          "Slovenia",
          "Solomon Islands",
          "Somalia",
          "South Africa",
          "South Sudan",
          "Spain",
          "Sri Lanka",
          "St. Kitts and Nevis",
          "St. Lucia",
          "St. Martin (French part)",
          "St. Vincent and the Grenadines",
          "Sudan",
          "Suriname",
          "Swaziland",
          "Sweden",
          "Switzerland",
          "Syrian Arab Republic",
          "Tajikistan",
          "Tanzania",
          "Thailand",
          "Timor-Leste",
          "Togo",
          "Tonga",
          "Trinidad and Tobago",
          "Tunisia",
          "Turkey",
          "Turkmenistan",
          "Turks and Caicos Islands",
          "Tuvalu",
          "Uganda",
          "Ukraine",
          "United Arab Emirates",
          "United Kingdom",
          "United States",
          "Uruguay",
          "Uzbekistan",
          "Vanuatu",
          "Venezuela, RB",
          "Vietnam",
          "Virgin Islands",
          "West Bank and Gaza",
          "Yemen, Rep.",
          "Zambia",
          "Zimbabwe"
         ],
         "hovertemplate": "<b>%{hovertext}</b><br><br>x=%{x}<br>y=%{y}<extra></extra>",
         "hovertext": [
          "Arab World",
          "Caribbean small states",
          "Central Europe and the Baltics",
          "Early-demographic dividend",
          "East Asia & Pacific",
          "East Asia & Pacific (excluding high income)",
          "East Asia & Pacific (IDA & IBRD countries)",
          "Euro area",
          "Europe & Central Asia",
          "Europe & Central Asia (excluding high income)",
          "Europe & Central Asia (IDA & IBRD countries)",
          "European Union",
          "Fragile and conflict affected situations",
          "Heavily indebted poor countries (HIPC)",
          "High income",
          "IBRD only",
          "IDA & IBRD total",
          "IDA blend",
          "IDA only",
          "IDA total",
          "Late-demographic dividend",
          "Latin America & Caribbean",
          "Latin America & Caribbean (excluding high income)",
          "Latin America & the Caribbean (IDA & IBRD countries)",
          "Least developed countries: UN classification",
          "Low & middle income",
          "Low income",
          "Lower middle income",
          "Middle East & North Africa",
          "Middle East & North Africa (excluding high income)",
          "Middle East & North Africa (IDA & IBRD countries)",
          "Middle income",
          "North America",
          "Not classified",
          "OECD members",
          "Other small states",
          "Pacific island small states",
          "Post-demographic dividend",
          "Pre-demographic dividend",
          "Small states",
          "South Asia",
          "South Asia (IDA & IBRD)",
          "Sub-Saharan Africa",
          "Sub-Saharan Africa (excluding high income)",
          "Sub-Saharan Africa (IDA & IBRD countries)",
          "Upper middle income",
          "World",
          "Afghanistan",
          "Albania",
          "Algeria",
          "American Samoa",
          "Andorra",
          "Angola",
          "Antigua and Barbuda",
          "Argentina",
          "Armenia",
          "Aruba",
          "Australia",
          "Austria",
          "Azerbaijan",
          "Bahamas, The",
          "Bahrain",
          "Bangladesh",
          "Barbados",
          "Belarus",
          "Belgium",
          "Belize",
          "Benin",
          "Bermuda",
          "Bhutan",
          "Bolivia",
          "Bosnia and Herzegovina",
          "Botswana",
          "Brazil",
          "British Virgin Islands",
          "Brunei Darussalam",
          "Bulgaria",
          "Burkina Faso",
          "Burundi",
          "Cabo Verde",
          "Cambodia",
          "Cameroon",
          "Canada",
          "Cayman Islands",
          "Central African Republic",
          "Chad",
          "Channel Islands",
          "Chile",
          "China",
          "Colombia",
          "Comoros",
          "Congo, Dem. Rep.",
          "Congo, Rep.",
          "Costa Rica",
          "Cote d'Ivoire",
          "Croatia",
          "Cuba",
          "Curacao",
          "Cyprus",
          "Czech Republic",
          "Denmark",
          "Djibouti",
          "Dominica",
          "Dominican Republic",
          "Ecuador",
          "Egypt, Arab Rep.",
          "El Salvador",
          "Equatorial Guinea",
          "Eritrea",
          "Estonia",
          "Ethiopia",
          "Faroe Islands",
          "Fiji",
          "Finland",
          "France",
          "French Polynesia",
          "Gabon",
          "Gambia, The",
          "Georgia",
          "Germany",
          "Ghana",
          "Gibraltar",
          "Greece",
          "Greenland",
          "Grenada",
          "Guam",
          "Guatemala",
          "Guinea",
          "Guinea-Bissau",
          "Guyana",
          "Haiti",
          "Honduras",
          "Hong Kong SAR, China",
          "Hungary",
          "Iceland",
          "India",
          "Indonesia",
          "Iran, Islamic Rep.",
          "Iraq",
          "Ireland",
          "Isle of Man",
          "Israel",
          "Italy",
          "Jamaica",
          "Japan",
          "Jordan",
          "Kazakhstan",
          "Kenya",
          "Kiribati",
          "Korea, Dem. People�s Rep.",
          "Korea, Rep.",
          "Kosovo",
          "Kuwait",
          "Kyrgyz Republic",
          "Lao PDR",
          "Latvia",
          "Lebanon",
          "Lesotho",
          "Liberia",
          "Libya",
          "Liechtenstein",
          "Lithuania",
          "Luxembourg",
          "Macao SAR, China",
          "Macedonia, FYR",
          "Madagascar",
          "Malawi",
          "Malaysia",
          "Maldives",
          "Mali",
          "Malta",
          "Marshall Islands",
          "Mauritania",
          "Mauritius",
          "Mexico",
          "Micronesia, Fed. Sts.",
          "Moldova",
          "Monaco",
          "Mongolia",
          "Montenegro",
          "Morocco",
          "Mozambique",
          "Myanmar",
          "Namibia",
          "Nauru",
          "Nepal",
          "Netherlands",
          "New Caledonia",
          "New Zealand",
          "Nicaragua",
          "Niger",
          "Nigeria",
          "Northern Mariana Islands",
          "Norway",
          "Oman",
          "Pakistan",
          "Palau",
          "Panama",
          "Papua New Guinea",
          "Paraguay",
          "Peru",
          "Philippines",
          "Poland",
          "Portugal",
          "Puerto Rico",
          "Qatar",
          "Romania",
          "Russian Federation",
          "Rwanda",
          "Samoa",
          "San Marino",
          "Sao Tome and Principe",
          "Saudi Arabia",
          "Senegal",
          "Serbia",
          "Seychelles",
          "Sierra Leone",
          "Singapore",
          "Sint Maarten (Dutch part)",
          "Slovak Republic",
          "Slovenia",
          "Solomon Islands",
          "Somalia",
          "South Africa",
          "South Sudan",
          "Spain",
          "Sri Lanka",
          "St. Kitts and Nevis",
          "St. Lucia",
          "St. Martin (French part)",
          "St. Vincent and the Grenadines",
          "Sudan",
          "Suriname",
          "Swaziland",
          "Sweden",
          "Switzerland",
          "Syrian Arab Republic",
          "Tajikistan",
          "Tanzania",
          "Thailand",
          "Timor-Leste",
          "Togo",
          "Tonga",
          "Trinidad and Tobago",
          "Tunisia",
          "Turkey",
          "Turkmenistan",
          "Turks and Caicos Islands",
          "Tuvalu",
          "Uganda",
          "Ukraine",
          "United Arab Emirates",
          "United Kingdom",
          "United States",
          "Uruguay",
          "Uzbekistan",
          "Vanuatu",
          "Venezuela, RB",
          "Vietnam",
          "Virgin Islands",
          "West Bank and Gaza",
          "Yemen, Rep.",
          "Zambia",
          "Zimbabwe"
         ],
         "legendgroup": "",
         "marker": {
          "color": "#636efa",
          "symbol": "circle"
         },
         "mode": "markers",
         "name": "",
         "orientation": "v",
         "showlegend": false,
         "type": "scatter",
         "x": [
          6.48494324741,
          3.92439168824,
          2.28738691724,
          5.39744937444,
          3.4501778037300004,
          3.66036731023,
          3.67187772012,
          1.90948071859,
          2.24627488315,
          2.65827261713,
          2.6091234279,
          1.95832829721,
          6.62635734412,
          6.917458730880001,
          1.99670886513,
          4.00939754457,
          4.48314101906,
          6.11807601415,
          6.717708891669999,
          6.492456980499999,
          3.29594901195,
          4.55458287464,
          4.65349597415,
          4.6415402618,
          6.69577149282,
          4.5056854919800005,
          6.56240279428,
          5.31599095781,
          6.31287792907,
          6.3419810811,
          6.3419810811,
          4.35063932415,
          1.78919256601,
          null,
          2.2601570250400003,
          4.76969120186,
          5.12657273137,
          1.90435931713,
          6.922156574360001,
          4.5708188201,
          5.318562817769999,
          5.318562817769999,
          6.79391744709,
          6.79391744709,
          6.79391744709,
          3.55255143884,
          3.94356983583,
          7.449,
          3.966,
          7.234,
          null,
          null,
          7.347,
          2.358,
          3.391,
          2.555,
          2.446,
          2.007,
          1.63,
          3.676,
          3.062,
          5.283,
          6.681,
          2.198,
          2.08,
          1.71,
          6.195,
          6.984,
          null,
          6.667999999999999,
          5.917000000000001,
          2.259,
          6.399,
          4.339,
          null,
          4.884,
          2.21,
          6.984,
          7.452000000000001,
          6.645,
          5.557,
          6.47,
          1.7819999999999998,
          null,
          5.952000000000001,
          6.857,
          1.546,
          2.9760000000000004,
          3.202,
          4.284,
          7.061,
          6.443,
          6.36,
          3.695,
          7.832000000000001,
          2.005,
          2.332,
          null,
          2.31,
          2.34,
          1.66,
          6.671,
          null,
          4.847,
          5.129,
          5.596,
          5.476,
          5.682,
          6.625,
          2.06,
          7.195,
          2.7,
          3.992,
          1.68,
          1.94,
          4.301,
          5.542999999999999,
          6.332999999999999,
          2.419,
          1.4,
          6.721,
          null,
          2.27,
          2.349,
          4.337,
          3.5610000000000004,
          6.211,
          6.436,
          6.249,
          4.579,
          5.779,
          6.649,
          2.376,
          2.15,
          2.31,
          5.03,
          4.806,
          6.289,
          6.834,
          3.24,
          null,
          3.41,
          1.93,
          4.115,
          1.8,
          7.455,
          3.1060000000000003,
          7.695,
          5.031000000000001,
          2.889,
          2.99,
          null,
          6.068,
          4.15,
          6.138999999999999,
          1.89,
          4.271,
          5.706,
          6.93,
          7.736000000000001,
          null,
          2.14,
          1.5,
          1.4409999999999998,
          2.562,
          7.007999999999999,
          7.588999999999999,
          3.99,
          6.936,
          7.153,
          2.14,
          null,
          6.593999999999999,
          3.071,
          5.587000000000001,
          6.49,
          2.455,
          null,
          6.78,
          2.341,
          5.97,
          6.532,
          5.284,
          6.622000000000001,
          null,
          5.803999999999999,
          1.58,
          3.43,
          2.229,
          6.42,
          7.617999999999999,
          6.757000000000001,
          null,
          1.75,
          8.017999999999999,
          6.599,
          null,
          4.26,
          5.9,
          5.189,
          5.447,
          5.506,
          2.23,
          2.69,
          2.769,
          6.211,
          2.57,
          1.95,
          8.423,
          6.547000000000001,
          null,
          6.504,
          7.298999999999999,
          7.461,
          null,
          null,
          6.23,
          1.82,
          null,
          2.49,
          2.166,
          7.096,
          7.005,
          5.064,
          6.912999999999999,
          2.66,
          3.633,
          null,
          5.216,
          null,
          4.54,
          6.919,
          4.331,
          6.761,
          1.64,
          1.53,
          7.359,
          6.042999999999999,
          6.73,
          4.03,
          4.513999999999999,
          7.284,
          5.471,
          3.273,
          5.706,
          4.738,
          5.441,
          null,
          null,
          7.099,
          1.94,
          5.744,
          1.69,
          1.79,
          2.907,
          5.66,
          5.787000000000001,
          4.4830000000000005,
          5.614,
          3.607,
          null,
          8.427,
          7.381,
          7.33
         ],
         "xaxis": "x",
         "y": [
          8.64886931362,
          4.24747605556,
          null,
          3.95604627186,
          5.22593390881,
          7.72074608115,
          7.72074608115,
          3.07861153139,
          2.86725342098,
          null,
          null,
          2.81644230087,
          null,
          3.775114313480001,
          3.90067251123,
          4.449030753590001,
          4.45485675698,
          5.052561166469999,
          3.83259866227,
          4.5099182248,
          6.323067137590001,
          4.81309076835,
          4.71184850626,
          4.72848070231,
          null,
          4.444706463359999,
          null,
          6.78726565967,
          4.001354829059999,
          0.564735908341,
          0.564735908341,
          4.50627874251,
          4.48665906512,
          null,
          3.73453559576,
          null,
          null,
          3.763631663580001,
          4.72835784881,
          null,
          6.407929189380001,
          6.407929189380001,
          2.35991640797,
          2.36575175381,
          2.35991640797,
          3.86758260368,
          3.99658805694,
          null,
          null,
          5.25858598509,
          null,
          2.8385755661000003,
          null,
          null,
          6.93414775538,
          null,
          null,
          3.60727832218,
          5.07998083944,
          null,
          9.15492921913,
          null,
          2.67305605002,
          null,
          null,
          0.6261547986399999,
          6.49659428706,
          4.9836637249,
          5.897435897439999,
          null,
          4.97121608746,
          null,
          12.0120400916,
          4.6063180611400005,
          null,
          10.9166972286,
          null,
          0.370353558008,
          11.4694530443,
          null,
          null,
          13.739871523,
          3.45823060141,
          null,
          3.806234914080001,
          2.2346248491400003,
          null,
          8.6974402969,
          7.57,
          4.14801343895,
          null,
          0.7607936015510001,
          -8.95342798053,
          8.90447443141,
          7.31445915523,
          null,
          8.709502862989998,
          null,
          16.3620009517,
          null,
          1.97885393628,
          null,
          null,
          4.9817839493400005,
          1.60484211178,
          12.8369584696,
          6.78006173,
          null,
          null,
          null,
          null,
          null,
          5.90401148298,
          0.239510404025,
          3.45136894592,
          2.07899270823,
          -12.5820911682,
          3.43957605817,
          6.89655016091,
          3.3472180880299995,
          2.27410724355,
          null,
          2.94100164661,
          8.82231465073,
          null,
          null,
          7.80922068504,
          null,
          -7.17006997107,
          -2.63867965999,
          null,
          10.3838890902,
          11.725532353699998,
          null,
          8.822277251869998,
          7.25476458521,
          8.6364651562,
          -2.77357769163,
          1.89995939435,
          8.2113002867,
          null,
          -0.00796712289309,
          2.56050079855,
          -2.59754869764,
          4.390337950219999,
          6.50994626664,
          null,
          9.45379784937,
          -4.61262956701,
          null,
          11.8177550146,
          null,
          -0.103370272997,
          null,
          null,
          null,
          null,
          21.8090333114,
          1.58798456662,
          null,
          4.75867709144,
          null,
          1.56977667683,
          null,
          null,
          2.36400035887,
          4.91803136466,
          7.75647431462,
          null,
          6.348647193940001,
          12.1841738956,
          null,
          -1.87859368289,
          6.54761905285,
          3.39063970678,
          null,
          null,
          3.55323608267,
          null,
          null,
          6.05916767916,
          null,
          5.95228661064,
          null,
          null,
          3.01697344065,
          2.52044046888,
          1.89982427925,
          null,
          8.36848053301,
          7.76458111911,
          6.024117846189999,
          null,
          4.16076721758,
          1.00721832951,
          3.94769828741,
          null,
          1.09402494071,
          0.83481559684,
          11.4940816034,
          0.349063699304,
          5.602055577280001,
          null,
          5.602597251970001,
          5.95068036592,
          null,
          null,
          null,
          1.99410948018,
          null,
          2.5603748689700003,
          null,
          6.89417868045,
          -2.68290530506,
          null,
          -6.19022681347,
          0.0466758098406999,
          7.486151919460001,
          null,
          null,
          null,
          null,
          23.3074905117,
          -0.0940957057406999,
          null,
          2.83857428455,
          5.10059026393,
          null,
          null,
          null,
          13.2294065744,
          6.22385378189,
          10.0912509829,
          1.0095922548799998,
          -1.59625858231,
          null,
          -1.27373797412,
          null,
          null,
          9.84346323531,
          null,
          6.95908537004,
          null,
          9.12179155082,
          3.41109585407,
          3.4066698049299995,
          null,
          null,
          null,
          null,
          null,
          21.4393301623,
          2.46321417352,
          4.60859740653,
          1.45546117871,
          null,
          null,
          6.2707835129900005,
          null,
          -1.06658979533,
          null,
          null,
          -4.56423605811,
          -6.86070319342
         ],
         "yaxis": "y"
        },
        {
         "hoverinfo": "skip",
         "marker": {
          "color": "#EF553B",
          "line": {
           "width": 4
          },
          "size": 14,
          "symbol": "circle-open"
         },
         "mode": "markers",
         "name": "Caribbean small states",
         "type": "scatter",
         "x": [
          3.92439168824
         ],
         "y": [
          4.24747605556
         ]
        },
        {
         "hoverinfo": "skip",
         "marker": {
          "color": "#FF97FF",
          "line": {
           "width": 4
          },
          "size": 14,
          "symbol": "circle-open"
         },
         "mode": "markers",
         "name": "Cyprus",
         "type": "scatter",
         "x": [
          2.31
         ],
         "y": [
          16.3620009517
         ]
        }
       ],
       "layout": {
        "autosize": true,
        "hovermode": "closest",
        "legend": {
         "orientation": "v",
         "tracegroupgap": 0
        },
        "margin": {
         "b": 20,
         "l": 20,
         "r": 275,
         "t": 20
        },
        "paper_bgcolor": "rgb(127, 127, 127)",
        "plot_bgcolor": "rgb(23, 190, 207)",
        "template": {
         "data": {
          "bar": [
           {
            "error_x": {
             "color": "#2a3f5f"
            },
            "error_y": {
             "color": "#2a3f5f"
            },
            "marker": {
             "line": {
              "color": "#E5ECF6",
              "width": 0.5
             },
             "pattern": {
              "fillmode": "overlay",
              "size": 10,
              "solidity": 0.2
             }
            },
            "type": "bar"
           }
          ],
          "barpolar": [
           {
            "marker": {
             "line": {
              "color": "#E5ECF6",
              "width": 0.5
             },
             "pattern": {
              "fillmode": "overlay",
              "size": 10,
              "solidity": 0.2
             }
            },
            "type": "barpolar"
           }
          ],
          "carpet": [
           {
            "aaxis": {
             "endlinecolor": "#2a3f5f",
             "gridcolor": "white",
             "linecolor": "white",
             "minorgridcolor": "white",
             "startlinecolor": "#2a3f5f"
            },
            "baxis": {
             "endlinecolor": "#2a3f5f",
             "gridcolor": "white",
             "linecolor": "white",
             "minorgridcolor": "white",
             "startlinecolor": "#2a3f5f"
            },
            "type": "carpet"
           }
          ],
          "choropleth": [
           {
            "colorbar": {
             "outlinewidth": 0,
             "ticks": ""
            },
            "type": "choropleth"
           }
          ],
          "contour": [
           {
            "colorbar": {
             "outlinewidth": 0,
             "ticks": ""
            },
            "colorscale": [
             [
              0,
              "#0d0887"
             ],
             [
              0.1111111111111111,
              "#46039f"
             ],
             [
              0.2222222222222222,
              "#7201a8"
             ],
             [
              0.3333333333333333,
              "#9c179e"
             ],
             [
              0.4444444444444444,
              "#bd3786"
             ],
             [
              0.5555555555555556,
              "#d8576b"
             ],
             [
              0.6666666666666666,
              "#ed7953"
             ],
             [
              0.7777777777777778,
              "#fb9f3a"
             ],
             [
              0.8888888888888888,
              "#fdca26"
             ],
             [
              1,
              "#f0f921"
             ]
            ],
            "type": "contour"
           }
          ],
          "contourcarpet": [
           {
            "colorbar": {
             "outlinewidth": 0,
             "ticks": ""
            },
            "type": "contourcarpet"
           }
          ],
          "heatmap": [
           {
            "colorbar": {
             "outlinewidth": 0,
             "ticks": ""
            },
            "colorscale": [
             [
              0,
              "#0d0887"
             ],
             [
              0.1111111111111111,
              "#46039f"
             ],
             [
              0.2222222222222222,
              "#7201a8"
             ],
             [
              0.3333333333333333,
              "#9c179e"
             ],
             [
              0.4444444444444444,
              "#bd3786"
             ],
             [
              0.5555555555555556,
              "#d8576b"
             ],
             [
              0.6666666666666666,
              "#ed7953"
             ],
             [
              0.7777777777777778,
              "#fb9f3a"
             ],
             [
              0.8888888888888888,
              "#fdca26"
             ],
             [
              1,
              "#f0f921"
             ]
            ],
            "type": "heatmap"
           }
          ],
          "heatmapgl": [
           {
            "colorbar": {
             "outlinewidth": 0,
             "ticks": ""
            },
            "colorscale": [
             [
              0,
              "#0d0887"
             ],
             [
              0.1111111111111111,
              "#46039f"
             ],
             [
              0.2222222222222222,
              "#7201a8"
             ],
             [
              0.3333333333333333,
              "#9c179e"
             ],
             [
              0.4444444444444444,
              "#bd3786"
             ],
             [
              0.5555555555555556,
              "#d8576b"
             ],
             [
              0.6666666666666666,
              "#ed7953"
             ],
             [
              0.7777777777777778,
              "#fb9f3a"
             ],
             [
              0.8888888888888888,
              "#fdca26"
             ],
             [
              1,
              "#f0f921"
             ]
            ],
            "type": "heatmapgl"
           }
          ],
          "histogram": [
           {
            "marker": {
             "pattern": {
              "fillmode": "overlay",
              "size": 10,
              "solidity": 0.2
             }
            },
            "type": "histogram"
           }
          ],
          "histogram2d": [
           {
            "colorbar": {
             "outlinewidth": 0,
             "ticks": ""
            },
            "colorscale": [
             [
              0,
              "#0d0887"
             ],
             [
              0.1111111111111111,
              "#46039f"
             ],
             [
              0.2222222222222222,
              "#7201a8"
             ],
             [
              0.3333333333333333,
              "#9c179e"
             ],
             [
              0.4444444444444444,
              "#bd3786"
             ],
             [
              0.5555555555555556,
              "#d8576b"
             ],
             [
              0.6666666666666666,
              "#ed7953"
             ],
             [
              0.7777777777777778,
              "#fb9f3a"
             ],
             [
              0.8888888888888888,
              "#fdca26"
             ],
             [
              1,
              "#f0f921"
             ]
            ],
            "type": "histogram2d"
           }
          ],
          "histogram2dcontour": [
           {
            "colorbar": {
             "outlinewidth": 0,
             "ticks": ""
            },
            "colorscale": [
             [
              0,
              "#0d0887"
             ],
             [
              0.1111111111111111,
              "#46039f"
             ],
             [
              0.2222222222222222,
              "#7201a8"
             ],
             [
              0.3333333333333333,
              "#9c179e"
             ],
             [
              0.4444444444444444,
              "#bd3786"
             ],
             [
              0.5555555555555556,
              "#d8576b"
             ],
             [
              0.6666666666666666,
              "#ed7953"
             ],
             [
              0.7777777777777778,
              "#fb9f3a"
             ],
             [
              0.8888888888888888,
              "#fdca26"
             ],
             [
              1,
              "#f0f921"
             ]
            ],
            "type": "histogram2dcontour"
           }
          ],
          "mesh3d": [
           {
            "colorbar": {
             "outlinewidth": 0,
             "ticks": ""
            },
            "type": "mesh3d"
           }
          ],
          "parcoords": [
           {
            "line": {
             "colorbar": {
              "outlinewidth": 0,
              "ticks": ""
             }
            },
            "type": "parcoords"
           }
          ],
          "pie": [
           {
            "automargin": true,
            "type": "pie"
           }
          ],
          "scatter": [
           {
            "fillpattern": {
             "fillmode": "overlay",
             "size": 10,
             "solidity": 0.2
            },
            "type": "scatter"
           }
          ],
          "scatter3d": [
           {
            "line": {
             "colorbar": {
              "outlinewidth": 0,
              "ticks": ""
             }
            },
            "marker": {
             "colorbar": {
              "outlinewidth": 0,
              "ticks": ""
             }
            },
            "type": "scatter3d"
           }
          ],
          "scattercarpet": [
           {
            "marker": {
             "colorbar": {
              "outlinewidth": 0,
              "ticks": ""
             }
            },
            "type": "scattercarpet"
           }
          ],
          "scattergeo": [
           {
            "marker": {
             "colorbar": {
              "outlinewidth": 0,
              "ticks": ""
             }
            },
            "type": "scattergeo"
           }
          ],
          "scattergl": [
           {
            "marker": {
             "colorbar": {
              "outlinewidth": 0,
              "ticks": ""
             }
            },
            "type": "scattergl"
           }
          ],
          "scattermapbox": [
           {
            "marker": {
             "colorbar": {
              "outlinewidth": 0,
              "ticks": ""
             }
            },
            "type": "scattermapbox"
           }
          ],
          "scatterpolar": [
           {
            "marker": {
             "colorbar": {
              "outlinewidth": 0,
              "ticks": ""
             }
            },
            "type": "scatterpolar"
           }
          ],
          "scatterpolargl": [
           {
            "marker": {
             "colorbar": {
              "outlinewidth": 0,
              "ticks": ""
             }
            },
            "type": "scatterpolargl"
           }
          ],
          "scatterternary": [
           {
            "marker": {
             "colorbar": {
              "outlinewidth": 0,
              "ticks": ""
             }
            },
            "type": "scatterternary"
           }
          ],
          "surface": [
           {
            "colorbar": {
             "outlinewidth": 0,
             "ticks": ""
            },
            "colorscale": [
             [
              0,
              "#0d0887"
             ],
             [
              0.1111111111111111,
              "#46039f"
             ],
             [
              0.2222222222222222,
              "#7201a8"
             ],
             [
              0.3333333333333333,
              "#9c179e"
             ],
             [
              0.4444444444444444,
              "#bd3786"
             ],
             [
              0.5555555555555556,
              "#d8576b"
             ],
             [
              0.6666666666666666,
              "#ed7953"
             ],
             [
              0.7777777777777778,
              "#fb9f3a"
             ],
             [
              0.8888888888888888,
              "#fdca26"
             ],
             [
              1,
              "#f0f921"
             ]
            ],
            "type": "surface"
           }
          ],
          "table": [
           {
            "cells": {
             "fill": {
              "color": "#EBF0F8"
             },
             "line": {
              "color": "white"
             }
            },
            "header": {
             "fill": {
              "color": "#C8D4E3"
             },
             "line": {
              "color": "white"
             }
            },
            "type": "table"
           }
          ]
         },
         "layout": {
          "annotationdefaults": {
           "arrowcolor": "#2a3f5f",
           "arrowhead": 0,
           "arrowwidth": 1
          },
          "autotypenumbers": "strict",
          "coloraxis": {
           "colorbar": {
            "outlinewidth": 0,
            "ticks": ""
           }
          },
          "colorscale": {
           "diverging": [
            [
             0,
             "#8e0152"
            ],
            [
             0.1,
             "#c51b7d"
            ],
            [
             0.2,
             "#de77ae"
            ],
            [
             0.3,
             "#f1b6da"
            ],
            [
             0.4,
             "#fde0ef"
            ],
            [
             0.5,
             "#f7f7f7"
            ],
            [
             0.6,
             "#e6f5d0"
            ],
            [
             0.7,
             "#b8e186"
            ],
            [
             0.8,
             "#7fbc41"
            ],
            [
             0.9,
             "#4d9221"
            ],
            [
             1,
             "#276419"
            ]
           ],
           "sequential": [
            [
             0,
             "#0d0887"
            ],
            [
             0.1111111111111111,
             "#46039f"
            ],
            [
             0.2222222222222222,
             "#7201a8"
            ],
            [
             0.3333333333333333,
             "#9c179e"
            ],
            [
             0.4444444444444444,
             "#bd3786"
            ],
            [
             0.5555555555555556,
             "#d8576b"
            ],
            [
             0.6666666666666666,
             "#ed7953"
            ],
            [
             0.7777777777777778,
             "#fb9f3a"
            ],
            [
             0.8888888888888888,
             "#fdca26"
            ],
            [
             1,
             "#f0f921"
            ]
           ],
           "sequentialminus": [
            [
             0,
             "#0d0887"
            ],
            [
             0.1111111111111111,
             "#46039f"
            ],
            [
             0.2222222222222222,
             "#7201a8"
            ],
            [
             0.3333333333333333,
             "#9c179e"
            ],
            [
             0.4444444444444444,
             "#bd3786"
            ],
            [
             0.5555555555555556,
             "#d8576b"
            ],
            [
             0.6666666666666666,
             "#ed7953"
            ],
            [
             0.7777777777777778,
             "#fb9f3a"
            ],
            [
             0.8888888888888888,
             "#fdca26"
            ],
            [
             1,
             "#f0f921"
            ]
           ]
          },
          "colorway": [
           "#636efa",
           "#EF553B",
           "#00cc96",
           "#ab63fa",
           "#FFA15A",
           "#19d3f3",
           "#FF6692",
           "#B6E880",
           "#FF97FF",
           "#FECB52"
          ],
          "font": {
           "color": "#2a3f5f"
          },
          "geo": {
           "bgcolor": "white",
           "lakecolor": "white",
           "landcolor": "#E5ECF6",
           "showlakes": true,
           "showland": true,
           "subunitcolor": "white"
          },
          "hoverlabel": {
           "align": "left"
          },
          "hovermode": "closest",
          "mapbox": {
           "style": "light"
          },
          "paper_bgcolor": "white",
          "plot_bgcolor": "#E5ECF6",
          "polar": {
           "angularaxis": {
            "gridcolor": "white",
            "linecolor": "white",
            "ticks": ""
           },
           "bgcolor": "#E5ECF6",
           "radialaxis": {
            "gridcolor": "white",
            "linecolor": "white",
            "ticks": ""
           }
          },
          "scene": {
           "xaxis": {
            "backgroundcolor": "#E5ECF6",
            "gridcolor": "white",
            "gridwidth": 2,
            "linecolor": "white",
            "showbackground": true,
            "ticks": "",
            "zerolinecolor": "white"
           },
           "yaxis": {
            "backgroundcolor": "#E5ECF6",
            "gridcolor": "white",
            "gridwidth": 2,
            "linecolor": "white",
            "showbackground": true,
            "ticks": "",
            "zerolinecolor": "white"
           },
           "zaxis": {
            "backgroundcolor": "#E5ECF6",
            "gridcolor": "white",
            "gridwidth": 2,
            "linecolor": "white",
            "showbackground": true,
            "ticks": "",
            "zerolinecolor": "white"
           }
          },
          "shapedefaults": {
           "line": {
            "color": "#2a3f5f"
           }
          },
          "ternary": {
           "aaxis": {
            "gridcolor": "white",
            "linecolor": "white",
            "ticks": ""
           },
           "baxis": {
            "gridcolor": "white",
            "linecolor": "white",
            "ticks": ""
           },
           "bgcolor": "#E5ECF6",
           "caxis": {
            "gridcolor": "white",
            "linecolor": "white",
            "ticks": ""
           }
          },
          "title": {
           "x": 0.05
          },
          "xaxis": {
           "automargin": true,
           "gridcolor": "white",
           "linecolor": "white",
           "ticks": "",
           "title": {
            "standoff": 15
           },
           "zerolinecolor": "white",
           "zerolinewidth": 2
          },
          "yaxis": {
           "automargin": true,
           "gridcolor": "white",
           "linecolor": "white",
           "ticks": "",
           "title": {
            "standoff": 15
           },
           "zerolinecolor": "white",
           "zerolinewidth": 2
          }
         }
        },
        "title": {
         "text": "Gapminder from 1962 to 1977"
        },
        "uirevision": "constant",
        "xaxis": {
         "anchor": "y",
         "autorange": true,
         "domain": [
          0,
          1
         ],
         "range": [
          0.9814363933795225,
          8.845563606620477
         ],
         "title": {
          "text": "Fertility rate, total (births per woman)"
         },
         "type": "linear"
        },
        "yaxis": {
         "anchor": "x",
         "autorange": true,
         "domain": [
          0,
          1
         ],
         "range": [
          -14.867628211010093,
          25.593027554510094
         ],
         "title": {
          "text": "GDP growth (annual %)"
         },
         "type": "linear"
        }
       }
      },
      "image/png": "[encoded data removed]",
      "text/html": [
       "<div>                            <div id=\"fa5d7897-ae29-4f09-a4d5-68fd1429b26b\" class=\"plotly-graph-div\" style=\"height:650px; width:100%;\"></div>            <script type=\"text/javascript\">                require([\"plotly\"], function(Plotly) {                    window.PLOTLYENV=window.PLOTLYENV || {};                                    if (document.getElementById(\"fa5d7897-ae29-4f09-a4d5-68fd1429b26b\")) {                    Plotly.newPlot(                        \"fa5d7897-ae29-4f09-a4d5-68fd1429b26b\",                        [{\"customdata\":[\"Arab World\",\"Caribbean small states\",\"Central Europe and the Baltics\",\"Early-demographic dividend\",\"East Asia & Pacific\",\"East Asia & Pacific (excluding high income)\",\"East Asia & Pacific (IDA & IBRD countries)\",\"Euro area\",\"Europe & Central Asia\",\"Europe & Central Asia (excluding high income)\",\"Europe & Central Asia (IDA & IBRD countries)\",\"European Union\",\"Fragile and conflict affected situations\",\"Heavily indebted poor countries (HIPC)\",\"High income\",\"IBRD only\",\"IDA & IBRD total\",\"IDA blend\",\"IDA only\",\"IDA total\",\"Late-demographic dividend\",\"Latin America & Caribbean\",\"Latin America & Caribbean (excluding high income)\",\"Latin America & the Caribbean (IDA & IBRD countries)\",\"Least developed countries: UN classification\",\"Low & middle income\",\"Low income\",\"Lower middle income\",\"Middle East & North Africa\",\"Middle East & North Africa (excluding high income)\",\"Middle East & North Africa (IDA & IBRD countries)\",\"Middle income\",\"North America\",\"Not classified\",\"OECD members\",\"Other small states\",\"Pacific island small states\",\"Post-demographic dividend\",\"Pre-demographic dividend\",\"Small states\",\"South Asia\",\"South Asia (IDA & IBRD)\",\"Sub-Saharan Africa\",\"Sub-Saharan Africa (excluding high income)\",\"Sub-Saharan Africa (IDA & IBRD countries)\",\"Upper middle income\",\"World\",\"Afghanistan\",\"Albania\",\"Algeria\",\"American Samoa\",\"Andorra\",\"Angola\",\"Antigua and Barbuda\",\"Argentina\",\"Armenia\",\"Aruba\",\"Australia\",\"Austria\",\"Azerbaijan\",\"Bahamas, The\",\"Bahrain\",\"Bangladesh\",\"Barbados\",\"Belarus\",\"Belgium\",\"Belize\",\"Benin\",\"Bermuda\",\"Bhutan\",\"Bolivia\",\"Bosnia and Herzegovina\",\"Botswana\",\"Brazil\",\"British Virgin Islands\",\"Brunei Darussalam\",\"Bulgaria\",\"Burkina Faso\",\"Burundi\",\"Cabo Verde\",\"Cambodia\",\"Cameroon\",\"Canada\",\"Cayman Islands\",\"Central African Republic\",\"Chad\",\"Channel Islands\",\"Chile\",\"China\",\"Colombia\",\"Comoros\",\"Congo, Dem. Rep.\",\"Congo, Rep.\",\"Costa Rica\",\"Cote d'Ivoire\",\"Croatia\",\"Cuba\",\"Curacao\",\"Cyprus\",\"Czech Republic\",\"Denmark\",\"Djibouti\",\"Dominica\",\"Dominican Republic\",\"Ecuador\",\"Egypt, Arab Rep.\",\"El Salvador\",\"Equatorial Guinea\",\"Eritrea\",\"Estonia\",\"Ethiopia\",\"Faroe Islands\",\"Fiji\",\"Finland\",\"France\",\"French Polynesia\",\"Gabon\",\"Gambia, The\",\"Georgia\",\"Germany\",\"Ghana\",\"Gibraltar\",\"Greece\",\"Greenland\",\"Grenada\",\"Guam\",\"Guatemala\",\"Guinea\",\"Guinea-Bissau\",\"Guyana\",\"Haiti\",\"Honduras\",\"Hong Kong SAR, China\",\"Hungary\",\"Iceland\",\"India\",\"Indonesia\",\"Iran, Islamic Rep.\",\"Iraq\",\"Ireland\",\"Isle of Man\",\"Israel\",\"Italy\",\"Jamaica\",\"Japan\",\"Jordan\",\"Kazakhstan\",\"Kenya\",\"Kiribati\",\"Korea, Dem. People\\ufffds Rep.\",\"Korea, Rep.\",\"Kosovo\",\"Kuwait\",\"Kyrgyz Republic\",\"Lao PDR\",\"Latvia\",\"Lebanon\",\"Lesotho\",\"Liberia\",\"Libya\",\"Liechtenstein\",\"Lithuania\",\"Luxembourg\",\"Macao SAR, China\",\"Macedonia, FYR\",\"Madagascar\",\"Malawi\",\"Malaysia\",\"Maldives\",\"Mali\",\"Malta\",\"Marshall Islands\",\"Mauritania\",\"Mauritius\",\"Mexico\",\"Micronesia, Fed. Sts.\",\"Moldova\",\"Monaco\",\"Mongolia\",\"Montenegro\",\"Morocco\",\"Mozambique\",\"Myanmar\",\"Namibia\",\"Nauru\",\"Nepal\",\"Netherlands\",\"New Caledonia\",\"New Zealand\",\"Nicaragua\",\"Niger\",\"Nigeria\",\"Northern Mariana Islands\",\"Norway\",\"Oman\",\"Pakistan\",\"Palau\",\"Panama\",\"Papua New Guinea\",\"Paraguay\",\"Peru\",\"Philippines\",\"Poland\",\"Portugal\",\"Puerto Rico\",\"Qatar\",\"Romania\",\"Russian Federation\",\"Rwanda\",\"Samoa\",\"San Marino\",\"Sao Tome and Principe\",\"Saudi Arabia\",\"Senegal\",\"Serbia\",\"Seychelles\",\"Sierra Leone\",\"Singapore\",\"Sint Maarten (Dutch part)\",\"Slovak Republic\",\"Slovenia\",\"Solomon Islands\",\"Somalia\",\"South Africa\",\"South Sudan\",\"Spain\",\"Sri Lanka\",\"St. Kitts and Nevis\",\"St. Lucia\",\"St. Martin (French part)\",\"St. Vincent and the Grenadines\",\"Sudan\",\"Suriname\",\"Swaziland\",\"Sweden\",\"Switzerland\",\"Syrian Arab Republic\",\"Tajikistan\",\"Tanzania\",\"Thailand\",\"Timor-Leste\",\"Togo\",\"Tonga\",\"Trinidad and Tobago\",\"Tunisia\",\"Turkey\",\"Turkmenistan\",\"Turks and Caicos Islands\",\"Tuvalu\",\"Uganda\",\"Ukraine\",\"United Arab Emirates\",\"United Kingdom\",\"United States\",\"Uruguay\",\"Uzbekistan\",\"Vanuatu\",\"Venezuela, RB\",\"Vietnam\",\"Virgin Islands\",\"West Bank and Gaza\",\"Yemen, Rep.\",\"Zambia\",\"Zimbabwe\"],\"hovertemplate\":\"<b>%{hovertext}</b><br><br>x=%{x}<br>y=%{y}<extra></extra>\",\"hovertext\":[\"Arab World\",\"Caribbean small states\",\"Central Europe and the Baltics\",\"Early-demographic dividend\",\"East Asia & Pacific\",\"East Asia & Pacific (excluding high income)\",\"East Asia & Pacific (IDA & IBRD countries)\",\"Euro area\",\"Europe & Central Asia\",\"Europe & Central Asia (excluding high income)\",\"Europe & Central Asia (IDA & IBRD countries)\",\"European Union\",\"Fragile and conflict affected situations\",\"Heavily indebted poor countries (HIPC)\",\"High income\",\"IBRD only\",\"IDA & IBRD total\",\"IDA blend\",\"IDA only\",\"IDA total\",\"Late-demographic dividend\",\"Latin America & Caribbean\",\"Latin America & Caribbean (excluding high income)\",\"Latin America & the Caribbean (IDA & IBRD countries)\",\"Least developed countries: UN classification\",\"Low & middle income\",\"Low income\",\"Lower middle income\",\"Middle East & North Africa\",\"Middle East & North Africa (excluding high income)\",\"Middle East & North Africa (IDA & IBRD countries)\",\"Middle income\",\"North America\",\"Not classified\",\"OECD members\",\"Other small states\",\"Pacific island small states\",\"Post-demographic dividend\",\"Pre-demographic dividend\",\"Small states\",\"South Asia\",\"South Asia (IDA & IBRD)\",\"Sub-Saharan Africa\",\"Sub-Saharan Africa (excluding high income)\",\"Sub-Saharan Africa (IDA & IBRD countries)\",\"Upper middle income\",\"World\",\"Afghanistan\",\"Albania\",\"Algeria\",\"American Samoa\",\"Andorra\",\"Angola\",\"Antigua and Barbuda\",\"Argentina\",\"Armenia\",\"Aruba\",\"Australia\",\"Austria\",\"Azerbaijan\",\"Bahamas, The\",\"Bahrain\",\"Bangladesh\",\"Barbados\",\"Belarus\",\"Belgium\",\"Belize\",\"Benin\",\"Bermuda\",\"Bhutan\",\"Bolivia\",\"Bosnia and Herzegovina\",\"Botswana\",\"Brazil\",\"British Virgin Islands\",\"Brunei Darussalam\",\"Bulgaria\",\"Burkina Faso\",\"Burundi\",\"Cabo Verde\",\"Cambodia\",\"Cameroon\",\"Canada\",\"Cayman Islands\",\"Central African Republic\",\"Chad\",\"Channel Islands\",\"Chile\",\"China\",\"Colombia\",\"Comoros\",\"Congo, Dem. Rep.\",\"Congo, Rep.\",\"Costa Rica\",\"Cote d'Ivoire\",\"Croatia\",\"Cuba\",\"Curacao\",\"Cyprus\",\"Czech Republic\",\"Denmark\",\"Djibouti\",\"Dominica\",\"Dominican Republic\",\"Ecuador\",\"Egypt, Arab Rep.\",\"El Salvador\",\"Equatorial Guinea\",\"Eritrea\",\"Estonia\",\"Ethiopia\",\"Faroe Islands\",\"Fiji\",\"Finland\",\"France\",\"French Polynesia\",\"Gabon\",\"Gambia, The\",\"Georgia\",\"Germany\",\"Ghana\",\"Gibraltar\",\"Greece\",\"Greenland\",\"Grenada\",\"Guam\",\"Guatemala\",\"Guinea\",\"Guinea-Bissau\",\"Guyana\",\"Haiti\",\"Honduras\",\"Hong Kong SAR, China\",\"Hungary\",\"Iceland\",\"India\",\"Indonesia\",\"Iran, Islamic Rep.\",\"Iraq\",\"Ireland\",\"Isle of Man\",\"Israel\",\"Italy\",\"Jamaica\",\"Japan\",\"Jordan\",\"Kazakhstan\",\"Kenya\",\"Kiribati\",\"Korea, Dem. People\\ufffds Rep.\",\"Korea, Rep.\",\"Kosovo\",\"Kuwait\",\"Kyrgyz Republic\",\"Lao PDR\",\"Latvia\",\"Lebanon\",\"Lesotho\",\"Liberia\",\"Libya\",\"Liechtenstein\",\"Lithuania\",\"Luxembourg\",\"Macao SAR, China\",\"Macedonia, FYR\",\"Madagascar\",\"Malawi\",\"Malaysia\",\"Maldives\",\"Mali\",\"Malta\",\"Marshall Islands\",\"Mauritania\",\"Mauritius\",\"Mexico\",\"Micronesia, Fed. Sts.\",\"Moldova\",\"Monaco\",\"Mongolia\",\"Montenegro\",\"Morocco\",\"Mozambique\",\"Myanmar\",\"Namibia\",\"Nauru\",\"Nepal\",\"Netherlands\",\"New Caledonia\",\"New Zealand\",\"Nicaragua\",\"Niger\",\"Nigeria\",\"Northern Mariana Islands\",\"Norway\",\"Oman\",\"Pakistan\",\"Palau\",\"Panama\",\"Papua New Guinea\",\"Paraguay\",\"Peru\",\"Philippines\",\"Poland\",\"Portugal\",\"Puerto Rico\",\"Qatar\",\"Romania\",\"Russian Federation\",\"Rwanda\",\"Samoa\",\"San Marino\",\"Sao Tome and Principe\",\"Saudi Arabia\",\"Senegal\",\"Serbia\",\"Seychelles\",\"Sierra Leone\",\"Singapore\",\"Sint Maarten (Dutch part)\",\"Slovak Republic\",\"Slovenia\",\"Solomon Islands\",\"Somalia\",\"South Africa\",\"South Sudan\",\"Spain\",\"Sri Lanka\",\"St. Kitts and Nevis\",\"St. Lucia\",\"St. Martin (French part)\",\"St. Vincent and the Grenadines\",\"Sudan\",\"Suriname\",\"Swaziland\",\"Sweden\",\"Switzerland\",\"Syrian Arab Republic\",\"Tajikistan\",\"Tanzania\",\"Thailand\",\"Timor-Leste\",\"Togo\",\"Tonga\",\"Trinidad and Tobago\",\"Tunisia\",\"Turkey\",\"Turkmenistan\",\"Turks and Caicos Islands\",\"Tuvalu\",\"Uganda\",\"Ukraine\",\"United Arab Emirates\",\"United Kingdom\",\"United States\",\"Uruguay\",\"Uzbekistan\",\"Vanuatu\",\"Venezuela, RB\",\"Vietnam\",\"Virgin Islands\",\"West Bank and Gaza\",\"Yemen, Rep.\",\"Zambia\",\"Zimbabwe\"],\"legendgroup\":\"\",\"marker\":{\"color\":\"#636efa\",\"symbol\":\"circle\"},\"mode\":\"markers\",\"name\":\"\",\"orientation\":\"v\",\"showlegend\":false,\"x\":[6.48494324741,3.92439168824,2.28738691724,5.39744937444,3.4501778037300004,3.66036731023,3.67187772012,1.90948071859,2.24627488315,2.65827261713,2.6091234279,1.95832829721,6.62635734412,6.917458730880001,1.99670886513,4.00939754457,4.48314101906,6.11807601415,6.717708891669999,6.492456980499999,3.29594901195,4.55458287464,4.65349597415,4.6415402618,6.69577149282,4.5056854919800005,6.56240279428,5.31599095781,6.31287792907,6.3419810811,6.3419810811,4.35063932415,1.78919256601,null,2.2601570250400003,4.76969120186,5.12657273137,1.90435931713,6.922156574360001,4.5708188201,5.318562817769999,5.318562817769999,6.79391744709,6.79391744709,6.79391744709,3.55255143884,3.94356983583,7.449,3.966,7.234,null,null,7.347,2.358,3.391,2.555,2.446,2.007,1.63,3.676,3.062,5.283,6.681,2.198,2.08,1.71,6.195,6.984,null,6.667999999999999,5.917000000000001,2.259,6.399,4.339,null,4.884,2.21,6.984,7.452000000000001,6.645,5.557,6.47,1.7819999999999998,null,5.952000000000001,6.857,1.546,2.9760000000000004,3.202,4.284,7.061,6.443,6.36,3.695,7.832000000000001,2.005,2.332,null,2.31,2.34,1.66,6.671,null,4.847,5.129,5.596,5.476,5.682,6.625,2.06,7.195,2.7,3.992,1.68,1.94,4.301,5.542999999999999,6.332999999999999,2.419,1.4,6.721,null,2.27,2.349,4.337,3.5610000000000004,6.211,6.436,6.249,4.579,5.779,6.649,2.376,2.15,2.31,5.03,4.806,6.289,6.834,3.24,null,3.41,1.93,4.115,1.8,7.455,3.1060000000000003,7.695,5.031000000000001,2.889,2.99,null,6.068,4.15,6.138999999999999,1.89,4.271,5.706,6.93,7.736000000000001,null,2.14,1.5,1.4409999999999998,2.562,7.007999999999999,7.588999999999999,3.99,6.936,7.153,2.14,null,6.593999999999999,3.071,5.587000000000001,6.49,2.455,null,6.78,2.341,5.97,6.532,5.284,6.622000000000001,null,5.803999999999999,1.58,3.43,2.229,6.42,7.617999999999999,6.757000000000001,null,1.75,8.017999999999999,6.599,null,4.26,5.9,5.189,5.447,5.506,2.23,2.69,2.769,6.211,2.57,1.95,8.423,6.547000000000001,null,6.504,7.298999999999999,7.461,null,null,6.23,1.82,null,2.49,2.166,7.096,7.005,5.064,6.912999999999999,2.66,3.633,null,5.216,null,4.54,6.919,4.331,6.761,1.64,1.53,7.359,6.042999999999999,6.73,4.03,4.513999999999999,7.284,5.471,3.273,5.706,4.738,5.441,null,null,7.099,1.94,5.744,1.69,1.79,2.907,5.66,5.787000000000001,4.4830000000000005,5.614,3.607,null,8.427,7.381,7.33],\"xaxis\":\"x\",\"y\":[8.64886931362,4.24747605556,null,3.95604627186,5.22593390881,7.72074608115,7.72074608115,3.07861153139,2.86725342098,null,null,2.81644230087,null,3.775114313480001,3.90067251123,4.449030753590001,4.45485675698,5.052561166469999,3.83259866227,4.5099182248,6.323067137590001,4.81309076835,4.71184850626,4.72848070231,null,4.444706463359999,null,6.78726565967,4.001354829059999,0.564735908341,0.564735908341,4.50627874251,4.48665906512,null,3.73453559576,null,null,3.763631663580001,4.72835784881,null,6.407929189380001,6.407929189380001,2.35991640797,2.36575175381,2.35991640797,3.86758260368,3.99658805694,null,null,5.25858598509,null,2.8385755661000003,null,null,6.93414775538,null,null,3.60727832218,5.07998083944,null,9.15492921913,null,2.67305605002,null,null,0.6261547986399999,6.49659428706,4.9836637249,5.897435897439999,null,4.97121608746,null,12.0120400916,4.6063180611400005,null,10.9166972286,null,0.370353558008,11.4694530443,null,null,13.739871523,3.45823060141,null,3.806234914080001,2.2346248491400003,null,8.6974402969,7.57,4.14801343895,null,0.7607936015510001,-8.95342798053,8.90447443141,7.31445915523,null,8.709502862989998,null,16.3620009517,null,1.97885393628,null,null,4.9817839493400005,1.60484211178,12.8369584696,6.78006173,null,null,null,null,null,5.90401148298,0.239510404025,3.45136894592,2.07899270823,-12.5820911682,3.43957605817,6.89655016091,3.3472180880299995,2.27410724355,null,2.94100164661,8.82231465073,null,null,7.80922068504,null,-7.17006997107,-2.63867965999,null,10.3838890902,11.725532353699998,null,8.822277251869998,7.25476458521,8.6364651562,-2.77357769163,1.89995939435,8.2113002867,null,-0.00796712289309,2.56050079855,-2.59754869764,4.390337950219999,6.50994626664,null,9.45379784937,-4.61262956701,null,11.8177550146,null,-0.103370272997,null,null,null,null,21.8090333114,1.58798456662,null,4.75867709144,null,1.56977667683,null,null,2.36400035887,4.91803136466,7.75647431462,null,6.348647193940001,12.1841738956,null,-1.87859368289,6.54761905285,3.39063970678,null,null,3.55323608267,null,null,6.05916767916,null,5.95228661064,null,null,3.01697344065,2.52044046888,1.89982427925,null,8.36848053301,7.76458111911,6.024117846189999,null,4.16076721758,1.00721832951,3.94769828741,null,1.09402494071,0.83481559684,11.4940816034,0.349063699304,5.602055577280001,null,5.602597251970001,5.95068036592,null,null,null,1.99410948018,null,2.5603748689700003,null,6.89417868045,-2.68290530506,null,-6.19022681347,0.0466758098406999,7.486151919460001,null,null,null,null,23.3074905117,-0.0940957057406999,null,2.83857428455,5.10059026393,null,null,null,13.2294065744,6.22385378189,10.0912509829,1.0095922548799998,-1.59625858231,null,-1.27373797412,null,null,9.84346323531,null,6.95908537004,null,9.12179155082,3.41109585407,3.4066698049299995,null,null,null,null,null,21.4393301623,2.46321417352,4.60859740653,1.45546117871,null,null,6.2707835129900005,null,-1.06658979533,null,null,-4.56423605811,-6.86070319342],\"yaxis\":\"y\",\"type\":\"scatter\"},{\"hoverinfo\":\"skip\",\"marker\":{\"color\":\"#EF553B\",\"line\":{\"width\":4},\"size\":14,\"symbol\":\"circle-open\"},\"mode\":\"markers\",\"name\":\"Caribbean small states\",\"x\":[3.92439168824],\"y\":[4.24747605556],\"type\":\"scatter\"},{\"hoverinfo\":\"skip\",\"marker\":{\"color\":\"#FF97FF\",\"line\":{\"width\":4},\"size\":14,\"symbol\":\"circle-open\"},\"mode\":\"markers\",\"name\":\"Cyprus\",\"x\":[2.31],\"y\":[16.3620009517],\"type\":\"scatter\"}],                        {\"height\":650,\"hovermode\":\"closest\",\"legend\":{\"orientation\":\"v\",\"tracegroupgap\":0},\"margin\":{\"b\":20,\"l\":20,\"r\":275,\"t\":20},\"template\":{\"data\":{\"barpolar\":[{\"marker\":{\"line\":{\"color\":\"#E5ECF6\",\"width\":0.5},\"pattern\":{\"fillmode\":\"overlay\",\"size\":10,\"solidity\":0.2}},\"type\":\"barpolar\"}],\"bar\":[{\"error_x\":{\"color\":\"#2a3f5f\"},\"error_y\":{\"color\":\"#2a3f5f\"},\"marker\":{\"line\":{\"color\":\"#E5ECF6\",\"width\":0.5},\"pattern\":{\"fillmode\":\"overlay\",\"size\":10,\"solidity\":0.2}},\"type\":\"bar\"}],\"carpet\":[{\"aaxis\":{\"endlinecolor\":\"#2a3f5f\",\"gridcolor\":\"white\",\"linecolor\":\"white\",\"minorgridcolor\":\"white\",\"startlinecolor\":\"#2a3f5f\"},\"baxis\":{\"endlinecolor\":\"#2a3f5f\",\"gridcolor\":\"white\",\"linecolor\":\"white\",\"minorgridcolor\":\"white\",\"startlinecolor\":\"#2a3f5f\"},\"type\":\"carpet\"}],\"choropleth\":[{\"colorbar\":{\"outlinewidth\":0,\"ticks\":\"\"},\"type\":\"choropleth\"}],\"contourcarpet\":[{\"colorbar\":{\"outlinewidth\":0,\"ticks\":\"\"},\"type\":\"contourcarpet\"}],\"contour\":[{\"colorbar\":{\"outlinewidth\":0,\"ticks\":\"\"},\"colorscale\":[[0.0,\"#0d0887\"],[0.1111111111111111,\"#46039f\"],[0.2222222222222222,\"#7201a8\"],[0.3333333333333333,\"#9c179e\"],[0.4444444444444444,\"#bd3786\"],[0.5555555555555556,\"#d8576b\"],[0.6666666666666666,\"#ed7953\"],[0.7777777777777778,\"#fb9f3a\"],[0.8888888888888888,\"#fdca26\"],[1.0,\"#f0f921\"]],\"type\":\"contour\"}],\"heatmapgl\":[{\"colorbar\":{\"outlinewidth\":0,\"ticks\":\"\"},\"colorscale\":[[0.0,\"#0d0887\"],[0.1111111111111111,\"#46039f\"],[0.2222222222222222,\"#7201a8\"],[0.3333333333333333,\"#9c179e\"],[0.4444444444444444,\"#bd3786\"],[0.5555555555555556,\"#d8576b\"],[0.6666666666666666,\"#ed7953\"],[0.7777777777777778,\"#fb9f3a\"],[0.8888888888888888,\"#fdca26\"],[1.0,\"#f0f921\"]],\"type\":\"heatmapgl\"}],\"heatmap\":[{\"colorbar\":{\"outlinewidth\":0,\"ticks\":\"\"},\"colorscale\":[[0.0,\"#0d0887\"],[0.1111111111111111,\"#46039f\"],[0.2222222222222222,\"#7201a8\"],[0.3333333333333333,\"#9c179e\"],[0.4444444444444444,\"#bd3786\"],[0.5555555555555556,\"#d8576b\"],[0.6666666666666666,\"#ed7953\"],[0.7777777777777778,\"#fb9f3a\"],[0.8888888888888888,\"#fdca26\"],[1.0,\"#f0f921\"]],\"type\":\"heatmap\"}],\"histogram2dcontour\":[{\"colorbar\":{\"outlinewidth\":0,\"ticks\":\"\"},\"colorscale\":[[0.0,\"#0d0887\"],[0.1111111111111111,\"#46039f\"],[0.2222222222222222,\"#7201a8\"],[0.3333333333333333,\"#9c179e\"],[0.4444444444444444,\"#bd3786\"],[0.5555555555555556,\"#d8576b\"],[0.6666666666666666,\"#ed7953\"],[0.7777777777777778,\"#fb9f3a\"],[0.8888888888888888,\"#fdca26\"],[1.0,\"#f0f921\"]],\"type\":\"histogram2dcontour\"}],\"histogram2d\":[{\"colorbar\":{\"outlinewidth\":0,\"ticks\":\"\"},\"colorscale\":[[0.0,\"#0d0887\"],[0.1111111111111111,\"#46039f\"],[0.2222222222222222,\"#7201a8\"],[0.3333333333333333,\"#9c179e\"],[0.4444444444444444,\"#bd3786\"],[0.5555555555555556,\"#d8576b\"],[0.6666666666666666,\"#ed7953\"],[0.7777777777777778,\"#fb9f3a\"],[0.8888888888888888,\"#fdca26\"],[1.0,\"#f0f921\"]],\"type\":\"histogram2d\"}],\"histogram\":[{\"marker\":{\"pattern\":{\"fillmode\":\"overlay\",\"size\":10,\"solidity\":0.2}},\"type\":\"histogram\"}],\"mesh3d\":[{\"colorbar\":{\"outlinewidth\":0,\"ticks\":\"\"},\"type\":\"mesh3d\"}],\"parcoords\":[{\"line\":{\"colorbar\":{\"outlinewidth\":0,\"ticks\":\"\"}},\"type\":\"parcoords\"}],\"pie\":[{\"automargin\":true,\"type\":\"pie\"}],\"scatter3d\":[{\"line\":{\"colorbar\":{\"outlinewidth\":0,\"ticks\":\"\"}},\"marker\":{\"colorbar\":{\"outlinewidth\":0,\"ticks\":\"\"}},\"type\":\"scatter3d\"}],\"scattercarpet\":[{\"marker\":{\"colorbar\":{\"outlinewidth\":0,\"ticks\":\"\"}},\"type\":\"scattercarpet\"}],\"scattergeo\":[{\"marker\":{\"colorbar\":{\"outlinewidth\":0,\"ticks\":\"\"}},\"type\":\"scattergeo\"}],\"scattergl\":[{\"marker\":{\"colorbar\":{\"outlinewidth\":0,\"ticks\":\"\"}},\"type\":\"scattergl\"}],\"scattermapbox\":[{\"marker\":{\"colorbar\":{\"outlinewidth\":0,\"ticks\":\"\"}},\"type\":\"scattermapbox\"}],\"scatterpolargl\":[{\"marker\":{\"colorbar\":{\"outlinewidth\":0,\"ticks\":\"\"}},\"type\":\"scatterpolargl\"}],\"scatterpolar\":[{\"marker\":{\"colorbar\":{\"outlinewidth\":0,\"ticks\":\"\"}},\"type\":\"scatterpolar\"}],\"scatter\":[{\"fillpattern\":{\"fillmode\":\"overlay\",\"size\":10,\"solidity\":0.2},\"type\":\"scatter\"}],\"scatterternary\":[{\"marker\":{\"colorbar\":{\"outlinewidth\":0,\"ticks\":\"\"}},\"type\":\"scatterternary\"}],\"surface\":[{\"colorbar\":{\"outlinewidth\":0,\"ticks\":\"\"},\"colorscale\":[[0.0,\"#0d0887\"],[0.1111111111111111,\"#46039f\"],[0.2222222222222222,\"#7201a8\"],[0.3333333333333333,\"#9c179e\"],[0.4444444444444444,\"#bd3786\"],[0.5555555555555556,\"#d8576b\"],[0.6666666666666666,\"#ed7953\"],[0.7777777777777778,\"#fb9f3a\"],[0.8888888888888888,\"#fdca26\"],[1.0,\"#f0f921\"]],\"type\":\"surface\"}],\"table\":[{\"cells\":{\"fill\":{\"color\":\"#EBF0F8\"},\"line\":{\"color\":\"white\"}},\"header\":{\"fill\":{\"color\":\"#C8D4E3\"},\"line\":{\"color\":\"white\"}},\"type\":\"table\"}]},\"layout\":{\"annotationdefaults\":{\"arrowcolor\":\"#2a3f5f\",\"arrowhead\":0,\"arrowwidth\":1},\"autotypenumbers\":\"strict\",\"coloraxis\":{\"colorbar\":{\"outlinewidth\":0,\"ticks\":\"\"}},\"colorscale\":{\"diverging\":[[0,\"#8e0152\"],[0.1,\"#c51b7d\"],[0.2,\"#de77ae\"],[0.3,\"#f1b6da\"],[0.4,\"#fde0ef\"],[0.5,\"#f7f7f7\"],[0.6,\"#e6f5d0\"],[0.7,\"#b8e186\"],[0.8,\"#7fbc41\"],[0.9,\"#4d9221\"],[1,\"#276419\"]],\"sequential\":[[0.0,\"#0d0887\"],[0.1111111111111111,\"#46039f\"],[0.2222222222222222,\"#7201a8\"],[0.3333333333333333,\"#9c179e\"],[0.4444444444444444,\"#bd3786\"],[0.5555555555555556,\"#d8576b\"],[0.6666666666666666,\"#ed7953\"],[0.7777777777777778,\"#fb9f3a\"],[0.8888888888888888,\"#fdca26\"],[1.0,\"#f0f921\"]],\"sequentialminus\":[[0.0,\"#0d0887\"],[0.1111111111111111,\"#46039f\"],[0.2222222222222222,\"#7201a8\"],[0.3333333333333333,\"#9c179e\"],[0.4444444444444444,\"#bd3786\"],[0.5555555555555556,\"#d8576b\"],[0.6666666666666666,\"#ed7953\"],[0.7777777777777778,\"#fb9f3a\"],[0.8888888888888888,\"#fdca26\"],[1.0,\"#f0f921\"]]},\"colorway\":[\"#636efa\",\"#EF553B\",\"#00cc96\",\"#ab63fa\",\"#FFA15A\",\"#19d3f3\",\"#FF6692\",\"#B6E880\",\"#FF97FF\",\"#FECB52\"],\"font\":{\"color\":\"#2a3f5f\"},\"geo\":{\"bgcolor\":\"white\",\"lakecolor\":\"white\",\"landcolor\":\"#E5ECF6\",\"showlakes\":true,\"showland\":true,\"subunitcolor\":\"white\"},\"hoverlabel\":{\"align\":\"left\"},\"hovermode\":\"closest\",\"mapbox\":{\"style\":\"light\"},\"paper_bgcolor\":\"white\",\"plot_bgcolor\":\"#E5ECF6\",\"polar\":{\"angularaxis\":{\"gridcolor\":\"white\",\"linecolor\":\"white\",\"ticks\":\"\"},\"bgcolor\":\"#E5ECF6\",\"radialaxis\":{\"gridcolor\":\"white\",\"linecolor\":\"white\",\"ticks\":\"\"}},\"scene\":{\"xaxis\":{\"backgroundcolor\":\"#E5ECF6\",\"gridcolor\":\"white\",\"gridwidth\":2,\"linecolor\":\"white\",\"showbackground\":true,\"ticks\":\"\",\"zerolinecolor\":\"white\"},\"yaxis\":{\"backgroundcolor\":\"#E5ECF6\",\"gridcolor\":\"white\",\"gridwidth\":2,\"linecolor\":\"white\",\"showbackground\":true,\"ticks\":\"\",\"zerolinecolor\":\"white\"},\"zaxis\":{\"backgroundcolor\":\"#E5ECF6\",\"gridcolor\":\"white\",\"gridwidth\":2,\"linecolor\":\"white\",\"showbackground\":true,\"ticks\":\"\",\"zerolinecolor\":\"white\"}},\"shapedefaults\":{\"line\":{\"color\":\"#2a3f5f\"}},\"ternary\":{\"aaxis\":{\"gridcolor\":\"white\",\"linecolor\":\"white\",\"ticks\":\"\"},\"baxis\":{\"gridcolor\":\"white\",\"linecolor\":\"white\",\"ticks\":\"\"},\"bgcolor\":\"#E5ECF6\",\"caxis\":{\"gridcolor\":\"white\",\"linecolor\":\"white\",\"ticks\":\"\"}},\"title\":{\"x\":0.05},\"xaxis\":{\"automargin\":true,\"gridcolor\":\"white\",\"linecolor\":\"white\",\"ticks\":\"\",\"title\":{\"standoff\":15},\"zerolinecolor\":\"white\",\"zerolinewidth\":2},\"yaxis\":{\"automargin\":true,\"gridcolor\":\"white\",\"linecolor\":\"white\",\"ticks\":\"\",\"title\":{\"standoff\":15},\"zerolinecolor\":\"white\",\"zerolinewidth\":2}}},\"title\":{\"text\":\"Gapminder from 1962 to 1977\"},\"uirevision\":\"constant\",\"xaxis\":{\"anchor\":\"y\",\"domain\":[0.0,1.0],\"title\":{\"text\":\"Fertility rate, total (births per woman)\"},\"type\":\"linear\"},\"yaxis\":{\"anchor\":\"x\",\"domain\":[0.0,1.0],\"title\":{\"text\":\"GDP growth (annual %)\"},\"type\":\"linear\"},\"paper_bgcolor\":\"rgb(127, 127, 127)\",\"plot_bgcolor\":\"rgb(23, 190, 207)\"},                        {\"responsive\": true}                    ).then(function(){\n",
       "                            \n",
       "var gd = document.getElementById('fa5d7897-ae29-4f09-a4d5-68fd1429b26b');\n",
       "var x = new MutationObserver(function (mutations, observer) {{\n",
       "        var display = window.getComputedStyle(gd).display;\n",
       "        if (!display || display === 'none') {{\n",
       "            console.log([gd, 'removed!']);\n",
       "            Plotly.purge(gd);\n",
       "            observer.disconnect();\n",
       "        }}\n",
       "}});\n",
       "\n",
       "// Listen for the removal of the full notebook cells\n",
       "var notebookContainer = gd.closest('#notebook-container');\n",
       "if (notebookContainer) {{\n",
       "    x.observe(notebookContainer, {childList: true});\n",
       "}}\n",
       "\n",
       "// Listen for the clearing of the current output cell\n",
       "var outputEl = gd.closest('.output');\n",
       "if (outputEl) {{\n",
       "    x.observe(outputEl, {childList: true});\n",
       "}}\n",
       "\n",
       "                        })                };                });            </script>        </div>"
      ]
     },
     "metadata": {},
     "output_type": "display_data"
    }
   ],
   "source": [
    "# find a combination that's pleasing to the eye\n",
    "fig.update_layout(\n",
    "    paper_bgcolor= 'rgb(127, 127, 127)',\n",
    "    plot_bgcolor= 'rgb(23, 190, 207)')\n",
    "fig.show()"
   ]
  },
  {
   "cell_type": "code",
   "execution_count": null,
   "id": "2a266b62-4b19-4c33-9754-5827296008ca",
   "metadata": {},
   "outputs": [],
   "source": [
    "# go bananas\n",
    "plotly_colors = ['rgb(31, 119, 180)',\n",
    " 'rgb(255, 127, 14)',\n",
    " 'rgb(44, 160, 44)',\n",
    " 'rgb(214, 39, 40)',\n",
    " 'rgb(148, 103, 189)',\n",
    " 'rgb(140, 86, 75)',\n",
    " 'rgb(227, 119, 194)',\n",
    " 'rgb(127, 127, 127)',\n",
    " 'rgb(188, 189, 34)',\n",
    " 'rgb(23, 190, 207)'][:]\n",
    "\n",
    "for c1 in plotly_colors:\n",
    "    for c2 in plotly_colors:\n",
    "        fig.update_layout(\n",
    "            paper_bgcolor=c1,\n",
    "            plot_bgcolor=c2)\n",
    "        fig.show()\n"
   ]
  },
  {
   "cell_type": "code",
   "execution_count": null,
   "id": "9701b71c-5cd1-4c4f-b0b4-0ee3c9c6a71f",
   "metadata": {},
   "outputs": [],
   "source": [
    "config={\n",
    "    'editable': True,\n",
    "    'edits': {\n",
    "        'shapePosition': True,\n",
    "        'annotationPosition': True\n",
    "    }"
   ]
  },
  {
   "cell_type": "code",
   "execution_count": 81,
   "id": "a0ac0bc9-908a-4b3d-a0bf-8c8103eba84c",
   "metadata": {},
   "outputs": [
    {
     "name": "stdout",
     "output_type": "stream",
     "text": [
      "is = 0\n",
      "triggered first =  0\n",
      "triggered second =  1\n",
      "is = 2\n",
      "is = 2\n",
      "is = 2\n",
      "--\n",
      "is = 2\n",
      "triggered first =  2\n",
      "triggered second =  3\n",
      "is = 4\n",
      "is = 4\n",
      "is = 4\n",
      "--\n",
      "is = 4\n",
      "triggered first =  4\n",
      "triggered second =  5\n",
      "is = 6\n",
      "is = 6\n",
      "is = 6\n",
      "--\n",
      "is = 6\n",
      "triggered first =  6\n",
      "triggered second =  7\n",
      "is = 8\n",
      "is = 8\n",
      "is = 8\n",
      "--\n"
     ]
    }
   ],
   "source": [
    "from itertools import count\n",
    "counter = count(start = 0, step = 1)\n",
    "\n",
    "for i in range(4):\n",
    "    # print(next(counter))\n",
    "    \n",
    "    # print(next(counter))\n",
    "    print('is =', counter.__reduce__()[1][0])#, next(counter))\n",
    "    print('triggered first = ', next(counter),)\n",
    "    print('triggered second = ', next(counter),)\n",
    "    print('is =', counter.__reduce__()[1][0])#, next(counter))\n",
    "    print('is =', counter.__reduce__()[1][0])#, next(counter))\n",
    "    print('is =', counter.__reduce__()[1][0])#, next(counter))\n",
    "    # print(next(counter))\n",
    "    # print(next(counter))\n",
    "    \n",
    "    print(\"--\")"
   ]
  },
  {
   "cell_type": "code",
   "execution_count": null,
   "id": "8ef90917-1049-43fa-9bdd-367b53324348",
   "metadata": {},
   "outputs": [],
   "source": [
    "import dash_bootstrap_components as dbc"
   ]
  },
  {
   "cell_type": "code",
   "execution_count": null,
   "id": "e2d002f4-15b1-42af-a72e-4a391d947854",
   "metadata": {},
   "outputs": [],
   "source": [
    "dcc.Checklist(id=\"x-variable\",\n",
    "                            #options=[{\"label\": i, \"value\": col} for i, col in enumerate(modeller_alle)],\n",
    "\n",
    "                options=[{\"label\": col + ' ', \"value\": col} for col in df.columns],\n",
    "                #options=[{\"label\": col, \"value\": col} for col in df.columns],\n",
    "                value=[df.columns[1]],\n",
    "                labelStyle={'display': 'inline-block', 'width': '12em', 'line-height':'0.5em'},\n",
    "                style={'width':'100%'}\n",
    "                            #clearable=False,\n",
    "                            #multi = True\n",
    "                        )"
   ]
  },
  {
   "cell_type": "markdown",
   "id": "8e873f68-973d-4ab2-8515-ffb11750cb28",
   "metadata": {},
   "source": [
    "# Cell below:\n",
    "# 1. Callback context import\n",
    "\n",
    "# dir(ctx) returns:\n",
    "['args_grouping', 'inputs', 'inputs_list', 'outputs_grouping', 'outputs_list', 'record_timing', 'response', 'states', 'states_list', 'triggered', 'triggered_id', 'triggered_prop_ids', 'using_args_grouping', 'using_outputs_grouping']\n"
   ]
  },
  {
   "cell_type": "code",
   "execution_count": 2,
   "id": "a0200435-e728-4259-955b-b1d2e6c44748",
   "metadata": {},
   "outputs": [
    {
     "name": "stdout",
     "output_type": "stream",
     "text": [
      "ctx_inputs_list\n",
      "=================\n",
      "[{'id': 'crossfilter-indicator-scatter', 'property': 'clickData'}, {'id': 'dd1_fokus_land', 'property': 'value', 'value': None}]\n"
     ]
    }
   ],
   "source": [
    "import plotly.graph_objects as go\n",
    "import plotly.express as px\n",
    "import pandas as pd\n",
    "import dbm.dumb\n",
    "import shelve\n",
    "from dash import Dash, html, dcc\n",
    "\n",
    "with shelve.open('C:\\\\repos\\shelve\\dash2\\\\callback_context', 'r') as shelf_in:\n",
    "    # for key in shelf_in.keys():\n",
    "        # print(repr(key), repr(shelf_in[key]))\n",
    "        # print(repr(key))\n",
    "    # fig = go.Figure(shelf_in['figout'])\n",
    "    # ctx_inputs = shelf_in['ctx_inputs']\n",
    "    ctx_inputs_list = shelf_in['ctx_inputs_list']\n",
    "    ctx_outputs_list = shelf_in['ctx_outputs_list']\n",
    "    ctx_triggered_id = shelf_in['ctx_triggered_id']\n",
    "    # figdata = shelf_in['figdata']\n",
    "    # df = pd.read_pickle(shelf_in['dfout'])\n",
    "    # dff = shelf_in['dfout']\n",
    "\n",
    "# print(\"ctx_inputs_list:\")\n",
    "# print(\"================\")\n",
    "# print(ctx_inputs_list)\n",
    "# print(\"ctc_outputs_list:\")\n",
    "print(\"ctx_inputs_list\")\n",
    "print(\"=================\")\n",
    "print(ctx_inputs_list)\n",
    "# print(\"ctx_triggered_id:\")     \n",
    "# print(\"=======================\")\n",
    "# print(ctx_inputs_list)"
   ]
  },
  {
   "cell_type": "code",
   "execution_count": 52,
   "id": "f517709f-9faa-464b-94d6-2770601b5944",
   "metadata": {},
   "outputs": [
    {
     "data": {
      "text/plain": [
       "[{'id': 'crossfilter-indicator-scatter', 'property': 'clickData', 'value': {}},\n",
       " {'id': 'dd1_fokus_land',\n",
       "  'property': 'value',\n",
       "  'value': ['Late-demographic dividend']}]"
      ]
     },
     "execution_count": 52,
     "metadata": {},
     "output_type": "execute_result"
    }
   ],
   "source": [
    "ctx_inputs_list"
   ]
  },
  {
   "cell_type": "code",
   "execution_count": 41,
   "id": "dbeec625-e80f-4f27-8a86-4bde3eba522f",
   "metadata": {},
   "outputs": [
    {
     "data": {
      "text/plain": [
       "{'id': 'dd1_fokus_land',\n",
       " 'property': 'value',\n",
       " 'value': ['Caribbean small states',\n",
       "  'Nepal',\n",
       "  'Middle East & North Africa',\n",
       "  'Israel']}"
      ]
     },
     "execution_count": 41,
     "metadata": {},
     "output_type": "execute_result"
    }
   ],
   "source": [
    "ctx_inputs_list[1]"
   ]
  }
 ],
 "metadata": {
  "kernelspec": {
   "display_name": "Python 3 (ipykernel)",
   "language": "python",
   "name": "python3"
  },
  "language_info": {
   "codemirror_mode": {
    "name": "ipython",
    "version": 3
   },
   "file_extension": ".py",
   "mimetype": "text/x-python",
   "name": "python",
   "nbconvert_exporter": "python",
   "pygments_lexer": "ipython3",
   "version": "3.10.4"
  }
 },
 "nbformat": 4,
 "nbformat_minor": 5
}
