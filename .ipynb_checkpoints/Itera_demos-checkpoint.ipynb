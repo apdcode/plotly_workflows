{
 "cells": [
  {
   "cell_type": "code",
   "execution_count": 94,
   "id": "48a8d267-3a47-464b-9b59-4944c5c0696e",
   "metadata": {},
   "outputs": [
    {
     "data": {
      "text/plain": [
       "'aaaeeekkkknnpr'"
      ]
     },
     "execution_count": 94,
     "metadata": {},
     "output_type": "execute_result"
    }
   ],
   "source": [
    "\n",
    "def freq(text):\n",
    "    return ''.join([k*v  for k,v  in {k: text.count(k) for k in sorted(text)}.items()])\n",
    "\n",
    "freq(\"kakepannekaker\")"
   ]
  },
  {
   "cell_type": "markdown",
   "id": "d62f4c17-6fbf-47db-a3b0-e84e244eedf5",
   "metadata": {},
   "source": [
    "# Question for Adam"
   ]
  },
  {
   "cell_type": "code",
   "execution_count": 57,
   "id": "07129b48-cf77-4ec6-a046-a7ee2bc5932e",
   "metadata": {},
   "outputs": [
    {
     "name": "stdout",
     "output_type": "stream",
     "text": [
      "{'p': 1, 'a': 2, 'n': 2, 'e': 2, 'k': 2, 'r': 1}\n",
      "aaeekknnpr\n"
     ]
    }
   ],
   "source": [
    "from collections import Counter\n",
    "freq = Counter('pannekaker')\n",
    "print(dict(freq))\n",
    "print(''.join(sorted(freq.elements())))"
   ]
  },
  {
   "cell_type": "code",
   "execution_count": 65,
   "id": "55491989-feb8-43d4-aa2d-3ec1773fb907",
   "metadata": {},
   "outputs": [
    {
     "data": {
      "text/plain": [
       "{'Asia': 'green',\n",
       " 'Europe': 'yellow',\n",
       " 'Africa': 'red',\n",
       " 'Americas': 'green',\n",
       " 'Oceania': 'yellow'}"
      ]
     },
     "execution_count": 65,
     "metadata": {},
     "output_type": "execute_result"
    }
   ],
   "source": [
    "import plotly.express as px\n",
    "from itertools import cycle\n",
    "colors = ['green', 'yellow', 'red']\n",
    "col_cycle = cycle(colors)\n",
    "df = px.data.gapminder()\n",
    "\n",
    "{c:next(col_cycle) for c in df['continent'].unique()}"
   ]
  },
  {
   "cell_type": "code",
   "execution_count": 1,
   "id": "b8f2da8c-cda1-4d26-a70e-e33b27af04b4",
   "metadata": {},
   "outputs": [
    {
     "data": {
      "text/html": [
       "\n",
       "        <iframe\n",
       "            width=\"100%\"\n",
       "            height=\"650\"\n",
       "            src=\"http://127.0.0.1:8050/\"\n",
       "            frameborder=\"0\"\n",
       "            allowfullscreen\n",
       "            \n",
       "        ></iframe>\n",
       "        "
      ],
      "text/plain": [
       "<IPython.lib.display.IFrame at 0x170fde6f610>"
      ]
     },
     "metadata": {},
     "output_type": "display_data"
    }
   ],
   "source": [
    "import plotly.express as px\n",
    "from jupyter_dash import JupyterDash\n",
    "# import dash_core_components as dcc\n",
    "# import dash_html_components as html\n",
    "from dash.dependencies import Input, Output\n",
    "from dash import html\n",
    "from dash import dcc\n",
    "# Load Data\n",
    "df = px.data.tips()\n",
    "# Build App\n",
    "app = JupyterDash(__name__)\n",
    "app.layout = html.Div([\n",
    "    html.H1(\"JupyterDash Demo\"),\n",
    "    dcc.Graph(id='graph'),\n",
    "    html.Label([\n",
    "        \"colorscale\",\n",
    "        dcc.Dropdown(\n",
    "            id='colorscale-dropdown', clearable=False,\n",
    "            value='plasma', options=[\n",
    "                {'label': c, 'value': c}\n",
    "                for c in px.colors.named_colorscales()\n",
    "            ])\n",
    "    ]),\n",
    "])\n",
    "# Define callback to update graph\n",
    "@app.callback(\n",
    "    Output('graph', 'figure'),\n",
    "    [Input(\"colorscale-dropdown\", \"value\")]\n",
    ")\n",
    "def update_figure(colorscale):\n",
    "    return px.scatter(\n",
    "        df, x=\"total_bill\", y=\"tip\", color=\"size\",\n",
    "        color_continuous_scale=colorscale,\n",
    "        render_mode=\"webgl\", title=\"Tips\"\n",
    "    )\n",
    "# Run app and display result inline in the notebook\n",
    "# print('hello')\n",
    "# app.run_server(mode='inline') # freezes\n",
    "# app.run_server(debug=True, use_reloader=False) # should work according to https://plotly.com/python/line-charts/\n",
    "# app.run_server(mode = 'inline', debug=True, use_reloader=False)\n",
    "# app.run_server(mode = 'inline', use_reloader=False)\n",
    "app.run_server(mode = 'inline', use_reloader=False)\n",
    "\n",
    "\n",
    "# app.run_server(debug = True, mode='inline', port = 8070, dev_tools_ui=True,\n",
    "#           dev_tools_hot_reload =False, threaded=False)\n",
    "\n",
    "# https://medium.com/plotly/introducing-jupyterdash-811f1f57c02e"
   ]
  },
  {
   "cell_type": "code",
   "execution_count": null,
   "id": "a467556e-8e82-4544-922a-f32bf64855ee",
   "metadata": {},
   "outputs": [],
   "source": [
    "import shelve\n",
    "print(shelve)"
   ]
  },
  {
   "cell_type": "code",
   "execution_count": null,
   "id": "3b28b93c-ecb8-4098-8c77-efef77ca95b5",
   "metadata": {},
   "outputs": [],
   "source": [
    "import dbm.dumb\n",
    "import shelve\n",
    "with shelve.open(\"C:\\\\repos\\shelve\\dash2\\\\figure_structure\", \"c\") as shelf:\n",
    "        # shelf['figout'] = fig.to_dict()\n",
    "        # shelf[\"figdata\"] = figdata\n",
    "        # shelf[\"figout\"] = fig\n",
    "        # shelf['dfout'] = dff.to_pickle()\n",
    "        shelf['dfi'] = dfi\n",
    "        shelf[\"dfout\"] = dff"
   ]
  },
  {
   "cell_type": "markdown",
   "id": "9061cc45-e70c-4c23-9953-66bf03b22171",
   "metadata": {},
   "source": [
    "# Cell below:\n",
    "# 1. Figure import\n",
    "# 2. Figure data import\n",
    "# 3. Data source (dataframe) import"
   ]
  },
  {
   "cell_type": "code",
   "execution_count": 21,
   "id": "897baa6e-fa89-4a70-9d11-203002e1f3fe",
   "metadata": {},
   "outputs": [
    {
     "data": {
      "application/vnd.plotly.v1+json": {
       "config": {
        "plotlyServerURL": "https://plot.ly"
       },
       "data": [
        {
         "customdata": [
          "Arab World",
          "Caribbean small states",
          "Central Europe and the Baltics",
          "Early-demographic dividend",
          "East Asia & Pacific",
          "East Asia & Pacific (excluding high income)",
          "East Asia & Pacific (IDA & IBRD countries)",
          "Euro area",
          "Europe & Central Asia",
          "Europe & Central Asia (excluding high income)",
          "Europe & Central Asia (IDA & IBRD countries)",
          "European Union",
          "Fragile and conflict affected situations",
          "Heavily indebted poor countries (HIPC)",
          "High income",
          "IBRD only",
          "IDA & IBRD total",
          "IDA blend",
          "IDA only",
          "IDA total",
          "Late-demographic dividend",
          "Latin America & Caribbean",
          "Latin America & Caribbean (excluding high income)",
          "Latin America & the Caribbean (IDA & IBRD countries)",
          "Least developed countries: UN classification",
          "Low & middle income",
          "Low income",
          "Lower middle income",
          "Middle East & North Africa",
          "Middle East & North Africa (excluding high income)",
          "Middle East & North Africa (IDA & IBRD countries)",
          "Middle income",
          "North America",
          "Not classified",
          "OECD members",
          "Other small states",
          "Pacific island small states",
          "Post-demographic dividend",
          "Pre-demographic dividend",
          "Small states",
          "South Asia",
          "South Asia (IDA & IBRD)",
          "Sub-Saharan Africa",
          "Sub-Saharan Africa (excluding high income)",
          "Sub-Saharan Africa (IDA & IBRD countries)",
          "Upper middle income",
          "World",
          "Afghanistan",
          "Albania",
          "Algeria",
          "American Samoa",
          "Andorra",
          "Angola",
          "Antigua and Barbuda",
          "Argentina",
          "Armenia",
          "Aruba",
          "Australia",
          "Austria",
          "Azerbaijan",
          "Bahamas, The",
          "Bahrain",
          "Bangladesh",
          "Barbados",
          "Belarus",
          "Belgium",
          "Belize",
          "Benin",
          "Bermuda",
          "Bhutan",
          "Bolivia",
          "Bosnia and Herzegovina",
          "Botswana",
          "Brazil",
          "British Virgin Islands",
          "Brunei Darussalam",
          "Bulgaria",
          "Burkina Faso",
          "Burundi",
          "Cabo Verde",
          "Cambodia",
          "Cameroon",
          "Canada",
          "Cayman Islands",
          "Central African Republic",
          "Chad",
          "Channel Islands",
          "Chile",
          "China",
          "Colombia",
          "Comoros",
          "Congo, Dem. Rep.",
          "Congo, Rep.",
          "Costa Rica",
          "Cote d'Ivoire",
          "Croatia",
          "Cuba",
          "Curacao",
          "Cyprus",
          "Czech Republic",
          "Denmark",
          "Djibouti",
          "Dominica",
          "Dominican Republic",
          "Ecuador",
          "Egypt, Arab Rep.",
          "El Salvador",
          "Equatorial Guinea",
          "Eritrea",
          "Estonia",
          "Ethiopia",
          "Faroe Islands",
          "Fiji",
          "Finland",
          "France",
          "French Polynesia",
          "Gabon",
          "Gambia, The",
          "Georgia",
          "Germany",
          "Ghana",
          "Gibraltar",
          "Greece",
          "Greenland",
          "Grenada",
          "Guam",
          "Guatemala",
          "Guinea",
          "Guinea-Bissau",
          "Guyana",
          "Haiti",
          "Honduras",
          "Hong Kong SAR, China",
          "Hungary",
          "Iceland",
          "India",
          "Indonesia",
          "Iran, Islamic Rep.",
          "Iraq",
          "Ireland",
          "Isle of Man",
          "Israel",
          "Italy",
          "Jamaica",
          "Japan",
          "Jordan",
          "Kazakhstan",
          "Kenya",
          "Kiribati",
          "Korea, Dem. People�s Rep.",
          "Korea, Rep.",
          "Kosovo",
          "Kuwait",
          "Kyrgyz Republic",
          "Lao PDR",
          "Latvia",
          "Lebanon",
          "Lesotho",
          "Liberia",
          "Libya",
          "Liechtenstein",
          "Lithuania",
          "Luxembourg",
          "Macao SAR, China",
          "Macedonia, FYR",
          "Madagascar",
          "Malawi",
          "Malaysia",
          "Maldives",
          "Mali",
          "Malta",
          "Marshall Islands",
          "Mauritania",
          "Mauritius",
          "Mexico",
          "Micronesia, Fed. Sts.",
          "Moldova",
          "Monaco",
          "Mongolia",
          "Montenegro",
          "Morocco",
          "Mozambique",
          "Myanmar",
          "Namibia",
          "Nauru",
          "Nepal",
          "Netherlands",
          "New Caledonia",
          "New Zealand",
          "Nicaragua",
          "Niger",
          "Nigeria",
          "Northern Mariana Islands",
          "Norway",
          "Oman",
          "Pakistan",
          "Palau",
          "Panama",
          "Papua New Guinea",
          "Paraguay",
          "Peru",
          "Philippines",
          "Poland",
          "Portugal",
          "Puerto Rico",
          "Qatar",
          "Romania",
          "Russian Federation",
          "Rwanda",
          "Samoa",
          "San Marino",
          "Sao Tome and Principe",
          "Saudi Arabia",
          "Senegal",
          "Serbia",
          "Seychelles",
          "Sierra Leone",
          "Singapore",
          "Sint Maarten (Dutch part)",
          "Slovak Republic",
          "Slovenia",
          "Solomon Islands",
          "Somalia",
          "South Africa",
          "South Sudan",
          "Spain",
          "Sri Lanka",
          "St. Kitts and Nevis",
          "St. Lucia",
          "St. Martin (French part)",
          "St. Vincent and the Grenadines",
          "Sudan",
          "Suriname",
          "Swaziland",
          "Sweden",
          "Switzerland",
          "Syrian Arab Republic",
          "Tajikistan",
          "Tanzania",
          "Thailand",
          "Timor-Leste",
          "Togo",
          "Tonga",
          "Trinidad and Tobago",
          "Tunisia",
          "Turkey",
          "Turkmenistan",
          "Turks and Caicos Islands",
          "Tuvalu",
          "Uganda",
          "Ukraine",
          "United Arab Emirates",
          "United Kingdom",
          "United States",
          "Uruguay",
          "Uzbekistan",
          "Vanuatu",
          "Venezuela, RB",
          "Vietnam",
          "Virgin Islands",
          "West Bank and Gaza",
          "Yemen, Rep.",
          "Zambia",
          "Zimbabwe"
         ],
         "hovertemplate": "<b>%{hovertext}</b><br><br>x=%{x}<br>y=%{y}<extra></extra>",
         "hovertext": [
          "Arab World",
          "Caribbean small states",
          "Central Europe and the Baltics",
          "Early-demographic dividend",
          "East Asia & Pacific",
          "East Asia & Pacific (excluding high income)",
          "East Asia & Pacific (IDA & IBRD countries)",
          "Euro area",
          "Europe & Central Asia",
          "Europe & Central Asia (excluding high income)",
          "Europe & Central Asia (IDA & IBRD countries)",
          "European Union",
          "Fragile and conflict affected situations",
          "Heavily indebted poor countries (HIPC)",
          "High income",
          "IBRD only",
          "IDA & IBRD total",
          "IDA blend",
          "IDA only",
          "IDA total",
          "Late-demographic dividend",
          "Latin America & Caribbean",
          "Latin America & Caribbean (excluding high income)",
          "Latin America & the Caribbean (IDA & IBRD countries)",
          "Least developed countries: UN classification",
          "Low & middle income",
          "Low income",
          "Lower middle income",
          "Middle East & North Africa",
          "Middle East & North Africa (excluding high income)",
          "Middle East & North Africa (IDA & IBRD countries)",
          "Middle income",
          "North America",
          "Not classified",
          "OECD members",
          "Other small states",
          "Pacific island small states",
          "Post-demographic dividend",
          "Pre-demographic dividend",
          "Small states",
          "South Asia",
          "South Asia (IDA & IBRD)",
          "Sub-Saharan Africa",
          "Sub-Saharan Africa (excluding high income)",
          "Sub-Saharan Africa (IDA & IBRD countries)",
          "Upper middle income",
          "World",
          "Afghanistan",
          "Albania",
          "Algeria",
          "American Samoa",
          "Andorra",
          "Angola",
          "Antigua and Barbuda",
          "Argentina",
          "Armenia",
          "Aruba",
          "Australia",
          "Austria",
          "Azerbaijan",
          "Bahamas, The",
          "Bahrain",
          "Bangladesh",
          "Barbados",
          "Belarus",
          "Belgium",
          "Belize",
          "Benin",
          "Bermuda",
          "Bhutan",
          "Bolivia",
          "Bosnia and Herzegovina",
          "Botswana",
          "Brazil",
          "British Virgin Islands",
          "Brunei Darussalam",
          "Bulgaria",
          "Burkina Faso",
          "Burundi",
          "Cabo Verde",
          "Cambodia",
          "Cameroon",
          "Canada",
          "Cayman Islands",
          "Central African Republic",
          "Chad",
          "Channel Islands",
          "Chile",
          "China",
          "Colombia",
          "Comoros",
          "Congo, Dem. Rep.",
          "Congo, Rep.",
          "Costa Rica",
          "Cote d'Ivoire",
          "Croatia",
          "Cuba",
          "Curacao",
          "Cyprus",
          "Czech Republic",
          "Denmark",
          "Djibouti",
          "Dominica",
          "Dominican Republic",
          "Ecuador",
          "Egypt, Arab Rep.",
          "El Salvador",
          "Equatorial Guinea",
          "Eritrea",
          "Estonia",
          "Ethiopia",
          "Faroe Islands",
          "Fiji",
          "Finland",
          "France",
          "French Polynesia",
          "Gabon",
          "Gambia, The",
          "Georgia",
          "Germany",
          "Ghana",
          "Gibraltar",
          "Greece",
          "Greenland",
          "Grenada",
          "Guam",
          "Guatemala",
          "Guinea",
          "Guinea-Bissau",
          "Guyana",
          "Haiti",
          "Honduras",
          "Hong Kong SAR, China",
          "Hungary",
          "Iceland",
          "India",
          "Indonesia",
          "Iran, Islamic Rep.",
          "Iraq",
          "Ireland",
          "Isle of Man",
          "Israel",
          "Italy",
          "Jamaica",
          "Japan",
          "Jordan",
          "Kazakhstan",
          "Kenya",
          "Kiribati",
          "Korea, Dem. People�s Rep.",
          "Korea, Rep.",
          "Kosovo",
          "Kuwait",
          "Kyrgyz Republic",
          "Lao PDR",
          "Latvia",
          "Lebanon",
          "Lesotho",
          "Liberia",
          "Libya",
          "Liechtenstein",
          "Lithuania",
          "Luxembourg",
          "Macao SAR, China",
          "Macedonia, FYR",
          "Madagascar",
          "Malawi",
          "Malaysia",
          "Maldives",
          "Mali",
          "Malta",
          "Marshall Islands",
          "Mauritania",
          "Mauritius",
          "Mexico",
          "Micronesia, Fed. Sts.",
          "Moldova",
          "Monaco",
          "Mongolia",
          "Montenegro",
          "Morocco",
          "Mozambique",
          "Myanmar",
          "Namibia",
          "Nauru",
          "Nepal",
          "Netherlands",
          "New Caledonia",
          "New Zealand",
          "Nicaragua",
          "Niger",
          "Nigeria",
          "Northern Mariana Islands",
          "Norway",
          "Oman",
          "Pakistan",
          "Palau",
          "Panama",
          "Papua New Guinea",
          "Paraguay",
          "Peru",
          "Philippines",
          "Poland",
          "Portugal",
          "Puerto Rico",
          "Qatar",
          "Romania",
          "Russian Federation",
          "Rwanda",
          "Samoa",
          "San Marino",
          "Sao Tome and Principe",
          "Saudi Arabia",
          "Senegal",
          "Serbia",
          "Seychelles",
          "Sierra Leone",
          "Singapore",
          "Sint Maarten (Dutch part)",
          "Slovak Republic",
          "Slovenia",
          "Solomon Islands",
          "Somalia",
          "South Africa",
          "South Sudan",
          "Spain",
          "Sri Lanka",
          "St. Kitts and Nevis",
          "St. Lucia",
          "St. Martin (French part)",
          "St. Vincent and the Grenadines",
          "Sudan",
          "Suriname",
          "Swaziland",
          "Sweden",
          "Switzerland",
          "Syrian Arab Republic",
          "Tajikistan",
          "Tanzania",
          "Thailand",
          "Timor-Leste",
          "Togo",
          "Tonga",
          "Trinidad and Tobago",
          "Tunisia",
          "Turkey",
          "Turkmenistan",
          "Turks and Caicos Islands",
          "Tuvalu",
          "Uganda",
          "Ukraine",
          "United Arab Emirates",
          "United Kingdom",
          "United States",
          "Uruguay",
          "Uzbekistan",
          "Vanuatu",
          "Venezuela, RB",
          "Vietnam",
          "Virgin Islands",
          "West Bank and Gaza",
          "Yemen, Rep.",
          "Zambia",
          "Zimbabwe"
         ],
         "legendgroup": "",
         "marker": {
          "color": "#636efa",
          "symbol": "circle"
         },
         "mode": "markers",
         "name": "",
         "orientation": "v",
         "showlegend": false,
         "type": "scatter",
         "x": [
          3.44313489066,
          2.22844165639,
          1.3811333131,
          2.90596039932,
          1.76832751634,
          1.80456167471,
          1.80209777036,
          1.53952935146,
          1.6594971770299998,
          1.76185354991,
          1.7217274046400002,
          1.55812153835,
          4.87413631573,
          5.55855626904,
          1.7492582895900002,
          2.17652232396,
          2.67862304206,
          3.95472956311,
          4.56468888096,
          4.34069763164,
          1.63992654112,
          2.29552527219,
          2.31475439366,
          2.31356901941,
          4.68288237273,
          2.6874012563200003,
          5.42389441035,
          3.09311728284,
          2.85080724262,
          2.84474897181,
          2.8276172614200004,
          2.44695492861,
          2.07368988337,
          null,
          1.82197807725,
          3.36180880859,
          3.55098136137,
          1.68742616805,
          5.792160923080001,
          3.12933094448,
          2.9561871119200003,
          2.9561871119200003,
          5.42080805629,
          5.42121681314,
          5.42080805629,
          1.81451647085,
          2.54274186063,
          6.437,
          1.635,
          2.661,
          null,
          1.18,
          6.619,
          2.1830000000000003,
          2.4130000000000003,
          1.726,
          1.741,
          1.959,
          1.38,
          1.97,
          1.877,
          2.292,
          2.521,
          1.768,
          1.37,
          1.82,
          2.893,
          5.365,
          1.76,
          2.636,
          3.427,
          1.253,
          2.9210000000000003,
          1.944,
          null,
          1.982,
          1.49,
          6.1160000000000005,
          6.566,
          2.665,
          3.0860000000000003,
          5.235,
          1.6589,
          null,
          4.902,
          6.901,
          1.42,
          1.887,
          1.526,
          2.1180000000000003,
          4.927,
          6.646,
          5.063,
          2.006,
          5.392,
          1.48,
          1.636,
          2,
          1.504,
          1.45,
          1.84,
          3.744,
          null,
          2.687,
          2.736,
          3.016,
          2.253,
          5.391,
          4.8180000000000005,
          1.69,
          5.353,
          2.6,
          2.774,
          1.83,
          1.98,
          2.184,
          4.164,
          5.799,
          1.758,
          1.37,
          4.33,
          null,
          1.38,
          2.299,
          2.301,
          2.562,
          3.664,
          5.575,
          5.267,
          2.787,
          3.579,
          3.039,
          1.028,
          1.32,
          2.09,
          2.826,
          2.497,
          1.788,
          4.623,
          2.01,
          null,
          2.9,
          1.4,
          2.289,
          1.34,
          3.613,
          2.5,
          4.825,
          3.883,
          2.005,
          1.25,
          2.43,
          2.525,
          2.7,
          3.511,
          1.54,
          1.6269999999999998,
          3.412,
          5.277,
          2.65,
          1.42,
          1.36,
          1.61,
          0.909,
          1.479,
          4.87,
          5.823,
          2.093,
          2.261,
          6.718999999999999,
          1.35,
          4.5,
          5.002,
          1.74,
          2.447,
          3.661,
          1.242,
          null,
          2.324,
          1.82,
          2.48,
          5.674,
          2.585,
          3.616,
          null,
          3.012,
          1.72,
          2.2,
          2.18,
          2.571,
          7.688,
          5.93,
          null,
          1.9,
          2.892,
          3.98,
          null,
          2.541,
          4.157,
          2.907,
          2.616,
          3.324,
          1.31,
          1.35,
          1.6505,
          2.312,
          1.45,
          1.41,
          4.895,
          4.45,
          null,
          4.927,
          3.16,
          5.1770000000000005,
          1.38,
          2.24,
          5.565,
          1.29,
          1.5,
          1.27,
          1.38,
          4.412,
          7.14,
          2.58,
          5.638,
          1.38,
          2.274,
          null,
          2.022,
          1.82,
          2.131,
          4.873,
          2.553,
          3.761,
          1.88,
          1.46,
          3.238,
          3.495,
          5.585,
          1.557,
          5.7,
          5.064,
          4.059,
          1.79,
          2.04,
          2.193,
          2.523,
          null,
          null,
          6.424,
          1.345,
          2.004,
          1.86,
          2.12,
          2.126,
          2.55,
          3.679,
          2.562,
          1.911,
          1.97,
          4.627,
          5.18,
          5.9110000000000005,
          4.022
         ],
         "xaxis": "x",
         "y": [
          69.2070082278,
          71.53580442229999,
          74.2523833325,
          66.7168411826,
          73.5846595367,
          72.6378120561,
          72.6919270432,
          80.0997517287,
          74.92140241220001,
          69.42256412520001,
          69.9944489801,
          78.9682102701,
          59.20782178140001,
          56.5766165423,
          79.2386203249,
          70.1729440238,
          67.75917164170001,
          61.2853204195,
          60.089105590200006,
          60.51656342770001,
          73.472904211,
          73.3790228456,
          73.1580129361,
          73.2400064382,
          59.6277315593,
          67.68854263829999,
          56.8013307781,
          65.05949547590001,
          71.4108904527,
          70.8562142383,
          70.8462057183,
          68.7989256332,
          78.2484460493,
          null,
          78.7760227899,
          63.2139229694,
          68.513095791,
          79.0261899061,
          54.4851307308,
          65.22258787310001,
          65.5485167218,
          65.5485167218,
          54.1785518165,
          54.1765429979,
          54.1785518165,
          72.7812540165,
          69.6418542733,
          57.8338292683,
          76.4702926829,
          72.8983658537,
          null,
          null,
          49.43573170729999,
          74.8032195122,
          75.0090487805,
          73.7646585366,
          74.5267560976,
          81.2926829268,
          80.1804878049,
          69.7565121951,
          74.0594634146,
          75.7077560976,
          68.85997560979999,
          74.3564146341,
          70.2034146341,
          79.78292682930001,
          69.452,
          57.867390243900005,
          78.9341463415,
          66.29309756100001,
          64.6941219512,
          75.3714878049,
          59.0745609756,
          72.4148292683,
          null,
          76.6755609756,
          72.6634146341,
          55.188804878,
          53.4560731707,
          72.0993658537,
          64.5523414634,
          52.4791463415,
          80.6343902439,
          null,
          45.687390243900005,
          48.5592195122,
          79.41080487800001,
          79.3135365854,
          74.3404390244,
          72.7055121951,
          60.7123414634,
          55.0644146341,
          55.8013170732,
          78.33031707319999,
          48.7788292683,
          75.7056097561,
          78.44919512199999,
          75.3634146341,
          78.8685121951,
          76.7243902439,
          78.1951219512,
          58.8293414634,
          null,
          72.1313170732,
          74.4950243902,
          69.78229268289999,
          70.7804634146,
          54.5163170732,
          59.6694146341,
          72.8146341463,
          58.408,
          79.8365853659,
          68.8434146341,
          79.2634146341,
          81.112195122,
          74.8919756098,
          60.3927804878,
          58.5694390244,
          73.4210243902,
          79.53414634149999,
          59.6358536585,
          null,
          79.4390243902,
          69.98268292680001,
          71.8447560976,
          77.3074146341,
          70.1107804878,
          53.9994878049,
          52.8554634146,
          65.7797560976,
          59.9773902439,
          71.8587317073,
          82.3268292683,
          73.1512195122,
          81.4536585366,
          65.30043902439999,
          67.5677317073,
          72.674195122,
          68.19902439020001,
          79.6414634146,
          null,
          80.5048780488,
          81.4341463415,
          74.0092926829,
          82.5070731707,
          72.9611707317,
          66.5048780488,
          55.6992926829,
          64.98075609760001,
          68.376195122,
          79.3495121951,
          69.1975609756,
          73.81,
          67.8951219512,
          62.827268292700005,
          71.0195121951,
          77.615902439,
          44.8822195122,
          57.191195122,
          71.7386341463,
          81.2951219512,
          70.9,
          79.3829268293,
          79.0562439024,
          74.3229512195,
          62.053,
          51.5124878049,
          73.81826829270001,
          75.3997073171,
          54.2619268293,
          79.7926829268,
          null,
          61.1397317073,
          72.5707317073,
          75.5879268293,
          68.2204878049,
          68.20990243899999,
          null,
          66.06817073170001,
          74.04063414630001,
          71.2776341463,
          51.622097561,
          64.0936829268,
          58.780804878000005,
          null,
          66.5519268293,
          80.0975609756,
          75.9463414634,
          80.1512195122,
          72.5716585366,
          55.4550243902,
          49.8081463415,
          null,
          80.3951219512,
          75.1236097561,
          64.3387317073,
          null,
          76.3144634146,
          61.3114146341,
          71.6948292683,
          72.9969512195,
          67.47902439020001,
          75.243902439,
          78.3219512195,
          78.4258536585,
          77.28685365850001,
          72.5658536585,
          67.49756097560001,
          57.946000000000005,
          71.5607804878,
          82.506097561,
          65.188,
          73.34507317069999,
          61.7841707317,
          73.6317073171,
          73.1926829268,
          45.4883658537,
          80.4414634146,
          74.543902439,
          74.2073170732,
          78.5609756098,
          66.266804878,
          53.0186585366,
          51.9965121951,
          52.0878536585,
          80.8731707317,
          74.1941219512,
          null,
          73.7118536585,
          78.2219512195,
          71.6994146341,
          60.7008780488,
          69.47907317069999,
          46.772390243900006,
          80.9,
          81.7414634146,
          74.2460731707,
          67.2074878049,
          58.0777804878,
          72.87443902439999,
          65.82419512199999,
          55.4334390244,
          71.737,
          69.2596585366,
          74.2024390244,
          73.1770731707,
          64.6388292683,
          null,
          null,
          53.6541463415,
          68.222195122,
          76.1111707317,
          79.4487804878,
          77.987804878,
          75.9510243902,
          67.5312195122,
          69.9487317073,
          73.38890243899999,
          74.48385365850001,
          78.8243902439,
          71.74704878050001,
          61.954804878,
          52.4771463415,
          44.1777560976
         ],
         "yaxis": "y"
        },
        {
         "hoverinfo": "skip",
         "marker": {
          "line": {
           "width": 4
          },
          "size": 14,
          "symbol": "circle-open"
         },
         "mode": "markers",
         "name": "Morocco",
         "type": "scatter",
         "x": [
          2.48
         ],
         "y": [
          71.2776341463
         ]
        },
        {
         "hoverinfo": "skip",
         "marker": {
          "line": {
           "width": 4
          },
          "size": 14,
          "symbol": "circle-open"
         },
         "mode": "markers",
         "name": "Antigua and Barbuda",
         "type": "scatter",
         "x": [
          2.1830000000000003
         ],
         "y": [
          74.8032195122
         ]
        },
        {
         "hoverinfo": "skip",
         "marker": {
          "line": {
           "width": 4
          },
          "size": 14,
          "symbol": "circle-open"
         },
         "mode": "markers",
         "name": "Bhutan",
         "type": "scatter",
         "x": [
          2.636
         ],
         "y": [
          66.29309756100001
         ]
        },
        {
         "hoverinfo": "skip",
         "marker": {
          "line": {
           "width": 4
          },
          "size": 14,
          "symbol": "circle-open"
         },
         "mode": "markers",
         "name": "Oman",
         "type": "scatter",
         "x": [
          2.892
         ],
         "y": [
          75.1236097561
         ]
        },
        {
         "hoverinfo": "skip",
         "marker": {
          "line": {
           "width": 4
          },
          "size": 14,
          "symbol": "circle-open"
         },
         "mode": "markers",
         "name": "United Kingdom",
         "type": "scatter",
         "x": [
          1.86
         ],
         "y": [
          79.4487804878
         ]
        },
        {
         "hoverinfo": "skip",
         "marker": {
          "line": {
           "width": 4
          },
          "size": 14,
          "symbol": "circle-open"
         },
         "mode": "markers",
         "name": "Lesotho",
         "type": "scatter",
         "x": [
          3.412
         ],
         "y": [
          44.8822195122
         ]
        },
        {
         "hoverinfo": "skip",
         "marker": {
          "line": {
           "width": 4
          },
          "size": 14,
          "symbol": "circle-open"
         },
         "mode": "markers",
         "name": "Swaziland",
         "type": "scatter",
         "x": [
          3.761
         ],
         "y": [
          46.772390243900006
         ]
        },
        {
         "hoverinfo": "skip",
         "marker": {
          "line": {
           "width": 4
          },
          "size": 14,
          "symbol": "circle-open"
         },
         "mode": "markers",
         "name": "South Africa",
         "type": "scatter",
         "x": [
          2.58
         ],
         "y": [
          51.9965121951
         ]
        },
        {
         "hoverinfo": "skip",
         "marker": {
          "line": {
           "width": 4
          },
          "size": 14,
          "symbol": "circle-open"
         },
         "mode": "markers",
         "name": "Botswana",
         "type": "scatter",
         "x": [
          2.9210000000000003
         ],
         "y": [
          59.0745609756
         ]
        },
        {
         "hoverinfo": "skip",
         "marker": {
          "line": {
           "width": 4
          },
          "size": 14,
          "symbol": "circle-open"
         },
         "mode": "markers",
         "name": "Timor-Leste",
         "type": "scatter",
         "x": [
          5.7
         ],
         "y": [
          65.82419512199999
         ]
        },
        {
         "hoverinfo": "skip",
         "marker": {
          "line": {
           "width": 4
          },
          "size": 14,
          "symbol": "circle-open"
         },
         "mode": "markers",
         "name": "Sao Tome and Principe",
         "type": "scatter",
         "x": [
          4.927
         ],
         "y": [
          65.188
         ]
        },
        {
         "hoverinfo": "skip",
         "marker": {
          "line": {
           "width": 4
          },
          "size": 14,
          "symbol": "circle-open"
         },
         "mode": "markers",
         "name": "Iraq",
         "type": "scatter",
         "x": [
          4.623
         ],
         "y": [
          68.19902439020001
         ]
        },
        {
         "hoverinfo": "skip",
         "marker": {
          "line": {
           "width": 4
          },
          "size": 14,
          "symbol": "circle-open"
         },
         "mode": "markers",
         "name": "Solomon Islands",
         "type": "scatter",
         "x": [
          4.412
         ],
         "y": [
          66.266804878
         ]
        },
        {
         "hoverinfo": "skip",
         "marker": {
          "line": {
           "width": 4
          },
          "size": 14,
          "symbol": "circle-open"
         },
         "mode": "markers",
         "name": "Tonga",
         "type": "scatter",
         "x": [
          4.059
         ],
         "y": [
          71.737
         ]
        },
        {
         "hoverinfo": "skip",
         "marker": {
          "line": {
           "width": 4
          },
          "size": 14,
          "symbol": "circle-open"
         },
         "mode": "markers",
         "name": "Jordan",
         "type": "scatter",
         "x": [
          3.613
         ],
         "y": [
          72.9611707317
         ]
        },
        {
         "hoverinfo": "skip",
         "marker": {
          "line": {
           "width": 4
          },
          "size": 14,
          "symbol": "circle-open"
         },
         "mode": "markers",
         "name": "Honduras",
         "type": "scatter",
         "x": [
          3.039
         ],
         "y": [
          71.8587317073
         ]
        },
        {
         "hoverinfo": "skip",
         "marker": {
          "line": {
           "width": 4
          },
          "size": 14,
          "symbol": "circle-open"
         },
         "mode": "markers",
         "name": "Azerbaijan",
         "type": "scatter",
         "x": [
          1.97
         ],
         "y": [
          69.7565121951
         ]
        },
        {
         "hoverinfo": "skip",
         "marker": {
          "line": {
           "width": 4
          },
          "size": 14,
          "symbol": "circle-open"
         },
         "mode": "markers",
         "name": "Central Europe and the Baltics",
         "type": "scatter",
         "x": [
          1.3811333131
         ],
         "y": [
          74.2523833325
         ]
        },
        {
         "hoverinfo": "skip",
         "marker": {
          "line": {
           "width": 4
          },
          "size": 14,
          "symbol": "circle-open"
         },
         "mode": "markers",
         "name": "Fragile and conflict affected situations",
         "type": "scatter",
         "x": [
          4.87413631573
         ],
         "y": [
          59.20782178140001
         ]
        },
        {
         "hoverinfo": "skip",
         "marker": {
          "line": {
           "width": 4
          },
          "size": 14,
          "symbol": "circle-open"
         },
         "mode": "markers",
         "name": "Angola",
         "type": "scatter",
         "x": [
          6.619
         ],
         "y": [
          49.43573170729999
         ]
        }
       ],
       "layout": {
        "autosize": true,
        "hovermode": "closest",
        "legend": {
         "tracegroupgap": 0
        },
        "margin": {
         "b": 40,
         "l": 40,
         "r": 0,
         "t": 10
        },
        "template": {
         "data": {
          "bar": [
           {
            "error_x": {
             "color": "#2a3f5f"
            },
            "error_y": {
             "color": "#2a3f5f"
            },
            "marker": {
             "line": {
              "color": "#E5ECF6",
              "width": 0.5
             },
             "pattern": {
              "fillmode": "overlay",
              "size": 10,
              "solidity": 0.2
             }
            },
            "type": "bar"
           }
          ],
          "barpolar": [
           {
            "marker": {
             "line": {
              "color": "#E5ECF6",
              "width": 0.5
             },
             "pattern": {
              "fillmode": "overlay",
              "size": 10,
              "solidity": 0.2
             }
            },
            "type": "barpolar"
           }
          ],
          "carpet": [
           {
            "aaxis": {
             "endlinecolor": "#2a3f5f",
             "gridcolor": "white",
             "linecolor": "white",
             "minorgridcolor": "white",
             "startlinecolor": "#2a3f5f"
            },
            "baxis": {
             "endlinecolor": "#2a3f5f",
             "gridcolor": "white",
             "linecolor": "white",
             "minorgridcolor": "white",
             "startlinecolor": "#2a3f5f"
            },
            "type": "carpet"
           }
          ],
          "choropleth": [
           {
            "colorbar": {
             "outlinewidth": 0,
             "ticks": ""
            },
            "type": "choropleth"
           }
          ],
          "contour": [
           {
            "colorbar": {
             "outlinewidth": 0,
             "ticks": ""
            },
            "colorscale": [
             [
              0,
              "#0d0887"
             ],
             [
              0.1111111111111111,
              "#46039f"
             ],
             [
              0.2222222222222222,
              "#7201a8"
             ],
             [
              0.3333333333333333,
              "#9c179e"
             ],
             [
              0.4444444444444444,
              "#bd3786"
             ],
             [
              0.5555555555555556,
              "#d8576b"
             ],
             [
              0.6666666666666666,
              "#ed7953"
             ],
             [
              0.7777777777777778,
              "#fb9f3a"
             ],
             [
              0.8888888888888888,
              "#fdca26"
             ],
             [
              1,
              "#f0f921"
             ]
            ],
            "type": "contour"
           }
          ],
          "contourcarpet": [
           {
            "colorbar": {
             "outlinewidth": 0,
             "ticks": ""
            },
            "type": "contourcarpet"
           }
          ],
          "heatmap": [
           {
            "colorbar": {
             "outlinewidth": 0,
             "ticks": ""
            },
            "colorscale": [
             [
              0,
              "#0d0887"
             ],
             [
              0.1111111111111111,
              "#46039f"
             ],
             [
              0.2222222222222222,
              "#7201a8"
             ],
             [
              0.3333333333333333,
              "#9c179e"
             ],
             [
              0.4444444444444444,
              "#bd3786"
             ],
             [
              0.5555555555555556,
              "#d8576b"
             ],
             [
              0.6666666666666666,
              "#ed7953"
             ],
             [
              0.7777777777777778,
              "#fb9f3a"
             ],
             [
              0.8888888888888888,
              "#fdca26"
             ],
             [
              1,
              "#f0f921"
             ]
            ],
            "type": "heatmap"
           }
          ],
          "heatmapgl": [
           {
            "colorbar": {
             "outlinewidth": 0,
             "ticks": ""
            },
            "colorscale": [
             [
              0,
              "#0d0887"
             ],
             [
              0.1111111111111111,
              "#46039f"
             ],
             [
              0.2222222222222222,
              "#7201a8"
             ],
             [
              0.3333333333333333,
              "#9c179e"
             ],
             [
              0.4444444444444444,
              "#bd3786"
             ],
             [
              0.5555555555555556,
              "#d8576b"
             ],
             [
              0.6666666666666666,
              "#ed7953"
             ],
             [
              0.7777777777777778,
              "#fb9f3a"
             ],
             [
              0.8888888888888888,
              "#fdca26"
             ],
             [
              1,
              "#f0f921"
             ]
            ],
            "type": "heatmapgl"
           }
          ],
          "histogram": [
           {
            "marker": {
             "pattern": {
              "fillmode": "overlay",
              "size": 10,
              "solidity": 0.2
             }
            },
            "type": "histogram"
           }
          ],
          "histogram2d": [
           {
            "colorbar": {
             "outlinewidth": 0,
             "ticks": ""
            },
            "colorscale": [
             [
              0,
              "#0d0887"
             ],
             [
              0.1111111111111111,
              "#46039f"
             ],
             [
              0.2222222222222222,
              "#7201a8"
             ],
             [
              0.3333333333333333,
              "#9c179e"
             ],
             [
              0.4444444444444444,
              "#bd3786"
             ],
             [
              0.5555555555555556,
              "#d8576b"
             ],
             [
              0.6666666666666666,
              "#ed7953"
             ],
             [
              0.7777777777777778,
              "#fb9f3a"
             ],
             [
              0.8888888888888888,
              "#fdca26"
             ],
             [
              1,
              "#f0f921"
             ]
            ],
            "type": "histogram2d"
           }
          ],
          "histogram2dcontour": [
           {
            "colorbar": {
             "outlinewidth": 0,
             "ticks": ""
            },
            "colorscale": [
             [
              0,
              "#0d0887"
             ],
             [
              0.1111111111111111,
              "#46039f"
             ],
             [
              0.2222222222222222,
              "#7201a8"
             ],
             [
              0.3333333333333333,
              "#9c179e"
             ],
             [
              0.4444444444444444,
              "#bd3786"
             ],
             [
              0.5555555555555556,
              "#d8576b"
             ],
             [
              0.6666666666666666,
              "#ed7953"
             ],
             [
              0.7777777777777778,
              "#fb9f3a"
             ],
             [
              0.8888888888888888,
              "#fdca26"
             ],
             [
              1,
              "#f0f921"
             ]
            ],
            "type": "histogram2dcontour"
           }
          ],
          "mesh3d": [
           {
            "colorbar": {
             "outlinewidth": 0,
             "ticks": ""
            },
            "type": "mesh3d"
           }
          ],
          "parcoords": [
           {
            "line": {
             "colorbar": {
              "outlinewidth": 0,
              "ticks": ""
             }
            },
            "type": "parcoords"
           }
          ],
          "pie": [
           {
            "automargin": true,
            "type": "pie"
           }
          ],
          "scatter": [
           {
            "fillpattern": {
             "fillmode": "overlay",
             "size": 10,
             "solidity": 0.2
            },
            "type": "scatter"
           }
          ],
          "scatter3d": [
           {
            "line": {
             "colorbar": {
              "outlinewidth": 0,
              "ticks": ""
             }
            },
            "marker": {
             "colorbar": {
              "outlinewidth": 0,
              "ticks": ""
             }
            },
            "type": "scatter3d"
           }
          ],
          "scattercarpet": [
           {
            "marker": {
             "colorbar": {
              "outlinewidth": 0,
              "ticks": ""
             }
            },
            "type": "scattercarpet"
           }
          ],
          "scattergeo": [
           {
            "marker": {
             "colorbar": {
              "outlinewidth": 0,
              "ticks": ""
             }
            },
            "type": "scattergeo"
           }
          ],
          "scattergl": [
           {
            "marker": {
             "colorbar": {
              "outlinewidth": 0,
              "ticks": ""
             }
            },
            "type": "scattergl"
           }
          ],
          "scattermapbox": [
           {
            "marker": {
             "colorbar": {
              "outlinewidth": 0,
              "ticks": ""
             }
            },
            "type": "scattermapbox"
           }
          ],
          "scatterpolar": [
           {
            "marker": {
             "colorbar": {
              "outlinewidth": 0,
              "ticks": ""
             }
            },
            "type": "scatterpolar"
           }
          ],
          "scatterpolargl": [
           {
            "marker": {
             "colorbar": {
              "outlinewidth": 0,
              "ticks": ""
             }
            },
            "type": "scatterpolargl"
           }
          ],
          "scatterternary": [
           {
            "marker": {
             "colorbar": {
              "outlinewidth": 0,
              "ticks": ""
             }
            },
            "type": "scatterternary"
           }
          ],
          "surface": [
           {
            "colorbar": {
             "outlinewidth": 0,
             "ticks": ""
            },
            "colorscale": [
             [
              0,
              "#0d0887"
             ],
             [
              0.1111111111111111,
              "#46039f"
             ],
             [
              0.2222222222222222,
              "#7201a8"
             ],
             [
              0.3333333333333333,
              "#9c179e"
             ],
             [
              0.4444444444444444,
              "#bd3786"
             ],
             [
              0.5555555555555556,
              "#d8576b"
             ],
             [
              0.6666666666666666,
              "#ed7953"
             ],
             [
              0.7777777777777778,
              "#fb9f3a"
             ],
             [
              0.8888888888888888,
              "#fdca26"
             ],
             [
              1,
              "#f0f921"
             ]
            ],
            "type": "surface"
           }
          ],
          "table": [
           {
            "cells": {
             "fill": {
              "color": "#EBF0F8"
             },
             "line": {
              "color": "white"
             }
            },
            "header": {
             "fill": {
              "color": "#C8D4E3"
             },
             "line": {
              "color": "white"
             }
            },
            "type": "table"
           }
          ]
         },
         "layout": {
          "annotationdefaults": {
           "arrowcolor": "#2a3f5f",
           "arrowhead": 0,
           "arrowwidth": 1
          },
          "autotypenumbers": "strict",
          "coloraxis": {
           "colorbar": {
            "outlinewidth": 0,
            "ticks": ""
           }
          },
          "colorscale": {
           "diverging": [
            [
             0,
             "#8e0152"
            ],
            [
             0.1,
             "#c51b7d"
            ],
            [
             0.2,
             "#de77ae"
            ],
            [
             0.3,
             "#f1b6da"
            ],
            [
             0.4,
             "#fde0ef"
            ],
            [
             0.5,
             "#f7f7f7"
            ],
            [
             0.6,
             "#e6f5d0"
            ],
            [
             0.7,
             "#b8e186"
            ],
            [
             0.8,
             "#7fbc41"
            ],
            [
             0.9,
             "#4d9221"
            ],
            [
             1,
             "#276419"
            ]
           ],
           "sequential": [
            [
             0,
             "#0d0887"
            ],
            [
             0.1111111111111111,
             "#46039f"
            ],
            [
             0.2222222222222222,
             "#7201a8"
            ],
            [
             0.3333333333333333,
             "#9c179e"
            ],
            [
             0.4444444444444444,
             "#bd3786"
            ],
            [
             0.5555555555555556,
             "#d8576b"
            ],
            [
             0.6666666666666666,
             "#ed7953"
            ],
            [
             0.7777777777777778,
             "#fb9f3a"
            ],
            [
             0.8888888888888888,
             "#fdca26"
            ],
            [
             1,
             "#f0f921"
            ]
           ],
           "sequentialminus": [
            [
             0,
             "#0d0887"
            ],
            [
             0.1111111111111111,
             "#46039f"
            ],
            [
             0.2222222222222222,
             "#7201a8"
            ],
            [
             0.3333333333333333,
             "#9c179e"
            ],
            [
             0.4444444444444444,
             "#bd3786"
            ],
            [
             0.5555555555555556,
             "#d8576b"
            ],
            [
             0.6666666666666666,
             "#ed7953"
            ],
            [
             0.7777777777777778,
             "#fb9f3a"
            ],
            [
             0.8888888888888888,
             "#fdca26"
            ],
            [
             1,
             "#f0f921"
            ]
           ]
          },
          "colorway": [
           "#636efa",
           "#EF553B",
           "#00cc96",
           "#ab63fa",
           "#FFA15A",
           "#19d3f3",
           "#FF6692",
           "#B6E880",
           "#FF97FF",
           "#FECB52"
          ],
          "font": {
           "color": "#2a3f5f"
          },
          "geo": {
           "bgcolor": "white",
           "lakecolor": "white",
           "landcolor": "#E5ECF6",
           "showlakes": true,
           "showland": true,
           "subunitcolor": "white"
          },
          "hoverlabel": {
           "align": "left"
          },
          "hovermode": "closest",
          "mapbox": {
           "style": "light"
          },
          "paper_bgcolor": "white",
          "plot_bgcolor": "#E5ECF6",
          "polar": {
           "angularaxis": {
            "gridcolor": "white",
            "linecolor": "white",
            "ticks": ""
           },
           "bgcolor": "#E5ECF6",
           "radialaxis": {
            "gridcolor": "white",
            "linecolor": "white",
            "ticks": ""
           }
          },
          "scene": {
           "xaxis": {
            "backgroundcolor": "#E5ECF6",
            "gridcolor": "white",
            "gridwidth": 2,
            "linecolor": "white",
            "showbackground": true,
            "ticks": "",
            "zerolinecolor": "white"
           },
           "yaxis": {
            "backgroundcolor": "#E5ECF6",
            "gridcolor": "white",
            "gridwidth": 2,
            "linecolor": "white",
            "showbackground": true,
            "ticks": "",
            "zerolinecolor": "white"
           },
           "zaxis": {
            "backgroundcolor": "#E5ECF6",
            "gridcolor": "white",
            "gridwidth": 2,
            "linecolor": "white",
            "showbackground": true,
            "ticks": "",
            "zerolinecolor": "white"
           }
          },
          "shapedefaults": {
           "line": {
            "color": "#2a3f5f"
           }
          },
          "ternary": {
           "aaxis": {
            "gridcolor": "white",
            "linecolor": "white",
            "ticks": ""
           },
           "baxis": {
            "gridcolor": "white",
            "linecolor": "white",
            "ticks": ""
           },
           "bgcolor": "#E5ECF6",
           "caxis": {
            "gridcolor": "white",
            "linecolor": "white",
            "ticks": ""
           }
          },
          "title": {
           "x": 0.05
          },
          "xaxis": {
           "automargin": true,
           "gridcolor": "white",
           "linecolor": "white",
           "ticks": "",
           "title": {
            "standoff": 15
           },
           "zerolinecolor": "white",
           "zerolinewidth": 2
          },
          "yaxis": {
           "automargin": true,
           "gridcolor": "white",
           "linecolor": "white",
           "ticks": "",
           "title": {
            "standoff": 15
           },
           "zerolinecolor": "white",
           "zerolinewidth": 2
          }
         }
        },
        "xaxis": {
         "anchor": "y",
         "autorange": true,
         "domain": [
          0,
          1
         ],
         "range": [
          0.4105871065114273,
          8.186412893488573
         ],
         "title": {
          "text": "Fertility rate, total (births per woman)"
         },
         "type": "linear"
        },
        "yaxis": {
         "anchor": "x",
         "autorange": true,
         "domain": [
          0,
          1
         ],
         "range": [
          41.45856960143593,
          85.22481588336838
         ],
         "title": {
          "text": "Life expectancy at birth, total (years)"
         },
         "type": "linear"
        }
       }
      },
      "image/png": "[encoded data removed]",
      "text/html": [
       "<div>                            <div id=\"cb542248-1a89-4a26-94a7-b4fa235e6ab6\" class=\"plotly-graph-div\" style=\"height:525px; width:100%;\"></div>            <script type=\"text/javascript\">                require([\"plotly\"], function(Plotly) {                    window.PLOTLYENV=window.PLOTLYENV || {};                                    if (document.getElementById(\"cb542248-1a89-4a26-94a7-b4fa235e6ab6\")) {                    Plotly.newPlot(                        \"cb542248-1a89-4a26-94a7-b4fa235e6ab6\",                        [{\"customdata\":[\"Arab World\",\"Caribbean small states\",\"Central Europe and the Baltics\",\"Early-demographic dividend\",\"East Asia & Pacific\",\"East Asia & Pacific (excluding high income)\",\"East Asia & Pacific (IDA & IBRD countries)\",\"Euro area\",\"Europe & Central Asia\",\"Europe & Central Asia (excluding high income)\",\"Europe & Central Asia (IDA & IBRD countries)\",\"European Union\",\"Fragile and conflict affected situations\",\"Heavily indebted poor countries (HIPC)\",\"High income\",\"IBRD only\",\"IDA & IBRD total\",\"IDA blend\",\"IDA only\",\"IDA total\",\"Late-demographic dividend\",\"Latin America & Caribbean\",\"Latin America & Caribbean (excluding high income)\",\"Latin America & the Caribbean (IDA & IBRD countries)\",\"Least developed countries: UN classification\",\"Low & middle income\",\"Low income\",\"Lower middle income\",\"Middle East & North Africa\",\"Middle East & North Africa (excluding high income)\",\"Middle East & North Africa (IDA & IBRD countries)\",\"Middle income\",\"North America\",\"Not classified\",\"OECD members\",\"Other small states\",\"Pacific island small states\",\"Post-demographic dividend\",\"Pre-demographic dividend\",\"Small states\",\"South Asia\",\"South Asia (IDA & IBRD)\",\"Sub-Saharan Africa\",\"Sub-Saharan Africa (excluding high income)\",\"Sub-Saharan Africa (IDA & IBRD countries)\",\"Upper middle income\",\"World\",\"Afghanistan\",\"Albania\",\"Algeria\",\"American Samoa\",\"Andorra\",\"Angola\",\"Antigua and Barbuda\",\"Argentina\",\"Armenia\",\"Aruba\",\"Australia\",\"Austria\",\"Azerbaijan\",\"Bahamas, The\",\"Bahrain\",\"Bangladesh\",\"Barbados\",\"Belarus\",\"Belgium\",\"Belize\",\"Benin\",\"Bermuda\",\"Bhutan\",\"Bolivia\",\"Bosnia and Herzegovina\",\"Botswana\",\"Brazil\",\"British Virgin Islands\",\"Brunei Darussalam\",\"Bulgaria\",\"Burkina Faso\",\"Burundi\",\"Cabo Verde\",\"Cambodia\",\"Cameroon\",\"Canada\",\"Cayman Islands\",\"Central African Republic\",\"Chad\",\"Channel Islands\",\"Chile\",\"China\",\"Colombia\",\"Comoros\",\"Congo, Dem. Rep.\",\"Congo, Rep.\",\"Costa Rica\",\"Cote d'Ivoire\",\"Croatia\",\"Cuba\",\"Curacao\",\"Cyprus\",\"Czech Republic\",\"Denmark\",\"Djibouti\",\"Dominica\",\"Dominican Republic\",\"Ecuador\",\"Egypt, Arab Rep.\",\"El Salvador\",\"Equatorial Guinea\",\"Eritrea\",\"Estonia\",\"Ethiopia\",\"Faroe Islands\",\"Fiji\",\"Finland\",\"France\",\"French Polynesia\",\"Gabon\",\"Gambia, The\",\"Georgia\",\"Germany\",\"Ghana\",\"Gibraltar\",\"Greece\",\"Greenland\",\"Grenada\",\"Guam\",\"Guatemala\",\"Guinea\",\"Guinea-Bissau\",\"Guyana\",\"Haiti\",\"Honduras\",\"Hong Kong SAR, China\",\"Hungary\",\"Iceland\",\"India\",\"Indonesia\",\"Iran, Islamic Rep.\",\"Iraq\",\"Ireland\",\"Isle of Man\",\"Israel\",\"Italy\",\"Jamaica\",\"Japan\",\"Jordan\",\"Kazakhstan\",\"Kenya\",\"Kiribati\",\"Korea, Dem. People\\ufffds Rep.\",\"Korea, Rep.\",\"Kosovo\",\"Kuwait\",\"Kyrgyz Republic\",\"Lao PDR\",\"Latvia\",\"Lebanon\",\"Lesotho\",\"Liberia\",\"Libya\",\"Liechtenstein\",\"Lithuania\",\"Luxembourg\",\"Macao SAR, China\",\"Macedonia, FYR\",\"Madagascar\",\"Malawi\",\"Malaysia\",\"Maldives\",\"Mali\",\"Malta\",\"Marshall Islands\",\"Mauritania\",\"Mauritius\",\"Mexico\",\"Micronesia, Fed. Sts.\",\"Moldova\",\"Monaco\",\"Mongolia\",\"Montenegro\",\"Morocco\",\"Mozambique\",\"Myanmar\",\"Namibia\",\"Nauru\",\"Nepal\",\"Netherlands\",\"New Caledonia\",\"New Zealand\",\"Nicaragua\",\"Niger\",\"Nigeria\",\"Northern Mariana Islands\",\"Norway\",\"Oman\",\"Pakistan\",\"Palau\",\"Panama\",\"Papua New Guinea\",\"Paraguay\",\"Peru\",\"Philippines\",\"Poland\",\"Portugal\",\"Puerto Rico\",\"Qatar\",\"Romania\",\"Russian Federation\",\"Rwanda\",\"Samoa\",\"San Marino\",\"Sao Tome and Principe\",\"Saudi Arabia\",\"Senegal\",\"Serbia\",\"Seychelles\",\"Sierra Leone\",\"Singapore\",\"Sint Maarten (Dutch part)\",\"Slovak Republic\",\"Slovenia\",\"Solomon Islands\",\"Somalia\",\"South Africa\",\"South Sudan\",\"Spain\",\"Sri Lanka\",\"St. Kitts and Nevis\",\"St. Lucia\",\"St. Martin (French part)\",\"St. Vincent and the Grenadines\",\"Sudan\",\"Suriname\",\"Swaziland\",\"Sweden\",\"Switzerland\",\"Syrian Arab Republic\",\"Tajikistan\",\"Tanzania\",\"Thailand\",\"Timor-Leste\",\"Togo\",\"Tonga\",\"Trinidad and Tobago\",\"Tunisia\",\"Turkey\",\"Turkmenistan\",\"Turks and Caicos Islands\",\"Tuvalu\",\"Uganda\",\"Ukraine\",\"United Arab Emirates\",\"United Kingdom\",\"United States\",\"Uruguay\",\"Uzbekistan\",\"Vanuatu\",\"Venezuela, RB\",\"Vietnam\",\"Virgin Islands\",\"West Bank and Gaza\",\"Yemen, Rep.\",\"Zambia\",\"Zimbabwe\"],\"hovertemplate\":\"<b>%{hovertext}</b><br><br>x=%{x}<br>y=%{y}<extra></extra>\",\"hovertext\":[\"Arab World\",\"Caribbean small states\",\"Central Europe and the Baltics\",\"Early-demographic dividend\",\"East Asia & Pacific\",\"East Asia & Pacific (excluding high income)\",\"East Asia & Pacific (IDA & IBRD countries)\",\"Euro area\",\"Europe & Central Asia\",\"Europe & Central Asia (excluding high income)\",\"Europe & Central Asia (IDA & IBRD countries)\",\"European Union\",\"Fragile and conflict affected situations\",\"Heavily indebted poor countries (HIPC)\",\"High income\",\"IBRD only\",\"IDA & IBRD total\",\"IDA blend\",\"IDA only\",\"IDA total\",\"Late-demographic dividend\",\"Latin America & Caribbean\",\"Latin America & Caribbean (excluding high income)\",\"Latin America & the Caribbean (IDA & IBRD countries)\",\"Least developed countries: UN classification\",\"Low & middle income\",\"Low income\",\"Lower middle income\",\"Middle East & North Africa\",\"Middle East & North Africa (excluding high income)\",\"Middle East & North Africa (IDA & IBRD countries)\",\"Middle income\",\"North America\",\"Not classified\",\"OECD members\",\"Other small states\",\"Pacific island small states\",\"Post-demographic dividend\",\"Pre-demographic dividend\",\"Small states\",\"South Asia\",\"South Asia (IDA & IBRD)\",\"Sub-Saharan Africa\",\"Sub-Saharan Africa (excluding high income)\",\"Sub-Saharan Africa (IDA & IBRD countries)\",\"Upper middle income\",\"World\",\"Afghanistan\",\"Albania\",\"Algeria\",\"American Samoa\",\"Andorra\",\"Angola\",\"Antigua and Barbuda\",\"Argentina\",\"Armenia\",\"Aruba\",\"Australia\",\"Austria\",\"Azerbaijan\",\"Bahamas, The\",\"Bahrain\",\"Bangladesh\",\"Barbados\",\"Belarus\",\"Belgium\",\"Belize\",\"Benin\",\"Bermuda\",\"Bhutan\",\"Bolivia\",\"Bosnia and Herzegovina\",\"Botswana\",\"Brazil\",\"British Virgin Islands\",\"Brunei Darussalam\",\"Bulgaria\",\"Burkina Faso\",\"Burundi\",\"Cabo Verde\",\"Cambodia\",\"Cameroon\",\"Canada\",\"Cayman Islands\",\"Central African Republic\",\"Chad\",\"Channel Islands\",\"Chile\",\"China\",\"Colombia\",\"Comoros\",\"Congo, Dem. Rep.\",\"Congo, Rep.\",\"Costa Rica\",\"Cote d'Ivoire\",\"Croatia\",\"Cuba\",\"Curacao\",\"Cyprus\",\"Czech Republic\",\"Denmark\",\"Djibouti\",\"Dominica\",\"Dominican Republic\",\"Ecuador\",\"Egypt, Arab Rep.\",\"El Salvador\",\"Equatorial Guinea\",\"Eritrea\",\"Estonia\",\"Ethiopia\",\"Faroe Islands\",\"Fiji\",\"Finland\",\"France\",\"French Polynesia\",\"Gabon\",\"Gambia, The\",\"Georgia\",\"Germany\",\"Ghana\",\"Gibraltar\",\"Greece\",\"Greenland\",\"Grenada\",\"Guam\",\"Guatemala\",\"Guinea\",\"Guinea-Bissau\",\"Guyana\",\"Haiti\",\"Honduras\",\"Hong Kong SAR, China\",\"Hungary\",\"Iceland\",\"India\",\"Indonesia\",\"Iran, Islamic Rep.\",\"Iraq\",\"Ireland\",\"Isle of Man\",\"Israel\",\"Italy\",\"Jamaica\",\"Japan\",\"Jordan\",\"Kazakhstan\",\"Kenya\",\"Kiribati\",\"Korea, Dem. People\\ufffds Rep.\",\"Korea, Rep.\",\"Kosovo\",\"Kuwait\",\"Kyrgyz Republic\",\"Lao PDR\",\"Latvia\",\"Lebanon\",\"Lesotho\",\"Liberia\",\"Libya\",\"Liechtenstein\",\"Lithuania\",\"Luxembourg\",\"Macao SAR, China\",\"Macedonia, FYR\",\"Madagascar\",\"Malawi\",\"Malaysia\",\"Maldives\",\"Mali\",\"Malta\",\"Marshall Islands\",\"Mauritania\",\"Mauritius\",\"Mexico\",\"Micronesia, Fed. Sts.\",\"Moldova\",\"Monaco\",\"Mongolia\",\"Montenegro\",\"Morocco\",\"Mozambique\",\"Myanmar\",\"Namibia\",\"Nauru\",\"Nepal\",\"Netherlands\",\"New Caledonia\",\"New Zealand\",\"Nicaragua\",\"Niger\",\"Nigeria\",\"Northern Mariana Islands\",\"Norway\",\"Oman\",\"Pakistan\",\"Palau\",\"Panama\",\"Papua New Guinea\",\"Paraguay\",\"Peru\",\"Philippines\",\"Poland\",\"Portugal\",\"Puerto Rico\",\"Qatar\",\"Romania\",\"Russian Federation\",\"Rwanda\",\"Samoa\",\"San Marino\",\"Sao Tome and Principe\",\"Saudi Arabia\",\"Senegal\",\"Serbia\",\"Seychelles\",\"Sierra Leone\",\"Singapore\",\"Sint Maarten (Dutch part)\",\"Slovak Republic\",\"Slovenia\",\"Solomon Islands\",\"Somalia\",\"South Africa\",\"South Sudan\",\"Spain\",\"Sri Lanka\",\"St. Kitts and Nevis\",\"St. Lucia\",\"St. Martin (French part)\",\"St. Vincent and the Grenadines\",\"Sudan\",\"Suriname\",\"Swaziland\",\"Sweden\",\"Switzerland\",\"Syrian Arab Republic\",\"Tajikistan\",\"Tanzania\",\"Thailand\",\"Timor-Leste\",\"Togo\",\"Tonga\",\"Trinidad and Tobago\",\"Tunisia\",\"Turkey\",\"Turkmenistan\",\"Turks and Caicos Islands\",\"Tuvalu\",\"Uganda\",\"Ukraine\",\"United Arab Emirates\",\"United Kingdom\",\"United States\",\"Uruguay\",\"Uzbekistan\",\"Vanuatu\",\"Venezuela, RB\",\"Vietnam\",\"Virgin Islands\",\"West Bank and Gaza\",\"Yemen, Rep.\",\"Zambia\",\"Zimbabwe\"],\"legendgroup\":\"\",\"marker\":{\"color\":\"#636efa\",\"symbol\":\"circle\"},\"mode\":\"markers\",\"name\":\"\",\"orientation\":\"v\",\"showlegend\":false,\"x\":[3.44313489066,2.22844165639,1.3811333131,2.90596039932,1.76832751634,1.80456167471,1.80209777036,1.53952935146,1.6594971770299998,1.76185354991,1.7217274046400002,1.55812153835,4.87413631573,5.55855626904,1.7492582895900002,2.17652232396,2.67862304206,3.95472956311,4.56468888096,4.34069763164,1.63992654112,2.29552527219,2.31475439366,2.31356901941,4.68288237273,2.6874012563200003,5.42389441035,3.09311728284,2.85080724262,2.84474897181,2.8276172614200004,2.44695492861,2.07368988337,null,1.82197807725,3.36180880859,3.55098136137,1.68742616805,5.792160923080001,3.12933094448,2.9561871119200003,2.9561871119200003,5.42080805629,5.42121681314,5.42080805629,1.81451647085,2.54274186063,6.437,1.635,2.661,null,1.18,6.619,2.1830000000000003,2.4130000000000003,1.726,1.741,1.959,1.38,1.97,1.877,2.292,2.521,1.768,1.37,1.82,2.893,5.365,1.76,2.636,3.427,1.253,2.9210000000000003,1.944,null,1.982,1.49,6.1160000000000005,6.566,2.665,3.0860000000000003,5.235,1.6589,null,4.902,6.901,1.42,1.887,1.526,2.1180000000000003,4.927,6.646,5.063,2.006,5.392,1.48,1.636,2.0,1.504,1.45,1.84,3.744,null,2.687,2.736,3.016,2.253,5.391,4.8180000000000005,1.69,5.353,2.6,2.774,1.83,1.98,2.184,4.164,5.799,1.758,1.37,4.33,null,1.38,2.299,2.301,2.562,3.664,5.575,5.267,2.787,3.579,3.039,1.028,1.32,2.09,2.826,2.497,1.788,4.623,2.01,null,2.9,1.4,2.289,1.34,3.613,2.5,4.825,3.883,2.005,1.25,2.43,2.525,2.7,3.511,1.54,1.6269999999999998,3.412,5.277,2.65,1.42,1.36,1.61,0.909,1.479,4.87,5.823,2.093,2.261,6.718999999999999,1.35,4.5,5.002,1.74,2.447,3.661,1.242,null,2.324,1.82,2.48,5.674,2.585,3.616,null,3.012,1.72,2.2,2.18,2.571,7.688,5.93,null,1.9,2.892,3.98,null,2.541,4.157,2.907,2.616,3.324,1.31,1.35,1.6505,2.312,1.45,1.41,4.895,4.45,null,4.927,3.16,5.1770000000000005,1.38,2.24,5.565,1.29,1.5,1.27,1.38,4.412,7.14,2.58,5.638,1.38,2.274,null,2.022,1.82,2.131,4.873,2.553,3.761,1.88,1.46,3.238,3.495,5.585,1.557,5.7,5.064,4.059,1.79,2.04,2.193,2.523,null,null,6.424,1.345,2.004,1.86,2.12,2.126,2.55,3.679,2.562,1.911,1.97,4.627,5.18,5.9110000000000005,4.022],\"xaxis\":\"x\",\"y\":[69.2070082278,71.53580442229999,74.2523833325,66.7168411826,73.5846595367,72.6378120561,72.6919270432,80.0997517287,74.92140241220001,69.42256412520001,69.9944489801,78.9682102701,59.20782178140001,56.5766165423,79.2386203249,70.1729440238,67.75917164170001,61.2853204195,60.089105590200006,60.51656342770001,73.472904211,73.3790228456,73.1580129361,73.2400064382,59.6277315593,67.68854263829999,56.8013307781,65.05949547590001,71.4108904527,70.8562142383,70.8462057183,68.7989256332,78.2484460493,null,78.7760227899,63.2139229694,68.513095791,79.0261899061,54.4851307308,65.22258787310001,65.5485167218,65.5485167218,54.1785518165,54.1765429979,54.1785518165,72.7812540165,69.6418542733,57.8338292683,76.4702926829,72.8983658537,null,null,49.43573170729999,74.8032195122,75.0090487805,73.7646585366,74.5267560976,81.2926829268,80.1804878049,69.7565121951,74.0594634146,75.7077560976,68.85997560979999,74.3564146341,70.2034146341,79.78292682930001,69.452,57.867390243900005,78.9341463415,66.29309756100001,64.6941219512,75.3714878049,59.0745609756,72.4148292683,null,76.6755609756,72.6634146341,55.188804878,53.4560731707,72.0993658537,64.5523414634,52.4791463415,80.6343902439,null,45.687390243900005,48.5592195122,79.41080487800001,79.3135365854,74.3404390244,72.7055121951,60.7123414634,55.0644146341,55.8013170732,78.33031707319999,48.7788292683,75.7056097561,78.44919512199999,75.3634146341,78.8685121951,76.7243902439,78.1951219512,58.8293414634,null,72.1313170732,74.4950243902,69.78229268289999,70.7804634146,54.5163170732,59.6694146341,72.8146341463,58.408,79.8365853659,68.8434146341,79.2634146341,81.112195122,74.8919756098,60.3927804878,58.5694390244,73.4210243902,79.53414634149999,59.6358536585,null,79.4390243902,69.98268292680001,71.8447560976,77.3074146341,70.1107804878,53.9994878049,52.8554634146,65.7797560976,59.9773902439,71.8587317073,82.3268292683,73.1512195122,81.4536585366,65.30043902439999,67.5677317073,72.674195122,68.19902439020001,79.6414634146,null,80.5048780488,81.4341463415,74.0092926829,82.5070731707,72.9611707317,66.5048780488,55.6992926829,64.98075609760001,68.376195122,79.3495121951,69.1975609756,73.81,67.8951219512,62.827268292700005,71.0195121951,77.615902439,44.8822195122,57.191195122,71.7386341463,81.2951219512,70.9,79.3829268293,79.0562439024,74.3229512195,62.053,51.5124878049,73.81826829270001,75.3997073171,54.2619268293,79.7926829268,null,61.1397317073,72.5707317073,75.5879268293,68.2204878049,68.20990243899999,null,66.06817073170001,74.04063414630001,71.2776341463,51.622097561,64.0936829268,58.780804878000005,null,66.5519268293,80.0975609756,75.9463414634,80.1512195122,72.5716585366,55.4550243902,49.8081463415,null,80.3951219512,75.1236097561,64.3387317073,null,76.3144634146,61.3114146341,71.6948292683,72.9969512195,67.47902439020001,75.243902439,78.3219512195,78.4258536585,77.28685365850001,72.5658536585,67.49756097560001,57.946000000000005,71.5607804878,82.506097561,65.188,73.34507317069999,61.7841707317,73.6317073171,73.1926829268,45.4883658537,80.4414634146,74.543902439,74.2073170732,78.5609756098,66.266804878,53.0186585366,51.9965121951,52.0878536585,80.8731707317,74.1941219512,null,73.7118536585,78.2219512195,71.6994146341,60.7008780488,69.47907317069999,46.772390243900006,80.9,81.7414634146,74.2460731707,67.2074878049,58.0777804878,72.87443902439999,65.82419512199999,55.4334390244,71.737,69.2596585366,74.2024390244,73.1770731707,64.6388292683,null,null,53.6541463415,68.222195122,76.1111707317,79.4487804878,77.987804878,75.9510243902,67.5312195122,69.9487317073,73.38890243899999,74.48385365850001,78.8243902439,71.74704878050001,61.954804878,52.4771463415,44.1777560976],\"yaxis\":\"y\",\"type\":\"scatter\"},{\"hoverinfo\":\"skip\",\"marker\":{\"line\":{\"width\":4},\"size\":14,\"symbol\":\"circle-open\"},\"mode\":\"markers\",\"name\":\"Morocco\",\"x\":[2.48],\"y\":[71.2776341463],\"type\":\"scatter\"},{\"hoverinfo\":\"skip\",\"marker\":{\"line\":{\"width\":4},\"size\":14,\"symbol\":\"circle-open\"},\"mode\":\"markers\",\"name\":\"Antigua and Barbuda\",\"x\":[2.1830000000000003],\"y\":[74.8032195122],\"type\":\"scatter\"},{\"hoverinfo\":\"skip\",\"marker\":{\"line\":{\"width\":4},\"size\":14,\"symbol\":\"circle-open\"},\"mode\":\"markers\",\"name\":\"Bhutan\",\"x\":[2.636],\"y\":[66.29309756100001],\"type\":\"scatter\"},{\"hoverinfo\":\"skip\",\"marker\":{\"line\":{\"width\":4},\"size\":14,\"symbol\":\"circle-open\"},\"mode\":\"markers\",\"name\":\"Oman\",\"x\":[2.892],\"y\":[75.1236097561],\"type\":\"scatter\"},{\"hoverinfo\":\"skip\",\"marker\":{\"line\":{\"width\":4},\"size\":14,\"symbol\":\"circle-open\"},\"mode\":\"markers\",\"name\":\"United Kingdom\",\"x\":[1.86],\"y\":[79.4487804878],\"type\":\"scatter\"},{\"hoverinfo\":\"skip\",\"marker\":{\"line\":{\"width\":4},\"size\":14,\"symbol\":\"circle-open\"},\"mode\":\"markers\",\"name\":\"Lesotho\",\"x\":[3.412],\"y\":[44.8822195122],\"type\":\"scatter\"},{\"hoverinfo\":\"skip\",\"marker\":{\"line\":{\"width\":4},\"size\":14,\"symbol\":\"circle-open\"},\"mode\":\"markers\",\"name\":\"Swaziland\",\"x\":[3.761],\"y\":[46.772390243900006],\"type\":\"scatter\"},{\"hoverinfo\":\"skip\",\"marker\":{\"line\":{\"width\":4},\"size\":14,\"symbol\":\"circle-open\"},\"mode\":\"markers\",\"name\":\"South Africa\",\"x\":[2.58],\"y\":[51.9965121951],\"type\":\"scatter\"},{\"hoverinfo\":\"skip\",\"marker\":{\"line\":{\"width\":4},\"size\":14,\"symbol\":\"circle-open\"},\"mode\":\"markers\",\"name\":\"Botswana\",\"x\":[2.9210000000000003],\"y\":[59.0745609756],\"type\":\"scatter\"},{\"hoverinfo\":\"skip\",\"marker\":{\"line\":{\"width\":4},\"size\":14,\"symbol\":\"circle-open\"},\"mode\":\"markers\",\"name\":\"Timor-Leste\",\"x\":[5.7],\"y\":[65.82419512199999],\"type\":\"scatter\"},{\"hoverinfo\":\"skip\",\"marker\":{\"line\":{\"width\":4},\"size\":14,\"symbol\":\"circle-open\"},\"mode\":\"markers\",\"name\":\"Sao Tome and Principe\",\"x\":[4.927],\"y\":[65.188],\"type\":\"scatter\"},{\"hoverinfo\":\"skip\",\"marker\":{\"line\":{\"width\":4},\"size\":14,\"symbol\":\"circle-open\"},\"mode\":\"markers\",\"name\":\"Iraq\",\"x\":[4.623],\"y\":[68.19902439020001],\"type\":\"scatter\"},{\"hoverinfo\":\"skip\",\"marker\":{\"line\":{\"width\":4},\"size\":14,\"symbol\":\"circle-open\"},\"mode\":\"markers\",\"name\":\"Solomon Islands\",\"x\":[4.412],\"y\":[66.266804878],\"type\":\"scatter\"},{\"hoverinfo\":\"skip\",\"marker\":{\"line\":{\"width\":4},\"size\":14,\"symbol\":\"circle-open\"},\"mode\":\"markers\",\"name\":\"Tonga\",\"x\":[4.059],\"y\":[71.737],\"type\":\"scatter\"},{\"hoverinfo\":\"skip\",\"marker\":{\"line\":{\"width\":4},\"size\":14,\"symbol\":\"circle-open\"},\"mode\":\"markers\",\"name\":\"Jordan\",\"x\":[3.613],\"y\":[72.9611707317],\"type\":\"scatter\"},{\"hoverinfo\":\"skip\",\"marker\":{\"line\":{\"width\":4},\"size\":14,\"symbol\":\"circle-open\"},\"mode\":\"markers\",\"name\":\"Honduras\",\"x\":[3.039],\"y\":[71.8587317073],\"type\":\"scatter\"},{\"hoverinfo\":\"skip\",\"marker\":{\"line\":{\"width\":4},\"size\":14,\"symbol\":\"circle-open\"},\"mode\":\"markers\",\"name\":\"Azerbaijan\",\"x\":[1.97],\"y\":[69.7565121951],\"type\":\"scatter\"},{\"hoverinfo\":\"skip\",\"marker\":{\"line\":{\"width\":4},\"size\":14,\"symbol\":\"circle-open\"},\"mode\":\"markers\",\"name\":\"Central Europe and the Baltics\",\"x\":[1.3811333131],\"y\":[74.2523833325],\"type\":\"scatter\"},{\"hoverinfo\":\"skip\",\"marker\":{\"line\":{\"width\":4},\"size\":14,\"symbol\":\"circle-open\"},\"mode\":\"markers\",\"name\":\"Fragile and conflict affected situations\",\"x\":[4.87413631573],\"y\":[59.20782178140001],\"type\":\"scatter\"},{\"hoverinfo\":\"skip\",\"marker\":{\"line\":{\"width\":4},\"size\":14,\"symbol\":\"circle-open\"},\"mode\":\"markers\",\"name\":\"Angola\",\"x\":[6.619],\"y\":[49.43573170729999],\"type\":\"scatter\"}],                        {\"hovermode\":\"closest\",\"legend\":{\"tracegroupgap\":0},\"margin\":{\"b\":40,\"l\":40,\"r\":0,\"t\":10},\"template\":{\"data\":{\"barpolar\":[{\"marker\":{\"line\":{\"color\":\"#E5ECF6\",\"width\":0.5},\"pattern\":{\"fillmode\":\"overlay\",\"size\":10,\"solidity\":0.2}},\"type\":\"barpolar\"}],\"bar\":[{\"error_x\":{\"color\":\"#2a3f5f\"},\"error_y\":{\"color\":\"#2a3f5f\"},\"marker\":{\"line\":{\"color\":\"#E5ECF6\",\"width\":0.5},\"pattern\":{\"fillmode\":\"overlay\",\"size\":10,\"solidity\":0.2}},\"type\":\"bar\"}],\"carpet\":[{\"aaxis\":{\"endlinecolor\":\"#2a3f5f\",\"gridcolor\":\"white\",\"linecolor\":\"white\",\"minorgridcolor\":\"white\",\"startlinecolor\":\"#2a3f5f\"},\"baxis\":{\"endlinecolor\":\"#2a3f5f\",\"gridcolor\":\"white\",\"linecolor\":\"white\",\"minorgridcolor\":\"white\",\"startlinecolor\":\"#2a3f5f\"},\"type\":\"carpet\"}],\"choropleth\":[{\"colorbar\":{\"outlinewidth\":0,\"ticks\":\"\"},\"type\":\"choropleth\"}],\"contourcarpet\":[{\"colorbar\":{\"outlinewidth\":0,\"ticks\":\"\"},\"type\":\"contourcarpet\"}],\"contour\":[{\"colorbar\":{\"outlinewidth\":0,\"ticks\":\"\"},\"colorscale\":[[0.0,\"#0d0887\"],[0.1111111111111111,\"#46039f\"],[0.2222222222222222,\"#7201a8\"],[0.3333333333333333,\"#9c179e\"],[0.4444444444444444,\"#bd3786\"],[0.5555555555555556,\"#d8576b\"],[0.6666666666666666,\"#ed7953\"],[0.7777777777777778,\"#fb9f3a\"],[0.8888888888888888,\"#fdca26\"],[1.0,\"#f0f921\"]],\"type\":\"contour\"}],\"heatmapgl\":[{\"colorbar\":{\"outlinewidth\":0,\"ticks\":\"\"},\"colorscale\":[[0.0,\"#0d0887\"],[0.1111111111111111,\"#46039f\"],[0.2222222222222222,\"#7201a8\"],[0.3333333333333333,\"#9c179e\"],[0.4444444444444444,\"#bd3786\"],[0.5555555555555556,\"#d8576b\"],[0.6666666666666666,\"#ed7953\"],[0.7777777777777778,\"#fb9f3a\"],[0.8888888888888888,\"#fdca26\"],[1.0,\"#f0f921\"]],\"type\":\"heatmapgl\"}],\"heatmap\":[{\"colorbar\":{\"outlinewidth\":0,\"ticks\":\"\"},\"colorscale\":[[0.0,\"#0d0887\"],[0.1111111111111111,\"#46039f\"],[0.2222222222222222,\"#7201a8\"],[0.3333333333333333,\"#9c179e\"],[0.4444444444444444,\"#bd3786\"],[0.5555555555555556,\"#d8576b\"],[0.6666666666666666,\"#ed7953\"],[0.7777777777777778,\"#fb9f3a\"],[0.8888888888888888,\"#fdca26\"],[1.0,\"#f0f921\"]],\"type\":\"heatmap\"}],\"histogram2dcontour\":[{\"colorbar\":{\"outlinewidth\":0,\"ticks\":\"\"},\"colorscale\":[[0.0,\"#0d0887\"],[0.1111111111111111,\"#46039f\"],[0.2222222222222222,\"#7201a8\"],[0.3333333333333333,\"#9c179e\"],[0.4444444444444444,\"#bd3786\"],[0.5555555555555556,\"#d8576b\"],[0.6666666666666666,\"#ed7953\"],[0.7777777777777778,\"#fb9f3a\"],[0.8888888888888888,\"#fdca26\"],[1.0,\"#f0f921\"]],\"type\":\"histogram2dcontour\"}],\"histogram2d\":[{\"colorbar\":{\"outlinewidth\":0,\"ticks\":\"\"},\"colorscale\":[[0.0,\"#0d0887\"],[0.1111111111111111,\"#46039f\"],[0.2222222222222222,\"#7201a8\"],[0.3333333333333333,\"#9c179e\"],[0.4444444444444444,\"#bd3786\"],[0.5555555555555556,\"#d8576b\"],[0.6666666666666666,\"#ed7953\"],[0.7777777777777778,\"#fb9f3a\"],[0.8888888888888888,\"#fdca26\"],[1.0,\"#f0f921\"]],\"type\":\"histogram2d\"}],\"histogram\":[{\"marker\":{\"pattern\":{\"fillmode\":\"overlay\",\"size\":10,\"solidity\":0.2}},\"type\":\"histogram\"}],\"mesh3d\":[{\"colorbar\":{\"outlinewidth\":0,\"ticks\":\"\"},\"type\":\"mesh3d\"}],\"parcoords\":[{\"line\":{\"colorbar\":{\"outlinewidth\":0,\"ticks\":\"\"}},\"type\":\"parcoords\"}],\"pie\":[{\"automargin\":true,\"type\":\"pie\"}],\"scatter3d\":[{\"line\":{\"colorbar\":{\"outlinewidth\":0,\"ticks\":\"\"}},\"marker\":{\"colorbar\":{\"outlinewidth\":0,\"ticks\":\"\"}},\"type\":\"scatter3d\"}],\"scattercarpet\":[{\"marker\":{\"colorbar\":{\"outlinewidth\":0,\"ticks\":\"\"}},\"type\":\"scattercarpet\"}],\"scattergeo\":[{\"marker\":{\"colorbar\":{\"outlinewidth\":0,\"ticks\":\"\"}},\"type\":\"scattergeo\"}],\"scattergl\":[{\"marker\":{\"colorbar\":{\"outlinewidth\":0,\"ticks\":\"\"}},\"type\":\"scattergl\"}],\"scattermapbox\":[{\"marker\":{\"colorbar\":{\"outlinewidth\":0,\"ticks\":\"\"}},\"type\":\"scattermapbox\"}],\"scatterpolargl\":[{\"marker\":{\"colorbar\":{\"outlinewidth\":0,\"ticks\":\"\"}},\"type\":\"scatterpolargl\"}],\"scatterpolar\":[{\"marker\":{\"colorbar\":{\"outlinewidth\":0,\"ticks\":\"\"}},\"type\":\"scatterpolar\"}],\"scatter\":[{\"fillpattern\":{\"fillmode\":\"overlay\",\"size\":10,\"solidity\":0.2},\"type\":\"scatter\"}],\"scatterternary\":[{\"marker\":{\"colorbar\":{\"outlinewidth\":0,\"ticks\":\"\"}},\"type\":\"scatterternary\"}],\"surface\":[{\"colorbar\":{\"outlinewidth\":0,\"ticks\":\"\"},\"colorscale\":[[0.0,\"#0d0887\"],[0.1111111111111111,\"#46039f\"],[0.2222222222222222,\"#7201a8\"],[0.3333333333333333,\"#9c179e\"],[0.4444444444444444,\"#bd3786\"],[0.5555555555555556,\"#d8576b\"],[0.6666666666666666,\"#ed7953\"],[0.7777777777777778,\"#fb9f3a\"],[0.8888888888888888,\"#fdca26\"],[1.0,\"#f0f921\"]],\"type\":\"surface\"}],\"table\":[{\"cells\":{\"fill\":{\"color\":\"#EBF0F8\"},\"line\":{\"color\":\"white\"}},\"header\":{\"fill\":{\"color\":\"#C8D4E3\"},\"line\":{\"color\":\"white\"}},\"type\":\"table\"}]},\"layout\":{\"annotationdefaults\":{\"arrowcolor\":\"#2a3f5f\",\"arrowhead\":0,\"arrowwidth\":1},\"autotypenumbers\":\"strict\",\"coloraxis\":{\"colorbar\":{\"outlinewidth\":0,\"ticks\":\"\"}},\"colorscale\":{\"diverging\":[[0,\"#8e0152\"],[0.1,\"#c51b7d\"],[0.2,\"#de77ae\"],[0.3,\"#f1b6da\"],[0.4,\"#fde0ef\"],[0.5,\"#f7f7f7\"],[0.6,\"#e6f5d0\"],[0.7,\"#b8e186\"],[0.8,\"#7fbc41\"],[0.9,\"#4d9221\"],[1,\"#276419\"]],\"sequential\":[[0.0,\"#0d0887\"],[0.1111111111111111,\"#46039f\"],[0.2222222222222222,\"#7201a8\"],[0.3333333333333333,\"#9c179e\"],[0.4444444444444444,\"#bd3786\"],[0.5555555555555556,\"#d8576b\"],[0.6666666666666666,\"#ed7953\"],[0.7777777777777778,\"#fb9f3a\"],[0.8888888888888888,\"#fdca26\"],[1.0,\"#f0f921\"]],\"sequentialminus\":[[0.0,\"#0d0887\"],[0.1111111111111111,\"#46039f\"],[0.2222222222222222,\"#7201a8\"],[0.3333333333333333,\"#9c179e\"],[0.4444444444444444,\"#bd3786\"],[0.5555555555555556,\"#d8576b\"],[0.6666666666666666,\"#ed7953\"],[0.7777777777777778,\"#fb9f3a\"],[0.8888888888888888,\"#fdca26\"],[1.0,\"#f0f921\"]]},\"colorway\":[\"#636efa\",\"#EF553B\",\"#00cc96\",\"#ab63fa\",\"#FFA15A\",\"#19d3f3\",\"#FF6692\",\"#B6E880\",\"#FF97FF\",\"#FECB52\"],\"font\":{\"color\":\"#2a3f5f\"},\"geo\":{\"bgcolor\":\"white\",\"lakecolor\":\"white\",\"landcolor\":\"#E5ECF6\",\"showlakes\":true,\"showland\":true,\"subunitcolor\":\"white\"},\"hoverlabel\":{\"align\":\"left\"},\"hovermode\":\"closest\",\"mapbox\":{\"style\":\"light\"},\"paper_bgcolor\":\"white\",\"plot_bgcolor\":\"#E5ECF6\",\"polar\":{\"angularaxis\":{\"gridcolor\":\"white\",\"linecolor\":\"white\",\"ticks\":\"\"},\"bgcolor\":\"#E5ECF6\",\"radialaxis\":{\"gridcolor\":\"white\",\"linecolor\":\"white\",\"ticks\":\"\"}},\"scene\":{\"xaxis\":{\"backgroundcolor\":\"#E5ECF6\",\"gridcolor\":\"white\",\"gridwidth\":2,\"linecolor\":\"white\",\"showbackground\":true,\"ticks\":\"\",\"zerolinecolor\":\"white\"},\"yaxis\":{\"backgroundcolor\":\"#E5ECF6\",\"gridcolor\":\"white\",\"gridwidth\":2,\"linecolor\":\"white\",\"showbackground\":true,\"ticks\":\"\",\"zerolinecolor\":\"white\"},\"zaxis\":{\"backgroundcolor\":\"#E5ECF6\",\"gridcolor\":\"white\",\"gridwidth\":2,\"linecolor\":\"white\",\"showbackground\":true,\"ticks\":\"\",\"zerolinecolor\":\"white\"}},\"shapedefaults\":{\"line\":{\"color\":\"#2a3f5f\"}},\"ternary\":{\"aaxis\":{\"gridcolor\":\"white\",\"linecolor\":\"white\",\"ticks\":\"\"},\"baxis\":{\"gridcolor\":\"white\",\"linecolor\":\"white\",\"ticks\":\"\"},\"bgcolor\":\"#E5ECF6\",\"caxis\":{\"gridcolor\":\"white\",\"linecolor\":\"white\",\"ticks\":\"\"}},\"title\":{\"x\":0.05},\"xaxis\":{\"automargin\":true,\"gridcolor\":\"white\",\"linecolor\":\"white\",\"ticks\":\"\",\"title\":{\"standoff\":15},\"zerolinecolor\":\"white\",\"zerolinewidth\":2},\"yaxis\":{\"automargin\":true,\"gridcolor\":\"white\",\"linecolor\":\"white\",\"ticks\":\"\",\"title\":{\"standoff\":15},\"zerolinecolor\":\"white\",\"zerolinewidth\":2}}},\"xaxis\":{\"anchor\":\"y\",\"domain\":[0.0,1.0],\"title\":{\"text\":\"Fertility rate, total (births per woman)\"},\"type\":\"linear\"},\"yaxis\":{\"anchor\":\"x\",\"domain\":[0.0,1.0],\"title\":{\"text\":\"Life expectancy at birth, total (years)\"},\"type\":\"linear\"}},                        {\"responsive\": true}                    ).then(function(){\n",
       "                            \n",
       "var gd = document.getElementById('cb542248-1a89-4a26-94a7-b4fa235e6ab6');\n",
       "var x = new MutationObserver(function (mutations, observer) {{\n",
       "        var display = window.getComputedStyle(gd).display;\n",
       "        if (!display || display === 'none') {{\n",
       "            console.log([gd, 'removed!']);\n",
       "            Plotly.purge(gd);\n",
       "            observer.disconnect();\n",
       "        }}\n",
       "}});\n",
       "\n",
       "// Listen for the removal of the full notebook cells\n",
       "var notebookContainer = gd.closest('#notebook-container');\n",
       "if (notebookContainer) {{\n",
       "    x.observe(notebookContainer, {childList: true});\n",
       "}}\n",
       "\n",
       "// Listen for the clearing of the current output cell\n",
       "var outputEl = gd.closest('.output');\n",
       "if (outputEl) {{\n",
       "    x.observe(outputEl, {childList: true});\n",
       "}}\n",
       "\n",
       "                        })                };                });            </script>        </div>"
      ]
     },
     "metadata": {},
     "output_type": "display_data"
    }
   ],
   "source": [
    "import plotly.graph_objects as go\n",
    "import plotly.express as px\n",
    "import pandas as pd\n",
    "import dbm.dumb\n",
    "import shelve\n",
    "from dash import Dash, html, dcc\n",
    "import statsmodels.api as sm\n",
    "import numpy as np\n",
    "import dash_daq as daq\n",
    "import dash_bootstrap_components as dbc\n",
    "\n",
    "with shelve.open('C:\\\\repos\\shelve\\dash2\\\\figure_structure', 'r') as shelf_in:\n",
    "    # for key in shelf_in.keys():\n",
    "        # print(repr(key), repr(shelf_in[key]))\n",
    "        # print(repr(key))\n",
    "    # fig = go.Figure(shelf_in['figout'])\n",
    "    fig = shelf_in['figout']\n",
    "    figdata = shelf_in['figdata']\n",
    "    dfi = shelf_in['dfi']\n",
    "    # df = pd.read_pickle(shelf_in['dfout'])\n",
    "    dff = shelf_in['dfout']\n",
    "    comp_H4 = shelf_in['component']\n",
    "\n",
    "f = fig.full_figure_for_development(warn=False)\n",
    "fig.show()\n"
   ]
  },
  {
   "cell_type": "code",
   "execution_count": 24,
   "id": "fcfab27c-ff55-4593-b35e-08345e23ba5b",
   "metadata": {},
   "outputs": [
    {
     "data": {
      "application/vnd.plotly.v1+json": {
       "config": {
        "plotlyServerURL": "https://plot.ly"
       },
       "data": [
        {
         "customdata": [
          "Arab World",
          "Caribbean small states",
          "Central Europe and the Baltics",
          "Early-demographic dividend",
          "East Asia & Pacific",
          "East Asia & Pacific (excluding high income)",
          "East Asia & Pacific (IDA & IBRD countries)",
          "Euro area",
          "Europe & Central Asia",
          "Europe & Central Asia (excluding high income)",
          "Europe & Central Asia (IDA & IBRD countries)",
          "European Union",
          "Fragile and conflict affected situations",
          "Heavily indebted poor countries (HIPC)",
          "High income",
          "IBRD only",
          "IDA & IBRD total",
          "IDA blend",
          "IDA only",
          "IDA total",
          "Late-demographic dividend",
          "Latin America & Caribbean",
          "Latin America & Caribbean (excluding high income)",
          "Latin America & the Caribbean (IDA & IBRD countries)",
          "Least developed countries: UN classification",
          "Low & middle income",
          "Low income",
          "Lower middle income",
          "Middle East & North Africa",
          "Middle East & North Africa (excluding high income)",
          "Middle East & North Africa (IDA & IBRD countries)",
          "Middle income",
          "North America",
          "Not classified",
          "OECD members",
          "Other small states",
          "Pacific island small states",
          "Post-demographic dividend",
          "Pre-demographic dividend",
          "Small states",
          "South Asia",
          "South Asia (IDA & IBRD)",
          "Sub-Saharan Africa",
          "Sub-Saharan Africa (excluding high income)",
          "Sub-Saharan Africa (IDA & IBRD countries)",
          "Upper middle income",
          "World",
          "Afghanistan",
          "Albania",
          "Algeria",
          "American Samoa",
          "Andorra",
          "Angola",
          "Antigua and Barbuda",
          "Argentina",
          "Armenia",
          "Aruba",
          "Australia",
          "Austria",
          "Azerbaijan",
          "Bahamas, The",
          "Bahrain",
          "Bangladesh",
          "Barbados",
          "Belarus",
          "Belgium",
          "Belize",
          "Benin",
          "Bermuda",
          "Bhutan",
          "Bolivia",
          "Bosnia and Herzegovina",
          "Botswana",
          "Brazil",
          "British Virgin Islands",
          "Brunei Darussalam",
          "Bulgaria",
          "Burkina Faso",
          "Burundi",
          "Cabo Verde",
          "Cambodia",
          "Cameroon",
          "Canada",
          "Cayman Islands",
          "Central African Republic",
          "Chad",
          "Channel Islands",
          "Chile",
          "China",
          "Colombia",
          "Comoros",
          "Congo, Dem. Rep.",
          "Congo, Rep.",
          "Costa Rica",
          "Cote d'Ivoire",
          "Croatia",
          "Cuba",
          "Curacao",
          "Cyprus",
          "Czech Republic",
          "Denmark",
          "Djibouti",
          "Dominica",
          "Dominican Republic",
          "Ecuador",
          "Egypt, Arab Rep.",
          "El Salvador",
          "Equatorial Guinea",
          "Eritrea",
          "Estonia",
          "Ethiopia",
          "Faroe Islands",
          "Fiji",
          "Finland",
          "France",
          "French Polynesia",
          "Gabon",
          "Gambia, The",
          "Georgia",
          "Germany",
          "Ghana",
          "Gibraltar",
          "Greece",
          "Greenland",
          "Grenada",
          "Guam",
          "Guatemala",
          "Guinea",
          "Guinea-Bissau",
          "Guyana",
          "Haiti",
          "Honduras",
          "Hong Kong SAR, China",
          "Hungary",
          "Iceland",
          "India",
          "Indonesia",
          "Iran, Islamic Rep.",
          "Iraq",
          "Ireland",
          "Isle of Man",
          "Israel",
          "Italy",
          "Jamaica",
          "Japan",
          "Jordan",
          "Kazakhstan",
          "Kenya",
          "Kiribati",
          "Korea, Dem. People�s Rep.",
          "Korea, Rep.",
          "Kosovo",
          "Kuwait",
          "Kyrgyz Republic",
          "Lao PDR",
          "Latvia",
          "Lebanon",
          "Lesotho",
          "Liberia",
          "Libya",
          "Liechtenstein",
          "Lithuania",
          "Luxembourg",
          "Macao SAR, China",
          "Macedonia, FYR",
          "Madagascar",
          "Malawi",
          "Malaysia",
          "Maldives",
          "Mali",
          "Malta",
          "Marshall Islands",
          "Mauritania",
          "Mauritius",
          "Mexico",
          "Micronesia, Fed. Sts.",
          "Moldova",
          "Monaco",
          "Mongolia",
          "Montenegro",
          "Morocco",
          "Mozambique",
          "Myanmar",
          "Namibia",
          "Nauru",
          "Nepal",
          "Netherlands",
          "New Caledonia",
          "New Zealand",
          "Nicaragua",
          "Niger",
          "Nigeria",
          "Northern Mariana Islands",
          "Norway",
          "Oman",
          "Pakistan",
          "Palau",
          "Panama",
          "Papua New Guinea",
          "Paraguay",
          "Peru",
          "Philippines",
          "Poland",
          "Portugal",
          "Puerto Rico",
          "Qatar",
          "Romania",
          "Russian Federation",
          "Rwanda",
          "Samoa",
          "San Marino",
          "Sao Tome and Principe",
          "Saudi Arabia",
          "Senegal",
          "Serbia",
          "Seychelles",
          "Sierra Leone",
          "Singapore",
          "Sint Maarten (Dutch part)",
          "Slovak Republic",
          "Slovenia",
          "Solomon Islands",
          "Somalia",
          "South Africa",
          "South Sudan",
          "Spain",
          "Sri Lanka",
          "St. Kitts and Nevis",
          "St. Lucia",
          "St. Martin (French part)",
          "St. Vincent and the Grenadines",
          "Sudan",
          "Suriname",
          "Swaziland",
          "Sweden",
          "Switzerland",
          "Syrian Arab Republic",
          "Tajikistan",
          "Tanzania",
          "Thailand",
          "Timor-Leste",
          "Togo",
          "Tonga",
          "Trinidad and Tobago",
          "Tunisia",
          "Turkey",
          "Turkmenistan",
          "Turks and Caicos Islands",
          "Tuvalu",
          "Uganda",
          "Ukraine",
          "United Arab Emirates",
          "United Kingdom",
          "United States",
          "Uruguay",
          "Uzbekistan",
          "Vanuatu",
          "Venezuela, RB",
          "Vietnam",
          "Virgin Islands",
          "West Bank and Gaza",
          "Yemen, Rep.",
          "Zambia",
          "Zimbabwe"
         ],
         "hovertemplate": "<b>%{hovertext}</b><br><br>x=%{x}<br>y=%{y}<extra></extra>",
         "hovertext": [
          "Arab World",
          "Caribbean small states",
          "Central Europe and the Baltics",
          "Early-demographic dividend",
          "East Asia & Pacific",
          "East Asia & Pacific (excluding high income)",
          "East Asia & Pacific (IDA & IBRD countries)",
          "Euro area",
          "Europe & Central Asia",
          "Europe & Central Asia (excluding high income)",
          "Europe & Central Asia (IDA & IBRD countries)",
          "European Union",
          "Fragile and conflict affected situations",
          "Heavily indebted poor countries (HIPC)",
          "High income",
          "IBRD only",
          "IDA & IBRD total",
          "IDA blend",
          "IDA only",
          "IDA total",
          "Late-demographic dividend",
          "Latin America & Caribbean",
          "Latin America & Caribbean (excluding high income)",
          "Latin America & the Caribbean (IDA & IBRD countries)",
          "Least developed countries: UN classification",
          "Low & middle income",
          "Low income",
          "Lower middle income",
          "Middle East & North Africa",
          "Middle East & North Africa (excluding high income)",
          "Middle East & North Africa (IDA & IBRD countries)",
          "Middle income",
          "North America",
          "Not classified",
          "OECD members",
          "Other small states",
          "Pacific island small states",
          "Post-demographic dividend",
          "Pre-demographic dividend",
          "Small states",
          "South Asia",
          "South Asia (IDA & IBRD)",
          "Sub-Saharan Africa",
          "Sub-Saharan Africa (excluding high income)",
          "Sub-Saharan Africa (IDA & IBRD countries)",
          "Upper middle income",
          "World",
          "Afghanistan",
          "Albania",
          "Algeria",
          "American Samoa",
          "Andorra",
          "Angola",
          "Antigua and Barbuda",
          "Argentina",
          "Armenia",
          "Aruba",
          "Australia",
          "Austria",
          "Azerbaijan",
          "Bahamas, The",
          "Bahrain",
          "Bangladesh",
          "Barbados",
          "Belarus",
          "Belgium",
          "Belize",
          "Benin",
          "Bermuda",
          "Bhutan",
          "Bolivia",
          "Bosnia and Herzegovina",
          "Botswana",
          "Brazil",
          "British Virgin Islands",
          "Brunei Darussalam",
          "Bulgaria",
          "Burkina Faso",
          "Burundi",
          "Cabo Verde",
          "Cambodia",
          "Cameroon",
          "Canada",
          "Cayman Islands",
          "Central African Republic",
          "Chad",
          "Channel Islands",
          "Chile",
          "China",
          "Colombia",
          "Comoros",
          "Congo, Dem. Rep.",
          "Congo, Rep.",
          "Costa Rica",
          "Cote d'Ivoire",
          "Croatia",
          "Cuba",
          "Curacao",
          "Cyprus",
          "Czech Republic",
          "Denmark",
          "Djibouti",
          "Dominica",
          "Dominican Republic",
          "Ecuador",
          "Egypt, Arab Rep.",
          "El Salvador",
          "Equatorial Guinea",
          "Eritrea",
          "Estonia",
          "Ethiopia",
          "Faroe Islands",
          "Fiji",
          "Finland",
          "France",
          "French Polynesia",
          "Gabon",
          "Gambia, The",
          "Georgia",
          "Germany",
          "Ghana",
          "Gibraltar",
          "Greece",
          "Greenland",
          "Grenada",
          "Guam",
          "Guatemala",
          "Guinea",
          "Guinea-Bissau",
          "Guyana",
          "Haiti",
          "Honduras",
          "Hong Kong SAR, China",
          "Hungary",
          "Iceland",
          "India",
          "Indonesia",
          "Iran, Islamic Rep.",
          "Iraq",
          "Ireland",
          "Isle of Man",
          "Israel",
          "Italy",
          "Jamaica",
          "Japan",
          "Jordan",
          "Kazakhstan",
          "Kenya",
          "Kiribati",
          "Korea, Dem. People�s Rep.",
          "Korea, Rep.",
          "Kosovo",
          "Kuwait",
          "Kyrgyz Republic",
          "Lao PDR",
          "Latvia",
          "Lebanon",
          "Lesotho",
          "Liberia",
          "Libya",
          "Liechtenstein",
          "Lithuania",
          "Luxembourg",
          "Macao SAR, China",
          "Macedonia, FYR",
          "Madagascar",
          "Malawi",
          "Malaysia",
          "Maldives",
          "Mali",
          "Malta",
          "Marshall Islands",
          "Mauritania",
          "Mauritius",
          "Mexico",
          "Micronesia, Fed. Sts.",
          "Moldova",
          "Monaco",
          "Mongolia",
          "Montenegro",
          "Morocco",
          "Mozambique",
          "Myanmar",
          "Namibia",
          "Nauru",
          "Nepal",
          "Netherlands",
          "New Caledonia",
          "New Zealand",
          "Nicaragua",
          "Niger",
          "Nigeria",
          "Northern Mariana Islands",
          "Norway",
          "Oman",
          "Pakistan",
          "Palau",
          "Panama",
          "Papua New Guinea",
          "Paraguay",
          "Peru",
          "Philippines",
          "Poland",
          "Portugal",
          "Puerto Rico",
          "Qatar",
          "Romania",
          "Russian Federation",
          "Rwanda",
          "Samoa",
          "San Marino",
          "Sao Tome and Principe",
          "Saudi Arabia",
          "Senegal",
          "Serbia",
          "Seychelles",
          "Sierra Leone",
          "Singapore",
          "Sint Maarten (Dutch part)",
          "Slovak Republic",
          "Slovenia",
          "Solomon Islands",
          "Somalia",
          "South Africa",
          "South Sudan",
          "Spain",
          "Sri Lanka",
          "St. Kitts and Nevis",
          "St. Lucia",
          "St. Martin (French part)",
          "St. Vincent and the Grenadines",
          "Sudan",
          "Suriname",
          "Swaziland",
          "Sweden",
          "Switzerland",
          "Syrian Arab Republic",
          "Tajikistan",
          "Tanzania",
          "Thailand",
          "Timor-Leste",
          "Togo",
          "Tonga",
          "Trinidad and Tobago",
          "Tunisia",
          "Turkey",
          "Turkmenistan",
          "Turks and Caicos Islands",
          "Tuvalu",
          "Uganda",
          "Ukraine",
          "United Arab Emirates",
          "United Kingdom",
          "United States",
          "Uruguay",
          "Uzbekistan",
          "Vanuatu",
          "Venezuela, RB",
          "Vietnam",
          "Virgin Islands",
          "West Bank and Gaza",
          "Yemen, Rep.",
          "Zambia",
          "Zimbabwe"
         ],
         "legendgroup": "",
         "marker": {
          "color": "#636efa",
          "symbol": "circle"
         },
         "mode": "markers",
         "name": "",
         "orientation": "v",
         "showlegend": false,
         "type": "scatter",
         "x": [
          3.44313489066,
          2.22844165639,
          1.3811333131,
          2.90596039932,
          1.76832751634,
          1.80456167471,
          1.80209777036,
          1.53952935146,
          1.6594971770299998,
          1.76185354991,
          1.7217274046400002,
          1.55812153835,
          4.87413631573,
          5.55855626904,
          1.7492582895900002,
          2.17652232396,
          2.67862304206,
          3.95472956311,
          4.56468888096,
          4.34069763164,
          1.63992654112,
          2.29552527219,
          2.31475439366,
          2.31356901941,
          4.68288237273,
          2.6874012563200003,
          5.42389441035,
          3.09311728284,
          2.85080724262,
          2.84474897181,
          2.8276172614200004,
          2.44695492861,
          2.07368988337,
          null,
          1.82197807725,
          3.36180880859,
          3.55098136137,
          1.68742616805,
          5.792160923080001,
          3.12933094448,
          2.9561871119200003,
          2.9561871119200003,
          5.42080805629,
          5.42121681314,
          5.42080805629,
          1.81451647085,
          2.54274186063,
          6.437,
          1.635,
          2.661,
          null,
          1.18,
          6.619,
          2.1830000000000003,
          2.4130000000000003,
          1.726,
          1.741,
          1.959,
          1.38,
          1.97,
          1.877,
          2.292,
          2.521,
          1.768,
          1.37,
          1.82,
          2.893,
          5.365,
          1.76,
          2.636,
          3.427,
          1.253,
          2.9210000000000003,
          1.944,
          null,
          1.982,
          1.49,
          6.1160000000000005,
          6.566,
          2.665,
          3.0860000000000003,
          5.235,
          1.6589,
          null,
          4.902,
          6.901,
          1.42,
          1.887,
          1.526,
          2.1180000000000003,
          4.927,
          6.646,
          5.063,
          2.006,
          5.392,
          1.48,
          1.636,
          2,
          1.504,
          1.45,
          1.84,
          3.744,
          null,
          2.687,
          2.736,
          3.016,
          2.253,
          5.391,
          4.8180000000000005,
          1.69,
          5.353,
          2.6,
          2.774,
          1.83,
          1.98,
          2.184,
          4.164,
          5.799,
          1.758,
          1.37,
          4.33,
          null,
          1.38,
          2.299,
          2.301,
          2.562,
          3.664,
          5.575,
          5.267,
          2.787,
          3.579,
          3.039,
          1.028,
          1.32,
          2.09,
          2.826,
          2.497,
          1.788,
          4.623,
          2.01,
          null,
          2.9,
          1.4,
          2.289,
          1.34,
          3.613,
          2.5,
          4.825,
          3.883,
          2.005,
          1.25,
          2.43,
          2.525,
          2.7,
          3.511,
          1.54,
          1.6269999999999998,
          3.412,
          5.277,
          2.65,
          1.42,
          1.36,
          1.61,
          0.909,
          1.479,
          4.87,
          5.823,
          2.093,
          2.261,
          6.718999999999999,
          1.35,
          4.5,
          5.002,
          1.74,
          2.447,
          3.661,
          1.242,
          null,
          2.324,
          1.82,
          2.48,
          5.674,
          2.585,
          3.616,
          null,
          3.012,
          1.72,
          2.2,
          2.18,
          2.571,
          7.688,
          5.93,
          null,
          1.9,
          2.892,
          3.98,
          null,
          2.541,
          4.157,
          2.907,
          2.616,
          3.324,
          1.31,
          1.35,
          1.6505,
          2.312,
          1.45,
          1.41,
          4.895,
          4.45,
          null,
          4.927,
          3.16,
          5.1770000000000005,
          1.38,
          2.24,
          5.565,
          1.29,
          1.5,
          1.27,
          1.38,
          4.412,
          7.14,
          2.58,
          5.638,
          1.38,
          2.274,
          null,
          2.022,
          1.82,
          2.131,
          4.873,
          2.553,
          3.761,
          1.88,
          1.46,
          3.238,
          3.495,
          5.585,
          1.557,
          5.7,
          5.064,
          4.059,
          1.79,
          2.04,
          2.193,
          2.523,
          null,
          null,
          6.424,
          1.345,
          2.004,
          1.86,
          2.12,
          2.126,
          2.55,
          3.679,
          2.562,
          1.911,
          1.97,
          4.627,
          5.18,
          5.9110000000000005,
          4.022
         ],
         "xaxis": "x",
         "y": [
          69.2070082278,
          71.53580442229999,
          74.2523833325,
          66.7168411826,
          73.5846595367,
          72.6378120561,
          72.6919270432,
          80.0997517287,
          74.92140241220001,
          69.42256412520001,
          69.9944489801,
          78.9682102701,
          59.20782178140001,
          56.5766165423,
          79.2386203249,
          70.1729440238,
          67.75917164170001,
          61.2853204195,
          60.089105590200006,
          60.51656342770001,
          73.472904211,
          73.3790228456,
          73.1580129361,
          73.2400064382,
          59.6277315593,
          67.68854263829999,
          56.8013307781,
          65.05949547590001,
          71.4108904527,
          70.8562142383,
          70.8462057183,
          68.7989256332,
          78.2484460493,
          null,
          78.7760227899,
          63.2139229694,
          68.513095791,
          79.0261899061,
          54.4851307308,
          65.22258787310001,
          65.5485167218,
          65.5485167218,
          54.1785518165,
          54.1765429979,
          54.1785518165,
          72.7812540165,
          69.6418542733,
          57.8338292683,
          76.4702926829,
          72.8983658537,
          null,
          null,
          49.43573170729999,
          74.8032195122,
          75.0090487805,
          73.7646585366,
          74.5267560976,
          81.2926829268,
          80.1804878049,
          69.7565121951,
          74.0594634146,
          75.7077560976,
          68.85997560979999,
          74.3564146341,
          70.2034146341,
          79.78292682930001,
          69.452,
          57.867390243900005,
          78.9341463415,
          66.29309756100001,
          64.6941219512,
          75.3714878049,
          59.0745609756,
          72.4148292683,
          null,
          76.6755609756,
          72.6634146341,
          55.188804878,
          53.4560731707,
          72.0993658537,
          64.5523414634,
          52.4791463415,
          80.6343902439,
          null,
          45.687390243900005,
          48.5592195122,
          79.41080487800001,
          79.3135365854,
          74.3404390244,
          72.7055121951,
          60.7123414634,
          55.0644146341,
          55.8013170732,
          78.33031707319999,
          48.7788292683,
          75.7056097561,
          78.44919512199999,
          75.3634146341,
          78.8685121951,
          76.7243902439,
          78.1951219512,
          58.8293414634,
          null,
          72.1313170732,
          74.4950243902,
          69.78229268289999,
          70.7804634146,
          54.5163170732,
          59.6694146341,
          72.8146341463,
          58.408,
          79.8365853659,
          68.8434146341,
          79.2634146341,
          81.112195122,
          74.8919756098,
          60.3927804878,
          58.5694390244,
          73.4210243902,
          79.53414634149999,
          59.6358536585,
          null,
          79.4390243902,
          69.98268292680001,
          71.8447560976,
          77.3074146341,
          70.1107804878,
          53.9994878049,
          52.8554634146,
          65.7797560976,
          59.9773902439,
          71.8587317073,
          82.3268292683,
          73.1512195122,
          81.4536585366,
          65.30043902439999,
          67.5677317073,
          72.674195122,
          68.19902439020001,
          79.6414634146,
          null,
          80.5048780488,
          81.4341463415,
          74.0092926829,
          82.5070731707,
          72.9611707317,
          66.5048780488,
          55.6992926829,
          64.98075609760001,
          68.376195122,
          79.3495121951,
          69.1975609756,
          73.81,
          67.8951219512,
          62.827268292700005,
          71.0195121951,
          77.615902439,
          44.8822195122,
          57.191195122,
          71.7386341463,
          81.2951219512,
          70.9,
          79.3829268293,
          79.0562439024,
          74.3229512195,
          62.053,
          51.5124878049,
          73.81826829270001,
          75.3997073171,
          54.2619268293,
          79.7926829268,
          null,
          61.1397317073,
          72.5707317073,
          75.5879268293,
          68.2204878049,
          68.20990243899999,
          null,
          66.06817073170001,
          74.04063414630001,
          71.2776341463,
          51.622097561,
          64.0936829268,
          58.780804878000005,
          null,
          66.5519268293,
          80.0975609756,
          75.9463414634,
          80.1512195122,
          72.5716585366,
          55.4550243902,
          49.8081463415,
          null,
          80.3951219512,
          75.1236097561,
          64.3387317073,
          null,
          76.3144634146,
          61.3114146341,
          71.6948292683,
          72.9969512195,
          67.47902439020001,
          75.243902439,
          78.3219512195,
          78.4258536585,
          77.28685365850001,
          72.5658536585,
          67.49756097560001,
          57.946000000000005,
          71.5607804878,
          82.506097561,
          65.188,
          73.34507317069999,
          61.7841707317,
          73.6317073171,
          73.1926829268,
          45.4883658537,
          80.4414634146,
          74.543902439,
          74.2073170732,
          78.5609756098,
          66.266804878,
          53.0186585366,
          51.9965121951,
          52.0878536585,
          80.8731707317,
          74.1941219512,
          null,
          73.7118536585,
          78.2219512195,
          71.6994146341,
          60.7008780488,
          69.47907317069999,
          46.772390243900006,
          80.9,
          81.7414634146,
          74.2460731707,
          67.2074878049,
          58.0777804878,
          72.87443902439999,
          65.82419512199999,
          55.4334390244,
          71.737,
          69.2596585366,
          74.2024390244,
          73.1770731707,
          64.6388292683,
          null,
          null,
          53.6541463415,
          68.222195122,
          76.1111707317,
          79.4487804878,
          77.987804878,
          75.9510243902,
          67.5312195122,
          69.9487317073,
          73.38890243899999,
          74.48385365850001,
          78.8243902439,
          71.74704878050001,
          61.954804878,
          52.4771463415,
          44.1777560976
         ],
         "yaxis": "y"
        },
        {
         "hoverinfo": "skip",
         "marker": {
          "line": {
           "width": 4
          },
          "size": 14,
          "symbol": "circle-open"
         },
         "mode": "markers",
         "name": "Morocco",
         "type": "scatter",
         "x": [
          2.48
         ],
         "y": [
          71.2776341463
         ]
        },
        {
         "hoverinfo": "skip",
         "marker": {
          "line": {
           "width": 4
          },
          "size": 14,
          "symbol": "circle-open"
         },
         "mode": "markers",
         "name": "Antigua and Barbuda",
         "type": "scatter",
         "x": [
          2.1830000000000003
         ],
         "y": [
          74.8032195122
         ]
        },
        {
         "hoverinfo": "skip",
         "marker": {
          "line": {
           "width": 4
          },
          "size": 14,
          "symbol": "circle-open"
         },
         "mode": "markers",
         "name": "Bhutan",
         "type": "scatter",
         "x": [
          2.636
         ],
         "y": [
          66.29309756100001
         ]
        },
        {
         "hoverinfo": "skip",
         "marker": {
          "line": {
           "width": 4
          },
          "size": 14,
          "symbol": "circle-open"
         },
         "mode": "markers",
         "name": "Oman",
         "type": "scatter",
         "x": [
          2.892
         ],
         "y": [
          75.1236097561
         ]
        },
        {
         "hoverinfo": "skip",
         "marker": {
          "line": {
           "width": 4
          },
          "size": 14,
          "symbol": "circle-open"
         },
         "mode": "markers",
         "name": "United Kingdom",
         "type": "scatter",
         "x": [
          1.86
         ],
         "y": [
          79.4487804878
         ]
        },
        {
         "hoverinfo": "skip",
         "marker": {
          "line": {
           "width": 4
          },
          "size": 14,
          "symbol": "circle-open"
         },
         "mode": "markers",
         "name": "Lesotho",
         "type": "scatter",
         "x": [
          3.412
         ],
         "y": [
          44.8822195122
         ]
        },
        {
         "hoverinfo": "skip",
         "marker": {
          "line": {
           "width": 4
          },
          "size": 14,
          "symbol": "circle-open"
         },
         "mode": "markers",
         "name": "Swaziland",
         "type": "scatter",
         "x": [
          3.761
         ],
         "y": [
          46.772390243900006
         ]
        },
        {
         "hoverinfo": "skip",
         "marker": {
          "line": {
           "width": 4
          },
          "size": 14,
          "symbol": "circle-open"
         },
         "mode": "markers",
         "name": "South Africa",
         "type": "scatter",
         "x": [
          2.58
         ],
         "y": [
          51.9965121951
         ]
        },
        {
         "hoverinfo": "skip",
         "marker": {
          "line": {
           "width": 4
          },
          "size": 14,
          "symbol": "circle-open"
         },
         "mode": "markers",
         "name": "Botswana",
         "type": "scatter",
         "x": [
          2.9210000000000003
         ],
         "y": [
          59.0745609756
         ]
        },
        {
         "hoverinfo": "skip",
         "marker": {
          "line": {
           "width": 4
          },
          "size": 14,
          "symbol": "circle-open"
         },
         "mode": "markers",
         "name": "Timor-Leste",
         "type": "scatter",
         "x": [
          5.7
         ],
         "y": [
          65.82419512199999
         ]
        },
        {
         "hoverinfo": "skip",
         "marker": {
          "line": {
           "width": 4
          },
          "size": 14,
          "symbol": "circle-open"
         },
         "mode": "markers",
         "name": "Sao Tome and Principe",
         "type": "scatter",
         "x": [
          4.927
         ],
         "y": [
          65.188
         ]
        },
        {
         "hoverinfo": "skip",
         "marker": {
          "line": {
           "width": 4
          },
          "size": 14,
          "symbol": "circle-open"
         },
         "mode": "markers",
         "name": "Iraq",
         "type": "scatter",
         "x": [
          4.623
         ],
         "y": [
          68.19902439020001
         ]
        },
        {
         "hoverinfo": "skip",
         "marker": {
          "line": {
           "width": 4
          },
          "size": 14,
          "symbol": "circle-open"
         },
         "mode": "markers",
         "name": "Solomon Islands",
         "type": "scatter",
         "x": [
          4.412
         ],
         "y": [
          66.266804878
         ]
        },
        {
         "hoverinfo": "skip",
         "marker": {
          "line": {
           "width": 4
          },
          "size": 14,
          "symbol": "circle-open"
         },
         "mode": "markers",
         "name": "Tonga",
         "type": "scatter",
         "x": [
          4.059
         ],
         "y": [
          71.737
         ]
        },
        {
         "hoverinfo": "skip",
         "marker": {
          "line": {
           "width": 4
          },
          "size": 14,
          "symbol": "circle-open"
         },
         "mode": "markers",
         "name": "Jordan",
         "type": "scatter",
         "x": [
          3.613
         ],
         "y": [
          72.9611707317
         ]
        },
        {
         "hoverinfo": "skip",
         "marker": {
          "line": {
           "width": 4
          },
          "size": 14,
          "symbol": "circle-open"
         },
         "mode": "markers",
         "name": "Honduras",
         "type": "scatter",
         "x": [
          3.039
         ],
         "y": [
          71.8587317073
         ]
        },
        {
         "hoverinfo": "skip",
         "marker": {
          "line": {
           "width": 4
          },
          "size": 14,
          "symbol": "circle-open"
         },
         "mode": "markers",
         "name": "Azerbaijan",
         "type": "scatter",
         "x": [
          1.97
         ],
         "y": [
          69.7565121951
         ]
        },
        {
         "hoverinfo": "skip",
         "marker": {
          "line": {
           "width": 4
          },
          "size": 14,
          "symbol": "circle-open"
         },
         "mode": "markers",
         "name": "Central Europe and the Baltics",
         "type": "scatter",
         "x": [
          1.3811333131
         ],
         "y": [
          74.2523833325
         ]
        },
        {
         "hoverinfo": "skip",
         "marker": {
          "line": {
           "width": 4
          },
          "size": 14,
          "symbol": "circle-open"
         },
         "mode": "markers",
         "name": "Fragile and conflict affected situations",
         "type": "scatter",
         "x": [
          4.87413631573
         ],
         "y": [
          59.20782178140001
         ]
        },
        {
         "hoverinfo": "skip",
         "marker": {
          "line": {
           "width": 4
          },
          "size": 14,
          "symbol": "circle-open"
         },
         "mode": "markers",
         "name": "Angola",
         "type": "scatter",
         "x": [
          6.619
         ],
         "y": [
          49.43573170729999
         ]
        }
       ],
       "layout": {
        "autosize": true,
        "hovermode": "closest",
        "legend": {
         "tracegroupgap": 0
        },
        "margin": {
         "b": 20,
         "l": 20,
         "r": 20,
         "t": 1000
        },
        "template": {},
        "xaxis": {
         "anchor": "y",
         "autorange": true,
         "domain": [
          0,
          1
         ],
         "range": [
          0.4164371921182266,
          8.180562807881774
         ],
         "showgrid": false,
         "showticklabels": false,
         "title": {
          "text": "Fertility rate, total (births per woman)"
         },
         "type": "linear",
         "zeroline": false
        },
        "yaxis": {
         "anchor": "x",
         "autorange": true,
         "domain": [
          0,
          1
         ],
         "range": [
          44.1777560976,
          82.5070731707
         ],
         "showgrid": false,
         "showticklabels": false,
         "title": {
          "text": "Life expectancy at birth, total (years)"
         },
         "type": "linear",
         "zeroline": false
        }
       }
      },
      "image/png": "[encoded data removed]",
      "text/html": [
       "<div>                            <div id=\"f58fa34a-52fc-40d2-b927-38c8f37bf6fb\" class=\"plotly-graph-div\" style=\"height:525px; width:100%;\"></div>            <script type=\"text/javascript\">                require([\"plotly\"], function(Plotly) {                    window.PLOTLYENV=window.PLOTLYENV || {};                                    if (document.getElementById(\"f58fa34a-52fc-40d2-b927-38c8f37bf6fb\")) {                    Plotly.newPlot(                        \"f58fa34a-52fc-40d2-b927-38c8f37bf6fb\",                        [{\"customdata\":[\"Arab World\",\"Caribbean small states\",\"Central Europe and the Baltics\",\"Early-demographic dividend\",\"East Asia & Pacific\",\"East Asia & Pacific (excluding high income)\",\"East Asia & Pacific (IDA & IBRD countries)\",\"Euro area\",\"Europe & Central Asia\",\"Europe & Central Asia (excluding high income)\",\"Europe & Central Asia (IDA & IBRD countries)\",\"European Union\",\"Fragile and conflict affected situations\",\"Heavily indebted poor countries (HIPC)\",\"High income\",\"IBRD only\",\"IDA & IBRD total\",\"IDA blend\",\"IDA only\",\"IDA total\",\"Late-demographic dividend\",\"Latin America & Caribbean\",\"Latin America & Caribbean (excluding high income)\",\"Latin America & the Caribbean (IDA & IBRD countries)\",\"Least developed countries: UN classification\",\"Low & middle income\",\"Low income\",\"Lower middle income\",\"Middle East & North Africa\",\"Middle East & North Africa (excluding high income)\",\"Middle East & North Africa (IDA & IBRD countries)\",\"Middle income\",\"North America\",\"Not classified\",\"OECD members\",\"Other small states\",\"Pacific island small states\",\"Post-demographic dividend\",\"Pre-demographic dividend\",\"Small states\",\"South Asia\",\"South Asia (IDA & IBRD)\",\"Sub-Saharan Africa\",\"Sub-Saharan Africa (excluding high income)\",\"Sub-Saharan Africa (IDA & IBRD countries)\",\"Upper middle income\",\"World\",\"Afghanistan\",\"Albania\",\"Algeria\",\"American Samoa\",\"Andorra\",\"Angola\",\"Antigua and Barbuda\",\"Argentina\",\"Armenia\",\"Aruba\",\"Australia\",\"Austria\",\"Azerbaijan\",\"Bahamas, The\",\"Bahrain\",\"Bangladesh\",\"Barbados\",\"Belarus\",\"Belgium\",\"Belize\",\"Benin\",\"Bermuda\",\"Bhutan\",\"Bolivia\",\"Bosnia and Herzegovina\",\"Botswana\",\"Brazil\",\"British Virgin Islands\",\"Brunei Darussalam\",\"Bulgaria\",\"Burkina Faso\",\"Burundi\",\"Cabo Verde\",\"Cambodia\",\"Cameroon\",\"Canada\",\"Cayman Islands\",\"Central African Republic\",\"Chad\",\"Channel Islands\",\"Chile\",\"China\",\"Colombia\",\"Comoros\",\"Congo, Dem. Rep.\",\"Congo, Rep.\",\"Costa Rica\",\"Cote d'Ivoire\",\"Croatia\",\"Cuba\",\"Curacao\",\"Cyprus\",\"Czech Republic\",\"Denmark\",\"Djibouti\",\"Dominica\",\"Dominican Republic\",\"Ecuador\",\"Egypt, Arab Rep.\",\"El Salvador\",\"Equatorial Guinea\",\"Eritrea\",\"Estonia\",\"Ethiopia\",\"Faroe Islands\",\"Fiji\",\"Finland\",\"France\",\"French Polynesia\",\"Gabon\",\"Gambia, The\",\"Georgia\",\"Germany\",\"Ghana\",\"Gibraltar\",\"Greece\",\"Greenland\",\"Grenada\",\"Guam\",\"Guatemala\",\"Guinea\",\"Guinea-Bissau\",\"Guyana\",\"Haiti\",\"Honduras\",\"Hong Kong SAR, China\",\"Hungary\",\"Iceland\",\"India\",\"Indonesia\",\"Iran, Islamic Rep.\",\"Iraq\",\"Ireland\",\"Isle of Man\",\"Israel\",\"Italy\",\"Jamaica\",\"Japan\",\"Jordan\",\"Kazakhstan\",\"Kenya\",\"Kiribati\",\"Korea, Dem. People\\ufffds Rep.\",\"Korea, Rep.\",\"Kosovo\",\"Kuwait\",\"Kyrgyz Republic\",\"Lao PDR\",\"Latvia\",\"Lebanon\",\"Lesotho\",\"Liberia\",\"Libya\",\"Liechtenstein\",\"Lithuania\",\"Luxembourg\",\"Macao SAR, China\",\"Macedonia, FYR\",\"Madagascar\",\"Malawi\",\"Malaysia\",\"Maldives\",\"Mali\",\"Malta\",\"Marshall Islands\",\"Mauritania\",\"Mauritius\",\"Mexico\",\"Micronesia, Fed. Sts.\",\"Moldova\",\"Monaco\",\"Mongolia\",\"Montenegro\",\"Morocco\",\"Mozambique\",\"Myanmar\",\"Namibia\",\"Nauru\",\"Nepal\",\"Netherlands\",\"New Caledonia\",\"New Zealand\",\"Nicaragua\",\"Niger\",\"Nigeria\",\"Northern Mariana Islands\",\"Norway\",\"Oman\",\"Pakistan\",\"Palau\",\"Panama\",\"Papua New Guinea\",\"Paraguay\",\"Peru\",\"Philippines\",\"Poland\",\"Portugal\",\"Puerto Rico\",\"Qatar\",\"Romania\",\"Russian Federation\",\"Rwanda\",\"Samoa\",\"San Marino\",\"Sao Tome and Principe\",\"Saudi Arabia\",\"Senegal\",\"Serbia\",\"Seychelles\",\"Sierra Leone\",\"Singapore\",\"Sint Maarten (Dutch part)\",\"Slovak Republic\",\"Slovenia\",\"Solomon Islands\",\"Somalia\",\"South Africa\",\"South Sudan\",\"Spain\",\"Sri Lanka\",\"St. Kitts and Nevis\",\"St. Lucia\",\"St. Martin (French part)\",\"St. Vincent and the Grenadines\",\"Sudan\",\"Suriname\",\"Swaziland\",\"Sweden\",\"Switzerland\",\"Syrian Arab Republic\",\"Tajikistan\",\"Tanzania\",\"Thailand\",\"Timor-Leste\",\"Togo\",\"Tonga\",\"Trinidad and Tobago\",\"Tunisia\",\"Turkey\",\"Turkmenistan\",\"Turks and Caicos Islands\",\"Tuvalu\",\"Uganda\",\"Ukraine\",\"United Arab Emirates\",\"United Kingdom\",\"United States\",\"Uruguay\",\"Uzbekistan\",\"Vanuatu\",\"Venezuela, RB\",\"Vietnam\",\"Virgin Islands\",\"West Bank and Gaza\",\"Yemen, Rep.\",\"Zambia\",\"Zimbabwe\"],\"hovertemplate\":\"<b>%{hovertext}</b><br><br>x=%{x}<br>y=%{y}<extra></extra>\",\"hovertext\":[\"Arab World\",\"Caribbean small states\",\"Central Europe and the Baltics\",\"Early-demographic dividend\",\"East Asia & Pacific\",\"East Asia & Pacific (excluding high income)\",\"East Asia & Pacific (IDA & IBRD countries)\",\"Euro area\",\"Europe & Central Asia\",\"Europe & Central Asia (excluding high income)\",\"Europe & Central Asia (IDA & IBRD countries)\",\"European Union\",\"Fragile and conflict affected situations\",\"Heavily indebted poor countries (HIPC)\",\"High income\",\"IBRD only\",\"IDA & IBRD total\",\"IDA blend\",\"IDA only\",\"IDA total\",\"Late-demographic dividend\",\"Latin America & Caribbean\",\"Latin America & Caribbean (excluding high income)\",\"Latin America & the Caribbean (IDA & IBRD countries)\",\"Least developed countries: UN classification\",\"Low & middle income\",\"Low income\",\"Lower middle income\",\"Middle East & North Africa\",\"Middle East & North Africa (excluding high income)\",\"Middle East & North Africa (IDA & IBRD countries)\",\"Middle income\",\"North America\",\"Not classified\",\"OECD members\",\"Other small states\",\"Pacific island small states\",\"Post-demographic dividend\",\"Pre-demographic dividend\",\"Small states\",\"South Asia\",\"South Asia (IDA & IBRD)\",\"Sub-Saharan Africa\",\"Sub-Saharan Africa (excluding high income)\",\"Sub-Saharan Africa (IDA & IBRD countries)\",\"Upper middle income\",\"World\",\"Afghanistan\",\"Albania\",\"Algeria\",\"American Samoa\",\"Andorra\",\"Angola\",\"Antigua and Barbuda\",\"Argentina\",\"Armenia\",\"Aruba\",\"Australia\",\"Austria\",\"Azerbaijan\",\"Bahamas, The\",\"Bahrain\",\"Bangladesh\",\"Barbados\",\"Belarus\",\"Belgium\",\"Belize\",\"Benin\",\"Bermuda\",\"Bhutan\",\"Bolivia\",\"Bosnia and Herzegovina\",\"Botswana\",\"Brazil\",\"British Virgin Islands\",\"Brunei Darussalam\",\"Bulgaria\",\"Burkina Faso\",\"Burundi\",\"Cabo Verde\",\"Cambodia\",\"Cameroon\",\"Canada\",\"Cayman Islands\",\"Central African Republic\",\"Chad\",\"Channel Islands\",\"Chile\",\"China\",\"Colombia\",\"Comoros\",\"Congo, Dem. Rep.\",\"Congo, Rep.\",\"Costa Rica\",\"Cote d'Ivoire\",\"Croatia\",\"Cuba\",\"Curacao\",\"Cyprus\",\"Czech Republic\",\"Denmark\",\"Djibouti\",\"Dominica\",\"Dominican Republic\",\"Ecuador\",\"Egypt, Arab Rep.\",\"El Salvador\",\"Equatorial Guinea\",\"Eritrea\",\"Estonia\",\"Ethiopia\",\"Faroe Islands\",\"Fiji\",\"Finland\",\"France\",\"French Polynesia\",\"Gabon\",\"Gambia, The\",\"Georgia\",\"Germany\",\"Ghana\",\"Gibraltar\",\"Greece\",\"Greenland\",\"Grenada\",\"Guam\",\"Guatemala\",\"Guinea\",\"Guinea-Bissau\",\"Guyana\",\"Haiti\",\"Honduras\",\"Hong Kong SAR, China\",\"Hungary\",\"Iceland\",\"India\",\"Indonesia\",\"Iran, Islamic Rep.\",\"Iraq\",\"Ireland\",\"Isle of Man\",\"Israel\",\"Italy\",\"Jamaica\",\"Japan\",\"Jordan\",\"Kazakhstan\",\"Kenya\",\"Kiribati\",\"Korea, Dem. People\\ufffds Rep.\",\"Korea, Rep.\",\"Kosovo\",\"Kuwait\",\"Kyrgyz Republic\",\"Lao PDR\",\"Latvia\",\"Lebanon\",\"Lesotho\",\"Liberia\",\"Libya\",\"Liechtenstein\",\"Lithuania\",\"Luxembourg\",\"Macao SAR, China\",\"Macedonia, FYR\",\"Madagascar\",\"Malawi\",\"Malaysia\",\"Maldives\",\"Mali\",\"Malta\",\"Marshall Islands\",\"Mauritania\",\"Mauritius\",\"Mexico\",\"Micronesia, Fed. Sts.\",\"Moldova\",\"Monaco\",\"Mongolia\",\"Montenegro\",\"Morocco\",\"Mozambique\",\"Myanmar\",\"Namibia\",\"Nauru\",\"Nepal\",\"Netherlands\",\"New Caledonia\",\"New Zealand\",\"Nicaragua\",\"Niger\",\"Nigeria\",\"Northern Mariana Islands\",\"Norway\",\"Oman\",\"Pakistan\",\"Palau\",\"Panama\",\"Papua New Guinea\",\"Paraguay\",\"Peru\",\"Philippines\",\"Poland\",\"Portugal\",\"Puerto Rico\",\"Qatar\",\"Romania\",\"Russian Federation\",\"Rwanda\",\"Samoa\",\"San Marino\",\"Sao Tome and Principe\",\"Saudi Arabia\",\"Senegal\",\"Serbia\",\"Seychelles\",\"Sierra Leone\",\"Singapore\",\"Sint Maarten (Dutch part)\",\"Slovak Republic\",\"Slovenia\",\"Solomon Islands\",\"Somalia\",\"South Africa\",\"South Sudan\",\"Spain\",\"Sri Lanka\",\"St. Kitts and Nevis\",\"St. Lucia\",\"St. Martin (French part)\",\"St. Vincent and the Grenadines\",\"Sudan\",\"Suriname\",\"Swaziland\",\"Sweden\",\"Switzerland\",\"Syrian Arab Republic\",\"Tajikistan\",\"Tanzania\",\"Thailand\",\"Timor-Leste\",\"Togo\",\"Tonga\",\"Trinidad and Tobago\",\"Tunisia\",\"Turkey\",\"Turkmenistan\",\"Turks and Caicos Islands\",\"Tuvalu\",\"Uganda\",\"Ukraine\",\"United Arab Emirates\",\"United Kingdom\",\"United States\",\"Uruguay\",\"Uzbekistan\",\"Vanuatu\",\"Venezuela, RB\",\"Vietnam\",\"Virgin Islands\",\"West Bank and Gaza\",\"Yemen, Rep.\",\"Zambia\",\"Zimbabwe\"],\"legendgroup\":\"\",\"marker\":{\"color\":\"#636efa\",\"symbol\":\"circle\"},\"mode\":\"markers\",\"name\":\"\",\"orientation\":\"v\",\"showlegend\":false,\"x\":[3.44313489066,2.22844165639,1.3811333131,2.90596039932,1.76832751634,1.80456167471,1.80209777036,1.53952935146,1.6594971770299998,1.76185354991,1.7217274046400002,1.55812153835,4.87413631573,5.55855626904,1.7492582895900002,2.17652232396,2.67862304206,3.95472956311,4.56468888096,4.34069763164,1.63992654112,2.29552527219,2.31475439366,2.31356901941,4.68288237273,2.6874012563200003,5.42389441035,3.09311728284,2.85080724262,2.84474897181,2.8276172614200004,2.44695492861,2.07368988337,null,1.82197807725,3.36180880859,3.55098136137,1.68742616805,5.792160923080001,3.12933094448,2.9561871119200003,2.9561871119200003,5.42080805629,5.42121681314,5.42080805629,1.81451647085,2.54274186063,6.437,1.635,2.661,null,1.18,6.619,2.1830000000000003,2.4130000000000003,1.726,1.741,1.959,1.38,1.97,1.877,2.292,2.521,1.768,1.37,1.82,2.893,5.365,1.76,2.636,3.427,1.253,2.9210000000000003,1.944,null,1.982,1.49,6.1160000000000005,6.566,2.665,3.0860000000000003,5.235,1.6589,null,4.902,6.901,1.42,1.887,1.526,2.1180000000000003,4.927,6.646,5.063,2.006,5.392,1.48,1.636,2.0,1.504,1.45,1.84,3.744,null,2.687,2.736,3.016,2.253,5.391,4.8180000000000005,1.69,5.353,2.6,2.774,1.83,1.98,2.184,4.164,5.799,1.758,1.37,4.33,null,1.38,2.299,2.301,2.562,3.664,5.575,5.267,2.787,3.579,3.039,1.028,1.32,2.09,2.826,2.497,1.788,4.623,2.01,null,2.9,1.4,2.289,1.34,3.613,2.5,4.825,3.883,2.005,1.25,2.43,2.525,2.7,3.511,1.54,1.6269999999999998,3.412,5.277,2.65,1.42,1.36,1.61,0.909,1.479,4.87,5.823,2.093,2.261,6.718999999999999,1.35,4.5,5.002,1.74,2.447,3.661,1.242,null,2.324,1.82,2.48,5.674,2.585,3.616,null,3.012,1.72,2.2,2.18,2.571,7.688,5.93,null,1.9,2.892,3.98,null,2.541,4.157,2.907,2.616,3.324,1.31,1.35,1.6505,2.312,1.45,1.41,4.895,4.45,null,4.927,3.16,5.1770000000000005,1.38,2.24,5.565,1.29,1.5,1.27,1.38,4.412,7.14,2.58,5.638,1.38,2.274,null,2.022,1.82,2.131,4.873,2.553,3.761,1.88,1.46,3.238,3.495,5.585,1.557,5.7,5.064,4.059,1.79,2.04,2.193,2.523,null,null,6.424,1.345,2.004,1.86,2.12,2.126,2.55,3.679,2.562,1.911,1.97,4.627,5.18,5.9110000000000005,4.022],\"xaxis\":\"x\",\"y\":[69.2070082278,71.53580442229999,74.2523833325,66.7168411826,73.5846595367,72.6378120561,72.6919270432,80.0997517287,74.92140241220001,69.42256412520001,69.9944489801,78.9682102701,59.20782178140001,56.5766165423,79.2386203249,70.1729440238,67.75917164170001,61.2853204195,60.089105590200006,60.51656342770001,73.472904211,73.3790228456,73.1580129361,73.2400064382,59.6277315593,67.68854263829999,56.8013307781,65.05949547590001,71.4108904527,70.8562142383,70.8462057183,68.7989256332,78.2484460493,null,78.7760227899,63.2139229694,68.513095791,79.0261899061,54.4851307308,65.22258787310001,65.5485167218,65.5485167218,54.1785518165,54.1765429979,54.1785518165,72.7812540165,69.6418542733,57.8338292683,76.4702926829,72.8983658537,null,null,49.43573170729999,74.8032195122,75.0090487805,73.7646585366,74.5267560976,81.2926829268,80.1804878049,69.7565121951,74.0594634146,75.7077560976,68.85997560979999,74.3564146341,70.2034146341,79.78292682930001,69.452,57.867390243900005,78.9341463415,66.29309756100001,64.6941219512,75.3714878049,59.0745609756,72.4148292683,null,76.6755609756,72.6634146341,55.188804878,53.4560731707,72.0993658537,64.5523414634,52.4791463415,80.6343902439,null,45.687390243900005,48.5592195122,79.41080487800001,79.3135365854,74.3404390244,72.7055121951,60.7123414634,55.0644146341,55.8013170732,78.33031707319999,48.7788292683,75.7056097561,78.44919512199999,75.3634146341,78.8685121951,76.7243902439,78.1951219512,58.8293414634,null,72.1313170732,74.4950243902,69.78229268289999,70.7804634146,54.5163170732,59.6694146341,72.8146341463,58.408,79.8365853659,68.8434146341,79.2634146341,81.112195122,74.8919756098,60.3927804878,58.5694390244,73.4210243902,79.53414634149999,59.6358536585,null,79.4390243902,69.98268292680001,71.8447560976,77.3074146341,70.1107804878,53.9994878049,52.8554634146,65.7797560976,59.9773902439,71.8587317073,82.3268292683,73.1512195122,81.4536585366,65.30043902439999,67.5677317073,72.674195122,68.19902439020001,79.6414634146,null,80.5048780488,81.4341463415,74.0092926829,82.5070731707,72.9611707317,66.5048780488,55.6992926829,64.98075609760001,68.376195122,79.3495121951,69.1975609756,73.81,67.8951219512,62.827268292700005,71.0195121951,77.615902439,44.8822195122,57.191195122,71.7386341463,81.2951219512,70.9,79.3829268293,79.0562439024,74.3229512195,62.053,51.5124878049,73.81826829270001,75.3997073171,54.2619268293,79.7926829268,null,61.1397317073,72.5707317073,75.5879268293,68.2204878049,68.20990243899999,null,66.06817073170001,74.04063414630001,71.2776341463,51.622097561,64.0936829268,58.780804878000005,null,66.5519268293,80.0975609756,75.9463414634,80.1512195122,72.5716585366,55.4550243902,49.8081463415,null,80.3951219512,75.1236097561,64.3387317073,null,76.3144634146,61.3114146341,71.6948292683,72.9969512195,67.47902439020001,75.243902439,78.3219512195,78.4258536585,77.28685365850001,72.5658536585,67.49756097560001,57.946000000000005,71.5607804878,82.506097561,65.188,73.34507317069999,61.7841707317,73.6317073171,73.1926829268,45.4883658537,80.4414634146,74.543902439,74.2073170732,78.5609756098,66.266804878,53.0186585366,51.9965121951,52.0878536585,80.8731707317,74.1941219512,null,73.7118536585,78.2219512195,71.6994146341,60.7008780488,69.47907317069999,46.772390243900006,80.9,81.7414634146,74.2460731707,67.2074878049,58.0777804878,72.87443902439999,65.82419512199999,55.4334390244,71.737,69.2596585366,74.2024390244,73.1770731707,64.6388292683,null,null,53.6541463415,68.222195122,76.1111707317,79.4487804878,77.987804878,75.9510243902,67.5312195122,69.9487317073,73.38890243899999,74.48385365850001,78.8243902439,71.74704878050001,61.954804878,52.4771463415,44.1777560976],\"yaxis\":\"y\",\"type\":\"scatter\"},{\"hoverinfo\":\"skip\",\"marker\":{\"line\":{\"width\":4},\"size\":14,\"symbol\":\"circle-open\"},\"mode\":\"markers\",\"name\":\"Morocco\",\"x\":[2.48],\"y\":[71.2776341463],\"type\":\"scatter\"},{\"hoverinfo\":\"skip\",\"marker\":{\"line\":{\"width\":4},\"size\":14,\"symbol\":\"circle-open\"},\"mode\":\"markers\",\"name\":\"Antigua and Barbuda\",\"x\":[2.1830000000000003],\"y\":[74.8032195122],\"type\":\"scatter\"},{\"hoverinfo\":\"skip\",\"marker\":{\"line\":{\"width\":4},\"size\":14,\"symbol\":\"circle-open\"},\"mode\":\"markers\",\"name\":\"Bhutan\",\"x\":[2.636],\"y\":[66.29309756100001],\"type\":\"scatter\"},{\"hoverinfo\":\"skip\",\"marker\":{\"line\":{\"width\":4},\"size\":14,\"symbol\":\"circle-open\"},\"mode\":\"markers\",\"name\":\"Oman\",\"x\":[2.892],\"y\":[75.1236097561],\"type\":\"scatter\"},{\"hoverinfo\":\"skip\",\"marker\":{\"line\":{\"width\":4},\"size\":14,\"symbol\":\"circle-open\"},\"mode\":\"markers\",\"name\":\"United Kingdom\",\"x\":[1.86],\"y\":[79.4487804878],\"type\":\"scatter\"},{\"hoverinfo\":\"skip\",\"marker\":{\"line\":{\"width\":4},\"size\":14,\"symbol\":\"circle-open\"},\"mode\":\"markers\",\"name\":\"Lesotho\",\"x\":[3.412],\"y\":[44.8822195122],\"type\":\"scatter\"},{\"hoverinfo\":\"skip\",\"marker\":{\"line\":{\"width\":4},\"size\":14,\"symbol\":\"circle-open\"},\"mode\":\"markers\",\"name\":\"Swaziland\",\"x\":[3.761],\"y\":[46.772390243900006],\"type\":\"scatter\"},{\"hoverinfo\":\"skip\",\"marker\":{\"line\":{\"width\":4},\"size\":14,\"symbol\":\"circle-open\"},\"mode\":\"markers\",\"name\":\"South Africa\",\"x\":[2.58],\"y\":[51.9965121951],\"type\":\"scatter\"},{\"hoverinfo\":\"skip\",\"marker\":{\"line\":{\"width\":4},\"size\":14,\"symbol\":\"circle-open\"},\"mode\":\"markers\",\"name\":\"Botswana\",\"x\":[2.9210000000000003],\"y\":[59.0745609756],\"type\":\"scatter\"},{\"hoverinfo\":\"skip\",\"marker\":{\"line\":{\"width\":4},\"size\":14,\"symbol\":\"circle-open\"},\"mode\":\"markers\",\"name\":\"Timor-Leste\",\"x\":[5.7],\"y\":[65.82419512199999],\"type\":\"scatter\"},{\"hoverinfo\":\"skip\",\"marker\":{\"line\":{\"width\":4},\"size\":14,\"symbol\":\"circle-open\"},\"mode\":\"markers\",\"name\":\"Sao Tome and Principe\",\"x\":[4.927],\"y\":[65.188],\"type\":\"scatter\"},{\"hoverinfo\":\"skip\",\"marker\":{\"line\":{\"width\":4},\"size\":14,\"symbol\":\"circle-open\"},\"mode\":\"markers\",\"name\":\"Iraq\",\"x\":[4.623],\"y\":[68.19902439020001],\"type\":\"scatter\"},{\"hoverinfo\":\"skip\",\"marker\":{\"line\":{\"width\":4},\"size\":14,\"symbol\":\"circle-open\"},\"mode\":\"markers\",\"name\":\"Solomon Islands\",\"x\":[4.412],\"y\":[66.266804878],\"type\":\"scatter\"},{\"hoverinfo\":\"skip\",\"marker\":{\"line\":{\"width\":4},\"size\":14,\"symbol\":\"circle-open\"},\"mode\":\"markers\",\"name\":\"Tonga\",\"x\":[4.059],\"y\":[71.737],\"type\":\"scatter\"},{\"hoverinfo\":\"skip\",\"marker\":{\"line\":{\"width\":4},\"size\":14,\"symbol\":\"circle-open\"},\"mode\":\"markers\",\"name\":\"Jordan\",\"x\":[3.613],\"y\":[72.9611707317],\"type\":\"scatter\"},{\"hoverinfo\":\"skip\",\"marker\":{\"line\":{\"width\":4},\"size\":14,\"symbol\":\"circle-open\"},\"mode\":\"markers\",\"name\":\"Honduras\",\"x\":[3.039],\"y\":[71.8587317073],\"type\":\"scatter\"},{\"hoverinfo\":\"skip\",\"marker\":{\"line\":{\"width\":4},\"size\":14,\"symbol\":\"circle-open\"},\"mode\":\"markers\",\"name\":\"Azerbaijan\",\"x\":[1.97],\"y\":[69.7565121951],\"type\":\"scatter\"},{\"hoverinfo\":\"skip\",\"marker\":{\"line\":{\"width\":4},\"size\":14,\"symbol\":\"circle-open\"},\"mode\":\"markers\",\"name\":\"Central Europe and the Baltics\",\"x\":[1.3811333131],\"y\":[74.2523833325],\"type\":\"scatter\"},{\"hoverinfo\":\"skip\",\"marker\":{\"line\":{\"width\":4},\"size\":14,\"symbol\":\"circle-open\"},\"mode\":\"markers\",\"name\":\"Fragile and conflict affected situations\",\"x\":[4.87413631573],\"y\":[59.20782178140001],\"type\":\"scatter\"},{\"hoverinfo\":\"skip\",\"marker\":{\"line\":{\"width\":4},\"size\":14,\"symbol\":\"circle-open\"},\"mode\":\"markers\",\"name\":\"Angola\",\"x\":[6.619],\"y\":[49.43573170729999],\"type\":\"scatter\"}],                        {\"hovermode\":\"closest\",\"legend\":{\"tracegroupgap\":0},\"margin\":{\"b\":20,\"l\":20,\"r\":20,\"t\":1000},\"template\":{},\"xaxis\":{\"anchor\":\"y\",\"domain\":[0.0,1.0],\"title\":{\"text\":\"Fertility rate, total (births per woman)\"},\"type\":\"linear\",\"showgrid\":false,\"showticklabels\":false,\"zeroline\":false},\"yaxis\":{\"anchor\":\"x\",\"domain\":[0.0,1.0],\"title\":{\"text\":\"Life expectancy at birth, total (years)\"},\"type\":\"linear\",\"showgrid\":false,\"showticklabels\":false,\"zeroline\":false}},                        {\"responsive\": true}                    ).then(function(){\n",
       "                            \n",
       "var gd = document.getElementById('f58fa34a-52fc-40d2-b927-38c8f37bf6fb');\n",
       "var x = new MutationObserver(function (mutations, observer) {{\n",
       "        var display = window.getComputedStyle(gd).display;\n",
       "        if (!display || display === 'none') {{\n",
       "            console.log([gd, 'removed!']);\n",
       "            Plotly.purge(gd);\n",
       "            observer.disconnect();\n",
       "        }}\n",
       "}});\n",
       "\n",
       "// Listen for the removal of the full notebook cells\n",
       "var notebookContainer = gd.closest('#notebook-container');\n",
       "if (notebookContainer) {{\n",
       "    x.observe(notebookContainer, {childList: true});\n",
       "}}\n",
       "\n",
       "// Listen for the clearing of the current output cell\n",
       "var outputEl = gd.closest('.output');\n",
       "if (outputEl) {{\n",
       "    x.observe(outputEl, {childList: true});\n",
       "}}\n",
       "\n",
       "                        })                };                });            </script>        </div>"
      ]
     },
     "metadata": {},
     "output_type": "display_data"
    }
   ],
   "source": [
    "fig2 = go.Figure(fig)\n",
    "fig2.update_layout(template = None)\n",
    "fig2.update_xaxes(showgrid = False, showticklabels = False, zeroline=False)\n",
    "fig2.update_yaxes(showgrid = False, showticklabels = False, zeroline=False)\n",
    "# fig2.update_layout(legend = dict(orientation = \"h\"))\n",
    "# fig2.data = ()\n",
    "# fig2.update_traces(visible='legendonly')\n",
    "fig.update_layout(margin=dict(l=20, r=20, t=1000, b=20))\n",
    "fig2.show()"
   ]
  },
  {
   "cell_type": "code",
   "execution_count": 10,
   "id": "8439a54f-1ffb-4a17-b41c-f2d9b01b6e29",
   "metadata": {},
   "outputs": [
    {
     "data": {
      "application/vnd.plotly.v1+json": {
       "config": {
        "plotlyServerURL": "https://plot.ly"
       },
       "data": [
        {
         "customdata": [
          "Arab World",
          "Caribbean small states",
          "Central Europe and the Baltics",
          "Early-demographic dividend",
          "East Asia & Pacific",
          "East Asia & Pacific (excluding high income)",
          "East Asia & Pacific (IDA & IBRD countries)",
          "Euro area",
          "Europe & Central Asia",
          "Europe & Central Asia (excluding high income)",
          "Europe & Central Asia (IDA & IBRD countries)",
          "European Union",
          "Fragile and conflict affected situations",
          "Heavily indebted poor countries (HIPC)",
          "High income",
          "IBRD only",
          "IDA & IBRD total",
          "IDA blend",
          "IDA only",
          "IDA total",
          "Late-demographic dividend",
          "Latin America & Caribbean",
          "Latin America & Caribbean (excluding high income)",
          "Latin America & the Caribbean (IDA & IBRD countries)",
          "Least developed countries: UN classification",
          "Low & middle income",
          "Low income",
          "Lower middle income",
          "Middle East & North Africa",
          "Middle East & North Africa (excluding high income)",
          "Middle East & North Africa (IDA & IBRD countries)",
          "Middle income",
          "North America",
          "Not classified",
          "OECD members",
          "Other small states",
          "Pacific island small states",
          "Post-demographic dividend",
          "Pre-demographic dividend",
          "Small states",
          "South Asia",
          "South Asia (IDA & IBRD)",
          "Sub-Saharan Africa",
          "Sub-Saharan Africa (excluding high income)",
          "Sub-Saharan Africa (IDA & IBRD countries)",
          "Upper middle income",
          "World",
          "Afghanistan",
          "Albania",
          "Algeria",
          "American Samoa",
          "Andorra",
          "Angola",
          "Antigua and Barbuda",
          "Argentina",
          "Armenia",
          "Aruba",
          "Australia",
          "Austria",
          "Azerbaijan",
          "Bahamas, The",
          "Bahrain",
          "Bangladesh",
          "Barbados",
          "Belarus",
          "Belgium",
          "Belize",
          "Benin",
          "Bermuda",
          "Bhutan",
          "Bolivia",
          "Bosnia and Herzegovina",
          "Botswana",
          "Brazil",
          "British Virgin Islands",
          "Brunei Darussalam",
          "Bulgaria",
          "Burkina Faso",
          "Burundi",
          "Cabo Verde",
          "Cambodia",
          "Cameroon",
          "Canada",
          "Cayman Islands",
          "Central African Republic",
          "Chad",
          "Channel Islands",
          "Chile",
          "China",
          "Colombia",
          "Comoros",
          "Congo, Dem. Rep.",
          "Congo, Rep.",
          "Costa Rica",
          "Cote d'Ivoire",
          "Croatia",
          "Cuba",
          "Curacao",
          "Cyprus",
          "Czech Republic",
          "Denmark",
          "Djibouti",
          "Dominica",
          "Dominican Republic",
          "Ecuador",
          "Egypt, Arab Rep.",
          "El Salvador",
          "Equatorial Guinea",
          "Eritrea",
          "Estonia",
          "Ethiopia",
          "Faroe Islands",
          "Fiji",
          "Finland",
          "France",
          "French Polynesia",
          "Gabon",
          "Gambia, The",
          "Georgia",
          "Germany",
          "Ghana",
          "Gibraltar",
          "Greece",
          "Greenland",
          "Grenada",
          "Guam",
          "Guatemala",
          "Guinea",
          "Guinea-Bissau",
          "Guyana",
          "Haiti",
          "Honduras",
          "Hong Kong SAR, China",
          "Hungary",
          "Iceland",
          "India",
          "Indonesia",
          "Iran, Islamic Rep.",
          "Iraq",
          "Ireland",
          "Isle of Man",
          "Israel",
          "Italy",
          "Jamaica",
          "Japan",
          "Jordan",
          "Kazakhstan",
          "Kenya",
          "Kiribati",
          "Korea, Dem. People�s Rep.",
          "Korea, Rep.",
          "Kosovo",
          "Kuwait",
          "Kyrgyz Republic",
          "Lao PDR",
          "Latvia",
          "Lebanon",
          "Lesotho",
          "Liberia",
          "Libya",
          "Liechtenstein",
          "Lithuania",
          "Luxembourg",
          "Macao SAR, China",
          "Macedonia, FYR",
          "Madagascar",
          "Malawi",
          "Malaysia",
          "Maldives",
          "Mali",
          "Malta",
          "Marshall Islands",
          "Mauritania",
          "Mauritius",
          "Mexico",
          "Micronesia, Fed. Sts.",
          "Moldova",
          "Monaco",
          "Mongolia",
          "Montenegro",
          "Morocco",
          "Mozambique",
          "Myanmar",
          "Namibia",
          "Nauru",
          "Nepal",
          "Netherlands",
          "New Caledonia",
          "New Zealand",
          "Nicaragua",
          "Niger",
          "Nigeria",
          "Northern Mariana Islands",
          "Norway",
          "Oman",
          "Pakistan",
          "Palau",
          "Panama",
          "Papua New Guinea",
          "Paraguay",
          "Peru",
          "Philippines",
          "Poland",
          "Portugal",
          "Puerto Rico",
          "Qatar",
          "Romania",
          "Russian Federation",
          "Rwanda",
          "Samoa",
          "San Marino",
          "Sao Tome and Principe",
          "Saudi Arabia",
          "Senegal",
          "Serbia",
          "Seychelles",
          "Sierra Leone",
          "Singapore",
          "Sint Maarten (Dutch part)",
          "Slovak Republic",
          "Slovenia",
          "Solomon Islands",
          "Somalia",
          "South Africa",
          "South Sudan",
          "Spain",
          "Sri Lanka",
          "St. Kitts and Nevis",
          "St. Lucia",
          "St. Martin (French part)",
          "St. Vincent and the Grenadines",
          "Sudan",
          "Suriname",
          "Swaziland",
          "Sweden",
          "Switzerland",
          "Syrian Arab Republic",
          "Tajikistan",
          "Tanzania",
          "Thailand",
          "Timor-Leste",
          "Togo",
          "Tonga",
          "Trinidad and Tobago",
          "Tunisia",
          "Turkey",
          "Turkmenistan",
          "Turks and Caicos Islands",
          "Tuvalu",
          "Uganda",
          "Ukraine",
          "United Arab Emirates",
          "United Kingdom",
          "United States",
          "Uruguay",
          "Uzbekistan",
          "Vanuatu",
          "Venezuela, RB",
          "Vietnam",
          "Virgin Islands",
          "West Bank and Gaza",
          "Yemen, Rep.",
          "Zambia",
          "Zimbabwe"
         ],
         "hovertemplate": "<b>%{hovertext}</b><br><br>x=%{x}<br>y=%{y}<extra></extra>",
         "hovertext": [
          "Arab World",
          "Caribbean small states",
          "Central Europe and the Baltics",
          "Early-demographic dividend",
          "East Asia & Pacific",
          "East Asia & Pacific (excluding high income)",
          "East Asia & Pacific (IDA & IBRD countries)",
          "Euro area",
          "Europe & Central Asia",
          "Europe & Central Asia (excluding high income)",
          "Europe & Central Asia (IDA & IBRD countries)",
          "European Union",
          "Fragile and conflict affected situations",
          "Heavily indebted poor countries (HIPC)",
          "High income",
          "IBRD only",
          "IDA & IBRD total",
          "IDA blend",
          "IDA only",
          "IDA total",
          "Late-demographic dividend",
          "Latin America & Caribbean",
          "Latin America & Caribbean (excluding high income)",
          "Latin America & the Caribbean (IDA & IBRD countries)",
          "Least developed countries: UN classification",
          "Low & middle income",
          "Low income",
          "Lower middle income",
          "Middle East & North Africa",
          "Middle East & North Africa (excluding high income)",
          "Middle East & North Africa (IDA & IBRD countries)",
          "Middle income",
          "North America",
          "Not classified",
          "OECD members",
          "Other small states",
          "Pacific island small states",
          "Post-demographic dividend",
          "Pre-demographic dividend",
          "Small states",
          "South Asia",
          "South Asia (IDA & IBRD)",
          "Sub-Saharan Africa",
          "Sub-Saharan Africa (excluding high income)",
          "Sub-Saharan Africa (IDA & IBRD countries)",
          "Upper middle income",
          "World",
          "Afghanistan",
          "Albania",
          "Algeria",
          "American Samoa",
          "Andorra",
          "Angola",
          "Antigua and Barbuda",
          "Argentina",
          "Armenia",
          "Aruba",
          "Australia",
          "Austria",
          "Azerbaijan",
          "Bahamas, The",
          "Bahrain",
          "Bangladesh",
          "Barbados",
          "Belarus",
          "Belgium",
          "Belize",
          "Benin",
          "Bermuda",
          "Bhutan",
          "Bolivia",
          "Bosnia and Herzegovina",
          "Botswana",
          "Brazil",
          "British Virgin Islands",
          "Brunei Darussalam",
          "Bulgaria",
          "Burkina Faso",
          "Burundi",
          "Cabo Verde",
          "Cambodia",
          "Cameroon",
          "Canada",
          "Cayman Islands",
          "Central African Republic",
          "Chad",
          "Channel Islands",
          "Chile",
          "China",
          "Colombia",
          "Comoros",
          "Congo, Dem. Rep.",
          "Congo, Rep.",
          "Costa Rica",
          "Cote d'Ivoire",
          "Croatia",
          "Cuba",
          "Curacao",
          "Cyprus",
          "Czech Republic",
          "Denmark",
          "Djibouti",
          "Dominica",
          "Dominican Republic",
          "Ecuador",
          "Egypt, Arab Rep.",
          "El Salvador",
          "Equatorial Guinea",
          "Eritrea",
          "Estonia",
          "Ethiopia",
          "Faroe Islands",
          "Fiji",
          "Finland",
          "France",
          "French Polynesia",
          "Gabon",
          "Gambia, The",
          "Georgia",
          "Germany",
          "Ghana",
          "Gibraltar",
          "Greece",
          "Greenland",
          "Grenada",
          "Guam",
          "Guatemala",
          "Guinea",
          "Guinea-Bissau",
          "Guyana",
          "Haiti",
          "Honduras",
          "Hong Kong SAR, China",
          "Hungary",
          "Iceland",
          "India",
          "Indonesia",
          "Iran, Islamic Rep.",
          "Iraq",
          "Ireland",
          "Isle of Man",
          "Israel",
          "Italy",
          "Jamaica",
          "Japan",
          "Jordan",
          "Kazakhstan",
          "Kenya",
          "Kiribati",
          "Korea, Dem. People�s Rep.",
          "Korea, Rep.",
          "Kosovo",
          "Kuwait",
          "Kyrgyz Republic",
          "Lao PDR",
          "Latvia",
          "Lebanon",
          "Lesotho",
          "Liberia",
          "Libya",
          "Liechtenstein",
          "Lithuania",
          "Luxembourg",
          "Macao SAR, China",
          "Macedonia, FYR",
          "Madagascar",
          "Malawi",
          "Malaysia",
          "Maldives",
          "Mali",
          "Malta",
          "Marshall Islands",
          "Mauritania",
          "Mauritius",
          "Mexico",
          "Micronesia, Fed. Sts.",
          "Moldova",
          "Monaco",
          "Mongolia",
          "Montenegro",
          "Morocco",
          "Mozambique",
          "Myanmar",
          "Namibia",
          "Nauru",
          "Nepal",
          "Netherlands",
          "New Caledonia",
          "New Zealand",
          "Nicaragua",
          "Niger",
          "Nigeria",
          "Northern Mariana Islands",
          "Norway",
          "Oman",
          "Pakistan",
          "Palau",
          "Panama",
          "Papua New Guinea",
          "Paraguay",
          "Peru",
          "Philippines",
          "Poland",
          "Portugal",
          "Puerto Rico",
          "Qatar",
          "Romania",
          "Russian Federation",
          "Rwanda",
          "Samoa",
          "San Marino",
          "Sao Tome and Principe",
          "Saudi Arabia",
          "Senegal",
          "Serbia",
          "Seychelles",
          "Sierra Leone",
          "Singapore",
          "Sint Maarten (Dutch part)",
          "Slovak Republic",
          "Slovenia",
          "Solomon Islands",
          "Somalia",
          "South Africa",
          "South Sudan",
          "Spain",
          "Sri Lanka",
          "St. Kitts and Nevis",
          "St. Lucia",
          "St. Martin (French part)",
          "St. Vincent and the Grenadines",
          "Sudan",
          "Suriname",
          "Swaziland",
          "Sweden",
          "Switzerland",
          "Syrian Arab Republic",
          "Tajikistan",
          "Tanzania",
          "Thailand",
          "Timor-Leste",
          "Togo",
          "Tonga",
          "Trinidad and Tobago",
          "Tunisia",
          "Turkey",
          "Turkmenistan",
          "Turks and Caicos Islands",
          "Tuvalu",
          "Uganda",
          "Ukraine",
          "United Arab Emirates",
          "United Kingdom",
          "United States",
          "Uruguay",
          "Uzbekistan",
          "Vanuatu",
          "Venezuela, RB",
          "Vietnam",
          "Virgin Islands",
          "West Bank and Gaza",
          "Yemen, Rep.",
          "Zambia",
          "Zimbabwe"
         ],
         "legendgroup": "",
         "marker": {
          "color": "#636efa",
          "symbol": "circle"
         },
         "mode": "markers",
         "name": "",
         "orientation": "v",
         "showlegend": false,
         "type": "scatter",
         "x": [
          3.44313489066,
          2.22844165639,
          1.3811333131,
          2.90596039932,
          1.76832751634,
          1.80456167471,
          1.80209777036,
          1.53952935146,
          1.6594971770299998,
          1.76185354991,
          1.7217274046400002,
          1.55812153835,
          4.87413631573,
          5.55855626904,
          1.7492582895900002,
          2.17652232396,
          2.67862304206,
          3.95472956311,
          4.56468888096,
          4.34069763164,
          1.63992654112,
          2.29552527219,
          2.31475439366,
          2.31356901941,
          4.68288237273,
          2.6874012563200003,
          5.42389441035,
          3.09311728284,
          2.85080724262,
          2.84474897181,
          2.8276172614200004,
          2.44695492861,
          2.07368988337,
          null,
          1.82197807725,
          3.36180880859,
          3.55098136137,
          1.68742616805,
          5.792160923080001,
          3.12933094448,
          2.9561871119200003,
          2.9561871119200003,
          5.42080805629,
          5.42121681314,
          5.42080805629,
          1.81451647085,
          2.54274186063,
          6.437,
          1.635,
          2.661,
          null,
          1.18,
          6.619,
          2.1830000000000003,
          2.4130000000000003,
          1.726,
          1.741,
          1.959,
          1.38,
          1.97,
          1.877,
          2.292,
          2.521,
          1.768,
          1.37,
          1.82,
          2.893,
          5.365,
          1.76,
          2.636,
          3.427,
          1.253,
          2.9210000000000003,
          1.944,
          null,
          1.982,
          1.49,
          6.1160000000000005,
          6.566,
          2.665,
          3.0860000000000003,
          5.235,
          1.6589,
          null,
          4.902,
          6.901,
          1.42,
          1.887,
          1.526,
          2.1180000000000003,
          4.927,
          6.646,
          5.063,
          2.006,
          5.392,
          1.48,
          1.636,
          2,
          1.504,
          1.45,
          1.84,
          3.744,
          null,
          2.687,
          2.736,
          3.016,
          2.253,
          5.391,
          4.8180000000000005,
          1.69,
          5.353,
          2.6,
          2.774,
          1.83,
          1.98,
          2.184,
          4.164,
          5.799,
          1.758,
          1.37,
          4.33,
          null,
          1.38,
          2.299,
          2.301,
          2.562,
          3.664,
          5.575,
          5.267,
          2.787,
          3.579,
          3.039,
          1.028,
          1.32,
          2.09,
          2.826,
          2.497,
          1.788,
          4.623,
          2.01,
          null,
          2.9,
          1.4,
          2.289,
          1.34,
          3.613,
          2.5,
          4.825,
          3.883,
          2.005,
          1.25,
          2.43,
          2.525,
          2.7,
          3.511,
          1.54,
          1.6269999999999998,
          3.412,
          5.277,
          2.65,
          1.42,
          1.36,
          1.61,
          0.909,
          1.479,
          4.87,
          5.823,
          2.093,
          2.261,
          6.718999999999999,
          1.35,
          4.5,
          5.002,
          1.74,
          2.447,
          3.661,
          1.242,
          null,
          2.324,
          1.82,
          2.48,
          5.674,
          2.585,
          3.616,
          null,
          3.012,
          1.72,
          2.2,
          2.18,
          2.571,
          7.688,
          5.93,
          null,
          1.9,
          2.892,
          3.98,
          null,
          2.541,
          4.157,
          2.907,
          2.616,
          3.324,
          1.31,
          1.35,
          1.6505,
          2.312,
          1.45,
          1.41,
          4.895,
          4.45,
          null,
          4.927,
          3.16,
          5.1770000000000005,
          1.38,
          2.24,
          5.565,
          1.29,
          1.5,
          1.27,
          1.38,
          4.412,
          7.14,
          2.58,
          5.638,
          1.38,
          2.274,
          null,
          2.022,
          1.82,
          2.131,
          4.873,
          2.553,
          3.761,
          1.88,
          1.46,
          3.238,
          3.495,
          5.585,
          1.557,
          5.7,
          5.064,
          4.059,
          1.79,
          2.04,
          2.193,
          2.523,
          null,
          null,
          6.424,
          1.345,
          2.004,
          1.86,
          2.12,
          2.126,
          2.55,
          3.679,
          2.562,
          1.911,
          1.97,
          4.627,
          5.18,
          5.9110000000000005,
          4.022
         ],
         "xaxis": "x",
         "y": [
          69.2070082278,
          71.53580442229999,
          74.2523833325,
          66.7168411826,
          73.5846595367,
          72.6378120561,
          72.6919270432,
          80.0997517287,
          74.92140241220001,
          69.42256412520001,
          69.9944489801,
          78.9682102701,
          59.20782178140001,
          56.5766165423,
          79.2386203249,
          70.1729440238,
          67.75917164170001,
          61.2853204195,
          60.089105590200006,
          60.51656342770001,
          73.472904211,
          73.3790228456,
          73.1580129361,
          73.2400064382,
          59.6277315593,
          67.68854263829999,
          56.8013307781,
          65.05949547590001,
          71.4108904527,
          70.8562142383,
          70.8462057183,
          68.7989256332,
          78.2484460493,
          null,
          78.7760227899,
          63.2139229694,
          68.513095791,
          79.0261899061,
          54.4851307308,
          65.22258787310001,
          65.5485167218,
          65.5485167218,
          54.1785518165,
          54.1765429979,
          54.1785518165,
          72.7812540165,
          69.6418542733,
          57.8338292683,
          76.4702926829,
          72.8983658537,
          null,
          null,
          49.43573170729999,
          74.8032195122,
          75.0090487805,
          73.7646585366,
          74.5267560976,
          81.2926829268,
          80.1804878049,
          69.7565121951,
          74.0594634146,
          75.7077560976,
          68.85997560979999,
          74.3564146341,
          70.2034146341,
          79.78292682930001,
          69.452,
          57.867390243900005,
          78.9341463415,
          66.29309756100001,
          64.6941219512,
          75.3714878049,
          59.0745609756,
          72.4148292683,
          null,
          76.6755609756,
          72.6634146341,
          55.188804878,
          53.4560731707,
          72.0993658537,
          64.5523414634,
          52.4791463415,
          80.6343902439,
          null,
          45.687390243900005,
          48.5592195122,
          79.41080487800001,
          79.3135365854,
          74.3404390244,
          72.7055121951,
          60.7123414634,
          55.0644146341,
          55.8013170732,
          78.33031707319999,
          48.7788292683,
          75.7056097561,
          78.44919512199999,
          75.3634146341,
          78.8685121951,
          76.7243902439,
          78.1951219512,
          58.8293414634,
          null,
          72.1313170732,
          74.4950243902,
          69.78229268289999,
          70.7804634146,
          54.5163170732,
          59.6694146341,
          72.8146341463,
          58.408,
          79.8365853659,
          68.8434146341,
          79.2634146341,
          81.112195122,
          74.8919756098,
          60.3927804878,
          58.5694390244,
          73.4210243902,
          79.53414634149999,
          59.6358536585,
          null,
          79.4390243902,
          69.98268292680001,
          71.8447560976,
          77.3074146341,
          70.1107804878,
          53.9994878049,
          52.8554634146,
          65.7797560976,
          59.9773902439,
          71.8587317073,
          82.3268292683,
          73.1512195122,
          81.4536585366,
          65.30043902439999,
          67.5677317073,
          72.674195122,
          68.19902439020001,
          79.6414634146,
          null,
          80.5048780488,
          81.4341463415,
          74.0092926829,
          82.5070731707,
          72.9611707317,
          66.5048780488,
          55.6992926829,
          64.98075609760001,
          68.376195122,
          79.3495121951,
          69.1975609756,
          73.81,
          67.8951219512,
          62.827268292700005,
          71.0195121951,
          77.615902439,
          44.8822195122,
          57.191195122,
          71.7386341463,
          81.2951219512,
          70.9,
          79.3829268293,
          79.0562439024,
          74.3229512195,
          62.053,
          51.5124878049,
          73.81826829270001,
          75.3997073171,
          54.2619268293,
          79.7926829268,
          null,
          61.1397317073,
          72.5707317073,
          75.5879268293,
          68.2204878049,
          68.20990243899999,
          null,
          66.06817073170001,
          74.04063414630001,
          71.2776341463,
          51.622097561,
          64.0936829268,
          58.780804878000005,
          null,
          66.5519268293,
          80.0975609756,
          75.9463414634,
          80.1512195122,
          72.5716585366,
          55.4550243902,
          49.8081463415,
          null,
          80.3951219512,
          75.1236097561,
          64.3387317073,
          null,
          76.3144634146,
          61.3114146341,
          71.6948292683,
          72.9969512195,
          67.47902439020001,
          75.243902439,
          78.3219512195,
          78.4258536585,
          77.28685365850001,
          72.5658536585,
          67.49756097560001,
          57.946000000000005,
          71.5607804878,
          82.506097561,
          65.188,
          73.34507317069999,
          61.7841707317,
          73.6317073171,
          73.1926829268,
          45.4883658537,
          80.4414634146,
          74.543902439,
          74.2073170732,
          78.5609756098,
          66.266804878,
          53.0186585366,
          51.9965121951,
          52.0878536585,
          80.8731707317,
          74.1941219512,
          null,
          73.7118536585,
          78.2219512195,
          71.6994146341,
          60.7008780488,
          69.47907317069999,
          46.772390243900006,
          80.9,
          81.7414634146,
          74.2460731707,
          67.2074878049,
          58.0777804878,
          72.87443902439999,
          65.82419512199999,
          55.4334390244,
          71.737,
          69.2596585366,
          74.2024390244,
          73.1770731707,
          64.6388292683,
          null,
          null,
          53.6541463415,
          68.222195122,
          76.1111707317,
          79.4487804878,
          77.987804878,
          75.9510243902,
          67.5312195122,
          69.9487317073,
          73.38890243899999,
          74.48385365850001,
          78.8243902439,
          71.74704878050001,
          61.954804878,
          52.4771463415,
          44.1777560976
         ],
         "yaxis": "y"
        },
        {
         "hoverinfo": "skip",
         "marker": {
          "line": {
           "width": 4
          },
          "size": 14,
          "symbol": "circle-open"
         },
         "mode": "markers",
         "name": "Mauritania",
         "type": "scatter",
         "x": [
          5.002
         ],
         "y": [
          61.1397317073
         ]
        },
        {
         "hoverinfo": "skip",
         "marker": {
          "line": {
           "width": 4
          },
          "size": 14,
          "symbol": "circle-open"
         },
         "mode": "markers",
         "name": "Belize",
         "type": "scatter",
         "x": [
          2.893
         ],
         "y": [
          69.452
         ]
        },
        {
         "hoverinfo": "skip",
         "marker": {
          "line": {
           "width": 4
          },
          "size": 14,
          "symbol": "circle-open"
         },
         "mode": "markers",
         "name": "Other small states",
         "type": "scatter",
         "x": [
          3.36180880859
         ],
         "y": [
          63.2139229694
         ]
        },
        {
         "hoverinfo": "skip",
         "marker": {
          "line": {
           "width": 4
          },
          "size": 14,
          "symbol": "circle-open"
         },
         "mode": "markers",
         "name": "Kazakhstan",
         "type": "scatter",
         "x": [
          2.5
         ],
         "y": [
          66.5048780488
         ]
        },
        {
         "hoverinfo": "skip",
         "marker": {
          "line": {
           "width": 4
          },
          "size": 14,
          "symbol": "circle-open"
         },
         "mode": "markers",
         "name": "Greenland",
         "type": "scatter",
         "x": [
          2.299
         ],
         "y": [
          69.98268292680001
         ]
        },
        {
         "hoverinfo": "skip",
         "marker": {
          "line": {
           "width": 4
          },
          "size": 14,
          "symbol": "circle-open"
         },
         "mode": "markers",
         "name": "Central Europe and the Baltics",
         "type": "scatter",
         "x": [
          1.3811333131
         ],
         "y": [
          74.2523833325
         ]
        },
        {
         "hoverinfo": "skip",
         "marker": {
          "line": {
           "width": 4
          },
          "size": 14,
          "symbol": "circle-open"
         },
         "mode": "markers",
         "name": "High income",
         "type": "scatter",
         "x": [
          1.7492582895900002
         ],
         "y": [
          79.2386203249
         ]
        },
        {
         "hoverinfo": "skip",
         "marker": {
          "line": {
           "width": 4
          },
          "size": 14,
          "symbol": "circle-open"
         },
         "mode": "markers",
         "name": "Japan",
         "type": "scatter",
         "x": [
          1.34
         ],
         "y": [
          82.5070731707
         ]
        },
        {
         "hoverinfo": "skip",
         "marker": {
          "line": {
           "width": 4
          },
          "size": 14,
          "symbol": "circle-open"
         },
         "mode": "markers",
         "name": "Latin America & Caribbean",
         "type": "scatter",
         "x": [
          2.29552527219
         ],
         "y": [
          73.3790228456
         ]
        },
        {
         "hoverinfo": "skip",
         "marker": {
          "line": {
           "width": 4
          },
          "size": 14,
          "symbol": "circle-open"
         },
         "mode": "markers",
         "name": "Micronesia, Fed. Sts.",
         "type": "scatter",
         "x": [
          3.661
         ],
         "y": [
          68.2204878049
         ]
        },
        {
         "hoverinfo": "skip",
         "marker": {
          "line": {
           "width": 4
          },
          "size": 14,
          "symbol": "circle-open"
         },
         "mode": "markers",
         "name": "Central African Republic",
         "type": "scatter",
         "x": [
          4.902
         ],
         "y": [
          45.687390243900005
         ]
        },
        {
         "hoverinfo": "skip",
         "marker": {
          "line": {
           "width": 4
          },
          "size": 14,
          "symbol": "circle-open"
         },
         "mode": "markers",
         "name": "Cote d'Ivoire",
         "type": "scatter",
         "x": [
          5.392
         ],
         "y": [
          48.7788292683
         ]
        }
       ],
       "layout": {
        "autosize": true,
        "hovermode": "closest",
        "legend": {
         "orientation": "h",
         "tracegroupgap": 0
        },
        "margin": {
         "b": 40,
         "l": 40,
         "r": 0,
         "t": 10
        },
        "template": {},
        "xaxis": {
         "anchor": "y",
         "autorange": true,
         "domain": [
          0,
          1
         ],
         "range": [
          0.4741260313531353,
          8.122873968646864
         ],
         "showgrid": false,
         "showticklabels": false,
         "title": {
          "text": "Fertility rate, total (births per woman)"
         },
         "type": "linear",
         "zeroline": false
        },
        "yaxis": {
         "anchor": "x",
         "autorange": true,
         "domain": [
          0,
          1
         ],
         "range": [
          41.057927963743026,
          86.74112563807732
         ],
         "showgrid": false,
         "showticklabels": false,
         "title": {
          "text": "Life expectancy at birth, total (years)"
         },
         "type": "linear",
         "zeroline": false
        }
       }
      },
      "image/png": "[encoded data removed]",
      "text/html": [
       "<div>                            <div id=\"dd2e6bf0-728f-4b30-ab8e-1af4aa5b71e7\" class=\"plotly-graph-div\" style=\"height:525px; width:100%;\"></div>            <script type=\"text/javascript\">                require([\"plotly\"], function(Plotly) {                    window.PLOTLYENV=window.PLOTLYENV || {};                                    if (document.getElementById(\"dd2e6bf0-728f-4b30-ab8e-1af4aa5b71e7\")) {                    Plotly.newPlot(                        \"dd2e6bf0-728f-4b30-ab8e-1af4aa5b71e7\",                        [{\"customdata\":[\"Arab World\",\"Caribbean small states\",\"Central Europe and the Baltics\",\"Early-demographic dividend\",\"East Asia & Pacific\",\"East Asia & Pacific (excluding high income)\",\"East Asia & Pacific (IDA & IBRD countries)\",\"Euro area\",\"Europe & Central Asia\",\"Europe & Central Asia (excluding high income)\",\"Europe & Central Asia (IDA & IBRD countries)\",\"European Union\",\"Fragile and conflict affected situations\",\"Heavily indebted poor countries (HIPC)\",\"High income\",\"IBRD only\",\"IDA & IBRD total\",\"IDA blend\",\"IDA only\",\"IDA total\",\"Late-demographic dividend\",\"Latin America & Caribbean\",\"Latin America & Caribbean (excluding high income)\",\"Latin America & the Caribbean (IDA & IBRD countries)\",\"Least developed countries: UN classification\",\"Low & middle income\",\"Low income\",\"Lower middle income\",\"Middle East & North Africa\",\"Middle East & North Africa (excluding high income)\",\"Middle East & North Africa (IDA & IBRD countries)\",\"Middle income\",\"North America\",\"Not classified\",\"OECD members\",\"Other small states\",\"Pacific island small states\",\"Post-demographic dividend\",\"Pre-demographic dividend\",\"Small states\",\"South Asia\",\"South Asia (IDA & IBRD)\",\"Sub-Saharan Africa\",\"Sub-Saharan Africa (excluding high income)\",\"Sub-Saharan Africa (IDA & IBRD countries)\",\"Upper middle income\",\"World\",\"Afghanistan\",\"Albania\",\"Algeria\",\"American Samoa\",\"Andorra\",\"Angola\",\"Antigua and Barbuda\",\"Argentina\",\"Armenia\",\"Aruba\",\"Australia\",\"Austria\",\"Azerbaijan\",\"Bahamas, The\",\"Bahrain\",\"Bangladesh\",\"Barbados\",\"Belarus\",\"Belgium\",\"Belize\",\"Benin\",\"Bermuda\",\"Bhutan\",\"Bolivia\",\"Bosnia and Herzegovina\",\"Botswana\",\"Brazil\",\"British Virgin Islands\",\"Brunei Darussalam\",\"Bulgaria\",\"Burkina Faso\",\"Burundi\",\"Cabo Verde\",\"Cambodia\",\"Cameroon\",\"Canada\",\"Cayman Islands\",\"Central African Republic\",\"Chad\",\"Channel Islands\",\"Chile\",\"China\",\"Colombia\",\"Comoros\",\"Congo, Dem. Rep.\",\"Congo, Rep.\",\"Costa Rica\",\"Cote d'Ivoire\",\"Croatia\",\"Cuba\",\"Curacao\",\"Cyprus\",\"Czech Republic\",\"Denmark\",\"Djibouti\",\"Dominica\",\"Dominican Republic\",\"Ecuador\",\"Egypt, Arab Rep.\",\"El Salvador\",\"Equatorial Guinea\",\"Eritrea\",\"Estonia\",\"Ethiopia\",\"Faroe Islands\",\"Fiji\",\"Finland\",\"France\",\"French Polynesia\",\"Gabon\",\"Gambia, The\",\"Georgia\",\"Germany\",\"Ghana\",\"Gibraltar\",\"Greece\",\"Greenland\",\"Grenada\",\"Guam\",\"Guatemala\",\"Guinea\",\"Guinea-Bissau\",\"Guyana\",\"Haiti\",\"Honduras\",\"Hong Kong SAR, China\",\"Hungary\",\"Iceland\",\"India\",\"Indonesia\",\"Iran, Islamic Rep.\",\"Iraq\",\"Ireland\",\"Isle of Man\",\"Israel\",\"Italy\",\"Jamaica\",\"Japan\",\"Jordan\",\"Kazakhstan\",\"Kenya\",\"Kiribati\",\"Korea, Dem. People\\ufffds Rep.\",\"Korea, Rep.\",\"Kosovo\",\"Kuwait\",\"Kyrgyz Republic\",\"Lao PDR\",\"Latvia\",\"Lebanon\",\"Lesotho\",\"Liberia\",\"Libya\",\"Liechtenstein\",\"Lithuania\",\"Luxembourg\",\"Macao SAR, China\",\"Macedonia, FYR\",\"Madagascar\",\"Malawi\",\"Malaysia\",\"Maldives\",\"Mali\",\"Malta\",\"Marshall Islands\",\"Mauritania\",\"Mauritius\",\"Mexico\",\"Micronesia, Fed. Sts.\",\"Moldova\",\"Monaco\",\"Mongolia\",\"Montenegro\",\"Morocco\",\"Mozambique\",\"Myanmar\",\"Namibia\",\"Nauru\",\"Nepal\",\"Netherlands\",\"New Caledonia\",\"New Zealand\",\"Nicaragua\",\"Niger\",\"Nigeria\",\"Northern Mariana Islands\",\"Norway\",\"Oman\",\"Pakistan\",\"Palau\",\"Panama\",\"Papua New Guinea\",\"Paraguay\",\"Peru\",\"Philippines\",\"Poland\",\"Portugal\",\"Puerto Rico\",\"Qatar\",\"Romania\",\"Russian Federation\",\"Rwanda\",\"Samoa\",\"San Marino\",\"Sao Tome and Principe\",\"Saudi Arabia\",\"Senegal\",\"Serbia\",\"Seychelles\",\"Sierra Leone\",\"Singapore\",\"Sint Maarten (Dutch part)\",\"Slovak Republic\",\"Slovenia\",\"Solomon Islands\",\"Somalia\",\"South Africa\",\"South Sudan\",\"Spain\",\"Sri Lanka\",\"St. Kitts and Nevis\",\"St. Lucia\",\"St. Martin (French part)\",\"St. Vincent and the Grenadines\",\"Sudan\",\"Suriname\",\"Swaziland\",\"Sweden\",\"Switzerland\",\"Syrian Arab Republic\",\"Tajikistan\",\"Tanzania\",\"Thailand\",\"Timor-Leste\",\"Togo\",\"Tonga\",\"Trinidad and Tobago\",\"Tunisia\",\"Turkey\",\"Turkmenistan\",\"Turks and Caicos Islands\",\"Tuvalu\",\"Uganda\",\"Ukraine\",\"United Arab Emirates\",\"United Kingdom\",\"United States\",\"Uruguay\",\"Uzbekistan\",\"Vanuatu\",\"Venezuela, RB\",\"Vietnam\",\"Virgin Islands\",\"West Bank and Gaza\",\"Yemen, Rep.\",\"Zambia\",\"Zimbabwe\"],\"hovertemplate\":\"<b>%{hovertext}</b><br><br>x=%{x}<br>y=%{y}<extra></extra>\",\"hovertext\":[\"Arab World\",\"Caribbean small states\",\"Central Europe and the Baltics\",\"Early-demographic dividend\",\"East Asia & Pacific\",\"East Asia & Pacific (excluding high income)\",\"East Asia & Pacific (IDA & IBRD countries)\",\"Euro area\",\"Europe & Central Asia\",\"Europe & Central Asia (excluding high income)\",\"Europe & Central Asia (IDA & IBRD countries)\",\"European Union\",\"Fragile and conflict affected situations\",\"Heavily indebted poor countries (HIPC)\",\"High income\",\"IBRD only\",\"IDA & IBRD total\",\"IDA blend\",\"IDA only\",\"IDA total\",\"Late-demographic dividend\",\"Latin America & Caribbean\",\"Latin America & Caribbean (excluding high income)\",\"Latin America & the Caribbean (IDA & IBRD countries)\",\"Least developed countries: UN classification\",\"Low & middle income\",\"Low income\",\"Lower middle income\",\"Middle East & North Africa\",\"Middle East & North Africa (excluding high income)\",\"Middle East & North Africa (IDA & IBRD countries)\",\"Middle income\",\"North America\",\"Not classified\",\"OECD members\",\"Other small states\",\"Pacific island small states\",\"Post-demographic dividend\",\"Pre-demographic dividend\",\"Small states\",\"South Asia\",\"South Asia (IDA & IBRD)\",\"Sub-Saharan Africa\",\"Sub-Saharan Africa (excluding high income)\",\"Sub-Saharan Africa (IDA & IBRD countries)\",\"Upper middle income\",\"World\",\"Afghanistan\",\"Albania\",\"Algeria\",\"American Samoa\",\"Andorra\",\"Angola\",\"Antigua and Barbuda\",\"Argentina\",\"Armenia\",\"Aruba\",\"Australia\",\"Austria\",\"Azerbaijan\",\"Bahamas, The\",\"Bahrain\",\"Bangladesh\",\"Barbados\",\"Belarus\",\"Belgium\",\"Belize\",\"Benin\",\"Bermuda\",\"Bhutan\",\"Bolivia\",\"Bosnia and Herzegovina\",\"Botswana\",\"Brazil\",\"British Virgin Islands\",\"Brunei Darussalam\",\"Bulgaria\",\"Burkina Faso\",\"Burundi\",\"Cabo Verde\",\"Cambodia\",\"Cameroon\",\"Canada\",\"Cayman Islands\",\"Central African Republic\",\"Chad\",\"Channel Islands\",\"Chile\",\"China\",\"Colombia\",\"Comoros\",\"Congo, Dem. Rep.\",\"Congo, Rep.\",\"Costa Rica\",\"Cote d'Ivoire\",\"Croatia\",\"Cuba\",\"Curacao\",\"Cyprus\",\"Czech Republic\",\"Denmark\",\"Djibouti\",\"Dominica\",\"Dominican Republic\",\"Ecuador\",\"Egypt, Arab Rep.\",\"El Salvador\",\"Equatorial Guinea\",\"Eritrea\",\"Estonia\",\"Ethiopia\",\"Faroe Islands\",\"Fiji\",\"Finland\",\"France\",\"French Polynesia\",\"Gabon\",\"Gambia, The\",\"Georgia\",\"Germany\",\"Ghana\",\"Gibraltar\",\"Greece\",\"Greenland\",\"Grenada\",\"Guam\",\"Guatemala\",\"Guinea\",\"Guinea-Bissau\",\"Guyana\",\"Haiti\",\"Honduras\",\"Hong Kong SAR, China\",\"Hungary\",\"Iceland\",\"India\",\"Indonesia\",\"Iran, Islamic Rep.\",\"Iraq\",\"Ireland\",\"Isle of Man\",\"Israel\",\"Italy\",\"Jamaica\",\"Japan\",\"Jordan\",\"Kazakhstan\",\"Kenya\",\"Kiribati\",\"Korea, Dem. People\\ufffds Rep.\",\"Korea, Rep.\",\"Kosovo\",\"Kuwait\",\"Kyrgyz Republic\",\"Lao PDR\",\"Latvia\",\"Lebanon\",\"Lesotho\",\"Liberia\",\"Libya\",\"Liechtenstein\",\"Lithuania\",\"Luxembourg\",\"Macao SAR, China\",\"Macedonia, FYR\",\"Madagascar\",\"Malawi\",\"Malaysia\",\"Maldives\",\"Mali\",\"Malta\",\"Marshall Islands\",\"Mauritania\",\"Mauritius\",\"Mexico\",\"Micronesia, Fed. Sts.\",\"Moldova\",\"Monaco\",\"Mongolia\",\"Montenegro\",\"Morocco\",\"Mozambique\",\"Myanmar\",\"Namibia\",\"Nauru\",\"Nepal\",\"Netherlands\",\"New Caledonia\",\"New Zealand\",\"Nicaragua\",\"Niger\",\"Nigeria\",\"Northern Mariana Islands\",\"Norway\",\"Oman\",\"Pakistan\",\"Palau\",\"Panama\",\"Papua New Guinea\",\"Paraguay\",\"Peru\",\"Philippines\",\"Poland\",\"Portugal\",\"Puerto Rico\",\"Qatar\",\"Romania\",\"Russian Federation\",\"Rwanda\",\"Samoa\",\"San Marino\",\"Sao Tome and Principe\",\"Saudi Arabia\",\"Senegal\",\"Serbia\",\"Seychelles\",\"Sierra Leone\",\"Singapore\",\"Sint Maarten (Dutch part)\",\"Slovak Republic\",\"Slovenia\",\"Solomon Islands\",\"Somalia\",\"South Africa\",\"South Sudan\",\"Spain\",\"Sri Lanka\",\"St. Kitts and Nevis\",\"St. Lucia\",\"St. Martin (French part)\",\"St. Vincent and the Grenadines\",\"Sudan\",\"Suriname\",\"Swaziland\",\"Sweden\",\"Switzerland\",\"Syrian Arab Republic\",\"Tajikistan\",\"Tanzania\",\"Thailand\",\"Timor-Leste\",\"Togo\",\"Tonga\",\"Trinidad and Tobago\",\"Tunisia\",\"Turkey\",\"Turkmenistan\",\"Turks and Caicos Islands\",\"Tuvalu\",\"Uganda\",\"Ukraine\",\"United Arab Emirates\",\"United Kingdom\",\"United States\",\"Uruguay\",\"Uzbekistan\",\"Vanuatu\",\"Venezuela, RB\",\"Vietnam\",\"Virgin Islands\",\"West Bank and Gaza\",\"Yemen, Rep.\",\"Zambia\",\"Zimbabwe\"],\"legendgroup\":\"\",\"marker\":{\"color\":\"#636efa\",\"symbol\":\"circle\"},\"mode\":\"markers\",\"name\":\"\",\"orientation\":\"v\",\"showlegend\":false,\"x\":[3.44313489066,2.22844165639,1.3811333131,2.90596039932,1.76832751634,1.80456167471,1.80209777036,1.53952935146,1.6594971770299998,1.76185354991,1.7217274046400002,1.55812153835,4.87413631573,5.55855626904,1.7492582895900002,2.17652232396,2.67862304206,3.95472956311,4.56468888096,4.34069763164,1.63992654112,2.29552527219,2.31475439366,2.31356901941,4.68288237273,2.6874012563200003,5.42389441035,3.09311728284,2.85080724262,2.84474897181,2.8276172614200004,2.44695492861,2.07368988337,null,1.82197807725,3.36180880859,3.55098136137,1.68742616805,5.792160923080001,3.12933094448,2.9561871119200003,2.9561871119200003,5.42080805629,5.42121681314,5.42080805629,1.81451647085,2.54274186063,6.437,1.635,2.661,null,1.18,6.619,2.1830000000000003,2.4130000000000003,1.726,1.741,1.959,1.38,1.97,1.877,2.292,2.521,1.768,1.37,1.82,2.893,5.365,1.76,2.636,3.427,1.253,2.9210000000000003,1.944,null,1.982,1.49,6.1160000000000005,6.566,2.665,3.0860000000000003,5.235,1.6589,null,4.902,6.901,1.42,1.887,1.526,2.1180000000000003,4.927,6.646,5.063,2.006,5.392,1.48,1.636,2.0,1.504,1.45,1.84,3.744,null,2.687,2.736,3.016,2.253,5.391,4.8180000000000005,1.69,5.353,2.6,2.774,1.83,1.98,2.184,4.164,5.799,1.758,1.37,4.33,null,1.38,2.299,2.301,2.562,3.664,5.575,5.267,2.787,3.579,3.039,1.028,1.32,2.09,2.826,2.497,1.788,4.623,2.01,null,2.9,1.4,2.289,1.34,3.613,2.5,4.825,3.883,2.005,1.25,2.43,2.525,2.7,3.511,1.54,1.6269999999999998,3.412,5.277,2.65,1.42,1.36,1.61,0.909,1.479,4.87,5.823,2.093,2.261,6.718999999999999,1.35,4.5,5.002,1.74,2.447,3.661,1.242,null,2.324,1.82,2.48,5.674,2.585,3.616,null,3.012,1.72,2.2,2.18,2.571,7.688,5.93,null,1.9,2.892,3.98,null,2.541,4.157,2.907,2.616,3.324,1.31,1.35,1.6505,2.312,1.45,1.41,4.895,4.45,null,4.927,3.16,5.1770000000000005,1.38,2.24,5.565,1.29,1.5,1.27,1.38,4.412,7.14,2.58,5.638,1.38,2.274,null,2.022,1.82,2.131,4.873,2.553,3.761,1.88,1.46,3.238,3.495,5.585,1.557,5.7,5.064,4.059,1.79,2.04,2.193,2.523,null,null,6.424,1.345,2.004,1.86,2.12,2.126,2.55,3.679,2.562,1.911,1.97,4.627,5.18,5.9110000000000005,4.022],\"xaxis\":\"x\",\"y\":[69.2070082278,71.53580442229999,74.2523833325,66.7168411826,73.5846595367,72.6378120561,72.6919270432,80.0997517287,74.92140241220001,69.42256412520001,69.9944489801,78.9682102701,59.20782178140001,56.5766165423,79.2386203249,70.1729440238,67.75917164170001,61.2853204195,60.089105590200006,60.51656342770001,73.472904211,73.3790228456,73.1580129361,73.2400064382,59.6277315593,67.68854263829999,56.8013307781,65.05949547590001,71.4108904527,70.8562142383,70.8462057183,68.7989256332,78.2484460493,null,78.7760227899,63.2139229694,68.513095791,79.0261899061,54.4851307308,65.22258787310001,65.5485167218,65.5485167218,54.1785518165,54.1765429979,54.1785518165,72.7812540165,69.6418542733,57.8338292683,76.4702926829,72.8983658537,null,null,49.43573170729999,74.8032195122,75.0090487805,73.7646585366,74.5267560976,81.2926829268,80.1804878049,69.7565121951,74.0594634146,75.7077560976,68.85997560979999,74.3564146341,70.2034146341,79.78292682930001,69.452,57.867390243900005,78.9341463415,66.29309756100001,64.6941219512,75.3714878049,59.0745609756,72.4148292683,null,76.6755609756,72.6634146341,55.188804878,53.4560731707,72.0993658537,64.5523414634,52.4791463415,80.6343902439,null,45.687390243900005,48.5592195122,79.41080487800001,79.3135365854,74.3404390244,72.7055121951,60.7123414634,55.0644146341,55.8013170732,78.33031707319999,48.7788292683,75.7056097561,78.44919512199999,75.3634146341,78.8685121951,76.7243902439,78.1951219512,58.8293414634,null,72.1313170732,74.4950243902,69.78229268289999,70.7804634146,54.5163170732,59.6694146341,72.8146341463,58.408,79.8365853659,68.8434146341,79.2634146341,81.112195122,74.8919756098,60.3927804878,58.5694390244,73.4210243902,79.53414634149999,59.6358536585,null,79.4390243902,69.98268292680001,71.8447560976,77.3074146341,70.1107804878,53.9994878049,52.8554634146,65.7797560976,59.9773902439,71.8587317073,82.3268292683,73.1512195122,81.4536585366,65.30043902439999,67.5677317073,72.674195122,68.19902439020001,79.6414634146,null,80.5048780488,81.4341463415,74.0092926829,82.5070731707,72.9611707317,66.5048780488,55.6992926829,64.98075609760001,68.376195122,79.3495121951,69.1975609756,73.81,67.8951219512,62.827268292700005,71.0195121951,77.615902439,44.8822195122,57.191195122,71.7386341463,81.2951219512,70.9,79.3829268293,79.0562439024,74.3229512195,62.053,51.5124878049,73.81826829270001,75.3997073171,54.2619268293,79.7926829268,null,61.1397317073,72.5707317073,75.5879268293,68.2204878049,68.20990243899999,null,66.06817073170001,74.04063414630001,71.2776341463,51.622097561,64.0936829268,58.780804878000005,null,66.5519268293,80.0975609756,75.9463414634,80.1512195122,72.5716585366,55.4550243902,49.8081463415,null,80.3951219512,75.1236097561,64.3387317073,null,76.3144634146,61.3114146341,71.6948292683,72.9969512195,67.47902439020001,75.243902439,78.3219512195,78.4258536585,77.28685365850001,72.5658536585,67.49756097560001,57.946000000000005,71.5607804878,82.506097561,65.188,73.34507317069999,61.7841707317,73.6317073171,73.1926829268,45.4883658537,80.4414634146,74.543902439,74.2073170732,78.5609756098,66.266804878,53.0186585366,51.9965121951,52.0878536585,80.8731707317,74.1941219512,null,73.7118536585,78.2219512195,71.6994146341,60.7008780488,69.47907317069999,46.772390243900006,80.9,81.7414634146,74.2460731707,67.2074878049,58.0777804878,72.87443902439999,65.82419512199999,55.4334390244,71.737,69.2596585366,74.2024390244,73.1770731707,64.6388292683,null,null,53.6541463415,68.222195122,76.1111707317,79.4487804878,77.987804878,75.9510243902,67.5312195122,69.9487317073,73.38890243899999,74.48385365850001,78.8243902439,71.74704878050001,61.954804878,52.4771463415,44.1777560976],\"yaxis\":\"y\",\"type\":\"scatter\"},{\"hoverinfo\":\"skip\",\"marker\":{\"line\":{\"width\":4},\"size\":14,\"symbol\":\"circle-open\"},\"mode\":\"markers\",\"name\":\"Mauritania\",\"x\":[5.002],\"y\":[61.1397317073],\"type\":\"scatter\"},{\"hoverinfo\":\"skip\",\"marker\":{\"line\":{\"width\":4},\"size\":14,\"symbol\":\"circle-open\"},\"mode\":\"markers\",\"name\":\"Belize\",\"x\":[2.893],\"y\":[69.452],\"type\":\"scatter\"},{\"hoverinfo\":\"skip\",\"marker\":{\"line\":{\"width\":4},\"size\":14,\"symbol\":\"circle-open\"},\"mode\":\"markers\",\"name\":\"Other small states\",\"x\":[3.36180880859],\"y\":[63.2139229694],\"type\":\"scatter\"},{\"hoverinfo\":\"skip\",\"marker\":{\"line\":{\"width\":4},\"size\":14,\"symbol\":\"circle-open\"},\"mode\":\"markers\",\"name\":\"Kazakhstan\",\"x\":[2.5],\"y\":[66.5048780488],\"type\":\"scatter\"},{\"hoverinfo\":\"skip\",\"marker\":{\"line\":{\"width\":4},\"size\":14,\"symbol\":\"circle-open\"},\"mode\":\"markers\",\"name\":\"Greenland\",\"x\":[2.299],\"y\":[69.98268292680001],\"type\":\"scatter\"},{\"hoverinfo\":\"skip\",\"marker\":{\"line\":{\"width\":4},\"size\":14,\"symbol\":\"circle-open\"},\"mode\":\"markers\",\"name\":\"Central Europe and the Baltics\",\"x\":[1.3811333131],\"y\":[74.2523833325],\"type\":\"scatter\"},{\"hoverinfo\":\"skip\",\"marker\":{\"line\":{\"width\":4},\"size\":14,\"symbol\":\"circle-open\"},\"mode\":\"markers\",\"name\":\"High income\",\"x\":[1.7492582895900002],\"y\":[79.2386203249],\"type\":\"scatter\"},{\"hoverinfo\":\"skip\",\"marker\":{\"line\":{\"width\":4},\"size\":14,\"symbol\":\"circle-open\"},\"mode\":\"markers\",\"name\":\"Japan\",\"x\":[1.34],\"y\":[82.5070731707],\"type\":\"scatter\"},{\"hoverinfo\":\"skip\",\"marker\":{\"line\":{\"width\":4},\"size\":14,\"symbol\":\"circle-open\"},\"mode\":\"markers\",\"name\":\"Latin America & Caribbean\",\"x\":[2.29552527219],\"y\":[73.3790228456],\"type\":\"scatter\"},{\"hoverinfo\":\"skip\",\"marker\":{\"line\":{\"width\":4},\"size\":14,\"symbol\":\"circle-open\"},\"mode\":\"markers\",\"name\":\"Micronesia, Fed. Sts.\",\"x\":[3.661],\"y\":[68.2204878049],\"type\":\"scatter\"},{\"hoverinfo\":\"skip\",\"marker\":{\"line\":{\"width\":4},\"size\":14,\"symbol\":\"circle-open\"},\"mode\":\"markers\",\"name\":\"Central African Republic\",\"x\":[4.902],\"y\":[45.687390243900005],\"type\":\"scatter\"},{\"hoverinfo\":\"skip\",\"marker\":{\"line\":{\"width\":4},\"size\":14,\"symbol\":\"circle-open\"},\"mode\":\"markers\",\"name\":\"Cote d'Ivoire\",\"x\":[5.392],\"y\":[48.7788292683],\"type\":\"scatter\"}],                        {\"hovermode\":\"closest\",\"legend\":{\"tracegroupgap\":0,\"orientation\":\"h\"},\"margin\":{\"b\":40,\"l\":40,\"r\":0,\"t\":10},\"template\":{},\"xaxis\":{\"anchor\":\"y\",\"domain\":[0.0,1.0],\"title\":{\"text\":\"Fertility rate, total (births per woman)\"},\"type\":\"linear\",\"showgrid\":false,\"showticklabels\":false,\"zeroline\":false},\"yaxis\":{\"anchor\":\"x\",\"domain\":[0.0,1.0],\"title\":{\"text\":\"Life expectancy at birth, total (years)\"},\"type\":\"linear\",\"showgrid\":false,\"showticklabels\":false,\"zeroline\":false}},                        {\"responsive\": true}                    ).then(function(){\n",
       "                            \n",
       "var gd = document.getElementById('dd2e6bf0-728f-4b30-ab8e-1af4aa5b71e7');\n",
       "var x = new MutationObserver(function (mutations, observer) {{\n",
       "        var display = window.getComputedStyle(gd).display;\n",
       "        if (!display || display === 'none') {{\n",
       "            console.log([gd, 'removed!']);\n",
       "            Plotly.purge(gd);\n",
       "            observer.disconnect();\n",
       "        }}\n",
       "}});\n",
       "\n",
       "// Listen for the removal of the full notebook cells\n",
       "var notebookContainer = gd.closest('#notebook-container');\n",
       "if (notebookContainer) {{\n",
       "    x.observe(notebookContainer, {childList: true});\n",
       "}}\n",
       "\n",
       "// Listen for the clearing of the current output cell\n",
       "var outputEl = gd.closest('.output');\n",
       "if (outputEl) {{\n",
       "    x.observe(outputEl, {childList: true});\n",
       "}}\n",
       "\n",
       "                        })                };                });            </script>        </div>"
      ]
     },
     "metadata": {},
     "output_type": "display_data"
    }
   ],
   "source": [
    "fig2.show()"
   ]
  },
  {
   "cell_type": "code",
   "execution_count": 13,
   "id": "d3f3fa0e-59c0-42a9-b76b-d82647d975e8",
   "metadata": {},
   "outputs": [
    {
     "data": {
      "text/plain": [
       "Layout({\n",
       "    'hovermode': 'closest',\n",
       "    'legend': {'orientation': 'h', 'tracegroupgap': 0},\n",
       "    'margin': {'b': 40, 'l': 40, 'r': 0, 't': 10},\n",
       "    'template': '...',\n",
       "    'xaxis': {'anchor': 'y',\n",
       "              'domain': [0.0, 1.0],\n",
       "              'showgrid': False,\n",
       "              'showticklabels': False,\n",
       "              'title': {'text': 'Fertility rate, total (births per woman)'},\n",
       "              'type': 'linear',\n",
       "              'zeroline': False},\n",
       "    'yaxis': {'anchor': 'x',\n",
       "              'domain': [0.0, 1.0],\n",
       "              'showgrid': False,\n",
       "              'showticklabels': False,\n",
       "              'title': {'text': 'Life expectancy at birth, total (years)'},\n",
       "              'type': 'linear',\n",
       "              'zeroline': False}\n",
       "})"
      ]
     },
     "execution_count": 13,
     "metadata": {},
     "output_type": "execute_result"
    }
   ],
   "source": [
    "fig2.layout"
   ]
  },
  {
   "cell_type": "code",
   "execution_count": null,
   "id": "0012b575-c490-462f-9280-255c347d66e5",
   "metadata": {},
   "outputs": [],
   "source": [
    "fig3 = go.Figure()\n",
    "fig3"
   ]
  },
  {
   "cell_type": "code",
   "execution_count": null,
   "id": "3b365178-ba48-4750-bfb4-5862bb640acb",
   "metadata": {},
   "outputs": [],
   "source": [
    "df_gap = px.data.gapminder()\n",
    "# gapminder\n",
    "\n",
    "country_continent = dict(zip(df_gap.country, df_gap.continent))\n",
    "# country_continent.keys()\n",
    "dfi\n",
    "dfi['Continent']=dfi['Country Name'].map(country_continent)\n",
    "dfi.Continent.unique()"
   ]
  },
  {
   "cell_type": "code",
   "execution_count": null,
   "id": "cc41fe27-f717-4a61-ab5d-b463a8bfe480",
   "metadata": {},
   "outputs": [],
   "source": [
    "# help(daq)\n",
    "help(dbc.Col)"
   ]
  },
  {
   "cell_type": "code",
   "execution_count": null,
   "id": "f13eb99a-ddac-4ada-9c13-b5ab326de9fe",
   "metadata": {},
   "outputs": [],
   "source": [
    "# x = list(fig.data[0].x)\n",
    "# y = list(fig.data[0].y)\n",
    "\n",
    "df_reg = pd.DataFrame({\"x\": fig.data[0].x, \"y\": fig.data[0].y})\n",
    "df_reg = df_reg.dropna()\n",
    "\n",
    "x = sm.add_constant(df['x'])\n",
    "model = sm.OLS(df['y'], x).fit()\n",
    "# resids = model.resid\n",
    "model.summary()\n",
    "\n",
    "\n",
    "xaxis_type = 'Log'\n",
    "yaxis_type = 'Log'\n",
    "\n",
    "# Linear Linear\n",
    "if xaxis_type == 'Linear' and yaxis_type  == 'Linear':\n",
    "    x = sm.add_constant(df_reg[\"x\"])\n",
    "    model = sm.OLS(df_reg[\"y\"], x).fit()\n",
    "\n",
    "# Log Linear\n",
    "elif  xaxis_type == 'Log' and yaxis_type  == 'Linear':\n",
    "    x = sm.add_constant(np.log(df_reg[\"x\"]))\n",
    "    model = sm.OLS(df_reg[\"y\"], x).fit()\n",
    "\n",
    "# Linear Log\n",
    "elif  xaxis_type == 'Linear' and yaxis_type  == 'Log':\n",
    "    x = sm.add_constant(df_reg[\"x\"])\n",
    "    model = sm.OLS(np.log(df_reg[\"y\"]), x).fit()\n",
    "    \n",
    "# Log Log\n",
    "elif  xaxis_type == 'Log' and yaxis_type  == 'Log':\n",
    "    x = sm.add_constant(np.log(df_reg[\"x\"]))\n",
    "    model = sm.OLS(np.log(df_reg[\"y\"]), x).fit()\n",
    "\n",
    "model.summary()\n",
    "\n",
    "\n",
    "#return([html.Pre(str(model.summary().as_text().split('OLS Regression Results                            \\n==============================================================================\\n')[1].split('Notes:')[0]))]) "
   ]
  },
  {
   "cell_type": "code",
   "execution_count": null,
   "id": "326f1926-69ae-4781-bc77-cdda89300ed1",
   "metadata": {},
   "outputs": [],
   "source": [
    "# f = fig.full_figure_for_development(warn=False)\n",
    "fig.update_layout(\n",
    "    margin=dict(l=20, r=20, t=100, b=20),\n",
    "    paper_bgcolor=\"LightSteelBlue\",\n",
    "    # title_standoff = 25\n",
    ")\n",
    "\n",
    "fig.update_layout(#title_pad = {'b': 0, 'l': 0, 'r': 0, 't': -100}\n",
    "                  title_y = 0.5,\n",
    "                  title_yref = 'paper'\n",
    "                 \n",
    "                 )\n",
    "\n",
    "fig.show()"
   ]
  },
  {
   "cell_type": "code",
   "execution_count": null,
   "id": "5526fba8-b4e3-49cb-877d-b069b6a81fde",
   "metadata": {},
   "outputs": [],
   "source": [
    "selection = ['Botswana', 'Tonga', 'brr', 'Timor-Leste']\n",
    "selection = []\n",
    "dicts = []\n",
    "for s in selection:\n",
    "    try:\n",
    "        ix = list(fig.data[0].customdata).index(s)\n",
    "        dicts.append({'name':s, 'x':fig.data[0].x[ix], 'y': fig.data[0].y[ix]})\n",
    "    except:\n",
    "        pass\n",
    "\n",
    "if not len(dicts) == 0:\n",
    "    for d in dicts:\n",
    "        fig.add_trace(go.Scatter(x = [d['x']], y = [d['y']],\n",
    "                                 name = d['name'],\n",
    "                                 mode = 'markers',\n",
    "                                 marker_symbol = 'circle-open',\n",
    "                                 marker_size = 14,\n",
    "                                 hoverinfo = 'skip'\n",
    "                                )\n",
    "                     )\n",
    "fig.show()"
   ]
  },
  {
   "cell_type": "code",
   "execution_count": null,
   "id": "56a16d7c-b2b9-4e7c-a9f1-7f6e20a56a9a",
   "metadata": {},
   "outputs": [],
   "source": [
    "lst = list(fig.data[0].customdata)\n",
    "ix = lst.index('Norway')\n",
    "dicts = []\n",
    "d = {}\n",
    "dicts.append({'country':'Norway', 'x':1.9, 'y': 80.3951219512})\n",
    "for d in dicts:\n",
    "    fig.add_trace(go.Scatter(x = d['x'], y = d['y'],\n",
    "                             name = d['name'],\n",
    "                             mode = 'markers', symbol = 'circle'))\n",
    "fig.show()"
   ]
  },
  {
   "cell_type": "code",
   "execution_count": null,
   "id": "8ef90917-1049-43fa-9bdd-367b53324348",
   "metadata": {},
   "outputs": [],
   "source": [
    "import dash_bootstrap_components as dbc"
   ]
  },
  {
   "cell_type": "code",
   "execution_count": null,
   "id": "e2d002f4-15b1-42af-a72e-4a391d947854",
   "metadata": {},
   "outputs": [],
   "source": [
    "dcc.Checklist(id=\"x-variable\",\n",
    "                            #options=[{\"label\": i, \"value\": col} for i, col in enumerate(modeller_alle)],\n",
    "\n",
    "                options=[{\"label\": col + ' ', \"value\": col} for col in df.columns],\n",
    "                #options=[{\"label\": col, \"value\": col} for col in df.columns],\n",
    "                value=[df.columns[1]],\n",
    "                labelStyle={'display': 'inline-block', 'width': '12em', 'line-height':'0.5em'},\n",
    "                style={'width':'100%'}\n",
    "                            #clearable=False,\n",
    "                            #multi = True\n",
    "                        )"
   ]
  },
  {
   "cell_type": "markdown",
   "id": "8e873f68-973d-4ab2-8515-ffb11750cb28",
   "metadata": {},
   "source": [
    "# Cell below:\n",
    "# 1. Callback context import\n",
    "\n",
    "# dir(ctx) returns:\n",
    "['args_grouping', 'inputs', 'inputs_list', 'outputs_grouping', 'outputs_list', 'record_timing', 'response', 'states', 'states_list', 'triggered', 'triggered_id', 'triggered_prop_ids', 'using_args_grouping', 'using_outputs_grouping']\n"
   ]
  },
  {
   "cell_type": "code",
   "execution_count": 51,
   "id": "a0200435-e728-4259-955b-b1d2e6c44748",
   "metadata": {},
   "outputs": [
    {
     "name": "stdout",
     "output_type": "stream",
     "text": [
      "ctx_inputs_list\n",
      "=================\n",
      "[{'id': 'crossfilter-indicator-scatter', 'property': 'clickData', 'value': {}}, {'id': 'dd1_fokus_land', 'property': 'value', 'value': ['Late-demographic dividend']}]\n"
     ]
    }
   ],
   "source": [
    "import plotly.graph_objects as go\n",
    "import plotly.express as px\n",
    "import pandas as pd\n",
    "import dbm.dumb\n",
    "import shelve\n",
    "from dash import Dash, html, dcc\n",
    "\n",
    "with shelve.open('C:\\\\repos\\shelve\\dash2\\\\callback_context', 'r') as shelf_in:\n",
    "    # for key in shelf_in.keys():\n",
    "        # print(repr(key), repr(shelf_in[key]))\n",
    "        # print(repr(key))\n",
    "    # fig = go.Figure(shelf_in['figout'])\n",
    "    # ctx_inputs = shelf_in['ctx_inputs']\n",
    "    ctx_inputs_list = shelf_in['ctx_inputs_list']\n",
    "    ctx_outputs_list = shelf_in['ctx_outputs_list']\n",
    "    ctx_triggered_id = shelf_in['ctx_triggered_id']\n",
    "    # figdata = shelf_in['figdata']\n",
    "    # df = pd.read_pickle(shelf_in['dfout'])\n",
    "    # dff = shelf_in['dfout']\n",
    "\n",
    "# print(\"ctx_inputs_list:\")\n",
    "# print(\"================\")\n",
    "# print(ctx_inputs_list)\n",
    "# print(\"ctc_outputs_list:\")\n",
    "print(\"ctx_inputs_list\")\n",
    "print(\"=================\")\n",
    "print(ctx_inputs_list)\n",
    "# print(\"ctx_triggered_id:\")     \n",
    "# print(\"=======================\")\n",
    "# print(ctx_inputs_list)"
   ]
  },
  {
   "cell_type": "code",
   "execution_count": 52,
   "id": "f517709f-9faa-464b-94d6-2770601b5944",
   "metadata": {},
   "outputs": [
    {
     "data": {
      "text/plain": [
       "[{'id': 'crossfilter-indicator-scatter', 'property': 'clickData', 'value': {}},\n",
       " {'id': 'dd1_fokus_land',\n",
       "  'property': 'value',\n",
       "  'value': ['Late-demographic dividend']}]"
      ]
     },
     "execution_count": 52,
     "metadata": {},
     "output_type": "execute_result"
    }
   ],
   "source": [
    "ctx_inputs_list"
   ]
  },
  {
   "cell_type": "code",
   "execution_count": 41,
   "id": "dbeec625-e80f-4f27-8a86-4bde3eba522f",
   "metadata": {},
   "outputs": [
    {
     "data": {
      "text/plain": [
       "{'id': 'dd1_fokus_land',\n",
       " 'property': 'value',\n",
       " 'value': ['Caribbean small states',\n",
       "  'Nepal',\n",
       "  'Middle East & North Africa',\n",
       "  'Israel']}"
      ]
     },
     "execution_count": 41,
     "metadata": {},
     "output_type": "execute_result"
    }
   ],
   "source": [
    "ctx_inputs_list[1]"
   ]
  },
  {
   "cell_type": "code",
   "execution_count": null,
   "id": "cadf76fb-5562-4470-bf86-e26421587d55",
   "metadata": {},
   "outputs": [],
   "source": [
    "import numpy as np\n",
    "xaxis_type = 'Log'\n",
    "yaxis_type = 'Linear'\n",
    "if xaxis_type == 'Log' and yaxis_type  == 'Linear':\n",
    "    print('true')\n",
    "    x = sm.add_constant(np.log(df_reg[\"x\"]))\n",
    "    model = sm.OLS(np.log(df_reg[\"y\"]), x).fit()\n",
    "model.summary()"
   ]
  },
  {
   "cell_type": "code",
   "execution_count": null,
   "id": "94e92168-f1e3-4f05-acde-0e155fa207c3",
   "metadata": {},
   "outputs": [],
   "source": []
  },
  {
   "cell_type": "code",
   "execution_count": null,
   "id": "ed16ffc2-b67d-49f2-983f-ead02df160da",
   "metadata": {},
   "outputs": [],
   "source": [
    "import pandas as pd\n",
    "import plotly.graph_objects as go\n",
    "import numpy as np\n",
    "import plotly.express as px\n",
    "# import dash\n",
    "import plotly\n",
    "\n",
    "# sample dataframe\n",
    "df = pd.DataFrame()\n",
    "df['x'] = np.arange(4) +1\n",
    "df['y1'] = df['x']**3\n",
    "df['y2'] = [10+val**2.2 for val in df['x']]\n",
    "\n",
    "df1 = df.copy()\n",
    "# df1['hour'] = 0\n",
    "df_all = df.copy()\n",
    "df_all['hour'] = 0\n",
    "for i in np.arange(1,9):\n",
    "    hour = str(i)\n",
    "    dfl = df1.copy()\n",
    "    dfl['hour']= str(i)\n",
    "    df_all = pd.concat([df_all, dfl])\n",
    "\n",
    "# df_long = pd.melt(df_all, id_vars = ['x'], value_vars = df_all.columns[1:])\n",
    "# df_long\n",
    "\n",
    "# plotly express lince chart\n",
    "fig = px.line(df_all, x = 'x', y = ['y1', 'y2'], facet_col = 'hour',\n",
    "              facet_col_wrap=3, \n",
    "              height = 1200,\n",
    "              template = 'plotly_dark')\n",
    "\n",
    "# some cosmetics for the presentation\n",
    "fig.for_each_yaxis(lambda y: y.update(tickfont_size = 18))\n",
    "fig.for_each_xaxis(lambda x: x.update(tickfont_size = 18))\n",
    "\n",
    "#\n",
    "plotly.offline.plot(fig, filename='C:/plotlyplots/demo24.html')"
   ]
  }
 ],
 "metadata": {
  "kernelspec": {
   "display_name": "Python 3 (ipykernel)",
   "language": "python",
   "name": "python3"
  },
  "language_info": {
   "codemirror_mode": {
    "name": "ipython",
    "version": 3
   },
   "file_extension": ".py",
   "mimetype": "text/x-python",
   "name": "python",
   "nbconvert_exporter": "python",
   "pygments_lexer": "ipython3",
   "version": "3.10.4"
  }
 },
 "nbformat": 4,
 "nbformat_minor": 5
}
