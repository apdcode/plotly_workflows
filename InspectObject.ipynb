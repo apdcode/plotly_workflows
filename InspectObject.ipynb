{
 "cells": [
  {
   "cell_type": "markdown",
   "id": "1b7ed6a4-6176-4de2-a844-cc2766b37bb7",
   "metadata": {},
   "source": [
    "# Notes for Adam\n",
    "\n",
    "In the slider example in https://dash.plotly.com/dash-core-components/slider, Dash is missing in the imports\n",
    "\n",
    "Weird behaviour for `animate = True` in `dcc.Graph` components, at least for versions < 2.6.0\n",
    "\n",
    "=> demonstrate with `https://github.com/apdcode/plotly_curriculum/blob/main/DemoCircleRef_AnimationDemo_Spot1.py`, with `conda activate spot1`\n"
   ]
  },
  {
   "cell_type": "markdown",
   "id": "d62f4c17-6fbf-47db-a3b0-e84e244eedf5",
   "metadata": {},
   "source": [
    "# Demo for Adam"
   ]
  },
  {
   "cell_type": "markdown",
   "id": "9061cc45-e70c-4c23-9953-66bf03b22171",
   "metadata": {},
   "source": [
    "# Cell below:\n",
    "# 1. Figure import\n",
    "# 2. Figure data import\n",
    "# 3. Data source (dataframe) import"
   ]
  },
  {
   "cell_type": "markdown",
   "id": "ccbcc9e8-0a1c-4f9e-9fb3-30c950723d52",
   "metadata": {},
   "source": [
    "- fantastic debugging discusion the last time\n",
    "- watch expressions was new to me\n",
    "- debugging and inspecting dataframes, figures and callback contect still feel... inefficient\n",
    "- I feel it's better to use pickle() and inspect objects in JupyterLab\n",
    "- But that too feels inefficient\n",
    "- Typical workflow:\n",
    "    - run without debugging\n",
    "    - get an error message in the app\n",
    "    - correct the error message and run again with ctrl+s\n",
    "    - OR shut down app\n",
    "    - run again with Start Debugging\n",
    "    - Anyway: A LOT of restarting going on\n",
    "- are there better ways that are unknow to me/us?\n",
    "    - perhaps with PyCharm?\n",
    "    - Or in VSCode Call Stack?\n",
    "    - => I'd like to dive into this:\n",
    "    - AND weird or even productive ways to set up attributes in app.run_server() like:\n",
    "        - debug = True\n",
    "        - dev_tools_props_check \n",
    "        - dev_tools_ui\n",
    "- Community efforts were mentioned last time aroudn\n",
    "    - a possibility for a medium.article?\n",
    "    - if not, then SO or CF\n",
    "- ChatGPT?"
   ]
  },
  {
   "cell_type": "code",
   "execution_count": 17,
   "id": "897baa6e-fa89-4a70-9d11-203002e1f3fe",
   "metadata": {},
   "outputs": [
    {
     "data": {
      "application/vnd.plotly.v1+json": {
       "config": {
        "plotlyServerURL": "https://plot.ly"
       },
       "data": [
        {
         "hovertemplate": "x=%{x}<br>y=%{y}<extra></extra>",
         "legendgroup": "",
         "marker": {
          "color": "#636efa",
          "symbol": "circle"
         },
         "mode": "markers",
         "name": "",
         "orientation": "v",
         "showlegend": false,
         "type": "scatter",
         "x": [
          0,
          1,
          2,
          3,
          4,
          5,
          6,
          7,
          8,
          9,
          10,
          11,
          12,
          13,
          14,
          15,
          16,
          17,
          18,
          19,
          20,
          21,
          22,
          23,
          24,
          25,
          26,
          27,
          28,
          29,
          30,
          31,
          32,
          33,
          34,
          35,
          36,
          37,
          38,
          39,
          40,
          41,
          42,
          43,
          44,
          45,
          46,
          47,
          48,
          49
         ],
         "xaxis": "x",
         "y": [
          4.967141530112327,
          -1.3826430117118464,
          6.476885381006925,
          15.230298564080254,
          -2.3415337472333597,
          -2.3413695694918055,
          15.792128155073915,
          7.674347291529088,
          -4.694743859349521,
          5.425600435859646,
          -4.634176928124623,
          -4.657297535702568,
          2.419622715660341,
          -19.13280244657798,
          -17.249178325130327,
          -5.622875292409727,
          -10.128311203344238,
          3.142473325952739,
          -9.08024075521211,
          -14.123037013352915,
          14.65648768921554,
          -2.2577630048653567,
          0.6752820468792384,
          -14.247481862134567,
          -5.443827245251827,
          1.1092258970986608,
          -11.509935774223027,
          3.7569801834567196,
          -6.006386899188049,
          -2.916937497932768,
          -6.017066122293969,
          18.522781845089376,
          -0.13497224737933922,
          -10.577109289559004,
          8.22544912103189,
          -12.208436499710222,
          2.088635950047554,
          -19.596701238797756,
          -13.281860488984305,
          1.9686123586912352,
          7.384665799954105,
          1.713682811899705,
          -1.1564828238824052,
          -3.011036955892888,
          -14.785219903674275,
          -7.198442083947087,
          -4.606387709597875,
          10.571222262189156,
          3.436182895684614,
          -17.63040155362734
         ],
         "yaxis": "y"
        }
       ],
       "layout": {
        "annotations": [
         {
          "arrowcolor": "black",
          "arrowhead": 1,
          "arrowsize": 3,
          "arrowwidth": 1,
          "showarrow": true,
          "text": "Annotation 1",
          "x": 21.95035460992908,
          "y": 10.389221421334012
         },
         {
          "arrowcolor": "black",
          "arrowhead": 1,
          "arrowsize": 3,
          "arrowwidth": 1,
          "showarrow": true,
          "text": "Annotation 1",
          "x": 13.01418439716312,
          "y": 12.635673463110049
         },
         {
          "arrowcolor": "black",
          "arrowhead": 1,
          "arrowsize": 3,
          "arrowwidth": 1,
          "showarrow": true,
          "text": "Annotation 1",
          "x": 4.290780141843973,
          "y": -19.376268132198483
         },
         {
          "arrowcolor": "black",
          "arrowhead": 1,
          "arrowsize": 3,
          "arrowwidth": 1,
          "showarrow": true,
          "text": "Annotation 1",
          "x": 38.54609929078014,
          "y": 5.194301074726925
         },
         {
          "arrowcolor": "black",
          "arrowhead": 1,
          "arrowsize": 3,
          "arrowwidth": 1,
          "showarrow": true,
          "text": "Annotation 1",
          "x": 25,
          "y": 0
         },
         {
          "arrowcolor": "black",
          "arrowhead": 1,
          "arrowsize": 3,
          "arrowwidth": 1,
          "showarrow": true,
          "text": "Annotation 2",
          "x": 25,
          "y": 0
         },
         {
          "arrowcolor": "black",
          "arrowhead": 1,
          "arrowsize": 3,
          "arrowwidth": 1,
          "showarrow": true,
          "text": "Annotation 1",
          "x": 42.815602836879435,
          "y": -9.091729878442562
         },
         {
          "arrowcolor": "black",
          "arrowhead": 1,
          "arrowsize": 3,
          "arrowwidth": 1,
          "showarrow": true,
          "text": "",
          "x": 25,
          "y": 0
         },
         {
          "arrowcolor": "black",
          "arrowhead": 1,
          "arrowsize": 3,
          "arrowwidth": 1,
          "showarrow": true,
          "text": "Annotation 2",
          "x": 27,
          "y": 2
         },
         {
          "arrowcolor": "black",
          "arrowhead": 1,
          "arrowsize": 3,
          "arrowwidth": 1,
          "showarrow": true,
          "text": "Annotation 1",
          "x": 29,
          "y": 4
         },
         {
          "arrowcolor": "black",
          "arrowhead": 1,
          "arrowsize": 3,
          "arrowwidth": 1,
          "showarrow": true,
          "text": "",
          "x": 25,
          "y": 0
         },
         {
          "arrowcolor": "black",
          "arrowhead": 1,
          "arrowsize": 3,
          "arrowwidth": 1,
          "showarrow": true,
          "text": "Annotation 2",
          "x": 27,
          "y": 2
         },
         {
          "arrowcolor": "black",
          "arrowhead": 1,
          "arrowsize": 3,
          "arrowwidth": 1,
          "showarrow": true,
          "text": "Annotation 1",
          "x": 29,
          "y": 4
         },
         {
          "arrowcolor": "black",
          "arrowhead": 1,
          "arrowsize": 3,
          "arrowwidth": 1,
          "showarrow": true,
          "text": "",
          "x": 25,
          "y": 0
         },
         {
          "arrowcolor": "black",
          "arrowhead": 1,
          "arrowsize": 3,
          "arrowwidth": 1,
          "showarrow": true,
          "text": "Annotation 2",
          "x": 27,
          "y": 2
         },
         {
          "arrowcolor": "black",
          "arrowhead": 1,
          "arrowsize": 3,
          "arrowwidth": 1,
          "showarrow": true,
          "text": "Annotation 1",
          "x": 29,
          "y": 4
         },
         {
          "arrowcolor": "black",
          "arrowhead": 1,
          "arrowsize": 3,
          "arrowwidth": 1,
          "showarrow": true,
          "text": "",
          "x": 25,
          "y": 0
         },
         {
          "arrowcolor": "black",
          "arrowhead": 1,
          "arrowsize": 3,
          "arrowwidth": 1,
          "showarrow": true,
          "text": "Annotation 2",
          "x": 27,
          "y": 2
         },
         {
          "arrowcolor": "black",
          "arrowhead": 1,
          "arrowsize": 3,
          "arrowwidth": 1,
          "showarrow": true,
          "text": "Annotation 1",
          "x": 29,
          "y": 4
         },
         {
          "arrowcolor": "black",
          "arrowhead": 1,
          "arrowsize": 3,
          "arrowwidth": 1,
          "showarrow": true,
          "text": "",
          "x": 25,
          "y": 0
         },
         {
          "arrowcolor": "black",
          "arrowhead": 1,
          "arrowsize": 3,
          "arrowwidth": 1,
          "showarrow": true,
          "text": "Annotation 2",
          "x": 27,
          "y": 2
         },
         {
          "arrowcolor": "black",
          "arrowhead": 1,
          "arrowsize": 3,
          "arrowwidth": 1,
          "showarrow": true,
          "text": "Annotation 1",
          "x": 29,
          "y": 4
         },
         {
          "arrowcolor": "black",
          "arrowhead": 1,
          "arrowsize": 3,
          "arrowwidth": 1,
          "showarrow": true,
          "text": "",
          "x": 25,
          "y": 0
         },
         {
          "arrowcolor": "black",
          "arrowhead": 1,
          "arrowsize": 3,
          "arrowwidth": 1,
          "showarrow": true,
          "text": "Annotation 2",
          "x": 27,
          "y": 2
         },
         {
          "arrowcolor": "black",
          "arrowhead": 1,
          "arrowsize": 3,
          "arrowwidth": 1,
          "showarrow": true,
          "text": "Annotation 1",
          "x": 29,
          "y": 4
         }
        ],
        "autosize": true,
        "legend": {
         "tracegroupgap": 0
        },
        "margin": {
         "t": 60
        },
        "template": {
         "data": {
          "bar": [
           {
            "error_x": {
             "color": "#2a3f5f"
            },
            "error_y": {
             "color": "#2a3f5f"
            },
            "marker": {
             "line": {
              "color": "#E5ECF6",
              "width": 0.5
             },
             "pattern": {
              "fillmode": "overlay",
              "size": 10,
              "solidity": 0.2
             }
            },
            "type": "bar"
           }
          ],
          "barpolar": [
           {
            "marker": {
             "line": {
              "color": "#E5ECF6",
              "width": 0.5
             },
             "pattern": {
              "fillmode": "overlay",
              "size": 10,
              "solidity": 0.2
             }
            },
            "type": "barpolar"
           }
          ],
          "carpet": [
           {
            "aaxis": {
             "endlinecolor": "#2a3f5f",
             "gridcolor": "white",
             "linecolor": "white",
             "minorgridcolor": "white",
             "startlinecolor": "#2a3f5f"
            },
            "baxis": {
             "endlinecolor": "#2a3f5f",
             "gridcolor": "white",
             "linecolor": "white",
             "minorgridcolor": "white",
             "startlinecolor": "#2a3f5f"
            },
            "type": "carpet"
           }
          ],
          "choropleth": [
           {
            "colorbar": {
             "outlinewidth": 0,
             "ticks": ""
            },
            "type": "choropleth"
           }
          ],
          "contour": [
           {
            "colorbar": {
             "outlinewidth": 0,
             "ticks": ""
            },
            "colorscale": [
             [
              0,
              "#0d0887"
             ],
             [
              0.1111111111111111,
              "#46039f"
             ],
             [
              0.2222222222222222,
              "#7201a8"
             ],
             [
              0.3333333333333333,
              "#9c179e"
             ],
             [
              0.4444444444444444,
              "#bd3786"
             ],
             [
              0.5555555555555556,
              "#d8576b"
             ],
             [
              0.6666666666666666,
              "#ed7953"
             ],
             [
              0.7777777777777778,
              "#fb9f3a"
             ],
             [
              0.8888888888888888,
              "#fdca26"
             ],
             [
              1,
              "#f0f921"
             ]
            ],
            "type": "contour"
           }
          ],
          "contourcarpet": [
           {
            "colorbar": {
             "outlinewidth": 0,
             "ticks": ""
            },
            "type": "contourcarpet"
           }
          ],
          "heatmap": [
           {
            "colorbar": {
             "outlinewidth": 0,
             "ticks": ""
            },
            "colorscale": [
             [
              0,
              "#0d0887"
             ],
             [
              0.1111111111111111,
              "#46039f"
             ],
             [
              0.2222222222222222,
              "#7201a8"
             ],
             [
              0.3333333333333333,
              "#9c179e"
             ],
             [
              0.4444444444444444,
              "#bd3786"
             ],
             [
              0.5555555555555556,
              "#d8576b"
             ],
             [
              0.6666666666666666,
              "#ed7953"
             ],
             [
              0.7777777777777778,
              "#fb9f3a"
             ],
             [
              0.8888888888888888,
              "#fdca26"
             ],
             [
              1,
              "#f0f921"
             ]
            ],
            "type": "heatmap"
           }
          ],
          "heatmapgl": [
           {
            "colorbar": {
             "outlinewidth": 0,
             "ticks": ""
            },
            "colorscale": [
             [
              0,
              "#0d0887"
             ],
             [
              0.1111111111111111,
              "#46039f"
             ],
             [
              0.2222222222222222,
              "#7201a8"
             ],
             [
              0.3333333333333333,
              "#9c179e"
             ],
             [
              0.4444444444444444,
              "#bd3786"
             ],
             [
              0.5555555555555556,
              "#d8576b"
             ],
             [
              0.6666666666666666,
              "#ed7953"
             ],
             [
              0.7777777777777778,
              "#fb9f3a"
             ],
             [
              0.8888888888888888,
              "#fdca26"
             ],
             [
              1,
              "#f0f921"
             ]
            ],
            "type": "heatmapgl"
           }
          ],
          "histogram": [
           {
            "marker": {
             "pattern": {
              "fillmode": "overlay",
              "size": 10,
              "solidity": 0.2
             }
            },
            "type": "histogram"
           }
          ],
          "histogram2d": [
           {
            "colorbar": {
             "outlinewidth": 0,
             "ticks": ""
            },
            "colorscale": [
             [
              0,
              "#0d0887"
             ],
             [
              0.1111111111111111,
              "#46039f"
             ],
             [
              0.2222222222222222,
              "#7201a8"
             ],
             [
              0.3333333333333333,
              "#9c179e"
             ],
             [
              0.4444444444444444,
              "#bd3786"
             ],
             [
              0.5555555555555556,
              "#d8576b"
             ],
             [
              0.6666666666666666,
              "#ed7953"
             ],
             [
              0.7777777777777778,
              "#fb9f3a"
             ],
             [
              0.8888888888888888,
              "#fdca26"
             ],
             [
              1,
              "#f0f921"
             ]
            ],
            "type": "histogram2d"
           }
          ],
          "histogram2dcontour": [
           {
            "colorbar": {
             "outlinewidth": 0,
             "ticks": ""
            },
            "colorscale": [
             [
              0,
              "#0d0887"
             ],
             [
              0.1111111111111111,
              "#46039f"
             ],
             [
              0.2222222222222222,
              "#7201a8"
             ],
             [
              0.3333333333333333,
              "#9c179e"
             ],
             [
              0.4444444444444444,
              "#bd3786"
             ],
             [
              0.5555555555555556,
              "#d8576b"
             ],
             [
              0.6666666666666666,
              "#ed7953"
             ],
             [
              0.7777777777777778,
              "#fb9f3a"
             ],
             [
              0.8888888888888888,
              "#fdca26"
             ],
             [
              1,
              "#f0f921"
             ]
            ],
            "type": "histogram2dcontour"
           }
          ],
          "mesh3d": [
           {
            "colorbar": {
             "outlinewidth": 0,
             "ticks": ""
            },
            "type": "mesh3d"
           }
          ],
          "parcoords": [
           {
            "line": {
             "colorbar": {
              "outlinewidth": 0,
              "ticks": ""
             }
            },
            "type": "parcoords"
           }
          ],
          "pie": [
           {
            "automargin": true,
            "type": "pie"
           }
          ],
          "scatter": [
           {
            "fillpattern": {
             "fillmode": "overlay",
             "size": 10,
             "solidity": 0.2
            },
            "type": "scatter"
           }
          ],
          "scatter3d": [
           {
            "line": {
             "colorbar": {
              "outlinewidth": 0,
              "ticks": ""
             }
            },
            "marker": {
             "colorbar": {
              "outlinewidth": 0,
              "ticks": ""
             }
            },
            "type": "scatter3d"
           }
          ],
          "scattercarpet": [
           {
            "marker": {
             "colorbar": {
              "outlinewidth": 0,
              "ticks": ""
             }
            },
            "type": "scattercarpet"
           }
          ],
          "scattergeo": [
           {
            "marker": {
             "colorbar": {
              "outlinewidth": 0,
              "ticks": ""
             }
            },
            "type": "scattergeo"
           }
          ],
          "scattergl": [
           {
            "marker": {
             "colorbar": {
              "outlinewidth": 0,
              "ticks": ""
             }
            },
            "type": "scattergl"
           }
          ],
          "scattermapbox": [
           {
            "marker": {
             "colorbar": {
              "outlinewidth": 0,
              "ticks": ""
             }
            },
            "type": "scattermapbox"
           }
          ],
          "scatterpolar": [
           {
            "marker": {
             "colorbar": {
              "outlinewidth": 0,
              "ticks": ""
             }
            },
            "type": "scatterpolar"
           }
          ],
          "scatterpolargl": [
           {
            "marker": {
             "colorbar": {
              "outlinewidth": 0,
              "ticks": ""
             }
            },
            "type": "scatterpolargl"
           }
          ],
          "scatterternary": [
           {
            "marker": {
             "colorbar": {
              "outlinewidth": 0,
              "ticks": ""
             }
            },
            "type": "scatterternary"
           }
          ],
          "surface": [
           {
            "colorbar": {
             "outlinewidth": 0,
             "ticks": ""
            },
            "colorscale": [
             [
              0,
              "#0d0887"
             ],
             [
              0.1111111111111111,
              "#46039f"
             ],
             [
              0.2222222222222222,
              "#7201a8"
             ],
             [
              0.3333333333333333,
              "#9c179e"
             ],
             [
              0.4444444444444444,
              "#bd3786"
             ],
             [
              0.5555555555555556,
              "#d8576b"
             ],
             [
              0.6666666666666666,
              "#ed7953"
             ],
             [
              0.7777777777777778,
              "#fb9f3a"
             ],
             [
              0.8888888888888888,
              "#fdca26"
             ],
             [
              1,
              "#f0f921"
             ]
            ],
            "type": "surface"
           }
          ],
          "table": [
           {
            "cells": {
             "fill": {
              "color": "#EBF0F8"
             },
             "line": {
              "color": "white"
             }
            },
            "header": {
             "fill": {
              "color": "#C8D4E3"
             },
             "line": {
              "color": "white"
             }
            },
            "type": "table"
           }
          ]
         },
         "layout": {
          "annotationdefaults": {
           "arrowcolor": "#2a3f5f",
           "arrowhead": 0,
           "arrowwidth": 1
          },
          "autotypenumbers": "strict",
          "coloraxis": {
           "colorbar": {
            "outlinewidth": 0,
            "ticks": ""
           }
          },
          "colorscale": {
           "diverging": [
            [
             0,
             "#8e0152"
            ],
            [
             0.1,
             "#c51b7d"
            ],
            [
             0.2,
             "#de77ae"
            ],
            [
             0.3,
             "#f1b6da"
            ],
            [
             0.4,
             "#fde0ef"
            ],
            [
             0.5,
             "#f7f7f7"
            ],
            [
             0.6,
             "#e6f5d0"
            ],
            [
             0.7,
             "#b8e186"
            ],
            [
             0.8,
             "#7fbc41"
            ],
            [
             0.9,
             "#4d9221"
            ],
            [
             1,
             "#276419"
            ]
           ],
           "sequential": [
            [
             0,
             "#0d0887"
            ],
            [
             0.1111111111111111,
             "#46039f"
            ],
            [
             0.2222222222222222,
             "#7201a8"
            ],
            [
             0.3333333333333333,
             "#9c179e"
            ],
            [
             0.4444444444444444,
             "#bd3786"
            ],
            [
             0.5555555555555556,
             "#d8576b"
            ],
            [
             0.6666666666666666,
             "#ed7953"
            ],
            [
             0.7777777777777778,
             "#fb9f3a"
            ],
            [
             0.8888888888888888,
             "#fdca26"
            ],
            [
             1,
             "#f0f921"
            ]
           ],
           "sequentialminus": [
            [
             0,
             "#0d0887"
            ],
            [
             0.1111111111111111,
             "#46039f"
            ],
            [
             0.2222222222222222,
             "#7201a8"
            ],
            [
             0.3333333333333333,
             "#9c179e"
            ],
            [
             0.4444444444444444,
             "#bd3786"
            ],
            [
             0.5555555555555556,
             "#d8576b"
            ],
            [
             0.6666666666666666,
             "#ed7953"
            ],
            [
             0.7777777777777778,
             "#fb9f3a"
            ],
            [
             0.8888888888888888,
             "#fdca26"
            ],
            [
             1,
             "#f0f921"
            ]
           ]
          },
          "colorway": [
           "#636efa",
           "#EF553B",
           "#00cc96",
           "#ab63fa",
           "#FFA15A",
           "#19d3f3",
           "#FF6692",
           "#B6E880",
           "#FF97FF",
           "#FECB52"
          ],
          "font": {
           "color": "#2a3f5f"
          },
          "geo": {
           "bgcolor": "white",
           "lakecolor": "white",
           "landcolor": "#E5ECF6",
           "showlakes": true,
           "showland": true,
           "subunitcolor": "white"
          },
          "hoverlabel": {
           "align": "left"
          },
          "hovermode": "closest",
          "mapbox": {
           "style": "light"
          },
          "paper_bgcolor": "white",
          "plot_bgcolor": "#E5ECF6",
          "polar": {
           "angularaxis": {
            "gridcolor": "white",
            "linecolor": "white",
            "ticks": ""
           },
           "bgcolor": "#E5ECF6",
           "radialaxis": {
            "gridcolor": "white",
            "linecolor": "white",
            "ticks": ""
           }
          },
          "scene": {
           "xaxis": {
            "backgroundcolor": "#E5ECF6",
            "gridcolor": "white",
            "gridwidth": 2,
            "linecolor": "white",
            "showbackground": true,
            "ticks": "",
            "zerolinecolor": "white"
           },
           "yaxis": {
            "backgroundcolor": "#E5ECF6",
            "gridcolor": "white",
            "gridwidth": 2,
            "linecolor": "white",
            "showbackground": true,
            "ticks": "",
            "zerolinecolor": "white"
           },
           "zaxis": {
            "backgroundcolor": "#E5ECF6",
            "gridcolor": "white",
            "gridwidth": 2,
            "linecolor": "white",
            "showbackground": true,
            "ticks": "",
            "zerolinecolor": "white"
           }
          },
          "shapedefaults": {
           "line": {
            "color": "#2a3f5f"
           }
          },
          "ternary": {
           "aaxis": {
            "gridcolor": "white",
            "linecolor": "white",
            "ticks": ""
           },
           "baxis": {
            "gridcolor": "white",
            "linecolor": "white",
            "ticks": ""
           },
           "bgcolor": "#E5ECF6",
           "caxis": {
            "gridcolor": "white",
            "linecolor": "white",
            "ticks": ""
           }
          },
          "title": {
           "x": 0.05
          },
          "xaxis": {
           "automargin": true,
           "gridcolor": "white",
           "linecolor": "white",
           "ticks": "",
           "title": {
            "standoff": 15
           },
           "zerolinecolor": "white",
           "zerolinewidth": 2
          },
          "yaxis": {
           "automargin": true,
           "gridcolor": "white",
           "linecolor": "white",
           "ticks": "",
           "title": {
            "standoff": 15
           },
           "zerolinecolor": "white",
           "zerolinewidth": 2
          }
         }
        },
        "xaxis": {
         "anchor": "y",
         "autorange": true,
         "domain": [
          0,
          1
         ],
         "range": [
          -2.9986460871919856,
          51.998646087191986
         ],
         "title": {
          "text": "x"
         },
         "type": "linear"
        },
        "yaxis": {
         "anchor": "x",
         "autorange": true,
         "domain": [
          0,
          1
         ],
         "range": [
          -22.548209771539675,
          21.474290377831295
         ],
         "title": {
          "text": "y"
         },
         "type": "linear"
        }
       }
      },
      "image/png": "[encoded data removed]",
      "text/html": [
       "<div>                            <div id=\"f19b13a2-4aac-468b-ac37-1e99d7618846\" class=\"plotly-graph-div\" style=\"height:525px; width:100%;\"></div>            <script type=\"text/javascript\">                require([\"plotly\"], function(Plotly) {                    window.PLOTLYENV=window.PLOTLYENV || {};                                    if (document.getElementById(\"f19b13a2-4aac-468b-ac37-1e99d7618846\")) {                    Plotly.newPlot(                        \"f19b13a2-4aac-468b-ac37-1e99d7618846\",                        [{\"hovertemplate\":\"x=%{x}<br>y=%{y}<extra></extra>\",\"legendgroup\":\"\",\"marker\":{\"color\":\"#636efa\",\"symbol\":\"circle\"},\"mode\":\"markers\",\"name\":\"\",\"orientation\":\"v\",\"showlegend\":false,\"x\":[0,1,2,3,4,5,6,7,8,9,10,11,12,13,14,15,16,17,18,19,20,21,22,23,24,25,26,27,28,29,30,31,32,33,34,35,36,37,38,39,40,41,42,43,44,45,46,47,48,49],\"xaxis\":\"x\",\"y\":[4.967141530112327,-1.3826430117118464,6.476885381006925,15.230298564080254,-2.3415337472333597,-2.3413695694918055,15.792128155073915,7.674347291529088,-4.694743859349521,5.425600435859646,-4.634176928124623,-4.657297535702568,2.419622715660341,-19.13280244657798,-17.249178325130327,-5.622875292409727,-10.128311203344238,3.142473325952739,-9.08024075521211,-14.123037013352915,14.65648768921554,-2.2577630048653567,0.6752820468792384,-14.247481862134567,-5.443827245251827,1.1092258970986608,-11.509935774223027,3.7569801834567196,-6.006386899188049,-2.916937497932768,-6.017066122293969,18.522781845089376,-0.13497224737933922,-10.577109289559004,8.22544912103189,-12.208436499710222,2.088635950047554,-19.596701238797756,-13.281860488984305,1.9686123586912352,7.384665799954105,1.713682811899705,-1.1564828238824052,-3.011036955892888,-14.785219903674275,-7.198442083947087,-4.606387709597875,10.571222262189156,3.436182895684614,-17.63040155362734],\"yaxis\":\"y\",\"type\":\"scatter\"}],                        {\"annotations\":[{\"arrowcolor\":\"black\",\"arrowhead\":1,\"arrowsize\":3,\"arrowwidth\":1,\"showarrow\":true,\"text\":\"Annotation 1\",\"x\":21.95035460992908,\"y\":10.389221421334012},{\"arrowcolor\":\"black\",\"arrowhead\":1,\"arrowsize\":3,\"arrowwidth\":1,\"showarrow\":true,\"text\":\"Annotation 1\",\"x\":13.01418439716312,\"y\":12.635673463110049},{\"arrowcolor\":\"black\",\"arrowhead\":1,\"arrowsize\":3,\"arrowwidth\":1,\"showarrow\":true,\"text\":\"Annotation 1\",\"x\":4.290780141843973,\"y\":-19.376268132198483},{\"arrowcolor\":\"black\",\"arrowhead\":1,\"arrowsize\":3,\"arrowwidth\":1,\"showarrow\":true,\"text\":\"Annotation 1\",\"x\":38.54609929078014,\"y\":5.194301074726925},{\"arrowcolor\":\"black\",\"arrowhead\":1,\"arrowsize\":3,\"arrowwidth\":1,\"showarrow\":true,\"text\":\"Annotation 1\",\"x\":25,\"y\":0},{\"arrowcolor\":\"black\",\"arrowhead\":1,\"arrowsize\":3,\"arrowwidth\":1,\"showarrow\":true,\"text\":\"Annotation 2\",\"x\":25,\"y\":0},{\"arrowcolor\":\"black\",\"arrowhead\":1,\"arrowsize\":3,\"arrowwidth\":1,\"showarrow\":true,\"text\":\"Annotation 1\",\"x\":42.815602836879435,\"y\":-9.091729878442562},{\"arrowcolor\":\"black\",\"arrowhead\":1,\"arrowsize\":3,\"arrowwidth\":1,\"showarrow\":true,\"text\":\"\",\"x\":25,\"y\":0},{\"arrowcolor\":\"black\",\"arrowhead\":1,\"arrowsize\":3,\"arrowwidth\":1,\"showarrow\":true,\"text\":\"Annotation 2\",\"x\":27,\"y\":2},{\"arrowcolor\":\"black\",\"arrowhead\":1,\"arrowsize\":3,\"arrowwidth\":1,\"showarrow\":true,\"text\":\"Annotation 1\",\"x\":29,\"y\":4},{\"arrowcolor\":\"black\",\"arrowhead\":1,\"arrowsize\":3,\"arrowwidth\":1,\"showarrow\":true,\"text\":\"\",\"x\":25,\"y\":0},{\"arrowcolor\":\"black\",\"arrowhead\":1,\"arrowsize\":3,\"arrowwidth\":1,\"showarrow\":true,\"text\":\"Annotation 2\",\"x\":27,\"y\":2},{\"arrowcolor\":\"black\",\"arrowhead\":1,\"arrowsize\":3,\"arrowwidth\":1,\"showarrow\":true,\"text\":\"Annotation 1\",\"x\":29,\"y\":4},{\"arrowcolor\":\"black\",\"arrowhead\":1,\"arrowsize\":3,\"arrowwidth\":1,\"showarrow\":true,\"text\":\"\",\"x\":25,\"y\":0},{\"arrowcolor\":\"black\",\"arrowhead\":1,\"arrowsize\":3,\"arrowwidth\":1,\"showarrow\":true,\"text\":\"Annotation 2\",\"x\":27,\"y\":2},{\"arrowcolor\":\"black\",\"arrowhead\":1,\"arrowsize\":3,\"arrowwidth\":1,\"showarrow\":true,\"text\":\"Annotation 1\",\"x\":29,\"y\":4},{\"arrowcolor\":\"black\",\"arrowhead\":1,\"arrowsize\":3,\"arrowwidth\":1,\"showarrow\":true,\"text\":\"\",\"x\":25,\"y\":0},{\"arrowcolor\":\"black\",\"arrowhead\":1,\"arrowsize\":3,\"arrowwidth\":1,\"showarrow\":true,\"text\":\"Annotation 2\",\"x\":27,\"y\":2},{\"arrowcolor\":\"black\",\"arrowhead\":1,\"arrowsize\":3,\"arrowwidth\":1,\"showarrow\":true,\"text\":\"Annotation 1\",\"x\":29,\"y\":4},{\"arrowcolor\":\"black\",\"arrowhead\":1,\"arrowsize\":3,\"arrowwidth\":1,\"showarrow\":true,\"text\":\"\",\"x\":25,\"y\":0},{\"arrowcolor\":\"black\",\"arrowhead\":1,\"arrowsize\":3,\"arrowwidth\":1,\"showarrow\":true,\"text\":\"Annotation 2\",\"x\":27,\"y\":2},{\"arrowcolor\":\"black\",\"arrowhead\":1,\"arrowsize\":3,\"arrowwidth\":1,\"showarrow\":true,\"text\":\"Annotation 1\",\"x\":29,\"y\":4},{\"arrowcolor\":\"black\",\"arrowhead\":1,\"arrowsize\":3,\"arrowwidth\":1,\"showarrow\":true,\"text\":\"\",\"x\":25,\"y\":0},{\"arrowcolor\":\"black\",\"arrowhead\":1,\"arrowsize\":3,\"arrowwidth\":1,\"showarrow\":true,\"text\":\"Annotation 2\",\"x\":27,\"y\":2},{\"arrowcolor\":\"black\",\"arrowhead\":1,\"arrowsize\":3,\"arrowwidth\":1,\"showarrow\":true,\"text\":\"Annotation 1\",\"x\":29,\"y\":4}],\"autosize\":true,\"legend\":{\"tracegroupgap\":0},\"margin\":{\"t\":60},\"template\":{\"data\":{\"barpolar\":[{\"marker\":{\"line\":{\"color\":\"#E5ECF6\",\"width\":0.5},\"pattern\":{\"fillmode\":\"overlay\",\"size\":10,\"solidity\":0.2}},\"type\":\"barpolar\"}],\"bar\":[{\"error_x\":{\"color\":\"#2a3f5f\"},\"error_y\":{\"color\":\"#2a3f5f\"},\"marker\":{\"line\":{\"color\":\"#E5ECF6\",\"width\":0.5},\"pattern\":{\"fillmode\":\"overlay\",\"size\":10,\"solidity\":0.2}},\"type\":\"bar\"}],\"carpet\":[{\"aaxis\":{\"endlinecolor\":\"#2a3f5f\",\"gridcolor\":\"white\",\"linecolor\":\"white\",\"minorgridcolor\":\"white\",\"startlinecolor\":\"#2a3f5f\"},\"baxis\":{\"endlinecolor\":\"#2a3f5f\",\"gridcolor\":\"white\",\"linecolor\":\"white\",\"minorgridcolor\":\"white\",\"startlinecolor\":\"#2a3f5f\"},\"type\":\"carpet\"}],\"choropleth\":[{\"colorbar\":{\"outlinewidth\":0,\"ticks\":\"\"},\"type\":\"choropleth\"}],\"contourcarpet\":[{\"colorbar\":{\"outlinewidth\":0,\"ticks\":\"\"},\"type\":\"contourcarpet\"}],\"contour\":[{\"colorbar\":{\"outlinewidth\":0,\"ticks\":\"\"},\"colorscale\":[[0,\"#0d0887\"],[0.1111111111111111,\"#46039f\"],[0.2222222222222222,\"#7201a8\"],[0.3333333333333333,\"#9c179e\"],[0.4444444444444444,\"#bd3786\"],[0.5555555555555556,\"#d8576b\"],[0.6666666666666666,\"#ed7953\"],[0.7777777777777778,\"#fb9f3a\"],[0.8888888888888888,\"#fdca26\"],[1,\"#f0f921\"]],\"type\":\"contour\"}],\"heatmapgl\":[{\"colorbar\":{\"outlinewidth\":0,\"ticks\":\"\"},\"colorscale\":[[0,\"#0d0887\"],[0.1111111111111111,\"#46039f\"],[0.2222222222222222,\"#7201a8\"],[0.3333333333333333,\"#9c179e\"],[0.4444444444444444,\"#bd3786\"],[0.5555555555555556,\"#d8576b\"],[0.6666666666666666,\"#ed7953\"],[0.7777777777777778,\"#fb9f3a\"],[0.8888888888888888,\"#fdca26\"],[1,\"#f0f921\"]],\"type\":\"heatmapgl\"}],\"heatmap\":[{\"colorbar\":{\"outlinewidth\":0,\"ticks\":\"\"},\"colorscale\":[[0,\"#0d0887\"],[0.1111111111111111,\"#46039f\"],[0.2222222222222222,\"#7201a8\"],[0.3333333333333333,\"#9c179e\"],[0.4444444444444444,\"#bd3786\"],[0.5555555555555556,\"#d8576b\"],[0.6666666666666666,\"#ed7953\"],[0.7777777777777778,\"#fb9f3a\"],[0.8888888888888888,\"#fdca26\"],[1,\"#f0f921\"]],\"type\":\"heatmap\"}],\"histogram2dcontour\":[{\"colorbar\":{\"outlinewidth\":0,\"ticks\":\"\"},\"colorscale\":[[0,\"#0d0887\"],[0.1111111111111111,\"#46039f\"],[0.2222222222222222,\"#7201a8\"],[0.3333333333333333,\"#9c179e\"],[0.4444444444444444,\"#bd3786\"],[0.5555555555555556,\"#d8576b\"],[0.6666666666666666,\"#ed7953\"],[0.7777777777777778,\"#fb9f3a\"],[0.8888888888888888,\"#fdca26\"],[1,\"#f0f921\"]],\"type\":\"histogram2dcontour\"}],\"histogram2d\":[{\"colorbar\":{\"outlinewidth\":0,\"ticks\":\"\"},\"colorscale\":[[0,\"#0d0887\"],[0.1111111111111111,\"#46039f\"],[0.2222222222222222,\"#7201a8\"],[0.3333333333333333,\"#9c179e\"],[0.4444444444444444,\"#bd3786\"],[0.5555555555555556,\"#d8576b\"],[0.6666666666666666,\"#ed7953\"],[0.7777777777777778,\"#fb9f3a\"],[0.8888888888888888,\"#fdca26\"],[1,\"#f0f921\"]],\"type\":\"histogram2d\"}],\"histogram\":[{\"marker\":{\"pattern\":{\"fillmode\":\"overlay\",\"size\":10,\"solidity\":0.2}},\"type\":\"histogram\"}],\"mesh3d\":[{\"colorbar\":{\"outlinewidth\":0,\"ticks\":\"\"},\"type\":\"mesh3d\"}],\"parcoords\":[{\"line\":{\"colorbar\":{\"outlinewidth\":0,\"ticks\":\"\"}},\"type\":\"parcoords\"}],\"pie\":[{\"automargin\":true,\"type\":\"pie\"}],\"scatter3d\":[{\"line\":{\"colorbar\":{\"outlinewidth\":0,\"ticks\":\"\"}},\"marker\":{\"colorbar\":{\"outlinewidth\":0,\"ticks\":\"\"}},\"type\":\"scatter3d\"}],\"scattercarpet\":[{\"marker\":{\"colorbar\":{\"outlinewidth\":0,\"ticks\":\"\"}},\"type\":\"scattercarpet\"}],\"scattergeo\":[{\"marker\":{\"colorbar\":{\"outlinewidth\":0,\"ticks\":\"\"}},\"type\":\"scattergeo\"}],\"scattergl\":[{\"marker\":{\"colorbar\":{\"outlinewidth\":0,\"ticks\":\"\"}},\"type\":\"scattergl\"}],\"scattermapbox\":[{\"marker\":{\"colorbar\":{\"outlinewidth\":0,\"ticks\":\"\"}},\"type\":\"scattermapbox\"}],\"scatterpolargl\":[{\"marker\":{\"colorbar\":{\"outlinewidth\":0,\"ticks\":\"\"}},\"type\":\"scatterpolargl\"}],\"scatterpolar\":[{\"marker\":{\"colorbar\":{\"outlinewidth\":0,\"ticks\":\"\"}},\"type\":\"scatterpolar\"}],\"scatter\":[{\"fillpattern\":{\"fillmode\":\"overlay\",\"size\":10,\"solidity\":0.2},\"type\":\"scatter\"}],\"scatterternary\":[{\"marker\":{\"colorbar\":{\"outlinewidth\":0,\"ticks\":\"\"}},\"type\":\"scatterternary\"}],\"surface\":[{\"colorbar\":{\"outlinewidth\":0,\"ticks\":\"\"},\"colorscale\":[[0,\"#0d0887\"],[0.1111111111111111,\"#46039f\"],[0.2222222222222222,\"#7201a8\"],[0.3333333333333333,\"#9c179e\"],[0.4444444444444444,\"#bd3786\"],[0.5555555555555556,\"#d8576b\"],[0.6666666666666666,\"#ed7953\"],[0.7777777777777778,\"#fb9f3a\"],[0.8888888888888888,\"#fdca26\"],[1,\"#f0f921\"]],\"type\":\"surface\"}],\"table\":[{\"cells\":{\"fill\":{\"color\":\"#EBF0F8\"},\"line\":{\"color\":\"white\"}},\"header\":{\"fill\":{\"color\":\"#C8D4E3\"},\"line\":{\"color\":\"white\"}},\"type\":\"table\"}]},\"layout\":{\"annotationdefaults\":{\"arrowcolor\":\"#2a3f5f\",\"arrowhead\":0,\"arrowwidth\":1},\"autotypenumbers\":\"strict\",\"coloraxis\":{\"colorbar\":{\"outlinewidth\":0,\"ticks\":\"\"}},\"colorscale\":{\"diverging\":[[0,\"#8e0152\"],[0.1,\"#c51b7d\"],[0.2,\"#de77ae\"],[0.3,\"#f1b6da\"],[0.4,\"#fde0ef\"],[0.5,\"#f7f7f7\"],[0.6,\"#e6f5d0\"],[0.7,\"#b8e186\"],[0.8,\"#7fbc41\"],[0.9,\"#4d9221\"],[1,\"#276419\"]],\"sequential\":[[0,\"#0d0887\"],[0.1111111111111111,\"#46039f\"],[0.2222222222222222,\"#7201a8\"],[0.3333333333333333,\"#9c179e\"],[0.4444444444444444,\"#bd3786\"],[0.5555555555555556,\"#d8576b\"],[0.6666666666666666,\"#ed7953\"],[0.7777777777777778,\"#fb9f3a\"],[0.8888888888888888,\"#fdca26\"],[1,\"#f0f921\"]],\"sequentialminus\":[[0,\"#0d0887\"],[0.1111111111111111,\"#46039f\"],[0.2222222222222222,\"#7201a8\"],[0.3333333333333333,\"#9c179e\"],[0.4444444444444444,\"#bd3786\"],[0.5555555555555556,\"#d8576b\"],[0.6666666666666666,\"#ed7953\"],[0.7777777777777778,\"#fb9f3a\"],[0.8888888888888888,\"#fdca26\"],[1,\"#f0f921\"]]},\"colorway\":[\"#636efa\",\"#EF553B\",\"#00cc96\",\"#ab63fa\",\"#FFA15A\",\"#19d3f3\",\"#FF6692\",\"#B6E880\",\"#FF97FF\",\"#FECB52\"],\"font\":{\"color\":\"#2a3f5f\"},\"geo\":{\"bgcolor\":\"white\",\"lakecolor\":\"white\",\"landcolor\":\"#E5ECF6\",\"showlakes\":true,\"showland\":true,\"subunitcolor\":\"white\"},\"hoverlabel\":{\"align\":\"left\"},\"hovermode\":\"closest\",\"mapbox\":{\"style\":\"light\"},\"paper_bgcolor\":\"white\",\"plot_bgcolor\":\"#E5ECF6\",\"polar\":{\"angularaxis\":{\"gridcolor\":\"white\",\"linecolor\":\"white\",\"ticks\":\"\"},\"bgcolor\":\"#E5ECF6\",\"radialaxis\":{\"gridcolor\":\"white\",\"linecolor\":\"white\",\"ticks\":\"\"}},\"scene\":{\"xaxis\":{\"backgroundcolor\":\"#E5ECF6\",\"gridcolor\":\"white\",\"gridwidth\":2,\"linecolor\":\"white\",\"showbackground\":true,\"ticks\":\"\",\"zerolinecolor\":\"white\"},\"yaxis\":{\"backgroundcolor\":\"#E5ECF6\",\"gridcolor\":\"white\",\"gridwidth\":2,\"linecolor\":\"white\",\"showbackground\":true,\"ticks\":\"\",\"zerolinecolor\":\"white\"},\"zaxis\":{\"backgroundcolor\":\"#E5ECF6\",\"gridcolor\":\"white\",\"gridwidth\":2,\"linecolor\":\"white\",\"showbackground\":true,\"ticks\":\"\",\"zerolinecolor\":\"white\"}},\"shapedefaults\":{\"line\":{\"color\":\"#2a3f5f\"}},\"ternary\":{\"aaxis\":{\"gridcolor\":\"white\",\"linecolor\":\"white\",\"ticks\":\"\"},\"baxis\":{\"gridcolor\":\"white\",\"linecolor\":\"white\",\"ticks\":\"\"},\"bgcolor\":\"#E5ECF6\",\"caxis\":{\"gridcolor\":\"white\",\"linecolor\":\"white\",\"ticks\":\"\"}},\"title\":{\"x\":0.05},\"xaxis\":{\"automargin\":true,\"gridcolor\":\"white\",\"linecolor\":\"white\",\"ticks\":\"\",\"title\":{\"standoff\":15},\"zerolinecolor\":\"white\",\"zerolinewidth\":2},\"yaxis\":{\"automargin\":true,\"gridcolor\":\"white\",\"linecolor\":\"white\",\"ticks\":\"\",\"title\":{\"standoff\":15},\"zerolinecolor\":\"white\",\"zerolinewidth\":2}}},\"xaxis\":{\"anchor\":\"y\",\"autorange\":true,\"domain\":[0,1],\"range\":[-3.0177304964539005,52.0177304964539],\"title\":{\"text\":\"x\"},\"type\":\"linear\"},\"yaxis\":{\"anchor\":\"x\",\"autorange\":true,\"domain\":[0,1],\"range\":[-22.29946385155955,21.22554445785117],\"title\":{\"text\":\"y\"},\"type\":\"linear\"}},                        {\"responsive\": true}                    ).then(function(){\n",
       "                            \n",
       "var gd = document.getElementById('f19b13a2-4aac-468b-ac37-1e99d7618846');\n",
       "var x = new MutationObserver(function (mutations, observer) {{\n",
       "        var display = window.getComputedStyle(gd).display;\n",
       "        if (!display || display === 'none') {{\n",
       "            console.log([gd, 'removed!']);\n",
       "            Plotly.purge(gd);\n",
       "            observer.disconnect();\n",
       "        }}\n",
       "}});\n",
       "\n",
       "// Listen for the removal of the full notebook cells\n",
       "var notebookContainer = gd.closest('#notebook-container');\n",
       "if (notebookContainer) {{\n",
       "    x.observe(notebookContainer, {childList: true});\n",
       "}}\n",
       "\n",
       "// Listen for the clearing of the current output cell\n",
       "var outputEl = gd.closest('.output');\n",
       "if (outputEl) {{\n",
       "    x.observe(outputEl, {childList: true});\n",
       "}}\n",
       "\n",
       "                        })                };                });            </script>        </div>"
      ]
     },
     "metadata": {},
     "output_type": "display_data"
    }
   ],
   "source": [
    "import plotly.graph_objects as go\n",
    "import plotly.express as px\n",
    "import pandas as pd\n",
    "import dbm.dumb\n",
    "import shelve\n",
    "from dash import Dash, html, dcc\n",
    "import statsmodels.api as sm\n",
    "import numpy as np\n",
    "import dash_daq as daq\n",
    "import dash_bootstrap_components as dbc\n",
    "\n",
    "with shelve.open('C:\\\\repos\\shelve\\dash2\\\\figure_structure', 'r') as shelf_in:\n",
    "    # for key in shelf_in.keys():\n",
    "        # print(repr(key), repr(shelf_in[key]))\n",
    "        # print(repr(key))\n",
    "    # fig = go.Figure(shelf_in['figout'])\n",
    "    fig = shelf_in['figout']\n",
    "    figdata = shelf_in['figdata']\n",
    "    # dfi = shelf_in['dfi']\n",
    "    # df = pd.read_pickle(shelf_in['dfout'])\n",
    "    # dff = shelf_in['dfout']\n",
    "    ctx_inputs_list = shelf_in['ctx_inputs_list']\n",
    "    # ctx_outputs_list = shelf_in['ctx_outputs_list']\n",
    "    # ctx_triggered_id = shelf_in['ctx_triggered_id']\n",
    "    # comp_H4 = shelf_in['component']\n",
    "\n",
    "f = fig.full_figure_for_development(warn=False)\n",
    "fig.show()\n"
   ]
  },
  {
   "cell_type": "code",
   "execution_count": 20,
   "id": "67b27900-c86e-4f60-a58d-e1662f0431fb",
   "metadata": {},
   "outputs": [
    {
     "ename": "ValueError",
     "evalue": "Invalid property specified for object of type plotly.graph_objs.Layout: 'annotation'\n\nDid you mean \"annotations\"?\n\n    Valid properties:\n        activeselection\n            :class:`plotly.graph_objects.layout.Activeselection`\n            instance or dict with compatible properties\n        activeshape\n            :class:`plotly.graph_objects.layout.Activeshape`\n            instance or dict with compatible properties\n        annotations\n            A tuple of\n            :class:`plotly.graph_objects.layout.Annotation`\n            instances or dicts with compatible properties\n        annotationdefaults\n            When used in a template (as\n            layout.template.layout.annotationdefaults), sets the\n            default property values to use for elements of\n            layout.annotations\n        autosize\n            Determines whether or not a layout width or height that\n            has been left undefined by the user is initialized on\n            each relayout. Note that, regardless of this attribute,\n            an undefined layout width or height is always\n            initialized on the first call to plot.\n        autotypenumbers\n            Using \"strict\" a numeric string in trace data is not\n            converted to a number. Using *convert types* a numeric\n            string in trace data may be treated as a number during\n            automatic axis `type` detection. This is the default\n            value; however it could be overridden for individual\n            axes.\n        bargap\n            Sets the gap (in plot fraction) between bars of\n            adjacent location coordinates.\n        bargroupgap\n            Sets the gap (in plot fraction) between bars of the\n            same location coordinate.\n        barmode\n            Determines how bars at the same location coordinate are\n            displayed on the graph. With \"stack\", the bars are\n            stacked on top of one another With \"relative\", the bars\n            are stacked on top of one another, with negative values\n            below the axis, positive values above With \"group\", the\n            bars are plotted next to one another centered around\n            the shared location. With \"overlay\", the bars are\n            plotted over one another, you might need to an\n            \"opacity\" to see multiple bars.\n        barnorm\n            Sets the normalization for bar traces on the graph.\n            With \"fraction\", the value of each bar is divided by\n            the sum of all values at that location coordinate.\n            \"percent\" is the same but multiplied by 100 to show\n            percentages.\n        boxgap\n            Sets the gap (in plot fraction) between boxes of\n            adjacent location coordinates. Has no effect on traces\n            that have \"width\" set.\n        boxgroupgap\n            Sets the gap (in plot fraction) between boxes of the\n            same location coordinate. Has no effect on traces that\n            have \"width\" set.\n        boxmode\n            Determines how boxes at the same location coordinate\n            are displayed on the graph. If \"group\", the boxes are\n            plotted next to one another centered around the shared\n            location. If \"overlay\", the boxes are plotted over one\n            another, you might need to set \"opacity\" to see them\n            multiple boxes. Has no effect on traces that have\n            \"width\" set.\n        calendar\n            Sets the default calendar system to use for\n            interpreting and displaying dates throughout the plot.\n        clickmode\n            Determines the mode of single click interactions.\n            \"event\" is the default value and emits the\n            `plotly_click` event. In addition this mode emits the\n            `plotly_selected` event in drag modes \"lasso\" and\n            \"select\", but with no event data attached (kept for\n            compatibility reasons). The \"select\" flag enables\n            selecting single data points via click. This mode also\n            supports persistent selections, meaning that pressing\n            Shift while clicking, adds to / subtracts from an\n            existing selection. \"select\" with `hovermode`: \"x\" can\n            be confusing, consider explicitly setting `hovermode`:\n            \"closest\" when using this feature. Selection events are\n            sent accordingly as long as \"event\" flag is set as\n            well. When the \"event\" flag is missing, `plotly_click`\n            and `plotly_selected` events are not fired.\n        coloraxis\n            :class:`plotly.graph_objects.layout.Coloraxis` instance\n            or dict with compatible properties\n        colorscale\n            :class:`plotly.graph_objects.layout.Colorscale`\n            instance or dict with compatible properties\n        colorway\n            Sets the default trace colors.\n        computed\n            Placeholder for exporting automargin-impacting values\n            namely `margin.t`, `margin.b`, `margin.l` and\n            `margin.r` in \"full-json\" mode.\n        datarevision\n            If provided, a changed value tells `Plotly.react` that\n            one or more data arrays has changed. This way you can\n            modify arrays in-place rather than making a complete\n            new copy for an incremental change. If NOT provided,\n            `Plotly.react` assumes that data arrays are being\n            treated as immutable, thus any data array with a\n            different identity from its predecessor contains new\n            data.\n        dragmode\n            Determines the mode of drag interactions. \"select\" and\n            \"lasso\" apply only to scatter traces with markers or\n            text. \"orbit\" and \"turntable\" apply only to 3D scenes.\n        editrevision\n            Controls persistence of user-driven changes in\n            `editable: true` configuration, other than trace names\n            and axis titles. Defaults to `layout.uirevision`.\n        extendfunnelareacolors\n            If `true`, the funnelarea slice colors (whether given\n            by `funnelareacolorway` or inherited from `colorway`)\n            will be extended to three times its original length by\n            first repeating every color 20% lighter then each color\n            20% darker. This is intended to reduce the likelihood\n            of reusing the same color when you have many slices,\n            but you can set `false` to disable. Colors provided in\n            the trace, using `marker.colors`, are never extended.\n        extendiciclecolors\n            If `true`, the icicle slice colors (whether given by\n            `iciclecolorway` or inherited from `colorway`) will be\n            extended to three times its original length by first\n            repeating every color 20% lighter then each color 20%\n            darker. This is intended to reduce the likelihood of\n            reusing the same color when you have many slices, but\n            you can set `false` to disable. Colors provided in the\n            trace, using `marker.colors`, are never extended.\n        extendpiecolors\n            If `true`, the pie slice colors (whether given by\n            `piecolorway` or inherited from `colorway`) will be\n            extended to three times its original length by first\n            repeating every color 20% lighter then each color 20%\n            darker. This is intended to reduce the likelihood of\n            reusing the same color when you have many slices, but\n            you can set `false` to disable. Colors provided in the\n            trace, using `marker.colors`, are never extended.\n        extendsunburstcolors\n            If `true`, the sunburst slice colors (whether given by\n            `sunburstcolorway` or inherited from `colorway`) will\n            be extended to three times its original length by first\n            repeating every color 20% lighter then each color 20%\n            darker. This is intended to reduce the likelihood of\n            reusing the same color when you have many slices, but\n            you can set `false` to disable. Colors provided in the\n            trace, using `marker.colors`, are never extended.\n        extendtreemapcolors\n            If `true`, the treemap slice colors (whether given by\n            `treemapcolorway` or inherited from `colorway`) will be\n            extended to three times its original length by first\n            repeating every color 20% lighter then each color 20%\n            darker. This is intended to reduce the likelihood of\n            reusing the same color when you have many slices, but\n            you can set `false` to disable. Colors provided in the\n            trace, using `marker.colors`, are never extended.\n        font\n            Sets the global font. Note that fonts used in traces\n            and other layout components inherit from the global\n            font.\n        funnelareacolorway\n            Sets the default funnelarea slice colors. Defaults to\n            the main `colorway` used for trace colors. If you\n            specify a new list here it can still be extended with\n            lighter and darker colors, see\n            `extendfunnelareacolors`.\n        funnelgap\n            Sets the gap (in plot fraction) between bars of\n            adjacent location coordinates.\n        funnelgroupgap\n            Sets the gap (in plot fraction) between bars of the\n            same location coordinate.\n        funnelmode\n            Determines how bars at the same location coordinate are\n            displayed on the graph. With \"stack\", the bars are\n            stacked on top of one another With \"group\", the bars\n            are plotted next to one another centered around the\n            shared location. With \"overlay\", the bars are plotted\n            over one another, you might need to an \"opacity\" to see\n            multiple bars.\n        geo\n            :class:`plotly.graph_objects.layout.Geo` instance or\n            dict with compatible properties\n        grid\n            :class:`plotly.graph_objects.layout.Grid` instance or\n            dict with compatible properties\n        height\n            Sets the plot's height (in px).\n        hiddenlabels\n            hiddenlabels is the funnelarea & pie chart analog of\n            visible:'legendonly' but it can contain many labels,\n            and can simultaneously hide slices from several\n            pies/funnelarea charts\n        hiddenlabelssrc\n            Sets the source reference on Chart Studio Cloud for\n            `hiddenlabels`.\n        hidesources\n            Determines whether or not a text link citing the data\n            source is placed at the bottom-right cored of the\n            figure. Has only an effect only on graphs that have\n            been generated via forked graphs from the Chart Studio\n            Cloud (at https://chart-studio.plotly.com or on-\n            premise).\n        hoverdistance\n            Sets the default distance (in pixels) to look for data\n            to add hover labels (-1 means no cutoff, 0 means no\n            looking for data). This is only a real distance for\n            hovering on point-like objects, like scatter points.\n            For area-like objects (bars, scatter fills, etc)\n            hovering is on inside the area and off outside, but\n            these objects will not supersede hover on point-like\n            objects in case of conflict.\n        hoverlabel\n            :class:`plotly.graph_objects.layout.Hoverlabel`\n            instance or dict with compatible properties\n        hovermode\n            Determines the mode of hover interactions. If\n            \"closest\", a single hoverlabel will appear for the\n            \"closest\" point within the `hoverdistance`. If \"x\" (or\n            \"y\"), multiple hoverlabels will appear for multiple\n            points at the \"closest\" x- (or y-) coordinate within\n            the `hoverdistance`, with the caveat that no more than\n            one hoverlabel will appear per trace. If *x unified*\n            (or *y unified*), a single hoverlabel will appear\n            multiple points at the closest x- (or y-) coordinate\n            within the `hoverdistance` with the caveat that no more\n            than one hoverlabel will appear per trace. In this\n            mode, spikelines are enabled by default perpendicular\n            to the specified axis. If false, hover interactions are\n            disabled.\n        iciclecolorway\n            Sets the default icicle slice colors. Defaults to the\n            main `colorway` used for trace colors. If you specify a\n            new list here it can still be extended with lighter and\n            darker colors, see `extendiciclecolors`.\n        images\n            A tuple of :class:`plotly.graph_objects.layout.Image`\n            instances or dicts with compatible properties\n        imagedefaults\n            When used in a template (as\n            layout.template.layout.imagedefaults), sets the default\n            property values to use for elements of layout.images\n        legend\n            :class:`plotly.graph_objects.layout.Legend` instance or\n            dict with compatible properties\n        mapbox\n            :class:`plotly.graph_objects.layout.Mapbox` instance or\n            dict with compatible properties\n        margin\n            :class:`plotly.graph_objects.layout.Margin` instance or\n            dict with compatible properties\n        meta\n            Assigns extra meta information that can be used in\n            various `text` attributes. Attributes such as the\n            graph, axis and colorbar `title.text`, annotation\n            `text` `trace.name` in legend items, `rangeselector`,\n            `updatemenus` and `sliders` `label` text all support\n            `meta`. One can access `meta` fields using template\n            strings: `%{meta[i]}` where `i` is the index of the\n            `meta` item in question. `meta` can also be an object\n            for example `{key: value}` which can be accessed\n            %{meta[key]}.\n        metasrc\n            Sets the source reference on Chart Studio Cloud for\n            `meta`.\n        modebar\n            :class:`plotly.graph_objects.layout.Modebar` instance\n            or dict with compatible properties\n        newselection\n            :class:`plotly.graph_objects.layout.Newselection`\n            instance or dict with compatible properties\n        newshape\n            :class:`plotly.graph_objects.layout.Newshape` instance\n            or dict with compatible properties\n        paper_bgcolor\n            Sets the background color of the paper where the graph\n            is drawn.\n        piecolorway\n            Sets the default pie slice colors. Defaults to the main\n            `colorway` used for trace colors. If you specify a new\n            list here it can still be extended with lighter and\n            darker colors, see `extendpiecolors`.\n        plot_bgcolor\n            Sets the background color of the plotting area in-\n            between x and y axes.\n        polar\n            :class:`plotly.graph_objects.layout.Polar` instance or\n            dict with compatible properties\n        scene\n            :class:`plotly.graph_objects.layout.Scene` instance or\n            dict with compatible properties\n        selectdirection\n            When `dragmode` is set to \"select\", this limits the\n            selection of the drag to horizontal, vertical or\n            diagonal. \"h\" only allows horizontal selection, \"v\"\n            only vertical, \"d\" only diagonal and \"any\" sets no\n            limit.\n        selectionrevision\n            Controls persistence of user-driven changes in selected\n            points from all traces.\n        selections\n            A tuple of\n            :class:`plotly.graph_objects.layout.Selection`\n            instances or dicts with compatible properties\n        selectiondefaults\n            When used in a template (as\n            layout.template.layout.selectiondefaults), sets the\n            default property values to use for elements of\n            layout.selections\n        separators\n            Sets the decimal and thousand separators. For example,\n            *. * puts a '.' before decimals and a space between\n            thousands. In English locales, dflt is \".,\" but other\n            locales may alter this default.\n        shapes\n            A tuple of :class:`plotly.graph_objects.layout.Shape`\n            instances or dicts with compatible properties\n        shapedefaults\n            When used in a template (as\n            layout.template.layout.shapedefaults), sets the default\n            property values to use for elements of layout.shapes\n        showlegend\n            Determines whether or not a legend is drawn. Default is\n            `true` if there is a trace to show and any of these: a)\n            Two or more traces would by default be shown in the\n            legend. b) One pie trace is shown in the legend. c) One\n            trace is explicitly given with `showlegend: true`.\n        sliders\n            A tuple of :class:`plotly.graph_objects.layout.Slider`\n            instances or dicts with compatible properties\n        sliderdefaults\n            When used in a template (as\n            layout.template.layout.sliderdefaults), sets the\n            default property values to use for elements of\n            layout.sliders\n        smith\n            :class:`plotly.graph_objects.layout.Smith` instance or\n            dict with compatible properties\n        spikedistance\n            Sets the default distance (in pixels) to look for data\n            to draw spikelines to (-1 means no cutoff, 0 means no\n            looking for data). As with hoverdistance, distance does\n            not apply to area-like objects. In addition, some\n            objects can be hovered on but will not generate\n            spikelines, such as scatter fills.\n        sunburstcolorway\n            Sets the default sunburst slice colors. Defaults to the\n            main `colorway` used for trace colors. If you specify a\n            new list here it can still be extended with lighter and\n            darker colors, see `extendsunburstcolors`.\n        template\n            Default attributes to be applied to the plot. This\n            should be a dict with format: `{'layout':\n            layoutTemplate, 'data': {trace_type: [traceTemplate,\n            ...], ...}}` where `layoutTemplate` is a dict matching\n            the structure of `figure.layout` and `traceTemplate` is\n            a dict matching the structure of the trace with type\n            `trace_type` (e.g. 'scatter'). Alternatively, this may\n            be specified as an instance of\n            plotly.graph_objs.layout.Template.  Trace templates are\n            applied cyclically to traces of each type. Container\n            arrays (eg `annotations`) have special handling: An\n            object ending in `defaults` (eg `annotationdefaults`)\n            is applied to each array item. But if an item has a\n            `templateitemname` key we look in the template array\n            for an item with matching `name` and apply that\n            instead. If no matching `name` is found we mark the\n            item invisible. Any named template item not referenced\n            is appended to the end of the array, so this can be\n            used to add a watermark annotation or a logo image, for\n            example. To omit one of these items on the plot, make\n            an item with matching `templateitemname` and `visible:\n            false`.\n        ternary\n            :class:`plotly.graph_objects.layout.Ternary` instance\n            or dict with compatible properties\n        title\n            :class:`plotly.graph_objects.layout.Title` instance or\n            dict with compatible properties\n        titlefont\n            Deprecated: Please use layout.title.font instead. Sets\n            the title font. Note that the title's font used to be\n            customized by the now deprecated `titlefont` attribute.\n        transition\n            Sets transition options used during Plotly.react\n            updates.\n        treemapcolorway\n            Sets the default treemap slice colors. Defaults to the\n            main `colorway` used for trace colors. If you specify a\n            new list here it can still be extended with lighter and\n            darker colors, see `extendtreemapcolors`.\n        uirevision\n            Used to allow user interactions with the plot to\n            persist after `Plotly.react` calls that are unaware of\n            these interactions. If `uirevision` is omitted, or if\n            it is given and it changed from the previous\n            `Plotly.react` call, the exact new figure is used. If\n            `uirevision` is truthy and did NOT change, any\n            attribute that has been affected by user interactions\n            and did not receive a different value in the new figure\n            will keep the interaction value. `layout.uirevision`\n            attribute serves as the default for `uirevision`\n            attributes in various sub-containers. For finer control\n            you can set these sub-attributes directly. For example,\n            if your app separately controls the data on the x and y\n            axes you might set `xaxis.uirevision=*time*` and\n            `yaxis.uirevision=*cost*`. Then if only the y data is\n            changed, you can update `yaxis.uirevision=*quantity*`\n            and the y axis range will reset but the x axis range\n            will retain any user-driven zoom.\n        uniformtext\n            :class:`plotly.graph_objects.layout.Uniformtext`\n            instance or dict with compatible properties\n        updatemenus\n            A tuple of\n            :class:`plotly.graph_objects.layout.Updatemenu`\n            instances or dicts with compatible properties\n        updatemenudefaults\n            When used in a template (as\n            layout.template.layout.updatemenudefaults), sets the\n            default property values to use for elements of\n            layout.updatemenus\n        violingap\n            Sets the gap (in plot fraction) between violins of\n            adjacent location coordinates. Has no effect on traces\n            that have \"width\" set.\n        violingroupgap\n            Sets the gap (in plot fraction) between violins of the\n            same location coordinate. Has no effect on traces that\n            have \"width\" set.\n        violinmode\n            Determines how violins at the same location coordinate\n            are displayed on the graph. If \"group\", the violins are\n            plotted next to one another centered around the shared\n            location. If \"overlay\", the violins are plotted over\n            one another, you might need to set \"opacity\" to see\n            them multiple violins. Has no effect on traces that\n            have \"width\" set.\n        waterfallgap\n            Sets the gap (in plot fraction) between bars of\n            adjacent location coordinates.\n        waterfallgroupgap\n            Sets the gap (in plot fraction) between bars of the\n            same location coordinate.\n        waterfallmode\n            Determines how bars at the same location coordinate are\n            displayed on the graph. With \"group\", the bars are\n            plotted next to one another centered around the shared\n            location. With \"overlay\", the bars are plotted over one\n            another, you might need to an \"opacity\" to see multiple\n            bars.\n        width\n            Sets the plot's width (in px).\n        xaxis\n            :class:`plotly.graph_objects.layout.XAxis` instance or\n            dict with compatible properties\n        yaxis\n            :class:`plotly.graph_objects.layout.YAxis` instance or\n            dict with compatible properties\n        \nDid you mean \"annotations\"?\n\nBad property path:\nannotation\n^^^^^^^^^^",
     "output_type": "error",
     "traceback": [
      "\u001b[1;31m---------------------------------------------------------------------------\u001b[0m",
      "\u001b[1;31mValueError\u001b[0m                                Traceback (most recent call last)",
      "\u001b[1;32m~\\AppData\\Local\\Temp\\ipykernel_39464\\4129959700.py\u001b[0m in \u001b[0;36m<module>\u001b[1;34m\u001b[0m\n\u001b[0;32m      1\u001b[0m \u001b[1;31m# fig.layout.annotations\u001b[0m\u001b[1;33m\u001b[0m\u001b[1;33m\u001b[0m\u001b[0m\n\u001b[0;32m      2\u001b[0m \u001b[1;31m# fig.layout.annotations = tuple()\u001b[0m\u001b[1;33m\u001b[0m\u001b[1;33m\u001b[0m\u001b[0m\n\u001b[1;32m----> 3\u001b[1;33m \u001b[0mfig\u001b[0m\u001b[1;33m.\u001b[0m\u001b[0mupdate_layout\u001b[0m\u001b[1;33m(\u001b[0m\u001b[0mannotation\u001b[0m\u001b[1;33m=\u001b[0m\u001b[0mtuple\u001b[0m\u001b[1;33m(\u001b[0m\u001b[1;33m)\u001b[0m\u001b[1;33m)\u001b[0m\u001b[1;33m\u001b[0m\u001b[1;33m\u001b[0m\u001b[0m\n\u001b[0m\u001b[0;32m      4\u001b[0m \u001b[0mfig\u001b[0m\u001b[1;33m.\u001b[0m\u001b[0mshow\u001b[0m\u001b[1;33m(\u001b[0m\u001b[1;33m)\u001b[0m\u001b[1;33m\u001b[0m\u001b[1;33m\u001b[0m\u001b[0m\n",
      "\u001b[1;32m~\\miniconda3\\envs\\spot1\\lib\\site-packages\\plotly\\graph_objs\\_figure.py\u001b[0m in \u001b[0;36mupdate_layout\u001b[1;34m(self, dict1, overwrite, **kwargs)\u001b[0m\n\u001b[0;32m    754\u001b[0m \u001b[1;33m\u001b[0m\u001b[0m\n\u001b[0;32m    755\u001b[0m         \"\"\"\n\u001b[1;32m--> 756\u001b[1;33m         \u001b[1;32mreturn\u001b[0m \u001b[0msuper\u001b[0m\u001b[1;33m(\u001b[0m\u001b[0mFigure\u001b[0m\u001b[1;33m,\u001b[0m \u001b[0mself\u001b[0m\u001b[1;33m)\u001b[0m\u001b[1;33m.\u001b[0m\u001b[0mupdate_layout\u001b[0m\u001b[1;33m(\u001b[0m\u001b[0mdict1\u001b[0m\u001b[1;33m,\u001b[0m \u001b[0moverwrite\u001b[0m\u001b[1;33m,\u001b[0m \u001b[1;33m**\u001b[0m\u001b[0mkwargs\u001b[0m\u001b[1;33m)\u001b[0m\u001b[1;33m\u001b[0m\u001b[1;33m\u001b[0m\u001b[0m\n\u001b[0m\u001b[0;32m    757\u001b[0m \u001b[1;33m\u001b[0m\u001b[0m\n\u001b[0;32m    758\u001b[0m     def for_each_trace(\n",
      "\u001b[1;32m~\\miniconda3\\envs\\spot1\\lib\\site-packages\\plotly\\basedatatypes.py\u001b[0m in \u001b[0;36mupdate_layout\u001b[1;34m(self, dict1, overwrite, **kwargs)\u001b[0m\n\u001b[0;32m   1399\u001b[0m             \u001b[0mThe\u001b[0m \u001b[0mFigure\u001b[0m \u001b[0mobject\u001b[0m \u001b[0mthat\u001b[0m \u001b[0mthe\u001b[0m \u001b[0mupdate_layout\u001b[0m \u001b[0mmethod\u001b[0m \u001b[0mwas\u001b[0m \u001b[0mcalled\u001b[0m \u001b[0mon\u001b[0m\u001b[1;33m\u001b[0m\u001b[1;33m\u001b[0m\u001b[0m\n\u001b[0;32m   1400\u001b[0m         \"\"\"\n\u001b[1;32m-> 1401\u001b[1;33m         \u001b[0mself\u001b[0m\u001b[1;33m.\u001b[0m\u001b[0mlayout\u001b[0m\u001b[1;33m.\u001b[0m\u001b[0mupdate\u001b[0m\u001b[1;33m(\u001b[0m\u001b[0mdict1\u001b[0m\u001b[1;33m,\u001b[0m \u001b[0moverwrite\u001b[0m\u001b[1;33m=\u001b[0m\u001b[0moverwrite\u001b[0m\u001b[1;33m,\u001b[0m \u001b[1;33m**\u001b[0m\u001b[0mkwargs\u001b[0m\u001b[1;33m)\u001b[0m\u001b[1;33m\u001b[0m\u001b[1;33m\u001b[0m\u001b[0m\n\u001b[0m\u001b[0;32m   1402\u001b[0m         \u001b[1;32mreturn\u001b[0m \u001b[0mself\u001b[0m\u001b[1;33m\u001b[0m\u001b[1;33m\u001b[0m\u001b[0m\n\u001b[0;32m   1403\u001b[0m \u001b[1;33m\u001b[0m\u001b[0m\n",
      "\u001b[1;32m~\\miniconda3\\envs\\spot1\\lib\\site-packages\\plotly\\basedatatypes.py\u001b[0m in \u001b[0;36mupdate\u001b[1;34m(self, dict1, overwrite, **kwargs)\u001b[0m\n\u001b[0;32m   5120\u001b[0m             \u001b[1;32mwith\u001b[0m \u001b[0mself\u001b[0m\u001b[1;33m.\u001b[0m\u001b[0mfigure\u001b[0m\u001b[1;33m.\u001b[0m\u001b[0mbatch_update\u001b[0m\u001b[1;33m(\u001b[0m\u001b[1;33m)\u001b[0m\u001b[1;33m:\u001b[0m\u001b[1;33m\u001b[0m\u001b[1;33m\u001b[0m\u001b[0m\n\u001b[0;32m   5121\u001b[0m                 \u001b[0mBaseFigure\u001b[0m\u001b[1;33m.\u001b[0m\u001b[0m_perform_update\u001b[0m\u001b[1;33m(\u001b[0m\u001b[0mself\u001b[0m\u001b[1;33m,\u001b[0m \u001b[0mdict1\u001b[0m\u001b[1;33m,\u001b[0m \u001b[0moverwrite\u001b[0m\u001b[1;33m=\u001b[0m\u001b[0moverwrite\u001b[0m\u001b[1;33m)\u001b[0m\u001b[1;33m\u001b[0m\u001b[1;33m\u001b[0m\u001b[0m\n\u001b[1;32m-> 5122\u001b[1;33m                 \u001b[0mBaseFigure\u001b[0m\u001b[1;33m.\u001b[0m\u001b[0m_perform_update\u001b[0m\u001b[1;33m(\u001b[0m\u001b[0mself\u001b[0m\u001b[1;33m,\u001b[0m \u001b[0mkwargs\u001b[0m\u001b[1;33m,\u001b[0m \u001b[0moverwrite\u001b[0m\u001b[1;33m=\u001b[0m\u001b[0moverwrite\u001b[0m\u001b[1;33m)\u001b[0m\u001b[1;33m\u001b[0m\u001b[1;33m\u001b[0m\u001b[0m\n\u001b[0m\u001b[0;32m   5123\u001b[0m         \u001b[1;32melse\u001b[0m\u001b[1;33m:\u001b[0m\u001b[1;33m\u001b[0m\u001b[1;33m\u001b[0m\u001b[0m\n\u001b[0;32m   5124\u001b[0m             \u001b[0mBaseFigure\u001b[0m\u001b[1;33m.\u001b[0m\u001b[0m_perform_update\u001b[0m\u001b[1;33m(\u001b[0m\u001b[0mself\u001b[0m\u001b[1;33m,\u001b[0m \u001b[0mdict1\u001b[0m\u001b[1;33m,\u001b[0m \u001b[0moverwrite\u001b[0m\u001b[1;33m=\u001b[0m\u001b[0moverwrite\u001b[0m\u001b[1;33m)\u001b[0m\u001b[1;33m\u001b[0m\u001b[1;33m\u001b[0m\u001b[0m\n",
      "\u001b[1;32m~\\miniconda3\\envs\\spot1\\lib\\site-packages\\plotly\\basedatatypes.py\u001b[0m in \u001b[0;36m_perform_update\u001b[1;34m(plotly_obj, update_obj, overwrite)\u001b[0m\n\u001b[0;32m   3883\u001b[0m                     \u001b[1;31m# contain the _raise_on_invalid_property_error\u001b[0m\u001b[1;33m\u001b[0m\u001b[1;33m\u001b[0m\u001b[0m\n\u001b[0;32m   3884\u001b[0m                     \u001b[1;31m# generated message\u001b[0m\u001b[1;33m\u001b[0m\u001b[1;33m\u001b[0m\u001b[0m\n\u001b[1;32m-> 3885\u001b[1;33m                     \u001b[1;32mraise\u001b[0m \u001b[0merr\u001b[0m\u001b[1;33m\u001b[0m\u001b[1;33m\u001b[0m\u001b[0m\n\u001b[0m\u001b[0;32m   3886\u001b[0m \u001b[1;33m\u001b[0m\u001b[0m\n\u001b[0;32m   3887\u001b[0m             \u001b[1;31m# Convert update_obj to dict\u001b[0m\u001b[1;33m\u001b[0m\u001b[1;33m\u001b[0m\u001b[0m\n",
      "\u001b[1;31mValueError\u001b[0m: Invalid property specified for object of type plotly.graph_objs.Layout: 'annotation'\n\nDid you mean \"annotations\"?\n\n    Valid properties:\n        activeselection\n            :class:`plotly.graph_objects.layout.Activeselection`\n            instance or dict with compatible properties\n        activeshape\n            :class:`plotly.graph_objects.layout.Activeshape`\n            instance or dict with compatible properties\n        annotations\n            A tuple of\n            :class:`plotly.graph_objects.layout.Annotation`\n            instances or dicts with compatible properties\n        annotationdefaults\n            When used in a template (as\n            layout.template.layout.annotationdefaults), sets the\n            default property values to use for elements of\n            layout.annotations\n        autosize\n            Determines whether or not a layout width or height that\n            has been left undefined by the user is initialized on\n            each relayout. Note that, regardless of this attribute,\n            an undefined layout width or height is always\n            initialized on the first call to plot.\n        autotypenumbers\n            Using \"strict\" a numeric string in trace data is not\n            converted to a number. Using *convert types* a numeric\n            string in trace data may be treated as a number during\n            automatic axis `type` detection. This is the default\n            value; however it could be overridden for individual\n            axes.\n        bargap\n            Sets the gap (in plot fraction) between bars of\n            adjacent location coordinates.\n        bargroupgap\n            Sets the gap (in plot fraction) between bars of the\n            same location coordinate.\n        barmode\n            Determines how bars at the same location coordinate are\n            displayed on the graph. With \"stack\", the bars are\n            stacked on top of one another With \"relative\", the bars\n            are stacked on top of one another, with negative values\n            below the axis, positive values above With \"group\", the\n            bars are plotted next to one another centered around\n            the shared location. With \"overlay\", the bars are\n            plotted over one another, you might need to an\n            \"opacity\" to see multiple bars.\n        barnorm\n            Sets the normalization for bar traces on the graph.\n            With \"fraction\", the value of each bar is divided by\n            the sum of all values at that location coordinate.\n            \"percent\" is the same but multiplied by 100 to show\n            percentages.\n        boxgap\n            Sets the gap (in plot fraction) between boxes of\n            adjacent location coordinates. Has no effect on traces\n            that have \"width\" set.\n        boxgroupgap\n            Sets the gap (in plot fraction) between boxes of the\n            same location coordinate. Has no effect on traces that\n            have \"width\" set.\n        boxmode\n            Determines how boxes at the same location coordinate\n            are displayed on the graph. If \"group\", the boxes are\n            plotted next to one another centered around the shared\n            location. If \"overlay\", the boxes are plotted over one\n            another, you might need to set \"opacity\" to see them\n            multiple boxes. Has no effect on traces that have\n            \"width\" set.\n        calendar\n            Sets the default calendar system to use for\n            interpreting and displaying dates throughout the plot.\n        clickmode\n            Determines the mode of single click interactions.\n            \"event\" is the default value and emits the\n            `plotly_click` event. In addition this mode emits the\n            `plotly_selected` event in drag modes \"lasso\" and\n            \"select\", but with no event data attached (kept for\n            compatibility reasons). The \"select\" flag enables\n            selecting single data points via click. This mode also\n            supports persistent selections, meaning that pressing\n            Shift while clicking, adds to / subtracts from an\n            existing selection. \"select\" with `hovermode`: \"x\" can\n            be confusing, consider explicitly setting `hovermode`:\n            \"closest\" when using this feature. Selection events are\n            sent accordingly as long as \"event\" flag is set as\n            well. When the \"event\" flag is missing, `plotly_click`\n            and `plotly_selected` events are not fired.\n        coloraxis\n            :class:`plotly.graph_objects.layout.Coloraxis` instance\n            or dict with compatible properties\n        colorscale\n            :class:`plotly.graph_objects.layout.Colorscale`\n            instance or dict with compatible properties\n        colorway\n            Sets the default trace colors.\n        computed\n            Placeholder for exporting automargin-impacting values\n            namely `margin.t`, `margin.b`, `margin.l` and\n            `margin.r` in \"full-json\" mode.\n        datarevision\n            If provided, a changed value tells `Plotly.react` that\n            one or more data arrays has changed. This way you can\n            modify arrays in-place rather than making a complete\n            new copy for an incremental change. If NOT provided,\n            `Plotly.react` assumes that data arrays are being\n            treated as immutable, thus any data array with a\n            different identity from its predecessor contains new\n            data.\n        dragmode\n            Determines the mode of drag interactions. \"select\" and\n            \"lasso\" apply only to scatter traces with markers or\n            text. \"orbit\" and \"turntable\" apply only to 3D scenes.\n        editrevision\n            Controls persistence of user-driven changes in\n            `editable: true` configuration, other than trace names\n            and axis titles. Defaults to `layout.uirevision`.\n        extendfunnelareacolors\n            If `true`, the funnelarea slice colors (whether given\n            by `funnelareacolorway` or inherited from `colorway`)\n            will be extended to three times its original length by\n            first repeating every color 20% lighter then each color\n            20% darker. This is intended to reduce the likelihood\n            of reusing the same color when you have many slices,\n            but you can set `false` to disable. Colors provided in\n            the trace, using `marker.colors`, are never extended.\n        extendiciclecolors\n            If `true`, the icicle slice colors (whether given by\n            `iciclecolorway` or inherited from `colorway`) will be\n            extended to three times its original length by first\n            repeating every color 20% lighter then each color 20%\n            darker. This is intended to reduce the likelihood of\n            reusing the same color when you have many slices, but\n            you can set `false` to disable. Colors provided in the\n            trace, using `marker.colors`, are never extended.\n        extendpiecolors\n            If `true`, the pie slice colors (whether given by\n            `piecolorway` or inherited from `colorway`) will be\n            extended to three times its original length by first\n            repeating every color 20% lighter then each color 20%\n            darker. This is intended to reduce the likelihood of\n            reusing the same color when you have many slices, but\n            you can set `false` to disable. Colors provided in the\n            trace, using `marker.colors`, are never extended.\n        extendsunburstcolors\n            If `true`, the sunburst slice colors (whether given by\n            `sunburstcolorway` or inherited from `colorway`) will\n            be extended to three times its original length by first\n            repeating every color 20% lighter then each color 20%\n            darker. This is intended to reduce the likelihood of\n            reusing the same color when you have many slices, but\n            you can set `false` to disable. Colors provided in the\n            trace, using `marker.colors`, are never extended.\n        extendtreemapcolors\n            If `true`, the treemap slice colors (whether given by\n            `treemapcolorway` or inherited from `colorway`) will be\n            extended to three times its original length by first\n            repeating every color 20% lighter then each color 20%\n            darker. This is intended to reduce the likelihood of\n            reusing the same color when you have many slices, but\n            you can set `false` to disable. Colors provided in the\n            trace, using `marker.colors`, are never extended.\n        font\n            Sets the global font. Note that fonts used in traces\n            and other layout components inherit from the global\n            font.\n        funnelareacolorway\n            Sets the default funnelarea slice colors. Defaults to\n            the main `colorway` used for trace colors. If you\n            specify a new list here it can still be extended with\n            lighter and darker colors, see\n            `extendfunnelareacolors`.\n        funnelgap\n            Sets the gap (in plot fraction) between bars of\n            adjacent location coordinates.\n        funnelgroupgap\n            Sets the gap (in plot fraction) between bars of the\n            same location coordinate.\n        funnelmode\n            Determines how bars at the same location coordinate are\n            displayed on the graph. With \"stack\", the bars are\n            stacked on top of one another With \"group\", the bars\n            are plotted next to one another centered around the\n            shared location. With \"overlay\", the bars are plotted\n            over one another, you might need to an \"opacity\" to see\n            multiple bars.\n        geo\n            :class:`plotly.graph_objects.layout.Geo` instance or\n            dict with compatible properties\n        grid\n            :class:`plotly.graph_objects.layout.Grid` instance or\n            dict with compatible properties\n        height\n            Sets the plot's height (in px).\n        hiddenlabels\n            hiddenlabels is the funnelarea & pie chart analog of\n            visible:'legendonly' but it can contain many labels,\n            and can simultaneously hide slices from several\n            pies/funnelarea charts\n        hiddenlabelssrc\n            Sets the source reference on Chart Studio Cloud for\n            `hiddenlabels`.\n        hidesources\n            Determines whether or not a text link citing the data\n            source is placed at the bottom-right cored of the\n            figure. Has only an effect only on graphs that have\n            been generated via forked graphs from the Chart Studio\n            Cloud (at https://chart-studio.plotly.com or on-\n            premise).\n        hoverdistance\n            Sets the default distance (in pixels) to look for data\n            to add hover labels (-1 means no cutoff, 0 means no\n            looking for data). This is only a real distance for\n            hovering on point-like objects, like scatter points.\n            For area-like objects (bars, scatter fills, etc)\n            hovering is on inside the area and off outside, but\n            these objects will not supersede hover on point-like\n            objects in case of conflict.\n        hoverlabel\n            :class:`plotly.graph_objects.layout.Hoverlabel`\n            instance or dict with compatible properties\n        hovermode\n            Determines the mode of hover interactions. If\n            \"closest\", a single hoverlabel will appear for the\n            \"closest\" point within the `hoverdistance`. If \"x\" (or\n            \"y\"), multiple hoverlabels will appear for multiple\n            points at the \"closest\" x- (or y-) coordinate within\n            the `hoverdistance`, with the caveat that no more than\n            one hoverlabel will appear per trace. If *x unified*\n            (or *y unified*), a single hoverlabel will appear\n            multiple points at the closest x- (or y-) coordinate\n            within the `hoverdistance` with the caveat that no more\n            than one hoverlabel will appear per trace. In this\n            mode, spikelines are enabled by default perpendicular\n            to the specified axis. If false, hover interactions are\n            disabled.\n        iciclecolorway\n            Sets the default icicle slice colors. Defaults to the\n            main `colorway` used for trace colors. If you specify a\n            new list here it can still be extended with lighter and\n            darker colors, see `extendiciclecolors`.\n        images\n            A tuple of :class:`plotly.graph_objects.layout.Image`\n            instances or dicts with compatible properties\n        imagedefaults\n            When used in a template (as\n            layout.template.layout.imagedefaults), sets the default\n            property values to use for elements of layout.images\n        legend\n            :class:`plotly.graph_objects.layout.Legend` instance or\n            dict with compatible properties\n        mapbox\n            :class:`plotly.graph_objects.layout.Mapbox` instance or\n            dict with compatible properties\n        margin\n            :class:`plotly.graph_objects.layout.Margin` instance or\n            dict with compatible properties\n        meta\n            Assigns extra meta information that can be used in\n            various `text` attributes. Attributes such as the\n            graph, axis and colorbar `title.text`, annotation\n            `text` `trace.name` in legend items, `rangeselector`,\n            `updatemenus` and `sliders` `label` text all support\n            `meta`. One can access `meta` fields using template\n            strings: `%{meta[i]}` where `i` is the index of the\n            `meta` item in question. `meta` can also be an object\n            for example `{key: value}` which can be accessed\n            %{meta[key]}.\n        metasrc\n            Sets the source reference on Chart Studio Cloud for\n            `meta`.\n        modebar\n            :class:`plotly.graph_objects.layout.Modebar` instance\n            or dict with compatible properties\n        newselection\n            :class:`plotly.graph_objects.layout.Newselection`\n            instance or dict with compatible properties\n        newshape\n            :class:`plotly.graph_objects.layout.Newshape` instance\n            or dict with compatible properties\n        paper_bgcolor\n            Sets the background color of the paper where the graph\n            is drawn.\n        piecolorway\n            Sets the default pie slice colors. Defaults to the main\n            `colorway` used for trace colors. If you specify a new\n            list here it can still be extended with lighter and\n            darker colors, see `extendpiecolors`.\n        plot_bgcolor\n            Sets the background color of the plotting area in-\n            between x and y axes.\n        polar\n            :class:`plotly.graph_objects.layout.Polar` instance or\n            dict with compatible properties\n        scene\n            :class:`plotly.graph_objects.layout.Scene` instance or\n            dict with compatible properties\n        selectdirection\n            When `dragmode` is set to \"select\", this limits the\n            selection of the drag to horizontal, vertical or\n            diagonal. \"h\" only allows horizontal selection, \"v\"\n            only vertical, \"d\" only diagonal and \"any\" sets no\n            limit.\n        selectionrevision\n            Controls persistence of user-driven changes in selected\n            points from all traces.\n        selections\n            A tuple of\n            :class:`plotly.graph_objects.layout.Selection`\n            instances or dicts with compatible properties\n        selectiondefaults\n            When used in a template (as\n            layout.template.layout.selectiondefaults), sets the\n            default property values to use for elements of\n            layout.selections\n        separators\n            Sets the decimal and thousand separators. For example,\n            *. * puts a '.' before decimals and a space between\n            thousands. In English locales, dflt is \".,\" but other\n            locales may alter this default.\n        shapes\n            A tuple of :class:`plotly.graph_objects.layout.Shape`\n            instances or dicts with compatible properties\n        shapedefaults\n            When used in a template (as\n            layout.template.layout.shapedefaults), sets the default\n            property values to use for elements of layout.shapes\n        showlegend\n            Determines whether or not a legend is drawn. Default is\n            `true` if there is a trace to show and any of these: a)\n            Two or more traces would by default be shown in the\n            legend. b) One pie trace is shown in the legend. c) One\n            trace is explicitly given with `showlegend: true`.\n        sliders\n            A tuple of :class:`plotly.graph_objects.layout.Slider`\n            instances or dicts with compatible properties\n        sliderdefaults\n            When used in a template (as\n            layout.template.layout.sliderdefaults), sets the\n            default property values to use for elements of\n            layout.sliders\n        smith\n            :class:`plotly.graph_objects.layout.Smith` instance or\n            dict with compatible properties\n        spikedistance\n            Sets the default distance (in pixels) to look for data\n            to draw spikelines to (-1 means no cutoff, 0 means no\n            looking for data). As with hoverdistance, distance does\n            not apply to area-like objects. In addition, some\n            objects can be hovered on but will not generate\n            spikelines, such as scatter fills.\n        sunburstcolorway\n            Sets the default sunburst slice colors. Defaults to the\n            main `colorway` used for trace colors. If you specify a\n            new list here it can still be extended with lighter and\n            darker colors, see `extendsunburstcolors`.\n        template\n            Default attributes to be applied to the plot. This\n            should be a dict with format: `{'layout':\n            layoutTemplate, 'data': {trace_type: [traceTemplate,\n            ...], ...}}` where `layoutTemplate` is a dict matching\n            the structure of `figure.layout` and `traceTemplate` is\n            a dict matching the structure of the trace with type\n            `trace_type` (e.g. 'scatter'). Alternatively, this may\n            be specified as an instance of\n            plotly.graph_objs.layout.Template.  Trace templates are\n            applied cyclically to traces of each type. Container\n            arrays (eg `annotations`) have special handling: An\n            object ending in `defaults` (eg `annotationdefaults`)\n            is applied to each array item. But if an item has a\n            `templateitemname` key we look in the template array\n            for an item with matching `name` and apply that\n            instead. If no matching `name` is found we mark the\n            item invisible. Any named template item not referenced\n            is appended to the end of the array, so this can be\n            used to add a watermark annotation or a logo image, for\n            example. To omit one of these items on the plot, make\n            an item with matching `templateitemname` and `visible:\n            false`.\n        ternary\n            :class:`plotly.graph_objects.layout.Ternary` instance\n            or dict with compatible properties\n        title\n            :class:`plotly.graph_objects.layout.Title` instance or\n            dict with compatible properties\n        titlefont\n            Deprecated: Please use layout.title.font instead. Sets\n            the title font. Note that the title's font used to be\n            customized by the now deprecated `titlefont` attribute.\n        transition\n            Sets transition options used during Plotly.react\n            updates.\n        treemapcolorway\n            Sets the default treemap slice colors. Defaults to the\n            main `colorway` used for trace colors. If you specify a\n            new list here it can still be extended with lighter and\n            darker colors, see `extendtreemapcolors`.\n        uirevision\n            Used to allow user interactions with the plot to\n            persist after `Plotly.react` calls that are unaware of\n            these interactions. If `uirevision` is omitted, or if\n            it is given and it changed from the previous\n            `Plotly.react` call, the exact new figure is used. If\n            `uirevision` is truthy and did NOT change, any\n            attribute that has been affected by user interactions\n            and did not receive a different value in the new figure\n            will keep the interaction value. `layout.uirevision`\n            attribute serves as the default for `uirevision`\n            attributes in various sub-containers. For finer control\n            you can set these sub-attributes directly. For example,\n            if your app separately controls the data on the x and y\n            axes you might set `xaxis.uirevision=*time*` and\n            `yaxis.uirevision=*cost*`. Then if only the y data is\n            changed, you can update `yaxis.uirevision=*quantity*`\n            and the y axis range will reset but the x axis range\n            will retain any user-driven zoom.\n        uniformtext\n            :class:`plotly.graph_objects.layout.Uniformtext`\n            instance or dict with compatible properties\n        updatemenus\n            A tuple of\n            :class:`plotly.graph_objects.layout.Updatemenu`\n            instances or dicts with compatible properties\n        updatemenudefaults\n            When used in a template (as\n            layout.template.layout.updatemenudefaults), sets the\n            default property values to use for elements of\n            layout.updatemenus\n        violingap\n            Sets the gap (in plot fraction) between violins of\n            adjacent location coordinates. Has no effect on traces\n            that have \"width\" set.\n        violingroupgap\n            Sets the gap (in plot fraction) between violins of the\n            same location coordinate. Has no effect on traces that\n            have \"width\" set.\n        violinmode\n            Determines how violins at the same location coordinate\n            are displayed on the graph. If \"group\", the violins are\n            plotted next to one another centered around the shared\n            location. If \"overlay\", the violins are plotted over\n            one another, you might need to set \"opacity\" to see\n            them multiple violins. Has no effect on traces that\n            have \"width\" set.\n        waterfallgap\n            Sets the gap (in plot fraction) between bars of\n            adjacent location coordinates.\n        waterfallgroupgap\n            Sets the gap (in plot fraction) between bars of the\n            same location coordinate.\n        waterfallmode\n            Determines how bars at the same location coordinate are\n            displayed on the graph. With \"group\", the bars are\n            plotted next to one another centered around the shared\n            location. With \"overlay\", the bars are plotted over one\n            another, you might need to an \"opacity\" to see multiple\n            bars.\n        width\n            Sets the plot's width (in px).\n        xaxis\n            :class:`plotly.graph_objects.layout.XAxis` instance or\n            dict with compatible properties\n        yaxis\n            :class:`plotly.graph_objects.layout.YAxis` instance or\n            dict with compatible properties\n        \nDid you mean \"annotations\"?\n\nBad property path:\nannotation\n^^^^^^^^^^"
     ]
    }
   ],
   "source": [
    "# fig.layout.annotations\n",
    "# fig.layout.annotations = tuple()\n",
    "fig.update_layout(annotations=tuple())\n",
    "fig.show()"
   ]
  },
  {
   "cell_type": "code",
   "execution_count": 9,
   "id": "58700e46-5bf8-4621-9355-c382d1e29d40",
   "metadata": {},
   "outputs": [
    {
     "data": {
      "application/vnd.plotly.v1+json": {
       "config": {
        "plotlyServerURL": "https://plot.ly"
       },
       "data": [
        {
         "hovertemplate": "x=%{x}<br>y=%{y}<extra></extra>",
         "legendgroup": "",
         "marker": {
          "color": "#636efa",
          "symbol": "circle"
         },
         "mode": "markers",
         "name": "",
         "orientation": "v",
         "showlegend": false,
         "type": "scatter",
         "x": [
          0,
          1,
          2,
          3,
          4,
          5,
          6,
          7,
          8,
          9,
          10,
          11,
          12,
          13,
          14,
          15,
          16,
          17,
          18,
          19,
          20,
          21,
          22,
          23,
          24,
          25,
          26,
          27,
          28,
          29,
          30,
          31,
          32,
          33,
          34,
          35,
          36,
          37,
          38,
          39,
          40,
          41,
          42,
          43,
          44,
          45,
          46,
          47,
          48,
          49
         ],
         "xaxis": "x",
         "y": [
          4.967141530112327,
          -1.3826430117118464,
          6.476885381006925,
          15.230298564080254,
          -2.3415337472333597,
          -2.3413695694918055,
          15.792128155073915,
          7.674347291529088,
          -4.694743859349521,
          5.425600435859646,
          -4.634176928124623,
          -4.657297535702568,
          2.419622715660341,
          -19.13280244657798,
          -17.249178325130327,
          -5.622875292409727,
          -10.128311203344238,
          3.142473325952739,
          -9.08024075521211,
          -14.123037013352915,
          14.65648768921554,
          -2.2577630048653567,
          0.6752820468792384,
          -14.247481862134567,
          -5.443827245251827,
          1.1092258970986608,
          -11.509935774223027,
          3.7569801834567196,
          -6.006386899188049,
          -2.916937497932768,
          -6.017066122293969,
          18.522781845089376,
          -0.13497224737933922,
          -10.577109289559004,
          8.22544912103189,
          -12.208436499710222,
          2.088635950047554,
          -19.596701238797756,
          -13.281860488984305,
          1.9686123586912352,
          7.384665799954105,
          1.713682811899705,
          -1.1564828238824052,
          -3.011036955892888,
          -14.785219903674275,
          -7.198442083947087,
          -4.606387709597875,
          10.571222262189156,
          3.436182895684614,
          -17.63040155362734
         ],
         "yaxis": "y"
        }
       ],
       "layout": {
        "autosize": true,
        "legend": {
         "tracegroupgap": 0
        },
        "margin": {
         "t": 60
        },
        "template": {
         "data": {
          "bar": [
           {
            "error_x": {
             "color": "#2a3f5f"
            },
            "error_y": {
             "color": "#2a3f5f"
            },
            "marker": {
             "line": {
              "color": "#E5ECF6",
              "width": 0.5
             },
             "pattern": {
              "fillmode": "overlay",
              "size": 10,
              "solidity": 0.2
             }
            },
            "type": "bar"
           }
          ],
          "barpolar": [
           {
            "marker": {
             "line": {
              "color": "#E5ECF6",
              "width": 0.5
             },
             "pattern": {
              "fillmode": "overlay",
              "size": 10,
              "solidity": 0.2
             }
            },
            "type": "barpolar"
           }
          ],
          "carpet": [
           {
            "aaxis": {
             "endlinecolor": "#2a3f5f",
             "gridcolor": "white",
             "linecolor": "white",
             "minorgridcolor": "white",
             "startlinecolor": "#2a3f5f"
            },
            "baxis": {
             "endlinecolor": "#2a3f5f",
             "gridcolor": "white",
             "linecolor": "white",
             "minorgridcolor": "white",
             "startlinecolor": "#2a3f5f"
            },
            "type": "carpet"
           }
          ],
          "choropleth": [
           {
            "colorbar": {
             "outlinewidth": 0,
             "ticks": ""
            },
            "type": "choropleth"
           }
          ],
          "contour": [
           {
            "colorbar": {
             "outlinewidth": 0,
             "ticks": ""
            },
            "colorscale": [
             [
              0,
              "#0d0887"
             ],
             [
              0.1111111111111111,
              "#46039f"
             ],
             [
              0.2222222222222222,
              "#7201a8"
             ],
             [
              0.3333333333333333,
              "#9c179e"
             ],
             [
              0.4444444444444444,
              "#bd3786"
             ],
             [
              0.5555555555555556,
              "#d8576b"
             ],
             [
              0.6666666666666666,
              "#ed7953"
             ],
             [
              0.7777777777777778,
              "#fb9f3a"
             ],
             [
              0.8888888888888888,
              "#fdca26"
             ],
             [
              1,
              "#f0f921"
             ]
            ],
            "type": "contour"
           }
          ],
          "contourcarpet": [
           {
            "colorbar": {
             "outlinewidth": 0,
             "ticks": ""
            },
            "type": "contourcarpet"
           }
          ],
          "heatmap": [
           {
            "colorbar": {
             "outlinewidth": 0,
             "ticks": ""
            },
            "colorscale": [
             [
              0,
              "#0d0887"
             ],
             [
              0.1111111111111111,
              "#46039f"
             ],
             [
              0.2222222222222222,
              "#7201a8"
             ],
             [
              0.3333333333333333,
              "#9c179e"
             ],
             [
              0.4444444444444444,
              "#bd3786"
             ],
             [
              0.5555555555555556,
              "#d8576b"
             ],
             [
              0.6666666666666666,
              "#ed7953"
             ],
             [
              0.7777777777777778,
              "#fb9f3a"
             ],
             [
              0.8888888888888888,
              "#fdca26"
             ],
             [
              1,
              "#f0f921"
             ]
            ],
            "type": "heatmap"
           }
          ],
          "heatmapgl": [
           {
            "colorbar": {
             "outlinewidth": 0,
             "ticks": ""
            },
            "colorscale": [
             [
              0,
              "#0d0887"
             ],
             [
              0.1111111111111111,
              "#46039f"
             ],
             [
              0.2222222222222222,
              "#7201a8"
             ],
             [
              0.3333333333333333,
              "#9c179e"
             ],
             [
              0.4444444444444444,
              "#bd3786"
             ],
             [
              0.5555555555555556,
              "#d8576b"
             ],
             [
              0.6666666666666666,
              "#ed7953"
             ],
             [
              0.7777777777777778,
              "#fb9f3a"
             ],
             [
              0.8888888888888888,
              "#fdca26"
             ],
             [
              1,
              "#f0f921"
             ]
            ],
            "type": "heatmapgl"
           }
          ],
          "histogram": [
           {
            "marker": {
             "pattern": {
              "fillmode": "overlay",
              "size": 10,
              "solidity": 0.2
             }
            },
            "type": "histogram"
           }
          ],
          "histogram2d": [
           {
            "colorbar": {
             "outlinewidth": 0,
             "ticks": ""
            },
            "colorscale": [
             [
              0,
              "#0d0887"
             ],
             [
              0.1111111111111111,
              "#46039f"
             ],
             [
              0.2222222222222222,
              "#7201a8"
             ],
             [
              0.3333333333333333,
              "#9c179e"
             ],
             [
              0.4444444444444444,
              "#bd3786"
             ],
             [
              0.5555555555555556,
              "#d8576b"
             ],
             [
              0.6666666666666666,
              "#ed7953"
             ],
             [
              0.7777777777777778,
              "#fb9f3a"
             ],
             [
              0.8888888888888888,
              "#fdca26"
             ],
             [
              1,
              "#f0f921"
             ]
            ],
            "type": "histogram2d"
           }
          ],
          "histogram2dcontour": [
           {
            "colorbar": {
             "outlinewidth": 0,
             "ticks": ""
            },
            "colorscale": [
             [
              0,
              "#0d0887"
             ],
             [
              0.1111111111111111,
              "#46039f"
             ],
             [
              0.2222222222222222,
              "#7201a8"
             ],
             [
              0.3333333333333333,
              "#9c179e"
             ],
             [
              0.4444444444444444,
              "#bd3786"
             ],
             [
              0.5555555555555556,
              "#d8576b"
             ],
             [
              0.6666666666666666,
              "#ed7953"
             ],
             [
              0.7777777777777778,
              "#fb9f3a"
             ],
             [
              0.8888888888888888,
              "#fdca26"
             ],
             [
              1,
              "#f0f921"
             ]
            ],
            "type": "histogram2dcontour"
           }
          ],
          "mesh3d": [
           {
            "colorbar": {
             "outlinewidth": 0,
             "ticks": ""
            },
            "type": "mesh3d"
           }
          ],
          "parcoords": [
           {
            "line": {
             "colorbar": {
              "outlinewidth": 0,
              "ticks": ""
             }
            },
            "type": "parcoords"
           }
          ],
          "pie": [
           {
            "automargin": true,
            "type": "pie"
           }
          ],
          "scatter": [
           {
            "fillpattern": {
             "fillmode": "overlay",
             "size": 10,
             "solidity": 0.2
            },
            "type": "scatter"
           }
          ],
          "scatter3d": [
           {
            "line": {
             "colorbar": {
              "outlinewidth": 0,
              "ticks": ""
             }
            },
            "marker": {
             "colorbar": {
              "outlinewidth": 0,
              "ticks": ""
             }
            },
            "type": "scatter3d"
           }
          ],
          "scattercarpet": [
           {
            "marker": {
             "colorbar": {
              "outlinewidth": 0,
              "ticks": ""
             }
            },
            "type": "scattercarpet"
           }
          ],
          "scattergeo": [
           {
            "marker": {
             "colorbar": {
              "outlinewidth": 0,
              "ticks": ""
             }
            },
            "type": "scattergeo"
           }
          ],
          "scattergl": [
           {
            "marker": {
             "colorbar": {
              "outlinewidth": 0,
              "ticks": ""
             }
            },
            "type": "scattergl"
           }
          ],
          "scattermapbox": [
           {
            "marker": {
             "colorbar": {
              "outlinewidth": 0,
              "ticks": ""
             }
            },
            "type": "scattermapbox"
           }
          ],
          "scatterpolar": [
           {
            "marker": {
             "colorbar": {
              "outlinewidth": 0,
              "ticks": ""
             }
            },
            "type": "scatterpolar"
           }
          ],
          "scatterpolargl": [
           {
            "marker": {
             "colorbar": {
              "outlinewidth": 0,
              "ticks": ""
             }
            },
            "type": "scatterpolargl"
           }
          ],
          "scatterternary": [
           {
            "marker": {
             "colorbar": {
              "outlinewidth": 0,
              "ticks": ""
             }
            },
            "type": "scatterternary"
           }
          ],
          "surface": [
           {
            "colorbar": {
             "outlinewidth": 0,
             "ticks": ""
            },
            "colorscale": [
             [
              0,
              "#0d0887"
             ],
             [
              0.1111111111111111,
              "#46039f"
             ],
             [
              0.2222222222222222,
              "#7201a8"
             ],
             [
              0.3333333333333333,
              "#9c179e"
             ],
             [
              0.4444444444444444,
              "#bd3786"
             ],
             [
              0.5555555555555556,
              "#d8576b"
             ],
             [
              0.6666666666666666,
              "#ed7953"
             ],
             [
              0.7777777777777778,
              "#fb9f3a"
             ],
             [
              0.8888888888888888,
              "#fdca26"
             ],
             [
              1,
              "#f0f921"
             ]
            ],
            "type": "surface"
           }
          ],
          "table": [
           {
            "cells": {
             "fill": {
              "color": "#EBF0F8"
             },
             "line": {
              "color": "white"
             }
            },
            "header": {
             "fill": {
              "color": "#C8D4E3"
             },
             "line": {
              "color": "white"
             }
            },
            "type": "table"
           }
          ]
         },
         "layout": {
          "annotationdefaults": {
           "arrowcolor": "#2a3f5f",
           "arrowhead": 0,
           "arrowwidth": 1
          },
          "autotypenumbers": "strict",
          "coloraxis": {
           "colorbar": {
            "outlinewidth": 0,
            "ticks": ""
           }
          },
          "colorscale": {
           "diverging": [
            [
             0,
             "#8e0152"
            ],
            [
             0.1,
             "#c51b7d"
            ],
            [
             0.2,
             "#de77ae"
            ],
            [
             0.3,
             "#f1b6da"
            ],
            [
             0.4,
             "#fde0ef"
            ],
            [
             0.5,
             "#f7f7f7"
            ],
            [
             0.6,
             "#e6f5d0"
            ],
            [
             0.7,
             "#b8e186"
            ],
            [
             0.8,
             "#7fbc41"
            ],
            [
             0.9,
             "#4d9221"
            ],
            [
             1,
             "#276419"
            ]
           ],
           "sequential": [
            [
             0,
             "#0d0887"
            ],
            [
             0.1111111111111111,
             "#46039f"
            ],
            [
             0.2222222222222222,
             "#7201a8"
            ],
            [
             0.3333333333333333,
             "#9c179e"
            ],
            [
             0.4444444444444444,
             "#bd3786"
            ],
            [
             0.5555555555555556,
             "#d8576b"
            ],
            [
             0.6666666666666666,
             "#ed7953"
            ],
            [
             0.7777777777777778,
             "#fb9f3a"
            ],
            [
             0.8888888888888888,
             "#fdca26"
            ],
            [
             1,
             "#f0f921"
            ]
           ],
           "sequentialminus": [
            [
             0,
             "#0d0887"
            ],
            [
             0.1111111111111111,
             "#46039f"
            ],
            [
             0.2222222222222222,
             "#7201a8"
            ],
            [
             0.3333333333333333,
             "#9c179e"
            ],
            [
             0.4444444444444444,
             "#bd3786"
            ],
            [
             0.5555555555555556,
             "#d8576b"
            ],
            [
             0.6666666666666666,
             "#ed7953"
            ],
            [
             0.7777777777777778,
             "#fb9f3a"
            ],
            [
             0.8888888888888888,
             "#fdca26"
            ],
            [
             1,
             "#f0f921"
            ]
           ]
          },
          "colorway": [
           "#636efa",
           "#EF553B",
           "#00cc96",
           "#ab63fa",
           "#FFA15A",
           "#19d3f3",
           "#FF6692",
           "#B6E880",
           "#FF97FF",
           "#FECB52"
          ],
          "font": {
           "color": "#2a3f5f"
          },
          "geo": {
           "bgcolor": "white",
           "lakecolor": "white",
           "landcolor": "#E5ECF6",
           "showlakes": true,
           "showland": true,
           "subunitcolor": "white"
          },
          "hoverlabel": {
           "align": "left"
          },
          "hovermode": "closest",
          "mapbox": {
           "style": "light"
          },
          "paper_bgcolor": "white",
          "plot_bgcolor": "#E5ECF6",
          "polar": {
           "angularaxis": {
            "gridcolor": "white",
            "linecolor": "white",
            "ticks": ""
           },
           "bgcolor": "#E5ECF6",
           "radialaxis": {
            "gridcolor": "white",
            "linecolor": "white",
            "ticks": ""
           }
          },
          "scene": {
           "xaxis": {
            "backgroundcolor": "#E5ECF6",
            "gridcolor": "white",
            "gridwidth": 2,
            "linecolor": "white",
            "showbackground": true,
            "ticks": "",
            "zerolinecolor": "white"
           },
           "yaxis": {
            "backgroundcolor": "#E5ECF6",
            "gridcolor": "white",
            "gridwidth": 2,
            "linecolor": "white",
            "showbackground": true,
            "ticks": "",
            "zerolinecolor": "white"
           },
           "zaxis": {
            "backgroundcolor": "#E5ECF6",
            "gridcolor": "white",
            "gridwidth": 2,
            "linecolor": "white",
            "showbackground": true,
            "ticks": "",
            "zerolinecolor": "white"
           }
          },
          "shapedefaults": {
           "line": {
            "color": "#2a3f5f"
           }
          },
          "ternary": {
           "aaxis": {
            "gridcolor": "white",
            "linecolor": "white",
            "ticks": ""
           },
           "baxis": {
            "gridcolor": "white",
            "linecolor": "white",
            "ticks": ""
           },
           "bgcolor": "#E5ECF6",
           "caxis": {
            "gridcolor": "white",
            "linecolor": "white",
            "ticks": ""
           }
          },
          "title": {
           "x": 0.05
          },
          "xaxis": {
           "automargin": true,
           "gridcolor": "white",
           "linecolor": "white",
           "ticks": "",
           "title": {
            "standoff": 15
           },
           "zerolinecolor": "white",
           "zerolinewidth": 2
          },
          "yaxis": {
           "automargin": true,
           "gridcolor": "white",
           "linecolor": "white",
           "ticks": "",
           "title": {
            "standoff": 15
           },
           "zerolinecolor": "white",
           "zerolinewidth": 2
          }
         }
        },
        "xaxis": {
         "anchor": "y",
         "autorange": true,
         "domain": [
          0,
          1
         ],
         "range": [
          -2.9986460871919856,
          51.998646087191986
         ],
         "title": {
          "text": "x"
         },
         "type": "linear"
        },
        "yaxis": {
         "anchor": "x",
         "autorange": true,
         "domain": [
          0,
          1
         ],
         "range": [
          -22.548209771539675,
          21.474290377831295
         ],
         "title": {
          "text": "y"
         },
         "type": "linear"
        }
       }
      },
      "image/png": "[encoded data removed]",
      "text/html": [
       "<div>                            <div id=\"e28f4eb6-85f0-489d-9fba-02cc5ac43a29\" class=\"plotly-graph-div\" style=\"height:525px; width:100%;\"></div>            <script type=\"text/javascript\">                require([\"plotly\"], function(Plotly) {                    window.PLOTLYENV=window.PLOTLYENV || {};                                    if (document.getElementById(\"e28f4eb6-85f0-489d-9fba-02cc5ac43a29\")) {                    Plotly.newPlot(                        \"e28f4eb6-85f0-489d-9fba-02cc5ac43a29\",                        [{\"hovertemplate\":\"x=%{x}<br>y=%{y}<extra></extra>\",\"legendgroup\":\"\",\"marker\":{\"color\":\"#636efa\",\"symbol\":\"circle\"},\"mode\":\"markers\",\"name\":\"\",\"orientation\":\"v\",\"showlegend\":false,\"x\":[0,1,2,3,4,5,6,7,8,9,10,11,12,13,14,15,16,17,18,19,20,21,22,23,24,25,26,27,28,29,30,31,32,33,34,35,36,37,38,39,40,41,42,43,44,45,46,47,48,49],\"xaxis\":\"x\",\"y\":[4.967141530112327,-1.3826430117118464,6.476885381006925,15.230298564080254,-2.3415337472333597,-2.3413695694918055,15.792128155073915,7.674347291529088,-4.694743859349521,5.425600435859646,-4.634176928124623,-4.657297535702568,2.419622715660341,-19.13280244657798,-17.249178325130327,-5.622875292409727,-10.128311203344238,3.142473325952739,-9.08024075521211,-14.123037013352915,14.65648768921554,-2.2577630048653567,0.6752820468792384,-14.247481862134567,-5.443827245251827,1.1092258970986608,-11.509935774223027,3.7569801834567196,-6.006386899188049,-2.916937497932768,-6.017066122293969,18.522781845089376,-0.13497224737933922,-10.577109289559004,8.22544912103189,-12.208436499710222,2.088635950047554,-19.596701238797756,-13.281860488984305,1.9686123586912352,7.384665799954105,1.713682811899705,-1.1564828238824052,-3.011036955892888,-14.785219903674275,-7.198442083947087,-4.606387709597875,10.571222262189156,3.436182895684614,-17.63040155362734],\"yaxis\":\"y\",\"type\":\"scatter\"}],                        {\"autosize\":true,\"legend\":{\"tracegroupgap\":0},\"margin\":{\"t\":60},\"template\":{\"data\":{\"barpolar\":[{\"marker\":{\"line\":{\"color\":\"#E5ECF6\",\"width\":0.5},\"pattern\":{\"fillmode\":\"overlay\",\"size\":10,\"solidity\":0.2}},\"type\":\"barpolar\"}],\"bar\":[{\"error_x\":{\"color\":\"#2a3f5f\"},\"error_y\":{\"color\":\"#2a3f5f\"},\"marker\":{\"line\":{\"color\":\"#E5ECF6\",\"width\":0.5},\"pattern\":{\"fillmode\":\"overlay\",\"size\":10,\"solidity\":0.2}},\"type\":\"bar\"}],\"carpet\":[{\"aaxis\":{\"endlinecolor\":\"#2a3f5f\",\"gridcolor\":\"white\",\"linecolor\":\"white\",\"minorgridcolor\":\"white\",\"startlinecolor\":\"#2a3f5f\"},\"baxis\":{\"endlinecolor\":\"#2a3f5f\",\"gridcolor\":\"white\",\"linecolor\":\"white\",\"minorgridcolor\":\"white\",\"startlinecolor\":\"#2a3f5f\"},\"type\":\"carpet\"}],\"choropleth\":[{\"colorbar\":{\"outlinewidth\":0,\"ticks\":\"\"},\"type\":\"choropleth\"}],\"contourcarpet\":[{\"colorbar\":{\"outlinewidth\":0,\"ticks\":\"\"},\"type\":\"contourcarpet\"}],\"contour\":[{\"colorbar\":{\"outlinewidth\":0,\"ticks\":\"\"},\"colorscale\":[[0,\"#0d0887\"],[0.1111111111111111,\"#46039f\"],[0.2222222222222222,\"#7201a8\"],[0.3333333333333333,\"#9c179e\"],[0.4444444444444444,\"#bd3786\"],[0.5555555555555556,\"#d8576b\"],[0.6666666666666666,\"#ed7953\"],[0.7777777777777778,\"#fb9f3a\"],[0.8888888888888888,\"#fdca26\"],[1,\"#f0f921\"]],\"type\":\"contour\"}],\"heatmapgl\":[{\"colorbar\":{\"outlinewidth\":0,\"ticks\":\"\"},\"colorscale\":[[0,\"#0d0887\"],[0.1111111111111111,\"#46039f\"],[0.2222222222222222,\"#7201a8\"],[0.3333333333333333,\"#9c179e\"],[0.4444444444444444,\"#bd3786\"],[0.5555555555555556,\"#d8576b\"],[0.6666666666666666,\"#ed7953\"],[0.7777777777777778,\"#fb9f3a\"],[0.8888888888888888,\"#fdca26\"],[1,\"#f0f921\"]],\"type\":\"heatmapgl\"}],\"heatmap\":[{\"colorbar\":{\"outlinewidth\":0,\"ticks\":\"\"},\"colorscale\":[[0,\"#0d0887\"],[0.1111111111111111,\"#46039f\"],[0.2222222222222222,\"#7201a8\"],[0.3333333333333333,\"#9c179e\"],[0.4444444444444444,\"#bd3786\"],[0.5555555555555556,\"#d8576b\"],[0.6666666666666666,\"#ed7953\"],[0.7777777777777778,\"#fb9f3a\"],[0.8888888888888888,\"#fdca26\"],[1,\"#f0f921\"]],\"type\":\"heatmap\"}],\"histogram2dcontour\":[{\"colorbar\":{\"outlinewidth\":0,\"ticks\":\"\"},\"colorscale\":[[0,\"#0d0887\"],[0.1111111111111111,\"#46039f\"],[0.2222222222222222,\"#7201a8\"],[0.3333333333333333,\"#9c179e\"],[0.4444444444444444,\"#bd3786\"],[0.5555555555555556,\"#d8576b\"],[0.6666666666666666,\"#ed7953\"],[0.7777777777777778,\"#fb9f3a\"],[0.8888888888888888,\"#fdca26\"],[1,\"#f0f921\"]],\"type\":\"histogram2dcontour\"}],\"histogram2d\":[{\"colorbar\":{\"outlinewidth\":0,\"ticks\":\"\"},\"colorscale\":[[0,\"#0d0887\"],[0.1111111111111111,\"#46039f\"],[0.2222222222222222,\"#7201a8\"],[0.3333333333333333,\"#9c179e\"],[0.4444444444444444,\"#bd3786\"],[0.5555555555555556,\"#d8576b\"],[0.6666666666666666,\"#ed7953\"],[0.7777777777777778,\"#fb9f3a\"],[0.8888888888888888,\"#fdca26\"],[1,\"#f0f921\"]],\"type\":\"histogram2d\"}],\"histogram\":[{\"marker\":{\"pattern\":{\"fillmode\":\"overlay\",\"size\":10,\"solidity\":0.2}},\"type\":\"histogram\"}],\"mesh3d\":[{\"colorbar\":{\"outlinewidth\":0,\"ticks\":\"\"},\"type\":\"mesh3d\"}],\"parcoords\":[{\"line\":{\"colorbar\":{\"outlinewidth\":0,\"ticks\":\"\"}},\"type\":\"parcoords\"}],\"pie\":[{\"automargin\":true,\"type\":\"pie\"}],\"scatter3d\":[{\"line\":{\"colorbar\":{\"outlinewidth\":0,\"ticks\":\"\"}},\"marker\":{\"colorbar\":{\"outlinewidth\":0,\"ticks\":\"\"}},\"type\":\"scatter3d\"}],\"scattercarpet\":[{\"marker\":{\"colorbar\":{\"outlinewidth\":0,\"ticks\":\"\"}},\"type\":\"scattercarpet\"}],\"scattergeo\":[{\"marker\":{\"colorbar\":{\"outlinewidth\":0,\"ticks\":\"\"}},\"type\":\"scattergeo\"}],\"scattergl\":[{\"marker\":{\"colorbar\":{\"outlinewidth\":0,\"ticks\":\"\"}},\"type\":\"scattergl\"}],\"scattermapbox\":[{\"marker\":{\"colorbar\":{\"outlinewidth\":0,\"ticks\":\"\"}},\"type\":\"scattermapbox\"}],\"scatterpolargl\":[{\"marker\":{\"colorbar\":{\"outlinewidth\":0,\"ticks\":\"\"}},\"type\":\"scatterpolargl\"}],\"scatterpolar\":[{\"marker\":{\"colorbar\":{\"outlinewidth\":0,\"ticks\":\"\"}},\"type\":\"scatterpolar\"}],\"scatter\":[{\"fillpattern\":{\"fillmode\":\"overlay\",\"size\":10,\"solidity\":0.2},\"type\":\"scatter\"}],\"scatterternary\":[{\"marker\":{\"colorbar\":{\"outlinewidth\":0,\"ticks\":\"\"}},\"type\":\"scatterternary\"}],\"surface\":[{\"colorbar\":{\"outlinewidth\":0,\"ticks\":\"\"},\"colorscale\":[[0,\"#0d0887\"],[0.1111111111111111,\"#46039f\"],[0.2222222222222222,\"#7201a8\"],[0.3333333333333333,\"#9c179e\"],[0.4444444444444444,\"#bd3786\"],[0.5555555555555556,\"#d8576b\"],[0.6666666666666666,\"#ed7953\"],[0.7777777777777778,\"#fb9f3a\"],[0.8888888888888888,\"#fdca26\"],[1,\"#f0f921\"]],\"type\":\"surface\"}],\"table\":[{\"cells\":{\"fill\":{\"color\":\"#EBF0F8\"},\"line\":{\"color\":\"white\"}},\"header\":{\"fill\":{\"color\":\"#C8D4E3\"},\"line\":{\"color\":\"white\"}},\"type\":\"table\"}]},\"layout\":{\"annotationdefaults\":{\"arrowcolor\":\"#2a3f5f\",\"arrowhead\":0,\"arrowwidth\":1},\"autotypenumbers\":\"strict\",\"coloraxis\":{\"colorbar\":{\"outlinewidth\":0,\"ticks\":\"\"}},\"colorscale\":{\"diverging\":[[0,\"#8e0152\"],[0.1,\"#c51b7d\"],[0.2,\"#de77ae\"],[0.3,\"#f1b6da\"],[0.4,\"#fde0ef\"],[0.5,\"#f7f7f7\"],[0.6,\"#e6f5d0\"],[0.7,\"#b8e186\"],[0.8,\"#7fbc41\"],[0.9,\"#4d9221\"],[1,\"#276419\"]],\"sequential\":[[0,\"#0d0887\"],[0.1111111111111111,\"#46039f\"],[0.2222222222222222,\"#7201a8\"],[0.3333333333333333,\"#9c179e\"],[0.4444444444444444,\"#bd3786\"],[0.5555555555555556,\"#d8576b\"],[0.6666666666666666,\"#ed7953\"],[0.7777777777777778,\"#fb9f3a\"],[0.8888888888888888,\"#fdca26\"],[1,\"#f0f921\"]],\"sequentialminus\":[[0,\"#0d0887\"],[0.1111111111111111,\"#46039f\"],[0.2222222222222222,\"#7201a8\"],[0.3333333333333333,\"#9c179e\"],[0.4444444444444444,\"#bd3786\"],[0.5555555555555556,\"#d8576b\"],[0.6666666666666666,\"#ed7953\"],[0.7777777777777778,\"#fb9f3a\"],[0.8888888888888888,\"#fdca26\"],[1,\"#f0f921\"]]},\"colorway\":[\"#636efa\",\"#EF553B\",\"#00cc96\",\"#ab63fa\",\"#FFA15A\",\"#19d3f3\",\"#FF6692\",\"#B6E880\",\"#FF97FF\",\"#FECB52\"],\"font\":{\"color\":\"#2a3f5f\"},\"geo\":{\"bgcolor\":\"white\",\"lakecolor\":\"white\",\"landcolor\":\"#E5ECF6\",\"showlakes\":true,\"showland\":true,\"subunitcolor\":\"white\"},\"hoverlabel\":{\"align\":\"left\"},\"hovermode\":\"closest\",\"mapbox\":{\"style\":\"light\"},\"paper_bgcolor\":\"white\",\"plot_bgcolor\":\"#E5ECF6\",\"polar\":{\"angularaxis\":{\"gridcolor\":\"white\",\"linecolor\":\"white\",\"ticks\":\"\"},\"bgcolor\":\"#E5ECF6\",\"radialaxis\":{\"gridcolor\":\"white\",\"linecolor\":\"white\",\"ticks\":\"\"}},\"scene\":{\"xaxis\":{\"backgroundcolor\":\"#E5ECF6\",\"gridcolor\":\"white\",\"gridwidth\":2,\"linecolor\":\"white\",\"showbackground\":true,\"ticks\":\"\",\"zerolinecolor\":\"white\"},\"yaxis\":{\"backgroundcolor\":\"#E5ECF6\",\"gridcolor\":\"white\",\"gridwidth\":2,\"linecolor\":\"white\",\"showbackground\":true,\"ticks\":\"\",\"zerolinecolor\":\"white\"},\"zaxis\":{\"backgroundcolor\":\"#E5ECF6\",\"gridcolor\":\"white\",\"gridwidth\":2,\"linecolor\":\"white\",\"showbackground\":true,\"ticks\":\"\",\"zerolinecolor\":\"white\"}},\"shapedefaults\":{\"line\":{\"color\":\"#2a3f5f\"}},\"ternary\":{\"aaxis\":{\"gridcolor\":\"white\",\"linecolor\":\"white\",\"ticks\":\"\"},\"baxis\":{\"gridcolor\":\"white\",\"linecolor\":\"white\",\"ticks\":\"\"},\"bgcolor\":\"#E5ECF6\",\"caxis\":{\"gridcolor\":\"white\",\"linecolor\":\"white\",\"ticks\":\"\"}},\"title\":{\"x\":0.05},\"xaxis\":{\"automargin\":true,\"gridcolor\":\"white\",\"linecolor\":\"white\",\"ticks\":\"\",\"title\":{\"standoff\":15},\"zerolinecolor\":\"white\",\"zerolinewidth\":2},\"yaxis\":{\"automargin\":true,\"gridcolor\":\"white\",\"linecolor\":\"white\",\"ticks\":\"\",\"title\":{\"standoff\":15},\"zerolinecolor\":\"white\",\"zerolinewidth\":2}}},\"xaxis\":{\"anchor\":\"y\",\"autorange\":true,\"domain\":[0,1],\"range\":[-2.9233914671396195,51.923391467139616],\"title\":{\"text\":\"x\"},\"type\":\"linear\"},\"yaxis\":{\"anchor\":\"x\",\"autorange\":true,\"domain\":[0,1],\"range\":[-22.29946385155955,21.22554445785117],\"title\":{\"text\":\"y\"},\"type\":\"linear\"}},                        {\"responsive\": true}                    ).then(function(){\n",
       "                            \n",
       "var gd = document.getElementById('e28f4eb6-85f0-489d-9fba-02cc5ac43a29');\n",
       "var x = new MutationObserver(function (mutations, observer) {{\n",
       "        var display = window.getComputedStyle(gd).display;\n",
       "        if (!display || display === 'none') {{\n",
       "            console.log([gd, 'removed!']);\n",
       "            Plotly.purge(gd);\n",
       "            observer.disconnect();\n",
       "        }}\n",
       "}});\n",
       "\n",
       "// Listen for the removal of the full notebook cells\n",
       "var notebookContainer = gd.closest('#notebook-container');\n",
       "if (notebookContainer) {{\n",
       "    x.observe(notebookContainer, {childList: true});\n",
       "}}\n",
       "\n",
       "// Listen for the clearing of the current output cell\n",
       "var outputEl = gd.closest('.output');\n",
       "if (outputEl) {{\n",
       "    x.observe(outputEl, {childList: true});\n",
       "}}\n",
       "\n",
       "                        })                };                });            </script>        </div>"
      ]
     },
     "metadata": {},
     "output_type": "display_data"
    }
   ],
   "source": [
    "fig.show()"
   ]
  },
  {
   "cell_type": "code",
   "execution_count": null,
   "id": "9701b71c-5cd1-4c4f-b0b4-0ee3c9c6a71f",
   "metadata": {},
   "outputs": [],
   "source": [
    "config={\n",
    "    'editable': True,\n",
    "    'edits': {\n",
    "        'shapePosition': True,\n",
    "        'annotationPosition': True\n",
    "    }"
   ]
  },
  {
   "cell_type": "code",
   "execution_count": 10,
   "id": "a0cbdaae-3349-4a16-bc4f-28094382240c",
   "metadata": {},
   "outputs": [
    {
     "data": {
      "text/plain": [
       "<bound method BaseFigure.show of Figure({\n",
       "    'data': [{'cliponaxis': True,\n",
       "              'customdata': [Afghanistan, Albania, Algeria, Angola, Argentina,\n",
       "                             Australia, Austria, Bahrain, Bangladesh, Belgium,\n",
       "                             Benin, Bolivia, Bosnia and Herzegovina, Botswana,\n",
       "                             Brazil, Bulgaria, Burkina Faso, Burundi, Cambodia,\n",
       "                             Cameroon, Canada, Central African Republic, Chad,\n",
       "                             Chile, China, Colombia, Comoros, Congo, Dem. Rep.,\n",
       "                             Congo, Rep., Costa Rica, Cote d'Ivoire, Croatia, Cuba,\n",
       "                             Czech Republic, Denmark, Djibouti, Dominican Republic,\n",
       "                             Ecuador, El Salvador, Equatorial Guinea, Eritrea,\n",
       "                             Ethiopia, Finland, France, Gabon, Germany, Ghana,\n",
       "                             Greece, Guatemala, Guinea, Guinea-Bissau, Haiti,\n",
       "                             Honduras, Hungary, Iceland, India, Indonesia, Iraq,\n",
       "                             Ireland, Israel, Italy, Jamaica, Japan, Jordan, Kenya,\n",
       "                             Korea, Rep., Kuwait, Lebanon, Lesotho, Liberia, Libya,\n",
       "                             Madagascar, Malawi, Malaysia, Mali, Mauritania,\n",
       "                             Mauritius, Mexico, Mongolia, Montenegro, Morocco,\n",
       "                             Mozambique, Myanmar, Namibia, Nepal, Netherlands, New\n",
       "                             Zealand, Nicaragua, Niger, Nigeria, Norway, Oman,\n",
       "                             Pakistan, Panama, Paraguay, Peru, Philippines, Poland,\n",
       "                             Portugal, Puerto Rico, Romania, Rwanda, Sao Tome and\n",
       "                             Principe, Saudi Arabia, Senegal, Serbia, Sierra Leone,\n",
       "                             Singapore, Slovak Republic, Slovenia, Somalia, South\n",
       "                             Africa, Spain, Sri Lanka, Sudan, Swaziland, Sweden,\n",
       "                             Switzerland, Tanzania, Thailand, Togo, Trinidad and\n",
       "                             Tobago, Tunisia, Turkey, Uganda, United Kingdom,\n",
       "                             United States, Uruguay, Vietnam, West Bank and Gaza,\n",
       "                             Yemen, Rep., Zambia, Zimbabwe],\n",
       "              'error_x': {'visible': False},\n",
       "              'error_y': {'visible': False},\n",
       "              'fill': 'none',\n",
       "              'hoverlabel': {'align': 'left', 'font': {'family': 'Arial, sans-serif', 'size': 13}, 'namelength': -1},\n",
       "              'hoveron': 'points',\n",
       "              'hovertemplate': '<b>%{hovertext}</b><br><br>x=%{x}<br>y=%{y}<extra></extra>',\n",
       "              'hovertext': [Afghanistan, Albania, Algeria, Angola, Argentina,\n",
       "                            Australia, Austria, Bahrain, Bangladesh, Belgium,\n",
       "                            Benin, Bolivia, Bosnia and Herzegovina, Botswana,\n",
       "                            Brazil, Bulgaria, Burkina Faso, Burundi, Cambodia,\n",
       "                            Cameroon, Canada, Central African Republic, Chad,\n",
       "                            Chile, China, Colombia, Comoros, Congo, Dem. Rep.,\n",
       "                            Congo, Rep., Costa Rica, Cote d'Ivoire, Croatia, Cuba,\n",
       "                            Czech Republic, Denmark, Djibouti, Dominican Republic,\n",
       "                            Ecuador, El Salvador, Equatorial Guinea, Eritrea,\n",
       "                            Ethiopia, Finland, France, Gabon, Germany, Ghana,\n",
       "                            Greece, Guatemala, Guinea, Guinea-Bissau, Haiti,\n",
       "                            Honduras, Hungary, Iceland, India, Indonesia, Iraq,\n",
       "                            Ireland, Israel, Italy, Jamaica, Japan, Jordan, Kenya,\n",
       "                            Korea, Rep., Kuwait, Lebanon, Lesotho, Liberia, Libya,\n",
       "                            Madagascar, Malawi, Malaysia, Mali, Mauritania,\n",
       "                            Mauritius, Mexico, Mongolia, Montenegro, Morocco,\n",
       "                            Mozambique, Myanmar, Namibia, Nepal, Netherlands, New\n",
       "                            Zealand, Nicaragua, Niger, Nigeria, Norway, Oman,\n",
       "                            Pakistan, Panama, Paraguay, Peru, Philippines, Poland,\n",
       "                            Portugal, Puerto Rico, Romania, Rwanda, Sao Tome and\n",
       "                            Principe, Saudi Arabia, Senegal, Serbia, Sierra Leone,\n",
       "                            Singapore, Slovak Republic, Slovenia, Somalia, South\n",
       "                            Africa, Spain, Sri Lanka, Sudan, Swaziland, Sweden,\n",
       "                            Switzerland, Tanzania, Thailand, Togo, Trinidad and\n",
       "                            Tobago, Tunisia, Turkey, Uganda, United Kingdom, United\n",
       "                            States, Uruguay, Vietnam, West Bank and Gaza, Yemen,\n",
       "                            Rep., Zambia, Zimbabwe],\n",
       "              'legendgroup': '',\n",
       "              'legendgrouptitle': {'font': {'color': '#2a3f5f',\n",
       "                                            'family': '\"Open Sans\", verdana, arial, sans-serif',\n",
       "                                            'size': 13},\n",
       "                                   'text': ''},\n",
       "              'legendrank': 1000,\n",
       "              'marker': {'color': '#636efa',\n",
       "                         'gradient': {'type': 'none'},\n",
       "                         'line': {'color': '#444', 'width': 0},\n",
       "                         'maxdisplayed': 0,\n",
       "                         'opacity': 1,\n",
       "                         'size': 6,\n",
       "                         'symbol': 'circle'},\n",
       "              'mode': 'markers',\n",
       "              'name': '',\n",
       "              'opacity': 1,\n",
       "              'selected': {'marker': {'opacity': 1}},\n",
       "              'showlegend': False,\n",
       "              'stackgroup': '',\n",
       "              'text': '',\n",
       "              'type': 'scatter',\n",
       "              'uid': '4825aa',\n",
       "              'uirevision': 'constant',\n",
       "              'unselected': {'marker': {'opacity': 0.2}},\n",
       "              'visible': True,\n",
       "              'x': [6.437, 1.635, 2.661, 6.619, 2.4130000000000003, 1.959, 1.38,\n",
       "                    2.292, 2.521, 1.82, 5.365, 3.427, 1.253, 2.9210000000000003,\n",
       "                    1.944, 1.49, 6.1160000000000005, 6.566, 3.0860000000000003,\n",
       "                    5.235, 1.6589, 4.902, 6.901, 1.887, 1.526, 2.1180000000000003,\n",
       "                    4.927, 6.646, 5.063, 2.006, 5.392, 1.48, 1.636, 1.45, 1.84,\n",
       "                    3.744, 2.687, 2.736, 2.253, 5.391, 4.8180000000000005, 5.353,\n",
       "                    1.83, 1.98, 4.164, 1.37, 4.33, 1.38, 3.664, 5.575, 5.267,\n",
       "                    3.579, 3.039, 1.32, 2.09, 2.826, 2.497, 4.623, 2.01, 2.9, 1.4,\n",
       "                    2.289, 1.34, 3.613, 4.825, 1.25, 2.525, 1.6269999999999998,\n",
       "                    3.412, 5.277, 2.65, 4.87, 5.823, 2.093, 6.718999999999999,\n",
       "                    5.002, 1.74, 2.447, 2.324, 1.82, 2.48, 5.674, 2.585, 3.616,\n",
       "                    3.012, 1.72, 2.18, 2.571, 7.688, 5.93, 1.9, 2.892, 3.98, 2.541,\n",
       "                    2.907, 2.616, 3.324, 1.31, 1.35, 1.6505, 1.45, 4.895, 4.927,\n",
       "                    3.16, 5.1770000000000005, 1.38, 5.565, 1.29, 1.27, 1.38, 7.14,\n",
       "                    2.58, 1.38, 2.274, 4.873, 3.761, 1.88, 1.46, 5.585, 1.557,\n",
       "                    5.064, 1.79, 2.04, 2.193, 6.424, 1.86, 2.12, 2.126, 1.911,\n",
       "                    4.627, 5.18, 5.9110000000000005, 4.022],\n",
       "              'xaxis': 'x',\n",
       "              'xcalendar': 'gregorian',\n",
       "              'xhoverformat': '',\n",
       "              'xperiod': 0,\n",
       "              'y': [57.8338292683, 76.4702926829, 72.8983658537,\n",
       "                    49.43573170729999, 75.0090487805, 81.2926829268, 80.1804878049,\n",
       "                    75.7077560976, 68.85997560979999, 79.78292682930001,\n",
       "                    57.867390243900005, 64.6941219512, 75.3714878049,\n",
       "                    59.0745609756, 72.4148292683, 72.6634146341, 55.188804878,\n",
       "                    53.4560731707, 64.5523414634, 52.4791463415, 80.6343902439,\n",
       "                    45.687390243900005, 48.5592195122, 79.3135365854,\n",
       "                    74.3404390244, 72.7055121951, 60.7123414634, 55.0644146341,\n",
       "                    55.8013170732, 78.33031707319999, 48.7788292683, 75.7056097561,\n",
       "                    78.44919512199999, 76.7243902439, 78.1951219512, 58.8293414634,\n",
       "                    72.1313170732, 74.4950243902, 70.7804634146, 54.5163170732,\n",
       "                    59.6694146341, 58.408, 79.2634146341, 81.112195122,\n",
       "                    60.3927804878, 79.53414634149999, 59.6358536585, 79.4390243902,\n",
       "                    70.1107804878, 53.9994878049, 52.8554634146, 59.9773902439,\n",
       "                    71.8587317073, 73.1512195122, 81.4536585366, 65.30043902439999,\n",
       "                    67.5677317073, 68.19902439020001, 79.6414634146, 80.5048780488,\n",
       "                    81.4341463415, 74.0092926829, 82.5070731707, 72.9611707317,\n",
       "                    55.6992926829, 79.3495121951, 73.81, 77.615902439,\n",
       "                    44.8822195122, 57.191195122, 71.7386341463, 62.053,\n",
       "                    51.5124878049, 73.81826829270001, 54.2619268293, 61.1397317073,\n",
       "                    72.5707317073, 75.5879268293, 66.06817073170001,\n",
       "                    74.04063414630001, 71.2776341463, 51.622097561, 64.0936829268,\n",
       "                    58.780804878000005, 66.5519268293, 80.0975609756,\n",
       "                    80.1512195122, 72.5716585366, 55.4550243902, 49.8081463415,\n",
       "                    80.3951219512, 75.1236097561, 64.3387317073, 76.3144634146,\n",
       "                    71.6948292683, 72.9969512195, 67.47902439020001, 75.243902439,\n",
       "                    78.3219512195, 78.4258536585, 72.5658536585,\n",
       "                    57.946000000000005, 65.188, 73.34507317069999, 61.7841707317,\n",
       "                    73.6317073171, 45.4883658537, 80.4414634146, 74.2073170732,\n",
       "                    78.5609756098, 53.0186585366, 51.9965121951, 80.8731707317,\n",
       "                    74.1941219512, 60.7008780488, 46.772390243900006, 80.9,\n",
       "                    81.7414634146, 58.0777804878, 72.87443902439999, 55.4334390244,\n",
       "                    69.2596585366, 74.2024390244, 73.1770731707, 53.6541463415,\n",
       "                    79.4487804878, 77.987804878, 75.9510243902, 74.48385365850001,\n",
       "                    71.74704878050001, 61.954804878, 52.4771463415, 44.1777560976],\n",
       "              'yaxis': 'y',\n",
       "              'ycalendar': 'gregorian',\n",
       "              'yhoverformat': '',\n",
       "              'yperiod': 0}],\n",
       "    'layout': {'activeselection': {'fillcolor': 'rgba(0,0,0,0)', 'opacity': 0.5},\n",
       "               'activeshape': {'fillcolor': 'rgb(255,0,255)', 'opacity': 0.5},\n",
       "               'autosize': False,\n",
       "               'autotypenumbers': 'strict',\n",
       "               'calendar': 'gregorian',\n",
       "               'clickmode': 'event',\n",
       "               'colorscale': {'diverging': [[0, '#8e0152'], [0.1, '#c51b7d'],\n",
       "                                            [0.2, '#de77ae'], [0.3, '#f1b6da'],\n",
       "                                            [0.4, '#fde0ef'], [0.5, '#f7f7f7'],\n",
       "                                            [0.6, '#e6f5d0'], [0.7, '#b8e186'],\n",
       "                                            [0.8, '#7fbc41'], [0.9, '#4d9221'], [1,\n",
       "                                            '#276419']],\n",
       "                              'sequential': [[0, '#0d0887'], [0.1111111111111111,\n",
       "                                             '#46039f'], [0.2222222222222222,\n",
       "                                             '#7201a8'], [0.3333333333333333,\n",
       "                                             '#9c179e'], [0.4444444444444444,\n",
       "                                             '#bd3786'], [0.5555555555555556,\n",
       "                                             '#d8576b'], [0.6666666666666666,\n",
       "                                             '#ed7953'], [0.7777777777777778,\n",
       "                                             '#fb9f3a'], [0.8888888888888888,\n",
       "                                             '#fdca26'], [1, '#f0f921']],\n",
       "                              'sequentialminus': [[0, '#0d0887'],\n",
       "                                                  [0.1111111111111111, '#46039f'],\n",
       "                                                  [0.2222222222222222, '#7201a8'],\n",
       "                                                  [0.3333333333333333, '#9c179e'],\n",
       "                                                  [0.4444444444444444, '#bd3786'],\n",
       "                                                  [0.5555555555555556, '#d8576b'],\n",
       "                                                  [0.6666666666666666, '#ed7953'],\n",
       "                                                  [0.7777777777777778, '#fb9f3a'],\n",
       "                                                  [0.8888888888888888, '#fdca26'],\n",
       "                                                  [1, '#f0f921']]},\n",
       "               'colorway': [#636efa, #EF553B, #00cc96, #ab63fa, #FFA15A, #19d3f3,\n",
       "                            #FF6692, #B6E880, #FF97FF, #FECB52],\n",
       "               'computed': {'margin': {'b': 53, 'l': 53, 'r': 275, 't': 20}},\n",
       "               'dragmode': 'zoom',\n",
       "               'editrevision': 'constant',\n",
       "               'font': {'color': '#2a3f5f', 'family': '\"Open Sans\", verdana, arial, sans-serif', 'size': 12},\n",
       "               'height': 650,\n",
       "               'hidesources': False,\n",
       "               'hoverdistance': 20,\n",
       "               'hoverlabel': {'align': 'left',\n",
       "                              'font': {'family': 'Arial, sans-serif', 'size': 13},\n",
       "                              'grouptitlefont': {'family': 'Arial, sans-serif', 'size': 13},\n",
       "                              'namelength': 15},\n",
       "               'hovermode': 'closest',\n",
       "               'margin': {'autoexpand': True, 'b': 20, 'l': 20, 'pad': 0, 'r': 275, 't': 20},\n",
       "               'modebar': {'activecolor': 'rgba(68, 68, 68, 0.7)',\n",
       "                           'add': '',\n",
       "                           'bgcolor': 'rgba(255, 255, 255, 0.5)',\n",
       "                           'color': 'rgba(68, 68, 68, 0.3)',\n",
       "                           'orientation': 'h',\n",
       "                           'remove': '',\n",
       "                           'uirevision': 'constant'},\n",
       "               'newselection': {'line': {'dash': 'dot', 'width': 1}, 'mode': 'immediate'},\n",
       "               'newshape': {'drawdirection': 'diagonal',\n",
       "                            'fillcolor': 'rgba(0,0,0,0)',\n",
       "                            'fillrule': 'evenodd',\n",
       "                            'layer': 'above',\n",
       "                            'line': {'color': '#444', 'dash': 'solid', 'width': 4},\n",
       "                            'opacity': 1},\n",
       "               'paper_bgcolor': 'white',\n",
       "               'plot_bgcolor': '#E5ECF6',\n",
       "               'selectionrevision': 'constant',\n",
       "               'separators': '.,',\n",
       "               'showlegend': False,\n",
       "               'spikedistance': -1,\n",
       "               'template': '...',\n",
       "               'title': {'font': {'color': '#2a3f5f', 'family': '\"Open Sans\", verdana, arial, sans-serif', 'size': 17},\n",
       "                         'pad': {'b': 0, 'l': 0, 'r': 0, 't': 0},\n",
       "                         'text': 'Click to enter Plot title',\n",
       "                         'x': 0.05,\n",
       "                         'xanchor': 'auto',\n",
       "                         'xref': 'container',\n",
       "                         'yanchor': 'auto',\n",
       "                         'yref': 'container'},\n",
       "               'uirevision': 'constant',\n",
       "               'uniformtext': {'mode': False},\n",
       "               'width': 700,\n",
       "               'xaxis': {'anchor': 'y',\n",
       "                         'automargin': True,\n",
       "                         'autorange': True,\n",
       "                         'autotypenumbers': 'strict',\n",
       "                         'color': '#444',\n",
       "                         'constrain': 'range',\n",
       "                         'constraintoward': 'center',\n",
       "                         'domain': [0, 1],\n",
       "                         'dtick': 2,\n",
       "                         'exponentformat': 'B',\n",
       "                         'fixedrange': False,\n",
       "                         'gridcolor': 'white',\n",
       "                         'griddash': 'solid',\n",
       "                         'gridwidth': 1,\n",
       "                         'hoverformat': '',\n",
       "                         'layer': 'above traces',\n",
       "                         'minexponent': 3,\n",
       "                         'nticks': 0,\n",
       "                         'range': [0.8103748854262144, 8.127625114573785],\n",
       "                         'rangemode': 'normal',\n",
       "                         'separatethousands': False,\n",
       "                         'showexponent': 'all',\n",
       "                         'showgrid': True,\n",
       "                         'showline': False,\n",
       "                         'showspikes': False,\n",
       "                         'showticklabels': True,\n",
       "                         'side': 'bottom',\n",
       "                         'tick0': 0,\n",
       "                         'tickfont': {'color': '#2a3f5f', 'family': '\"Open Sans\", verdana, arial, sans-serif', 'size': 12},\n",
       "                         'tickformat': '',\n",
       "                         'ticklabeloverflow': 'hide past div',\n",
       "                         'ticklabelposition': 'outside',\n",
       "                         'ticklabelstep': 1,\n",
       "                         'tickmode': 'auto',\n",
       "                         'tickprefix': '',\n",
       "                         'ticks': '',\n",
       "                         'ticksuffix': '',\n",
       "                         'title': {'font': {'color': '#2a3f5f',\n",
       "                                            'family': '\"Open Sans\", verdana, arial, sans-serif',\n",
       "                                            'size': 14},\n",
       "                                   'standoff': 15,\n",
       "                                   'text': 'Fertility rate, total (births per woman)'},\n",
       "                         'type': 'linear',\n",
       "                         'uirevision': 'constant',\n",
       "                         'visible': True,\n",
       "                         'zeroline': True,\n",
       "                         'zerolinecolor': 'white',\n",
       "                         'zerolinewidth': 2},\n",
       "               'yaxis': {'anchor': 'x',\n",
       "                         'automargin': True,\n",
       "                         'autorange': True,\n",
       "                         'autotypenumbers': 'strict',\n",
       "                         'color': '#444',\n",
       "                         'constrain': 'range',\n",
       "                         'constraintoward': 'middle',\n",
       "                         'domain': [0, 1],\n",
       "                         'dtick': 5,\n",
       "                         'exponentformat': 'B',\n",
       "                         'fixedrange': False,\n",
       "                         'gridcolor': 'white',\n",
       "                         'griddash': 'solid',\n",
       "                         'gridwidth': 1,\n",
       "                         'hoverformat': '',\n",
       "                         'layer': 'above traces',\n",
       "                         'minexponent': 3,\n",
       "                         'nticks': 0,\n",
       "                         'range': [41.736302919438494, 84.9485263488615],\n",
       "                         'rangemode': 'normal',\n",
       "                         'separatethousands': False,\n",
       "                         'showexponent': 'all',\n",
       "                         'showgrid': True,\n",
       "                         'showline': False,\n",
       "                         'showspikes': False,\n",
       "                         'showticklabels': True,\n",
       "                         'side': 'left',\n",
       "                         'tick0': 0,\n",
       "                         'tickfont': {'color': '#2a3f5f', 'family': '\"Open Sans\", verdana, arial, sans-serif', 'size': 12},\n",
       "                         'tickformat': '',\n",
       "                         'ticklabeloverflow': 'hide past div',\n",
       "                         'ticklabelposition': 'outside',\n",
       "                         'ticklabelstep': 1,\n",
       "                         'tickmode': 'auto',\n",
       "                         'tickprefix': '',\n",
       "                         'ticks': '',\n",
       "                         'ticksuffix': '',\n",
       "                         'title': {'font': {'color': '#2a3f5f',\n",
       "                                            'family': '\"Open Sans\", verdana, arial, sans-serif',\n",
       "                                            'size': 14},\n",
       "                                   'standoff': 15,\n",
       "                                   'text': 'Life expectancy at birth, total (years)'},\n",
       "                         'type': 'linear',\n",
       "                         'uirevision': 'constant',\n",
       "                         'visible': True,\n",
       "                         'zeroline': True,\n",
       "                         'zerolinecolor': 'white',\n",
       "                         'zerolinewidth': 2}}\n",
       "})>"
      ]
     },
     "execution_count": 10,
     "metadata": {},
     "output_type": "execute_result"
    }
   ],
   "source": [
    "f = fig.full_figure_for_development(warn=False)\n",
    "f.show()"
   ]
  },
  {
   "cell_type": "markdown",
   "id": "255712c3-7ac1-4e7d-9872-0715cf5ae187",
   "metadata": {},
   "source": [
    "# Cell below:\n",
    "# 1. Callback context import\n",
    "\n",
    "# dir(ctx) returns:\n",
    "['args_grouping', 'inputs', 'inputs_list', 'outputs_grouping', 'outputs_list', 'record_timing', 'response', 'states', 'states_list', 'triggered', 'triggered_id', 'triggered_prop_ids', 'using_args_grouping', 'using_outputs_grouping']\n"
   ]
  },
  {
   "cell_type": "code",
   "execution_count": null,
   "id": "338d5050-08cb-4b73-beae-f4245bf4f779",
   "metadata": {},
   "outputs": [],
   "source": [
    "with shelve.open('C:\\\\repos\\shelve\\dash2\\\\callback_context', 'r') as shelf_in:\n",
    "    # for key in shelf_in.keys():\n",
    "        # print(repr(key), repr(shelf_in[key]))\n",
    "        # print(repr(key))\n",
    "    # fig = go.Figure(shelf_in['figout'])\n",
    "    # ctx_inputs = shelf_in['ctx_inputs']\n",
    "    ctx_inputs_list = shelf_in['ctx_inputs_list']\n",
    "    ctx_outputs_list = shelf_in['ctx_outputs_list']\n",
    "    ctx_triggered_id = shelf_in['ctx_triggered_id']\n",
    "    # figdata = shelf_in['figdata']\n",
    "    # df = pd.read_pickle(shelf_in['dfout'])\n",
    "    # dff = shelf_in['dfout']\n",
    "\n",
    "# print(\"ctx_inputs_list:\")\n",
    "# print(\"================\")\n",
    "# print(ctx_inputs_list)\n",
    "# print(\"ctc_outputs_list:\")\n",
    "print(\"ctx_inputs_list\")\n",
    "print(\"=================\")\n",
    "print(ctx_inputs_list)\n",
    "# print(\"ctx_triggered_id:\")     \n",
    "# print(\"=======================\")\n",
    "# print(ctx_inputs_list)"
   ]
  },
  {
   "cell_type": "code",
   "execution_count": 13,
   "id": "cec0519c-7b5c-4c10-9c91-2cf7ea4c2210",
   "metadata": {},
   "outputs": [
    {
     "data": {
      "text/plain": [
       "'#3283FE'"
      ]
     },
     "execution_count": 13,
     "metadata": {},
     "output_type": "execute_result"
    }
   ],
   "source": [
    "from itertools import cycle\n",
    "col_cycle = cycle(px.colors.qualitative.Alphabet)\n",
    "df = dfi.copy()\n",
    "\n",
    "coldict = {c: next(col_cycle) for c in df['Country Name'].unique()}\n",
    "coldict['Caribbean small states']"
   ]
  },
  {
   "cell_type": "code",
   "execution_count": null,
   "id": "386192f8-5e19-4d8f-ace6-efcfbaa3b59e",
   "metadata": {},
   "outputs": [
    {
     "data": {
      "text/plain": [
       "<list_iterator at 0x1f3c3703400>"
      ]
     },
     "execution_count": 51,
     "metadata": {},
     "output_type": "execute_result"
    }
   ],
   "source": [
    "col_cycle.__reduce__()[1][0]"
   ]
  },
  {
   "cell_type": "code",
   "execution_count": null,
   "id": "dc670ba5-6641-4bb7-86b6-153fb07381a4",
   "metadata": {},
   "outputs": [],
   "source": [
    "\n",
    "def freq(text):\n",
    "    return ''.join([k*v  for k,v  in {k: text.count(k) for k in sorted(text)}.items()])\n",
    "\n",
    "freq(\"kakepannekaker\")"
   ]
  },
  {
   "cell_type": "code",
   "execution_count": 81,
   "id": "a0ac0bc9-908a-4b3d-a0bf-8c8103eba84c",
   "metadata": {},
   "outputs": [
    {
     "name": "stdout",
     "output_type": "stream",
     "text": [
      "is = 0\n",
      "triggered first =  0\n",
      "triggered second =  1\n",
      "is = 2\n",
      "is = 2\n",
      "is = 2\n",
      "--\n",
      "is = 2\n",
      "triggered first =  2\n",
      "triggered second =  3\n",
      "is = 4\n",
      "is = 4\n",
      "is = 4\n",
      "--\n",
      "is = 4\n",
      "triggered first =  4\n",
      "triggered second =  5\n",
      "is = 6\n",
      "is = 6\n",
      "is = 6\n",
      "--\n",
      "is = 6\n",
      "triggered first =  6\n",
      "triggered second =  7\n",
      "is = 8\n",
      "is = 8\n",
      "is = 8\n",
      "--\n"
     ]
    }
   ],
   "source": [
    "from itertools import count\n",
    "counter = count(start = 0, step = 1)\n",
    "\n",
    "for i in range(4):\n",
    "    # print(next(counter))\n",
    "    \n",
    "    # print(next(counter))\n",
    "    print('is =', counter.__reduce__()[1][0])#, next(counter))\n",
    "    print('triggered first = ', next(counter),)\n",
    "    print('triggered second = ', next(counter),)\n",
    "    print('is =', counter.__reduce__()[1][0])#, next(counter))\n",
    "    print('is =', counter.__reduce__()[1][0])#, next(counter))\n",
    "    print('is =', counter.__reduce__()[1][0])#, next(counter))\n",
    "    # print(next(counter))\n",
    "    # print(next(counter))\n",
    "    \n",
    "    print(\"--\")"
   ]
  },
  {
   "cell_type": "code",
   "execution_count": null,
   "id": "8ef90917-1049-43fa-9bdd-367b53324348",
   "metadata": {},
   "outputs": [],
   "source": [
    "import dash_bootstrap_components as dbc"
   ]
  },
  {
   "cell_type": "code",
   "execution_count": null,
   "id": "e2d002f4-15b1-42af-a72e-4a391d947854",
   "metadata": {},
   "outputs": [],
   "source": [
    "dcc.Checklist(id=\"x-variable\",\n",
    "                            #options=[{\"label\": i, \"value\": col} for i, col in enumerate(modeller_alle)],\n",
    "\n",
    "                options=[{\"label\": col + ' ', \"value\": col} for col in df.columns],\n",
    "                #options=[{\"label\": col, \"value\": col} for col in df.columns],\n",
    "                value=[df.columns[1]],\n",
    "                labelStyle={'display': 'inline-block', 'width': '12em', 'line-height':'0.5em'},\n",
    "                style={'width':'100%'}\n",
    "                            #clearable=False,\n",
    "                            #multi = True\n",
    "                        )"
   ]
  },
  {
   "cell_type": "markdown",
   "id": "8e873f68-973d-4ab2-8515-ffb11750cb28",
   "metadata": {},
   "source": [
    "# Cell below:\n",
    "# 1. Callback context import\n",
    "\n",
    "# dir(ctx) returns:\n",
    "['args_grouping', 'inputs', 'inputs_list', 'outputs_grouping', 'outputs_list', 'record_timing', 'response', 'states', 'states_list', 'triggered', 'triggered_id', 'triggered_prop_ids', 'using_args_grouping', 'using_outputs_grouping']\n"
   ]
  },
  {
   "cell_type": "code",
   "execution_count": 2,
   "id": "a0200435-e728-4259-955b-b1d2e6c44748",
   "metadata": {},
   "outputs": [
    {
     "name": "stdout",
     "output_type": "stream",
     "text": [
      "ctx_inputs_list\n",
      "=================\n",
      "[{'id': 'crossfilter-indicator-scatter', 'property': 'clickData'}, {'id': 'dd1_fokus_land', 'property': 'value', 'value': None}]\n"
     ]
    }
   ],
   "source": [
    "import plotly.graph_objects as go\n",
    "import plotly.express as px\n",
    "import pandas as pd\n",
    "import dbm.dumb\n",
    "import shelve\n",
    "from dash import Dash, html, dcc\n",
    "\n",
    "with shelve.open('C:\\\\repos\\shelve\\dash2\\\\callback_context', 'r') as shelf_in:\n",
    "    # for key in shelf_in.keys():\n",
    "        # print(repr(key), repr(shelf_in[key]))\n",
    "        # print(repr(key))\n",
    "    # fig = go.Figure(shelf_in['figout'])\n",
    "    # ctx_inputs = shelf_in['ctx_inputs']\n",
    "    ctx_inputs_list = shelf_in['ctx_inputs_list']\n",
    "    ctx_outputs_list = shelf_in['ctx_outputs_list']\n",
    "    ctx_triggered_id = shelf_in['ctx_triggered_id']\n",
    "    # figdata = shelf_in['figdata']\n",
    "    # df = pd.read_pickle(shelf_in['dfout'])\n",
    "    # dff = shelf_in['dfout']\n",
    "\n",
    "# print(\"ctx_inputs_list:\")\n",
    "# print(\"================\")\n",
    "# print(ctx_inputs_list)\n",
    "# print(\"ctc_outputs_list:\")\n",
    "print(\"ctx_inputs_list\")\n",
    "print(\"=================\")\n",
    "print(ctx_inputs_list)\n",
    "# print(\"ctx_triggered_id:\")     \n",
    "# print(\"=======================\")\n",
    "# print(ctx_inputs_list)"
   ]
  },
  {
   "cell_type": "code",
   "execution_count": 52,
   "id": "f517709f-9faa-464b-94d6-2770601b5944",
   "metadata": {},
   "outputs": [
    {
     "data": {
      "text/plain": [
       "[{'id': 'crossfilter-indicator-scatter', 'property': 'clickData', 'value': {}},\n",
       " {'id': 'dd1_fokus_land',\n",
       "  'property': 'value',\n",
       "  'value': ['Late-demographic dividend']}]"
      ]
     },
     "execution_count": 52,
     "metadata": {},
     "output_type": "execute_result"
    }
   ],
   "source": [
    "ctx_inputs_list"
   ]
  },
  {
   "cell_type": "code",
   "execution_count": 41,
   "id": "dbeec625-e80f-4f27-8a86-4bde3eba522f",
   "metadata": {},
   "outputs": [
    {
     "data": {
      "text/plain": [
       "{'id': 'dd1_fokus_land',\n",
       " 'property': 'value',\n",
       " 'value': ['Caribbean small states',\n",
       "  'Nepal',\n",
       "  'Middle East & North Africa',\n",
       "  'Israel']}"
      ]
     },
     "execution_count": 41,
     "metadata": {},
     "output_type": "execute_result"
    }
   ],
   "source": [
    "ctx_inputs_list[1]"
   ]
  }
 ],
 "metadata": {
  "kernelspec": {
   "display_name": "Python 3 (ipykernel)",
   "language": "python",
   "name": "python3"
  },
  "language_info": {
   "codemirror_mode": {
    "name": "ipython",
    "version": 3
   },
   "file_extension": ".py",
   "mimetype": "text/x-python",
   "name": "python",
   "nbconvert_exporter": "python",
   "pygments_lexer": "ipython3",
   "version": "3.10.4"
  }
 },
 "nbformat": 4,
 "nbformat_minor": 5
}
